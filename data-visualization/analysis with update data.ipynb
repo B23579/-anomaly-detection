{
 "cells": [
  {
   "cell_type": "code",
   "execution_count": 116,
   "id": "e99d6da4",
   "metadata": {},
   "outputs": [],
   "source": [
    "import pandas as pd\n",
    "import seaborn as sns\n",
    "import numpy as np\n",
    "import plotly.graph_objects as go\n",
    "import matplotlib.pyplot as plt\n",
    "import plotly.io as pio\n",
    "import os\n",
    "import PIL\n",
    "import io\n",
    "if not os.path.exists(\"images\"):\n",
    "    os.mkdir(\"images\")"
   ]
  },
  {
   "cell_type": "markdown",
   "id": "141ebd01",
   "metadata": {},
   "source": [
    "# Import and merge datasets"
   ]
  },
  {
   "cell_type": "code",
   "execution_count": 117,
   "id": "89d7901e",
   "metadata": {},
   "outputs": [
    {
     "data": {
      "text/html": [
       "<div>\n",
       "<style scoped>\n",
       "    .dataframe tbody tr th:only-of-type {\n",
       "        vertical-align: middle;\n",
       "    }\n",
       "\n",
       "    .dataframe tbody tr th {\n",
       "        vertical-align: top;\n",
       "    }\n",
       "\n",
       "    .dataframe thead th {\n",
       "        text-align: right;\n",
       "    }\n",
       "</style>\n",
       "<table border=\"1\" class=\"dataframe\">\n",
       "  <thead>\n",
       "    <tr style=\"text-align: right;\">\n",
       "      <th></th>\n",
       "      <th>year</th>\n",
       "      <th>city</th>\n",
       "      <th>country</th>\n",
       "      <th>total</th>\n",
       "    </tr>\n",
       "  </thead>\n",
       "  <tbody>\n",
       "    <tr>\n",
       "      <th>0</th>\n",
       "      <td>1896</td>\n",
       "      <td>Athina</td>\n",
       "      <td>United States</td>\n",
       "      <td>20</td>\n",
       "    </tr>\n",
       "    <tr>\n",
       "      <th>1</th>\n",
       "      <td>1896</td>\n",
       "      <td>Athina</td>\n",
       "      <td>Greece</td>\n",
       "      <td>47</td>\n",
       "    </tr>\n",
       "    <tr>\n",
       "      <th>2</th>\n",
       "      <td>1896</td>\n",
       "      <td>Athina</td>\n",
       "      <td>Germany</td>\n",
       "      <td>13</td>\n",
       "    </tr>\n",
       "    <tr>\n",
       "      <th>3</th>\n",
       "      <td>1896</td>\n",
       "      <td>Athina</td>\n",
       "      <td>France</td>\n",
       "      <td>11</td>\n",
       "    </tr>\n",
       "  </tbody>\n",
       "</table>\n",
       "</div>"
      ],
      "text/plain": [
       "   year    city        country  total\n",
       "0  1896  Athina  United States     20\n",
       "1  1896  Athina         Greece     47\n",
       "2  1896  Athina        Germany     13\n",
       "3  1896  Athina         France     11"
      ]
     },
     "execution_count": 117,
     "metadata": {},
     "output_type": "execute_result"
    }
   ],
   "source": [
    "df = pd.read_csv('data/Olympics_Games.csv')\n",
    "medal = pd.read_csv('data/Olympic_Games_Medal_Tally.csv')\n",
    "country = pd.read_excel('data/olympic_city_country.xlsx')\n",
    "place = pd.read_csv('data/nocRegions.csv')\n",
    "\n",
    "newdf1 = df[['year','city']].merge(medal[['year','country','total']], how='right')\n",
    "list_africa=pd.read_excel('data/list-african-countries-dependent-territory-286j.xls')\n",
    "\n",
    "gpd = pd.read_csv('data/API_NY.GDP.MKTP.CD_DS2_en_csv_v2_4701247.csv',skiprows=[0,1,2])\n",
    "gpd=gpd.fillna(0)\n",
    "newdf1.head(4)"
   ]
  },
  {
   "cell_type": "markdown",
   "id": "3ffe1649",
   "metadata": {},
   "source": [
    "# data pre-processing "
   ]
  },
  {
   "cell_type": "code",
   "execution_count": 118,
   "id": "1d193583",
   "metadata": {},
   "outputs": [
    {
     "name": "stderr",
     "output_type": "stream",
     "text": [
      "<ipython-input-118-1f05fb13a1bd>:1: SettingWithCopyWarning:\n",
      "\n",
      "\n",
      "A value is trying to be set on a copy of a slice from a DataFrame\n",
      "\n",
      "See the caveats in the documentation: https://pandas.pydata.org/pandas-docs/stable/user_guide/indexing.html#returning-a-view-versus-a-copy\n",
      "\n",
      "<ipython-input-118-1f05fb13a1bd>:2: SettingWithCopyWarning:\n",
      "\n",
      "\n",
      "A value is trying to be set on a copy of a slice from a DataFrame\n",
      "\n",
      "See the caveats in the documentation: https://pandas.pydata.org/pandas-docs/stable/user_guide/indexing.html#returning-a-view-versus-a-copy\n",
      "\n"
     ]
    }
   ],
   "source": [
    "newdf1['country'][newdf1['country']=='Great Britain']='United Kingdom'\n",
    "newdf1['country'][newdf1['country']=='West Germany']='Germany'\n",
    "newdf1.isnull().sum()\n",
    "list_africa=list_africa.dropna()"
   ]
  },
  {
   "cell_type": "markdown",
   "id": "f7322715",
   "metadata": {},
   "source": [
    "\n"
   ]
  },
  {
   "cell_type": "code",
   "execution_count": 121,
   "id": "99be086b",
   "metadata": {},
   "outputs": [
    {
     "data": {
      "text/html": [
       "<div>\n",
       "<style scoped>\n",
       "    .dataframe tbody tr th:only-of-type {\n",
       "        vertical-align: middle;\n",
       "    }\n",
       "\n",
       "    .dataframe tbody tr th {\n",
       "        vertical-align: top;\n",
       "    }\n",
       "\n",
       "    .dataframe thead th {\n",
       "        text-align: right;\n",
       "    }\n",
       "</style>\n",
       "<table border=\"1\" class=\"dataframe\">\n",
       "  <thead>\n",
       "    <tr style=\"text-align: right;\">\n",
       "      <th></th>\n",
       "      <th>year</th>\n",
       "      <th>city</th>\n",
       "      <th>country</th>\n",
       "      <th>total</th>\n",
       "    </tr>\n",
       "  </thead>\n",
       "  <tbody>\n",
       "    <tr>\n",
       "      <th>0</th>\n",
       "      <td>1896</td>\n",
       "      <td>Athina</td>\n",
       "      <td>United States</td>\n",
       "      <td>20</td>\n",
       "    </tr>\n",
       "    <tr>\n",
       "      <th>1</th>\n",
       "      <td>1896</td>\n",
       "      <td>Athina</td>\n",
       "      <td>Greece</td>\n",
       "      <td>47</td>\n",
       "    </tr>\n",
       "    <tr>\n",
       "      <th>2</th>\n",
       "      <td>1896</td>\n",
       "      <td>Athina</td>\n",
       "      <td>Germany</td>\n",
       "      <td>13</td>\n",
       "    </tr>\n",
       "    <tr>\n",
       "      <th>3</th>\n",
       "      <td>1896</td>\n",
       "      <td>Athina</td>\n",
       "      <td>France</td>\n",
       "      <td>11</td>\n",
       "    </tr>\n",
       "  </tbody>\n",
       "</table>\n",
       "</div>"
      ],
      "text/plain": [
       "   year    city        country  total\n",
       "0  1896  Athina  United States     20\n",
       "1  1896  Athina         Greece     47\n",
       "2  1896  Athina        Germany     13\n",
       "3  1896  Athina         France     11"
      ]
     },
     "execution_count": 121,
     "metadata": {},
     "output_type": "execute_result"
    }
   ],
   "source": [
    "newdf1.head(4)"
   ]
  },
  {
   "cell_type": "code",
   "execution_count": 122,
   "id": "696675b8",
   "metadata": {},
   "outputs": [
    {
     "data": {
      "text/plain": [
       "array([1896, 1900, 1904, 1908, 1912, 1920, 1924, 1928, 1932, 1936, 1948,\n",
       "       1952, 1956, 1960, 1964, 1968, 1972, 1976, 1980, 1984, 1988, 1992,\n",
       "       1996, 2000, 2004, 2008, 2012, 2016, 2020, 1994, 1998, 2002, 2006,\n",
       "       2010, 2014, 2018, 2022])"
      ]
     },
     "execution_count": 122,
     "metadata": {},
     "output_type": "execute_result"
    }
   ],
   "source": [
    "pd.unique(newdf1['year'])"
   ]
  },
  {
   "cell_type": "code",
   "execution_count": 123,
   "id": "765b0146",
   "metadata": {},
   "outputs": [
    {
     "data": {
      "text/html": [
       "<div>\n",
       "<style scoped>\n",
       "    .dataframe tbody tr th:only-of-type {\n",
       "        vertical-align: middle;\n",
       "    }\n",
       "\n",
       "    .dataframe tbody tr th {\n",
       "        vertical-align: top;\n",
       "    }\n",
       "\n",
       "    .dataframe thead th {\n",
       "        text-align: right;\n",
       "    }\n",
       "</style>\n",
       "<table border=\"1\" class=\"dataframe\">\n",
       "  <thead>\n",
       "    <tr style=\"text-align: right;\">\n",
       "      <th></th>\n",
       "      <th>year</th>\n",
       "      <th>city</th>\n",
       "      <th>country</th>\n",
       "      <th>Medal number</th>\n",
       "      <th>Host country</th>\n",
       "    </tr>\n",
       "  </thead>\n",
       "  <tbody>\n",
       "    <tr>\n",
       "      <th>1</th>\n",
       "      <td>1900.0</td>\n",
       "      <td>Paris</td>\n",
       "      <td>France</td>\n",
       "      <td>111.0</td>\n",
       "      <td>France</td>\n",
       "    </tr>\n",
       "    <tr>\n",
       "      <th>2</th>\n",
       "      <td>1900.0</td>\n",
       "      <td>Paris</td>\n",
       "      <td>United States</td>\n",
       "      <td>48.0</td>\n",
       "      <td>France</td>\n",
       "    </tr>\n",
       "    <tr>\n",
       "      <th>3</th>\n",
       "      <td>1900.0</td>\n",
       "      <td>Paris</td>\n",
       "      <td>United Kingdom</td>\n",
       "      <td>38.0</td>\n",
       "      <td>France</td>\n",
       "    </tr>\n",
       "    <tr>\n",
       "      <th>4</th>\n",
       "      <td>1900.0</td>\n",
       "      <td>Paris</td>\n",
       "      <td>Belgium</td>\n",
       "      <td>18.0</td>\n",
       "      <td>France</td>\n",
       "    </tr>\n",
       "  </tbody>\n",
       "</table>\n",
       "</div>"
      ],
      "text/plain": [
       "     year   city         country  Medal number Host country\n",
       "1  1900.0  Paris          France         111.0       France\n",
       "2  1900.0  Paris   United States          48.0       France\n",
       "3  1900.0  Paris  United Kingdom          38.0       France\n",
       "4  1900.0  Paris         Belgium          18.0       France"
      ]
     },
     "execution_count": 123,
     "metadata": {},
     "output_type": "execute_result"
    }
   ],
   "source": [
    "country = country.rename(columns={'City': 'city'})\n",
    "newdf1 = newdf1.rename(columns={'total': 'Medal number', \"Country\": 'Host country'})\n",
    "newdf = newdf1.merge(country, how='right').dropna()\n",
    "newdf = newdf.rename(columns={\"Country\": 'Host country'})\n",
    "newdf.head(4)"
   ]
  },
  {
   "cell_type": "markdown",
   "id": "ee2c3ca7",
   "metadata": {},
   "source": [
    "# number of medal won by each country"
   ]
  },
  {
   "cell_type": "code",
   "execution_count": 124,
   "id": "8a8f70ea",
   "metadata": {},
   "outputs": [
    {
     "data": {
      "text/html": [
       "<div>\n",
       "<style scoped>\n",
       "    .dataframe tbody tr th:only-of-type {\n",
       "        vertical-align: middle;\n",
       "    }\n",
       "\n",
       "    .dataframe tbody tr th {\n",
       "        vertical-align: top;\n",
       "    }\n",
       "\n",
       "    .dataframe thead th {\n",
       "        text-align: right;\n",
       "    }\n",
       "</style>\n",
       "<table border=\"1\" class=\"dataframe\">\n",
       "  <thead>\n",
       "    <tr style=\"text-align: right;\">\n",
       "      <th></th>\n",
       "      <th>country</th>\n",
       "      <th>Medal</th>\n",
       "    </tr>\n",
       "  </thead>\n",
       "  <tbody>\n",
       "    <tr>\n",
       "      <th>143</th>\n",
       "      <td>United States</td>\n",
       "      <td>5707.0</td>\n",
       "    </tr>\n",
       "    <tr>\n",
       "      <th>119</th>\n",
       "      <td>Soviet Union</td>\n",
       "      <td>2825.0</td>\n",
       "    </tr>\n",
       "    <tr>\n",
       "      <th>46</th>\n",
       "      <td>Germany</td>\n",
       "      <td>2356.0</td>\n",
       "    </tr>\n",
       "    <tr>\n",
       "      <th>141</th>\n",
       "      <td>United Kingdom</td>\n",
       "      <td>2010.0</td>\n",
       "    </tr>\n",
       "  </tbody>\n",
       "</table>\n",
       "</div>"
      ],
      "text/plain": [
       "            country   Medal\n",
       "143   United States  5707.0\n",
       "119    Soviet Union  2825.0\n",
       "46          Germany  2356.0\n",
       "141  United Kingdom  2010.0"
      ]
     },
     "execution_count": 124,
     "metadata": {},
     "output_type": "execute_result"
    }
   ],
   "source": [
    "tmp = newdf.groupby(['country'])['Medal number'].sum()\n",
    "df4 = pd.DataFrame(data={'Medal': tmp.values}, index=tmp.index).reset_index()\n",
    "df4 =df4.sort_values(by=['Medal'],ascending=False)\n",
    "df4.head(4)"
   ]
  },
  {
   "cell_type": "markdown",
   "id": "9a5d4b0e",
   "metadata": {},
   "source": [
    "## a) Number of  olympic games host by country"
   ]
  },
  {
   "cell_type": "code",
   "execution_count": 125,
   "id": "c8f268f5",
   "metadata": {},
   "outputs": [
    {
     "data": {
      "text/html": [
       "<div>\n",
       "<style scoped>\n",
       "    .dataframe tbody tr th:only-of-type {\n",
       "        vertical-align: middle;\n",
       "    }\n",
       "\n",
       "    .dataframe tbody tr th {\n",
       "        vertical-align: top;\n",
       "    }\n",
       "\n",
       "    .dataframe thead th {\n",
       "        text-align: right;\n",
       "    }\n",
       "</style>\n",
       "<table border=\"1\" class=\"dataframe\">\n",
       "  <thead>\n",
       "    <tr style=\"text-align: right;\">\n",
       "      <th></th>\n",
       "      <th>host country</th>\n",
       "      <th>Number games hosted</th>\n",
       "    </tr>\n",
       "  </thead>\n",
       "  <tbody>\n",
       "    <tr>\n",
       "      <th>0</th>\n",
       "      <td>Australia</td>\n",
       "      <td>1</td>\n",
       "    </tr>\n",
       "    <tr>\n",
       "      <th>1</th>\n",
       "      <td>Austria</td>\n",
       "      <td>2</td>\n",
       "    </tr>\n",
       "    <tr>\n",
       "      <th>2</th>\n",
       "      <td>Belgium</td>\n",
       "      <td>1</td>\n",
       "    </tr>\n",
       "    <tr>\n",
       "      <th>3</th>\n",
       "      <td>Brazil</td>\n",
       "      <td>1</td>\n",
       "    </tr>\n",
       "    <tr>\n",
       "      <th>4</th>\n",
       "      <td>Canada</td>\n",
       "      <td>2</td>\n",
       "    </tr>\n",
       "  </tbody>\n",
       "</table>\n",
       "</div>"
      ],
      "text/plain": [
       "  host country  Number games hosted\n",
       "0    Australia                    1\n",
       "1      Austria                    2\n",
       "2      Belgium                    1\n",
       "3       Brazil                    1\n",
       "4       Canada                    2"
      ]
     },
     "execution_count": 125,
     "metadata": {},
     "output_type": "execute_result"
    }
   ],
   "source": [
    "tmp = newdf.drop_duplicates(subset=['year'])\n",
    "tmp = tmp.groupby(['Host country'])['Host country'].value_counts()\n",
    "l= [tmp.index[i][0] for i in range(len(tmp))]\n",
    "t = {\"host country\": l,'Number games hosted':tmp.values }\n",
    "seasoncount = pd.DataFrame(t)\n",
    "seasoncount.head()"
   ]
  },
  {
   "cell_type": "markdown",
   "id": "26a71601",
   "metadata": {},
   "source": [
    "## b) Top 12 world countries that have won more medial and hosted at least one Olympic game."
   ]
  },
  {
   "cell_type": "code",
   "execution_count": 126,
   "id": "9b28c62d",
   "metadata": {},
   "outputs": [],
   "source": [
    "\n",
    "pg =df4[df4['country'].isin(list(seasoncount['host country']))]\n",
    "pg= pg.rename(columns={\"country\": 'host country'})\n",
    "l = pg.merge(seasoncount, how='right').dropna()\n",
    "GPD=gpd[gpd['Country Name'].isin(list(seasoncount['host country']))]\n",
    "GPD = GPD.sort_values(by=['2021'],ascending=False)\n",
    "pfd = pd.DataFrame({'host country': GPD['Country Name'], 'GDP rank':[i for i in range(1,len(GPD['Country Name'])+1)]})"
   ]
  },
  {
   "cell_type": "code",
   "execution_count": 127,
   "id": "6f3e9eab",
   "metadata": {},
   "outputs": [
    {
     "data": {
      "application/vnd.plotly.v1+json": {
       "config": {
        "plotlyServerURL": "https://plot.ly"
       },
       "data": [
        {
         "alignmentgroup": "True",
         "hovertemplate": "Number of Olympic games hosted=7<br>Medal=%{text}<br>host country=%{y}<br>World GDP rank=%{marker.color}<extra></extra>",
         "legendgroup": "7",
         "marker": {
          "color": [
           1
          ],
          "coloraxis": "coloraxis",
          "pattern": {
           "shape": ""
          }
         },
         "name": "7",
         "offsetgroup": "7",
         "orientation": "h",
         "showlegend": true,
         "text": [
          5707
         ],
         "textposition": "outside",
         "type": "bar",
         "x": [
          5707
         ],
         "xaxis": "x",
         "y": [
          "United States"
         ],
         "yaxis": "y"
        },
        {
         "alignmentgroup": "True",
         "hovertemplate": "Number of Olympic games hosted=4<br>Medal=%{text}<br>host country=%{y}<br>World GDP rank=%{marker.color}<extra></extra>",
         "legendgroup": "4",
         "marker": {
          "color": [
           6
          ],
          "coloraxis": "coloraxis",
          "pattern": {
           "shape": "/"
          }
         },
         "name": "4",
         "offsetgroup": "4",
         "orientation": "h",
         "showlegend": true,
         "text": [
          1717
         ],
         "textposition": "outside",
         "type": "bar",
         "x": [
          1717
         ],
         "xaxis": "x",
         "y": [
          "France"
         ],
         "yaxis": "y"
        },
        {
         "alignmentgroup": "True",
         "hovertemplate": "Number of Olympic games hosted=3<br>Medal=%{text}<br>host country=%{y}<br>World GDP rank=%{marker.color}<extra></extra>",
         "legendgroup": "3",
         "marker": {
          "color": [
           5,
           3
          ],
          "coloraxis": "coloraxis",
          "pattern": {
           "shape": "\\"
          }
         },
         "name": "3",
         "offsetgroup": "3",
         "orientation": "h",
         "showlegend": true,
         "text": [
          2010,
          1020
         ],
         "textposition": "outside",
         "type": "bar",
         "x": [
          2010,
          1020
         ],
         "xaxis": "x",
         "y": [
          "United Kingdom",
          "Japan"
         ],
         "yaxis": "y"
        },
        {
         "alignmentgroup": "True",
         "hovertemplate": "Number of Olympic games hosted=2<br>Medal=%{text}<br>host country=%{y}<br>World GDP rank=%{marker.color}<extra></extra>",
         "legendgroup": "2",
         "marker": {
          "color": [
           7,
           14,
           8,
           15
          ],
          "coloraxis": "coloraxis",
          "pattern": {
           "shape": "x"
          }
         },
         "name": "2",
         "offsetgroup": "2",
         "orientation": "h",
         "showlegend": true,
         "text": [
          1502,
          947,
          940,
          615
         ],
         "textposition": "outside",
         "type": "bar",
         "x": [
          1502,
          947,
          940,
          615
         ],
         "xaxis": "x",
         "y": [
          "Italy",
          "Norway",
          "Canada",
          "Austria"
         ],
         "yaxis": "y"
        },
        {
         "alignmentgroup": "True",
         "hovertemplate": "Number of Olympic games hosted=1<br>Medal=%{text}<br>host country=%{y}<br>World GDP rank=%{marker.color}<extra></extra>",
         "legendgroup": "1",
         "marker": {
          "color": [
           4,
           12,
           10,
           11
          ],
          "coloraxis": "coloraxis",
          "pattern": {
           "shape": "+"
          }
         },
         "name": "1",
         "offsetgroup": "1",
         "orientation": "h",
         "showlegend": true,
         "text": [
          2356,
          1426,
          941,
          793
         ],
         "textposition": "outside",
         "type": "bar",
         "x": [
          2356,
          1426,
          941,
          793
         ],
         "xaxis": "x",
         "y": [
          "Germany",
          "Sweden",
          "Australia",
          "Netherlands"
         ],
         "yaxis": "y"
        }
       ],
       "layout": {
        "barmode": "relative",
        "coloraxis": {
         "colorbar": {
          "title": {
           "text": "World GDP rank"
          }
         },
         "colorscale": [
          [
           0,
           "#0d0887"
          ],
          [
           0.1111111111111111,
           "#46039f"
          ],
          [
           0.2222222222222222,
           "#7201a8"
          ],
          [
           0.3333333333333333,
           "#9c179e"
          ],
          [
           0.4444444444444444,
           "#bd3786"
          ],
          [
           0.5555555555555556,
           "#d8576b"
          ],
          [
           0.6666666666666666,
           "#ed7953"
          ],
          [
           0.7777777777777778,
           "#fb9f3a"
          ],
          [
           0.8888888888888888,
           "#fdca26"
          ],
          [
           1,
           "#f0f921"
          ]
         ]
        },
        "font": {
         "color": "black"
        },
        "legend": {
         "font": {
          "size": 12
         },
         "title": {
          "font": {
           "color": "black"
          },
          "text": "Number of Olympic games hosted"
         },
         "tracegroupgap": 0,
         "x": 0.97,
         "xanchor": "right",
         "y": 0.03,
         "yanchor": "bottom"
        },
        "paper_bgcolor": "rgba(0, 0, 0, 0)",
        "plot_bgcolor": "rgba(0, 0, 0, 0)",
        "template": {
         "data": {
          "bar": [
           {
            "error_x": {
             "color": "#2a3f5f"
            },
            "error_y": {
             "color": "#2a3f5f"
            },
            "marker": {
             "line": {
              "color": "#E5ECF6",
              "width": 0.5
             },
             "pattern": {
              "fillmode": "overlay",
              "size": 10,
              "solidity": 0.2
             }
            },
            "type": "bar"
           }
          ],
          "barpolar": [
           {
            "marker": {
             "line": {
              "color": "#E5ECF6",
              "width": 0.5
             },
             "pattern": {
              "fillmode": "overlay",
              "size": 10,
              "solidity": 0.2
             }
            },
            "type": "barpolar"
           }
          ],
          "carpet": [
           {
            "aaxis": {
             "endlinecolor": "#2a3f5f",
             "gridcolor": "white",
             "linecolor": "white",
             "minorgridcolor": "white",
             "startlinecolor": "#2a3f5f"
            },
            "baxis": {
             "endlinecolor": "#2a3f5f",
             "gridcolor": "white",
             "linecolor": "white",
             "minorgridcolor": "white",
             "startlinecolor": "#2a3f5f"
            },
            "type": "carpet"
           }
          ],
          "choropleth": [
           {
            "colorbar": {
             "outlinewidth": 0,
             "ticks": ""
            },
            "type": "choropleth"
           }
          ],
          "contour": [
           {
            "colorbar": {
             "outlinewidth": 0,
             "ticks": ""
            },
            "colorscale": [
             [
              0,
              "#0d0887"
             ],
             [
              0.1111111111111111,
              "#46039f"
             ],
             [
              0.2222222222222222,
              "#7201a8"
             ],
             [
              0.3333333333333333,
              "#9c179e"
             ],
             [
              0.4444444444444444,
              "#bd3786"
             ],
             [
              0.5555555555555556,
              "#d8576b"
             ],
             [
              0.6666666666666666,
              "#ed7953"
             ],
             [
              0.7777777777777778,
              "#fb9f3a"
             ],
             [
              0.8888888888888888,
              "#fdca26"
             ],
             [
              1,
              "#f0f921"
             ]
            ],
            "type": "contour"
           }
          ],
          "contourcarpet": [
           {
            "colorbar": {
             "outlinewidth": 0,
             "ticks": ""
            },
            "type": "contourcarpet"
           }
          ],
          "heatmap": [
           {
            "colorbar": {
             "outlinewidth": 0,
             "ticks": ""
            },
            "colorscale": [
             [
              0,
              "#0d0887"
             ],
             [
              0.1111111111111111,
              "#46039f"
             ],
             [
              0.2222222222222222,
              "#7201a8"
             ],
             [
              0.3333333333333333,
              "#9c179e"
             ],
             [
              0.4444444444444444,
              "#bd3786"
             ],
             [
              0.5555555555555556,
              "#d8576b"
             ],
             [
              0.6666666666666666,
              "#ed7953"
             ],
             [
              0.7777777777777778,
              "#fb9f3a"
             ],
             [
              0.8888888888888888,
              "#fdca26"
             ],
             [
              1,
              "#f0f921"
             ]
            ],
            "type": "heatmap"
           }
          ],
          "heatmapgl": [
           {
            "colorbar": {
             "outlinewidth": 0,
             "ticks": ""
            },
            "colorscale": [
             [
              0,
              "#0d0887"
             ],
             [
              0.1111111111111111,
              "#46039f"
             ],
             [
              0.2222222222222222,
              "#7201a8"
             ],
             [
              0.3333333333333333,
              "#9c179e"
             ],
             [
              0.4444444444444444,
              "#bd3786"
             ],
             [
              0.5555555555555556,
              "#d8576b"
             ],
             [
              0.6666666666666666,
              "#ed7953"
             ],
             [
              0.7777777777777778,
              "#fb9f3a"
             ],
             [
              0.8888888888888888,
              "#fdca26"
             ],
             [
              1,
              "#f0f921"
             ]
            ],
            "type": "heatmapgl"
           }
          ],
          "histogram": [
           {
            "marker": {
             "pattern": {
              "fillmode": "overlay",
              "size": 10,
              "solidity": 0.2
             }
            },
            "type": "histogram"
           }
          ],
          "histogram2d": [
           {
            "colorbar": {
             "outlinewidth": 0,
             "ticks": ""
            },
            "colorscale": [
             [
              0,
              "#0d0887"
             ],
             [
              0.1111111111111111,
              "#46039f"
             ],
             [
              0.2222222222222222,
              "#7201a8"
             ],
             [
              0.3333333333333333,
              "#9c179e"
             ],
             [
              0.4444444444444444,
              "#bd3786"
             ],
             [
              0.5555555555555556,
              "#d8576b"
             ],
             [
              0.6666666666666666,
              "#ed7953"
             ],
             [
              0.7777777777777778,
              "#fb9f3a"
             ],
             [
              0.8888888888888888,
              "#fdca26"
             ],
             [
              1,
              "#f0f921"
             ]
            ],
            "type": "histogram2d"
           }
          ],
          "histogram2dcontour": [
           {
            "colorbar": {
             "outlinewidth": 0,
             "ticks": ""
            },
            "colorscale": [
             [
              0,
              "#0d0887"
             ],
             [
              0.1111111111111111,
              "#46039f"
             ],
             [
              0.2222222222222222,
              "#7201a8"
             ],
             [
              0.3333333333333333,
              "#9c179e"
             ],
             [
              0.4444444444444444,
              "#bd3786"
             ],
             [
              0.5555555555555556,
              "#d8576b"
             ],
             [
              0.6666666666666666,
              "#ed7953"
             ],
             [
              0.7777777777777778,
              "#fb9f3a"
             ],
             [
              0.8888888888888888,
              "#fdca26"
             ],
             [
              1,
              "#f0f921"
             ]
            ],
            "type": "histogram2dcontour"
           }
          ],
          "mesh3d": [
           {
            "colorbar": {
             "outlinewidth": 0,
             "ticks": ""
            },
            "type": "mesh3d"
           }
          ],
          "parcoords": [
           {
            "line": {
             "colorbar": {
              "outlinewidth": 0,
              "ticks": ""
             }
            },
            "type": "parcoords"
           }
          ],
          "pie": [
           {
            "automargin": true,
            "type": "pie"
           }
          ],
          "scatter": [
           {
            "fillpattern": {
             "fillmode": "overlay",
             "size": 10,
             "solidity": 0.2
            },
            "type": "scatter"
           }
          ],
          "scatter3d": [
           {
            "line": {
             "colorbar": {
              "outlinewidth": 0,
              "ticks": ""
             }
            },
            "marker": {
             "colorbar": {
              "outlinewidth": 0,
              "ticks": ""
             }
            },
            "type": "scatter3d"
           }
          ],
          "scattercarpet": [
           {
            "marker": {
             "colorbar": {
              "outlinewidth": 0,
              "ticks": ""
             }
            },
            "type": "scattercarpet"
           }
          ],
          "scattergeo": [
           {
            "marker": {
             "colorbar": {
              "outlinewidth": 0,
              "ticks": ""
             }
            },
            "type": "scattergeo"
           }
          ],
          "scattergl": [
           {
            "marker": {
             "colorbar": {
              "outlinewidth": 0,
              "ticks": ""
             }
            },
            "type": "scattergl"
           }
          ],
          "scattermapbox": [
           {
            "marker": {
             "colorbar": {
              "outlinewidth": 0,
              "ticks": ""
             }
            },
            "type": "scattermapbox"
           }
          ],
          "scatterpolar": [
           {
            "marker": {
             "colorbar": {
              "outlinewidth": 0,
              "ticks": ""
             }
            },
            "type": "scatterpolar"
           }
          ],
          "scatterpolargl": [
           {
            "marker": {
             "colorbar": {
              "outlinewidth": 0,
              "ticks": ""
             }
            },
            "type": "scatterpolargl"
           }
          ],
          "scatterternary": [
           {
            "marker": {
             "colorbar": {
              "outlinewidth": 0,
              "ticks": ""
             }
            },
            "type": "scatterternary"
           }
          ],
          "surface": [
           {
            "colorbar": {
             "outlinewidth": 0,
             "ticks": ""
            },
            "colorscale": [
             [
              0,
              "#0d0887"
             ],
             [
              0.1111111111111111,
              "#46039f"
             ],
             [
              0.2222222222222222,
              "#7201a8"
             ],
             [
              0.3333333333333333,
              "#9c179e"
             ],
             [
              0.4444444444444444,
              "#bd3786"
             ],
             [
              0.5555555555555556,
              "#d8576b"
             ],
             [
              0.6666666666666666,
              "#ed7953"
             ],
             [
              0.7777777777777778,
              "#fb9f3a"
             ],
             [
              0.8888888888888888,
              "#fdca26"
             ],
             [
              1,
              "#f0f921"
             ]
            ],
            "type": "surface"
           }
          ],
          "table": [
           {
            "cells": {
             "fill": {
              "color": "#EBF0F8"
             },
             "line": {
              "color": "white"
             }
            },
            "header": {
             "fill": {
              "color": "#C8D4E3"
             },
             "line": {
              "color": "white"
             }
            },
            "type": "table"
           }
          ]
         },
         "layout": {
          "annotationdefaults": {
           "arrowcolor": "#2a3f5f",
           "arrowhead": 0,
           "arrowwidth": 1
          },
          "autotypenumbers": "strict",
          "coloraxis": {
           "colorbar": {
            "outlinewidth": 0,
            "ticks": ""
           }
          },
          "colorscale": {
           "diverging": [
            [
             0,
             "#8e0152"
            ],
            [
             0.1,
             "#c51b7d"
            ],
            [
             0.2,
             "#de77ae"
            ],
            [
             0.3,
             "#f1b6da"
            ],
            [
             0.4,
             "#fde0ef"
            ],
            [
             0.5,
             "#f7f7f7"
            ],
            [
             0.6,
             "#e6f5d0"
            ],
            [
             0.7,
             "#b8e186"
            ],
            [
             0.8,
             "#7fbc41"
            ],
            [
             0.9,
             "#4d9221"
            ],
            [
             1,
             "#276419"
            ]
           ],
           "sequential": [
            [
             0,
             "#0d0887"
            ],
            [
             0.1111111111111111,
             "#46039f"
            ],
            [
             0.2222222222222222,
             "#7201a8"
            ],
            [
             0.3333333333333333,
             "#9c179e"
            ],
            [
             0.4444444444444444,
             "#bd3786"
            ],
            [
             0.5555555555555556,
             "#d8576b"
            ],
            [
             0.6666666666666666,
             "#ed7953"
            ],
            [
             0.7777777777777778,
             "#fb9f3a"
            ],
            [
             0.8888888888888888,
             "#fdca26"
            ],
            [
             1,
             "#f0f921"
            ]
           ],
           "sequentialminus": [
            [
             0,
             "#0d0887"
            ],
            [
             0.1111111111111111,
             "#46039f"
            ],
            [
             0.2222222222222222,
             "#7201a8"
            ],
            [
             0.3333333333333333,
             "#9c179e"
            ],
            [
             0.4444444444444444,
             "#bd3786"
            ],
            [
             0.5555555555555556,
             "#d8576b"
            ],
            [
             0.6666666666666666,
             "#ed7953"
            ],
            [
             0.7777777777777778,
             "#fb9f3a"
            ],
            [
             0.8888888888888888,
             "#fdca26"
            ],
            [
             1,
             "#f0f921"
            ]
           ]
          },
          "colorway": [
           "#636efa",
           "#EF553B",
           "#00cc96",
           "#ab63fa",
           "#FFA15A",
           "#19d3f3",
           "#FF6692",
           "#B6E880",
           "#FF97FF",
           "#FECB52"
          ],
          "font": {
           "color": "#2a3f5f"
          },
          "geo": {
           "bgcolor": "white",
           "lakecolor": "white",
           "landcolor": "#E5ECF6",
           "showlakes": true,
           "showland": true,
           "subunitcolor": "white"
          },
          "hoverlabel": {
           "align": "left"
          },
          "hovermode": "closest",
          "mapbox": {
           "style": "light"
          },
          "paper_bgcolor": "white",
          "plot_bgcolor": "#E5ECF6",
          "polar": {
           "angularaxis": {
            "gridcolor": "white",
            "linecolor": "white",
            "ticks": ""
           },
           "bgcolor": "#E5ECF6",
           "radialaxis": {
            "gridcolor": "white",
            "linecolor": "white",
            "ticks": ""
           }
          },
          "scene": {
           "xaxis": {
            "backgroundcolor": "#E5ECF6",
            "gridcolor": "white",
            "gridwidth": 2,
            "linecolor": "white",
            "showbackground": true,
            "ticks": "",
            "zerolinecolor": "white"
           },
           "yaxis": {
            "backgroundcolor": "#E5ECF6",
            "gridcolor": "white",
            "gridwidth": 2,
            "linecolor": "white",
            "showbackground": true,
            "ticks": "",
            "zerolinecolor": "white"
           },
           "zaxis": {
            "backgroundcolor": "#E5ECF6",
            "gridcolor": "white",
            "gridwidth": 2,
            "linecolor": "white",
            "showbackground": true,
            "ticks": "",
            "zerolinecolor": "white"
           }
          },
          "shapedefaults": {
           "line": {
            "color": "#2a3f5f"
           }
          },
          "ternary": {
           "aaxis": {
            "gridcolor": "white",
            "linecolor": "white",
            "ticks": ""
           },
           "baxis": {
            "gridcolor": "white",
            "linecolor": "white",
            "ticks": ""
           },
           "bgcolor": "#E5ECF6",
           "caxis": {
            "gridcolor": "white",
            "linecolor": "white",
            "ticks": ""
           }
          },
          "title": {
           "x": 0.05
          },
          "xaxis": {
           "automargin": true,
           "gridcolor": "white",
           "linecolor": "white",
           "ticks": "",
           "title": {
            "standoff": 15
           },
           "zerolinecolor": "white",
           "zerolinewidth": 2
          },
          "yaxis": {
           "automargin": true,
           "gridcolor": "white",
           "linecolor": "white",
           "ticks": "",
           "title": {
            "standoff": 15
           },
           "zerolinecolor": "white",
           "zerolinewidth": 2
          }
         }
        },
        "title": {
         "font": {
          "color": "black"
         },
         "text": "Top 12 world countries that have won more medal and hosted at least one Olympic game between 1986-2022."
        },
        "xaxis": {
         "anchor": "y",
         "domain": [
          0,
          1
         ],
         "title": {
          "text": "Medal"
         }
        },
        "yaxis": {
         "anchor": "x",
         "autorange": "reversed",
         "domain": [
          0,
          1
         ],
         "title": {
          "text": ""
         }
        }
       }
      },
      "text/html": [
       "<div>                            <div id=\"4d97403f-a09a-49ae-bab8-84a7018ae57a\" class=\"plotly-graph-div\" style=\"height:525px; width:100%;\"></div>            <script type=\"text/javascript\">                require([\"plotly\"], function(Plotly) {                    window.PLOTLYENV=window.PLOTLYENV || {};                                    if (document.getElementById(\"4d97403f-a09a-49ae-bab8-84a7018ae57a\")) {                    Plotly.newPlot(                        \"4d97403f-a09a-49ae-bab8-84a7018ae57a\",                        [{\"alignmentgroup\":\"True\",\"hovertemplate\":\"Number of Olympic games hosted=7<br>Medal=%{text}<br>host country=%{y}<br>World GDP rank=%{marker.color}<extra></extra>\",\"legendgroup\":\"7\",\"marker\":{\"color\":[1],\"coloraxis\":\"coloraxis\",\"pattern\":{\"shape\":\"\"}},\"name\":\"7\",\"offsetgroup\":\"7\",\"orientation\":\"h\",\"showlegend\":true,\"text\":[5707.0],\"textposition\":\"outside\",\"x\":[5707.0],\"xaxis\":\"x\",\"y\":[\"United States\"],\"yaxis\":\"y\",\"type\":\"bar\"},{\"alignmentgroup\":\"True\",\"hovertemplate\":\"Number of Olympic games hosted=4<br>Medal=%{text}<br>host country=%{y}<br>World GDP rank=%{marker.color}<extra></extra>\",\"legendgroup\":\"4\",\"marker\":{\"color\":[6],\"coloraxis\":\"coloraxis\",\"pattern\":{\"shape\":\"/\"}},\"name\":\"4\",\"offsetgroup\":\"4\",\"orientation\":\"h\",\"showlegend\":true,\"text\":[1717.0],\"textposition\":\"outside\",\"x\":[1717.0],\"xaxis\":\"x\",\"y\":[\"France\"],\"yaxis\":\"y\",\"type\":\"bar\"},{\"alignmentgroup\":\"True\",\"hovertemplate\":\"Number of Olympic games hosted=3<br>Medal=%{text}<br>host country=%{y}<br>World GDP rank=%{marker.color}<extra></extra>\",\"legendgroup\":\"3\",\"marker\":{\"color\":[5,3],\"coloraxis\":\"coloraxis\",\"pattern\":{\"shape\":\"\\\\\"}},\"name\":\"3\",\"offsetgroup\":\"3\",\"orientation\":\"h\",\"showlegend\":true,\"text\":[2010.0,1020.0],\"textposition\":\"outside\",\"x\":[2010.0,1020.0],\"xaxis\":\"x\",\"y\":[\"United Kingdom\",\"Japan\"],\"yaxis\":\"y\",\"type\":\"bar\"},{\"alignmentgroup\":\"True\",\"hovertemplate\":\"Number of Olympic games hosted=2<br>Medal=%{text}<br>host country=%{y}<br>World GDP rank=%{marker.color}<extra></extra>\",\"legendgroup\":\"2\",\"marker\":{\"color\":[7,14,8,15],\"coloraxis\":\"coloraxis\",\"pattern\":{\"shape\":\"x\"}},\"name\":\"2\",\"offsetgroup\":\"2\",\"orientation\":\"h\",\"showlegend\":true,\"text\":[1502.0,947.0,940.0,615.0],\"textposition\":\"outside\",\"x\":[1502.0,947.0,940.0,615.0],\"xaxis\":\"x\",\"y\":[\"Italy\",\"Norway\",\"Canada\",\"Austria\"],\"yaxis\":\"y\",\"type\":\"bar\"},{\"alignmentgroup\":\"True\",\"hovertemplate\":\"Number of Olympic games hosted=1<br>Medal=%{text}<br>host country=%{y}<br>World GDP rank=%{marker.color}<extra></extra>\",\"legendgroup\":\"1\",\"marker\":{\"color\":[4,12,10,11],\"coloraxis\":\"coloraxis\",\"pattern\":{\"shape\":\"+\"}},\"name\":\"1\",\"offsetgroup\":\"1\",\"orientation\":\"h\",\"showlegend\":true,\"text\":[2356.0,1426.0,941.0,793.0],\"textposition\":\"outside\",\"x\":[2356.0,1426.0,941.0,793.0],\"xaxis\":\"x\",\"y\":[\"Germany\",\"Sweden\",\"Australia\",\"Netherlands\"],\"yaxis\":\"y\",\"type\":\"bar\"}],                        {\"template\":{\"data\":{\"histogram2dcontour\":[{\"type\":\"histogram2dcontour\",\"colorbar\":{\"outlinewidth\":0,\"ticks\":\"\"},\"colorscale\":[[0.0,\"#0d0887\"],[0.1111111111111111,\"#46039f\"],[0.2222222222222222,\"#7201a8\"],[0.3333333333333333,\"#9c179e\"],[0.4444444444444444,\"#bd3786\"],[0.5555555555555556,\"#d8576b\"],[0.6666666666666666,\"#ed7953\"],[0.7777777777777778,\"#fb9f3a\"],[0.8888888888888888,\"#fdca26\"],[1.0,\"#f0f921\"]]}],\"choropleth\":[{\"type\":\"choropleth\",\"colorbar\":{\"outlinewidth\":0,\"ticks\":\"\"}}],\"histogram2d\":[{\"type\":\"histogram2d\",\"colorbar\":{\"outlinewidth\":0,\"ticks\":\"\"},\"colorscale\":[[0.0,\"#0d0887\"],[0.1111111111111111,\"#46039f\"],[0.2222222222222222,\"#7201a8\"],[0.3333333333333333,\"#9c179e\"],[0.4444444444444444,\"#bd3786\"],[0.5555555555555556,\"#d8576b\"],[0.6666666666666666,\"#ed7953\"],[0.7777777777777778,\"#fb9f3a\"],[0.8888888888888888,\"#fdca26\"],[1.0,\"#f0f921\"]]}],\"heatmap\":[{\"type\":\"heatmap\",\"colorbar\":{\"outlinewidth\":0,\"ticks\":\"\"},\"colorscale\":[[0.0,\"#0d0887\"],[0.1111111111111111,\"#46039f\"],[0.2222222222222222,\"#7201a8\"],[0.3333333333333333,\"#9c179e\"],[0.4444444444444444,\"#bd3786\"],[0.5555555555555556,\"#d8576b\"],[0.6666666666666666,\"#ed7953\"],[0.7777777777777778,\"#fb9f3a\"],[0.8888888888888888,\"#fdca26\"],[1.0,\"#f0f921\"]]}],\"heatmapgl\":[{\"type\":\"heatmapgl\",\"colorbar\":{\"outlinewidth\":0,\"ticks\":\"\"},\"colorscale\":[[0.0,\"#0d0887\"],[0.1111111111111111,\"#46039f\"],[0.2222222222222222,\"#7201a8\"],[0.3333333333333333,\"#9c179e\"],[0.4444444444444444,\"#bd3786\"],[0.5555555555555556,\"#d8576b\"],[0.6666666666666666,\"#ed7953\"],[0.7777777777777778,\"#fb9f3a\"],[0.8888888888888888,\"#fdca26\"],[1.0,\"#f0f921\"]]}],\"contourcarpet\":[{\"type\":\"contourcarpet\",\"colorbar\":{\"outlinewidth\":0,\"ticks\":\"\"}}],\"contour\":[{\"type\":\"contour\",\"colorbar\":{\"outlinewidth\":0,\"ticks\":\"\"},\"colorscale\":[[0.0,\"#0d0887\"],[0.1111111111111111,\"#46039f\"],[0.2222222222222222,\"#7201a8\"],[0.3333333333333333,\"#9c179e\"],[0.4444444444444444,\"#bd3786\"],[0.5555555555555556,\"#d8576b\"],[0.6666666666666666,\"#ed7953\"],[0.7777777777777778,\"#fb9f3a\"],[0.8888888888888888,\"#fdca26\"],[1.0,\"#f0f921\"]]}],\"surface\":[{\"type\":\"surface\",\"colorbar\":{\"outlinewidth\":0,\"ticks\":\"\"},\"colorscale\":[[0.0,\"#0d0887\"],[0.1111111111111111,\"#46039f\"],[0.2222222222222222,\"#7201a8\"],[0.3333333333333333,\"#9c179e\"],[0.4444444444444444,\"#bd3786\"],[0.5555555555555556,\"#d8576b\"],[0.6666666666666666,\"#ed7953\"],[0.7777777777777778,\"#fb9f3a\"],[0.8888888888888888,\"#fdca26\"],[1.0,\"#f0f921\"]]}],\"mesh3d\":[{\"type\":\"mesh3d\",\"colorbar\":{\"outlinewidth\":0,\"ticks\":\"\"}}],\"scatter\":[{\"fillpattern\":{\"fillmode\":\"overlay\",\"size\":10,\"solidity\":0.2},\"type\":\"scatter\"}],\"parcoords\":[{\"type\":\"parcoords\",\"line\":{\"colorbar\":{\"outlinewidth\":0,\"ticks\":\"\"}}}],\"scatterpolargl\":[{\"type\":\"scatterpolargl\",\"marker\":{\"colorbar\":{\"outlinewidth\":0,\"ticks\":\"\"}}}],\"bar\":[{\"error_x\":{\"color\":\"#2a3f5f\"},\"error_y\":{\"color\":\"#2a3f5f\"},\"marker\":{\"line\":{\"color\":\"#E5ECF6\",\"width\":0.5},\"pattern\":{\"fillmode\":\"overlay\",\"size\":10,\"solidity\":0.2}},\"type\":\"bar\"}],\"scattergeo\":[{\"type\":\"scattergeo\",\"marker\":{\"colorbar\":{\"outlinewidth\":0,\"ticks\":\"\"}}}],\"scatterpolar\":[{\"type\":\"scatterpolar\",\"marker\":{\"colorbar\":{\"outlinewidth\":0,\"ticks\":\"\"}}}],\"histogram\":[{\"marker\":{\"pattern\":{\"fillmode\":\"overlay\",\"size\":10,\"solidity\":0.2}},\"type\":\"histogram\"}],\"scattergl\":[{\"type\":\"scattergl\",\"marker\":{\"colorbar\":{\"outlinewidth\":0,\"ticks\":\"\"}}}],\"scatter3d\":[{\"type\":\"scatter3d\",\"line\":{\"colorbar\":{\"outlinewidth\":0,\"ticks\":\"\"}},\"marker\":{\"colorbar\":{\"outlinewidth\":0,\"ticks\":\"\"}}}],\"scattermapbox\":[{\"type\":\"scattermapbox\",\"marker\":{\"colorbar\":{\"outlinewidth\":0,\"ticks\":\"\"}}}],\"scatterternary\":[{\"type\":\"scatterternary\",\"marker\":{\"colorbar\":{\"outlinewidth\":0,\"ticks\":\"\"}}}],\"scattercarpet\":[{\"type\":\"scattercarpet\",\"marker\":{\"colorbar\":{\"outlinewidth\":0,\"ticks\":\"\"}}}],\"carpet\":[{\"aaxis\":{\"endlinecolor\":\"#2a3f5f\",\"gridcolor\":\"white\",\"linecolor\":\"white\",\"minorgridcolor\":\"white\",\"startlinecolor\":\"#2a3f5f\"},\"baxis\":{\"endlinecolor\":\"#2a3f5f\",\"gridcolor\":\"white\",\"linecolor\":\"white\",\"minorgridcolor\":\"white\",\"startlinecolor\":\"#2a3f5f\"},\"type\":\"carpet\"}],\"table\":[{\"cells\":{\"fill\":{\"color\":\"#EBF0F8\"},\"line\":{\"color\":\"white\"}},\"header\":{\"fill\":{\"color\":\"#C8D4E3\"},\"line\":{\"color\":\"white\"}},\"type\":\"table\"}],\"barpolar\":[{\"marker\":{\"line\":{\"color\":\"#E5ECF6\",\"width\":0.5},\"pattern\":{\"fillmode\":\"overlay\",\"size\":10,\"solidity\":0.2}},\"type\":\"barpolar\"}],\"pie\":[{\"automargin\":true,\"type\":\"pie\"}]},\"layout\":{\"autotypenumbers\":\"strict\",\"colorway\":[\"#636efa\",\"#EF553B\",\"#00cc96\",\"#ab63fa\",\"#FFA15A\",\"#19d3f3\",\"#FF6692\",\"#B6E880\",\"#FF97FF\",\"#FECB52\"],\"font\":{\"color\":\"#2a3f5f\"},\"hovermode\":\"closest\",\"hoverlabel\":{\"align\":\"left\"},\"paper_bgcolor\":\"white\",\"plot_bgcolor\":\"#E5ECF6\",\"polar\":{\"bgcolor\":\"#E5ECF6\",\"angularaxis\":{\"gridcolor\":\"white\",\"linecolor\":\"white\",\"ticks\":\"\"},\"radialaxis\":{\"gridcolor\":\"white\",\"linecolor\":\"white\",\"ticks\":\"\"}},\"ternary\":{\"bgcolor\":\"#E5ECF6\",\"aaxis\":{\"gridcolor\":\"white\",\"linecolor\":\"white\",\"ticks\":\"\"},\"baxis\":{\"gridcolor\":\"white\",\"linecolor\":\"white\",\"ticks\":\"\"},\"caxis\":{\"gridcolor\":\"white\",\"linecolor\":\"white\",\"ticks\":\"\"}},\"coloraxis\":{\"colorbar\":{\"outlinewidth\":0,\"ticks\":\"\"}},\"colorscale\":{\"sequential\":[[0.0,\"#0d0887\"],[0.1111111111111111,\"#46039f\"],[0.2222222222222222,\"#7201a8\"],[0.3333333333333333,\"#9c179e\"],[0.4444444444444444,\"#bd3786\"],[0.5555555555555556,\"#d8576b\"],[0.6666666666666666,\"#ed7953\"],[0.7777777777777778,\"#fb9f3a\"],[0.8888888888888888,\"#fdca26\"],[1.0,\"#f0f921\"]],\"sequentialminus\":[[0.0,\"#0d0887\"],[0.1111111111111111,\"#46039f\"],[0.2222222222222222,\"#7201a8\"],[0.3333333333333333,\"#9c179e\"],[0.4444444444444444,\"#bd3786\"],[0.5555555555555556,\"#d8576b\"],[0.6666666666666666,\"#ed7953\"],[0.7777777777777778,\"#fb9f3a\"],[0.8888888888888888,\"#fdca26\"],[1.0,\"#f0f921\"]],\"diverging\":[[0,\"#8e0152\"],[0.1,\"#c51b7d\"],[0.2,\"#de77ae\"],[0.3,\"#f1b6da\"],[0.4,\"#fde0ef\"],[0.5,\"#f7f7f7\"],[0.6,\"#e6f5d0\"],[0.7,\"#b8e186\"],[0.8,\"#7fbc41\"],[0.9,\"#4d9221\"],[1,\"#276419\"]]},\"xaxis\":{\"gridcolor\":\"white\",\"linecolor\":\"white\",\"ticks\":\"\",\"title\":{\"standoff\":15},\"zerolinecolor\":\"white\",\"automargin\":true,\"zerolinewidth\":2},\"yaxis\":{\"gridcolor\":\"white\",\"linecolor\":\"white\",\"ticks\":\"\",\"title\":{\"standoff\":15},\"zerolinecolor\":\"white\",\"automargin\":true,\"zerolinewidth\":2},\"scene\":{\"xaxis\":{\"backgroundcolor\":\"#E5ECF6\",\"gridcolor\":\"white\",\"linecolor\":\"white\",\"showbackground\":true,\"ticks\":\"\",\"zerolinecolor\":\"white\",\"gridwidth\":2},\"yaxis\":{\"backgroundcolor\":\"#E5ECF6\",\"gridcolor\":\"white\",\"linecolor\":\"white\",\"showbackground\":true,\"ticks\":\"\",\"zerolinecolor\":\"white\",\"gridwidth\":2},\"zaxis\":{\"backgroundcolor\":\"#E5ECF6\",\"gridcolor\":\"white\",\"linecolor\":\"white\",\"showbackground\":true,\"ticks\":\"\",\"zerolinecolor\":\"white\",\"gridwidth\":2}},\"shapedefaults\":{\"line\":{\"color\":\"#2a3f5f\"}},\"annotationdefaults\":{\"arrowcolor\":\"#2a3f5f\",\"arrowhead\":0,\"arrowwidth\":1},\"geo\":{\"bgcolor\":\"white\",\"landcolor\":\"#E5ECF6\",\"subunitcolor\":\"white\",\"showland\":true,\"showlakes\":true,\"lakecolor\":\"white\"},\"title\":{\"x\":0.05},\"mapbox\":{\"style\":\"light\"}}},\"xaxis\":{\"anchor\":\"y\",\"domain\":[0.0,1.0],\"title\":{\"text\":\"Medal\"}},\"yaxis\":{\"anchor\":\"x\",\"domain\":[0.0,1.0],\"title\":{\"text\":\"\"},\"autorange\":\"reversed\"},\"coloraxis\":{\"colorbar\":{\"title\":{\"text\":\"World GDP rank\"}},\"colorscale\":[[0.0,\"#0d0887\"],[0.1111111111111111,\"#46039f\"],[0.2222222222222222,\"#7201a8\"],[0.3333333333333333,\"#9c179e\"],[0.4444444444444444,\"#bd3786\"],[0.5555555555555556,\"#d8576b\"],[0.6666666666666666,\"#ed7953\"],[0.7777777777777778,\"#fb9f3a\"],[0.8888888888888888,\"#fdca26\"],[1.0,\"#f0f921\"]]},\"legend\":{\"title\":{\"text\":\"Number of Olympic games hosted\",\"font\":{\"color\":\"black\"}},\"tracegroupgap\":0,\"font\":{\"size\":12},\"yanchor\":\"bottom\",\"y\":0.03,\"xanchor\":\"right\",\"x\":0.97},\"title\":{\"text\":\"Top 12 world countries that have won more medal and hosted at least one Olympic game between 1986-2022.\",\"font\":{\"color\":\"black\"}},\"barmode\":\"relative\",\"font\":{\"color\":\"black\"},\"plot_bgcolor\":\"rgba(0, 0, 0, 0)\",\"paper_bgcolor\":\"rgba(0, 0, 0, 0)\"},                        {\"responsive\": true}                    ).then(function(){\n",
       "                            \n",
       "var gd = document.getElementById('4d97403f-a09a-49ae-bab8-84a7018ae57a');\n",
       "var x = new MutationObserver(function (mutations, observer) {{\n",
       "        var display = window.getComputedStyle(gd).display;\n",
       "        if (!display || display === 'none') {{\n",
       "            console.log([gd, 'removed!']);\n",
       "            Plotly.purge(gd);\n",
       "            observer.disconnect();\n",
       "        }}\n",
       "}});\n",
       "\n",
       "// Listen for the removal of the full notebook cells\n",
       "var notebookContainer = gd.closest('#notebook-container');\n",
       "if (notebookContainer) {{\n",
       "    x.observe(notebookContainer, {childList: true});\n",
       "}}\n",
       "\n",
       "// Listen for the clearing of the current output cell\n",
       "var outputEl = gd.closest('.output');\n",
       "if (outputEl) {{\n",
       "    x.observe(outputEl, {childList: true});\n",
       "}}\n",
       "\n",
       "                        })                };                });            </script>        </div>"
      ]
     },
     "metadata": {},
     "output_type": "display_data"
    }
   ],
   "source": [
    "ll = l.merge(pfd, how='right').dropna()\n",
    "ll['Number games hosted']=ll['Number games hosted'].values.astype(int)\n",
    "ll =ll.sort_values(by=['Medal'],ascending=False)\n",
    "ll = ll.head(12)\n",
    "ll =ll.sort_values(by=['Number games hosted'],ascending=False)\n",
    "\n",
    "# ll['Number games hosted']=ll['Number games hosted'].values.astype(str)\n",
    "\n",
    "\n",
    "fig = px.bar(ll, x=\"Medal\", y=\"host country\", pattern_shape=\"Number games hosted\",text='Medal',color=\"GDP rank\",\n",
    "             title=\"Top 12 world countries that have won more medal and hosted at least one Olympic game between 1986-2022.\",\n",
    "labels={ # replaces default labels by column name\n",
    "                \"Number games hosted\": \"Number of Olympic games hosted\",\n",
    "                'GDP rank': \"World GDP rank\"\n",
    "            })\n",
    "fig.update_layout(yaxis=dict(autorange=\"reversed\"), legend_title_font_color=\"black\",\n",
    "                  font_color=\"black\",legend = dict(font = dict(size = 12)),\n",
    "    title_font_color=\"black\")\n",
    "fig.update_layout(legend=dict(\n",
    "    yanchor=\"bottom\",\n",
    "    y=0.03,\n",
    "    xanchor=\"right\",\n",
    "    x=.97\n",
    "))\n",
    "fig.update_layout({\n",
    "'plot_bgcolor': 'rgba(0, 0, 0, 0)',\n",
    "'paper_bgcolor': 'rgba(0, 0, 0, 0)',\n",
    "})\n",
    "fig.update_yaxes(title_text='')\n",
    "fig.update_traces(textposition='outside')\n",
    "fig.show()\n",
    "\n"
   ]
  },
  {
   "cell_type": "code",
   "execution_count": 128,
   "id": "55ad7bc1",
   "metadata": {},
   "outputs": [
    {
     "data": {
      "application/vnd.plotly.v1+json": {
       "config": {
        "plotlyServerURL": "https://plot.ly"
       },
       "data": [
        {
         "alignmentgroup": "True",
         "hovertemplate": "Number of Olympic games hosted=7<br>Medal=%{text}<br>host country=%{y}<extra></extra>",
         "legendgroup": "7",
         "marker": {
          "color": "#636efa",
          "pattern": {
           "shape": ""
          }
         },
         "name": "7",
         "offsetgroup": "7",
         "orientation": "h",
         "showlegend": true,
         "text": [
          5707
         ],
         "textposition": "outside",
         "type": "bar",
         "x": [
          5707
         ],
         "xaxis": "x",
         "y": [
          "United States"
         ],
         "yaxis": "y"
        },
        {
         "alignmentgroup": "True",
         "hovertemplate": "Number of Olympic games hosted=1<br>Medal=%{text}<br>host country=%{y}<extra></extra>",
         "legendgroup": "1",
         "marker": {
          "color": "#EF553B",
          "pattern": {
           "shape": ""
          }
         },
         "name": "1",
         "offsetgroup": "1",
         "orientation": "h",
         "showlegend": true,
         "text": [
          2356,
          1426,
          941,
          793
         ],
         "textposition": "outside",
         "type": "bar",
         "x": [
          2356,
          1426,
          941,
          793
         ],
         "xaxis": "x",
         "y": [
          "Germany",
          "Sweden",
          "Australia",
          "Netherlands"
         ],
         "yaxis": "y"
        },
        {
         "alignmentgroup": "True",
         "hovertemplate": "Number of Olympic games hosted=3<br>Medal=%{text}<br>host country=%{y}<extra></extra>",
         "legendgroup": "3",
         "marker": {
          "color": "#00cc96",
          "pattern": {
           "shape": ""
          }
         },
         "name": "3",
         "offsetgroup": "3",
         "orientation": "h",
         "showlegend": true,
         "text": [
          2010,
          1020
         ],
         "textposition": "outside",
         "type": "bar",
         "x": [
          2010,
          1020
         ],
         "xaxis": "x",
         "y": [
          "United Kingdom",
          "Japan"
         ],
         "yaxis": "y"
        },
        {
         "alignmentgroup": "True",
         "hovertemplate": "Number of Olympic games hosted=4<br>Medal=%{text}<br>host country=%{y}<extra></extra>",
         "legendgroup": "4",
         "marker": {
          "color": "#ab63fa",
          "pattern": {
           "shape": ""
          }
         },
         "name": "4",
         "offsetgroup": "4",
         "orientation": "h",
         "showlegend": true,
         "text": [
          1717
         ],
         "textposition": "outside",
         "type": "bar",
         "x": [
          1717
         ],
         "xaxis": "x",
         "y": [
          "France"
         ],
         "yaxis": "y"
        },
        {
         "alignmentgroup": "True",
         "hovertemplate": "Number of Olympic games hosted=2<br>Medal=%{text}<br>host country=%{y}<extra></extra>",
         "legendgroup": "2",
         "marker": {
          "color": "#FFA15A",
          "pattern": {
           "shape": ""
          }
         },
         "name": "2",
         "offsetgroup": "2",
         "orientation": "h",
         "showlegend": true,
         "text": [
          1502,
          947,
          940,
          615
         ],
         "textposition": "outside",
         "type": "bar",
         "x": [
          1502,
          947,
          940,
          615
         ],
         "xaxis": "x",
         "y": [
          "Italy",
          "Norway",
          "Canada",
          "Austria"
         ],
         "yaxis": "y"
        }
       ],
       "layout": {
        "barmode": "relative",
        "font": {
         "color": "black"
        },
        "legend": {
         "font": {
          "size": 12
         },
         "title": {
          "font": {
           "color": "black"
          },
          "text": "Number of Olympic games hosted"
         },
         "tracegroupgap": 0,
         "x": 0.97,
         "xanchor": "right",
         "y": 0.03,
         "yanchor": "bottom"
        },
        "paper_bgcolor": "rgba(0, 0, 0, 0)",
        "plot_bgcolor": "rgba(0, 0, 0, 0)",
        "template": {
         "data": {
          "bar": [
           {
            "error_x": {
             "color": "#2a3f5f"
            },
            "error_y": {
             "color": "#2a3f5f"
            },
            "marker": {
             "line": {
              "color": "#E5ECF6",
              "width": 0.5
             },
             "pattern": {
              "fillmode": "overlay",
              "size": 10,
              "solidity": 0.2
             }
            },
            "type": "bar"
           }
          ],
          "barpolar": [
           {
            "marker": {
             "line": {
              "color": "#E5ECF6",
              "width": 0.5
             },
             "pattern": {
              "fillmode": "overlay",
              "size": 10,
              "solidity": 0.2
             }
            },
            "type": "barpolar"
           }
          ],
          "carpet": [
           {
            "aaxis": {
             "endlinecolor": "#2a3f5f",
             "gridcolor": "white",
             "linecolor": "white",
             "minorgridcolor": "white",
             "startlinecolor": "#2a3f5f"
            },
            "baxis": {
             "endlinecolor": "#2a3f5f",
             "gridcolor": "white",
             "linecolor": "white",
             "minorgridcolor": "white",
             "startlinecolor": "#2a3f5f"
            },
            "type": "carpet"
           }
          ],
          "choropleth": [
           {
            "colorbar": {
             "outlinewidth": 0,
             "ticks": ""
            },
            "type": "choropleth"
           }
          ],
          "contour": [
           {
            "colorbar": {
             "outlinewidth": 0,
             "ticks": ""
            },
            "colorscale": [
             [
              0,
              "#0d0887"
             ],
             [
              0.1111111111111111,
              "#46039f"
             ],
             [
              0.2222222222222222,
              "#7201a8"
             ],
             [
              0.3333333333333333,
              "#9c179e"
             ],
             [
              0.4444444444444444,
              "#bd3786"
             ],
             [
              0.5555555555555556,
              "#d8576b"
             ],
             [
              0.6666666666666666,
              "#ed7953"
             ],
             [
              0.7777777777777778,
              "#fb9f3a"
             ],
             [
              0.8888888888888888,
              "#fdca26"
             ],
             [
              1,
              "#f0f921"
             ]
            ],
            "type": "contour"
           }
          ],
          "contourcarpet": [
           {
            "colorbar": {
             "outlinewidth": 0,
             "ticks": ""
            },
            "type": "contourcarpet"
           }
          ],
          "heatmap": [
           {
            "colorbar": {
             "outlinewidth": 0,
             "ticks": ""
            },
            "colorscale": [
             [
              0,
              "#0d0887"
             ],
             [
              0.1111111111111111,
              "#46039f"
             ],
             [
              0.2222222222222222,
              "#7201a8"
             ],
             [
              0.3333333333333333,
              "#9c179e"
             ],
             [
              0.4444444444444444,
              "#bd3786"
             ],
             [
              0.5555555555555556,
              "#d8576b"
             ],
             [
              0.6666666666666666,
              "#ed7953"
             ],
             [
              0.7777777777777778,
              "#fb9f3a"
             ],
             [
              0.8888888888888888,
              "#fdca26"
             ],
             [
              1,
              "#f0f921"
             ]
            ],
            "type": "heatmap"
           }
          ],
          "heatmapgl": [
           {
            "colorbar": {
             "outlinewidth": 0,
             "ticks": ""
            },
            "colorscale": [
             [
              0,
              "#0d0887"
             ],
             [
              0.1111111111111111,
              "#46039f"
             ],
             [
              0.2222222222222222,
              "#7201a8"
             ],
             [
              0.3333333333333333,
              "#9c179e"
             ],
             [
              0.4444444444444444,
              "#bd3786"
             ],
             [
              0.5555555555555556,
              "#d8576b"
             ],
             [
              0.6666666666666666,
              "#ed7953"
             ],
             [
              0.7777777777777778,
              "#fb9f3a"
             ],
             [
              0.8888888888888888,
              "#fdca26"
             ],
             [
              1,
              "#f0f921"
             ]
            ],
            "type": "heatmapgl"
           }
          ],
          "histogram": [
           {
            "marker": {
             "pattern": {
              "fillmode": "overlay",
              "size": 10,
              "solidity": 0.2
             }
            },
            "type": "histogram"
           }
          ],
          "histogram2d": [
           {
            "colorbar": {
             "outlinewidth": 0,
             "ticks": ""
            },
            "colorscale": [
             [
              0,
              "#0d0887"
             ],
             [
              0.1111111111111111,
              "#46039f"
             ],
             [
              0.2222222222222222,
              "#7201a8"
             ],
             [
              0.3333333333333333,
              "#9c179e"
             ],
             [
              0.4444444444444444,
              "#bd3786"
             ],
             [
              0.5555555555555556,
              "#d8576b"
             ],
             [
              0.6666666666666666,
              "#ed7953"
             ],
             [
              0.7777777777777778,
              "#fb9f3a"
             ],
             [
              0.8888888888888888,
              "#fdca26"
             ],
             [
              1,
              "#f0f921"
             ]
            ],
            "type": "histogram2d"
           }
          ],
          "histogram2dcontour": [
           {
            "colorbar": {
             "outlinewidth": 0,
             "ticks": ""
            },
            "colorscale": [
             [
              0,
              "#0d0887"
             ],
             [
              0.1111111111111111,
              "#46039f"
             ],
             [
              0.2222222222222222,
              "#7201a8"
             ],
             [
              0.3333333333333333,
              "#9c179e"
             ],
             [
              0.4444444444444444,
              "#bd3786"
             ],
             [
              0.5555555555555556,
              "#d8576b"
             ],
             [
              0.6666666666666666,
              "#ed7953"
             ],
             [
              0.7777777777777778,
              "#fb9f3a"
             ],
             [
              0.8888888888888888,
              "#fdca26"
             ],
             [
              1,
              "#f0f921"
             ]
            ],
            "type": "histogram2dcontour"
           }
          ],
          "mesh3d": [
           {
            "colorbar": {
             "outlinewidth": 0,
             "ticks": ""
            },
            "type": "mesh3d"
           }
          ],
          "parcoords": [
           {
            "line": {
             "colorbar": {
              "outlinewidth": 0,
              "ticks": ""
             }
            },
            "type": "parcoords"
           }
          ],
          "pie": [
           {
            "automargin": true,
            "type": "pie"
           }
          ],
          "scatter": [
           {
            "fillpattern": {
             "fillmode": "overlay",
             "size": 10,
             "solidity": 0.2
            },
            "type": "scatter"
           }
          ],
          "scatter3d": [
           {
            "line": {
             "colorbar": {
              "outlinewidth": 0,
              "ticks": ""
             }
            },
            "marker": {
             "colorbar": {
              "outlinewidth": 0,
              "ticks": ""
             }
            },
            "type": "scatter3d"
           }
          ],
          "scattercarpet": [
           {
            "marker": {
             "colorbar": {
              "outlinewidth": 0,
              "ticks": ""
             }
            },
            "type": "scattercarpet"
           }
          ],
          "scattergeo": [
           {
            "marker": {
             "colorbar": {
              "outlinewidth": 0,
              "ticks": ""
             }
            },
            "type": "scattergeo"
           }
          ],
          "scattergl": [
           {
            "marker": {
             "colorbar": {
              "outlinewidth": 0,
              "ticks": ""
             }
            },
            "type": "scattergl"
           }
          ],
          "scattermapbox": [
           {
            "marker": {
             "colorbar": {
              "outlinewidth": 0,
              "ticks": ""
             }
            },
            "type": "scattermapbox"
           }
          ],
          "scatterpolar": [
           {
            "marker": {
             "colorbar": {
              "outlinewidth": 0,
              "ticks": ""
             }
            },
            "type": "scatterpolar"
           }
          ],
          "scatterpolargl": [
           {
            "marker": {
             "colorbar": {
              "outlinewidth": 0,
              "ticks": ""
             }
            },
            "type": "scatterpolargl"
           }
          ],
          "scatterternary": [
           {
            "marker": {
             "colorbar": {
              "outlinewidth": 0,
              "ticks": ""
             }
            },
            "type": "scatterternary"
           }
          ],
          "surface": [
           {
            "colorbar": {
             "outlinewidth": 0,
             "ticks": ""
            },
            "colorscale": [
             [
              0,
              "#0d0887"
             ],
             [
              0.1111111111111111,
              "#46039f"
             ],
             [
              0.2222222222222222,
              "#7201a8"
             ],
             [
              0.3333333333333333,
              "#9c179e"
             ],
             [
              0.4444444444444444,
              "#bd3786"
             ],
             [
              0.5555555555555556,
              "#d8576b"
             ],
             [
              0.6666666666666666,
              "#ed7953"
             ],
             [
              0.7777777777777778,
              "#fb9f3a"
             ],
             [
              0.8888888888888888,
              "#fdca26"
             ],
             [
              1,
              "#f0f921"
             ]
            ],
            "type": "surface"
           }
          ],
          "table": [
           {
            "cells": {
             "fill": {
              "color": "#EBF0F8"
             },
             "line": {
              "color": "white"
             }
            },
            "header": {
             "fill": {
              "color": "#C8D4E3"
             },
             "line": {
              "color": "white"
             }
            },
            "type": "table"
           }
          ]
         },
         "layout": {
          "annotationdefaults": {
           "arrowcolor": "#2a3f5f",
           "arrowhead": 0,
           "arrowwidth": 1
          },
          "autotypenumbers": "strict",
          "coloraxis": {
           "colorbar": {
            "outlinewidth": 0,
            "ticks": ""
           }
          },
          "colorscale": {
           "diverging": [
            [
             0,
             "#8e0152"
            ],
            [
             0.1,
             "#c51b7d"
            ],
            [
             0.2,
             "#de77ae"
            ],
            [
             0.3,
             "#f1b6da"
            ],
            [
             0.4,
             "#fde0ef"
            ],
            [
             0.5,
             "#f7f7f7"
            ],
            [
             0.6,
             "#e6f5d0"
            ],
            [
             0.7,
             "#b8e186"
            ],
            [
             0.8,
             "#7fbc41"
            ],
            [
             0.9,
             "#4d9221"
            ],
            [
             1,
             "#276419"
            ]
           ],
           "sequential": [
            [
             0,
             "#0d0887"
            ],
            [
             0.1111111111111111,
             "#46039f"
            ],
            [
             0.2222222222222222,
             "#7201a8"
            ],
            [
             0.3333333333333333,
             "#9c179e"
            ],
            [
             0.4444444444444444,
             "#bd3786"
            ],
            [
             0.5555555555555556,
             "#d8576b"
            ],
            [
             0.6666666666666666,
             "#ed7953"
            ],
            [
             0.7777777777777778,
             "#fb9f3a"
            ],
            [
             0.8888888888888888,
             "#fdca26"
            ],
            [
             1,
             "#f0f921"
            ]
           ],
           "sequentialminus": [
            [
             0,
             "#0d0887"
            ],
            [
             0.1111111111111111,
             "#46039f"
            ],
            [
             0.2222222222222222,
             "#7201a8"
            ],
            [
             0.3333333333333333,
             "#9c179e"
            ],
            [
             0.4444444444444444,
             "#bd3786"
            ],
            [
             0.5555555555555556,
             "#d8576b"
            ],
            [
             0.6666666666666666,
             "#ed7953"
            ],
            [
             0.7777777777777778,
             "#fb9f3a"
            ],
            [
             0.8888888888888888,
             "#fdca26"
            ],
            [
             1,
             "#f0f921"
            ]
           ]
          },
          "colorway": [
           "#636efa",
           "#EF553B",
           "#00cc96",
           "#ab63fa",
           "#FFA15A",
           "#19d3f3",
           "#FF6692",
           "#B6E880",
           "#FF97FF",
           "#FECB52"
          ],
          "font": {
           "color": "#2a3f5f"
          },
          "geo": {
           "bgcolor": "white",
           "lakecolor": "white",
           "landcolor": "#E5ECF6",
           "showlakes": true,
           "showland": true,
           "subunitcolor": "white"
          },
          "hoverlabel": {
           "align": "left"
          },
          "hovermode": "closest",
          "mapbox": {
           "style": "light"
          },
          "paper_bgcolor": "white",
          "plot_bgcolor": "#E5ECF6",
          "polar": {
           "angularaxis": {
            "gridcolor": "white",
            "linecolor": "white",
            "ticks": ""
           },
           "bgcolor": "#E5ECF6",
           "radialaxis": {
            "gridcolor": "white",
            "linecolor": "white",
            "ticks": ""
           }
          },
          "scene": {
           "xaxis": {
            "backgroundcolor": "#E5ECF6",
            "gridcolor": "white",
            "gridwidth": 2,
            "linecolor": "white",
            "showbackground": true,
            "ticks": "",
            "zerolinecolor": "white"
           },
           "yaxis": {
            "backgroundcolor": "#E5ECF6",
            "gridcolor": "white",
            "gridwidth": 2,
            "linecolor": "white",
            "showbackground": true,
            "ticks": "",
            "zerolinecolor": "white"
           },
           "zaxis": {
            "backgroundcolor": "#E5ECF6",
            "gridcolor": "white",
            "gridwidth": 2,
            "linecolor": "white",
            "showbackground": true,
            "ticks": "",
            "zerolinecolor": "white"
           }
          },
          "shapedefaults": {
           "line": {
            "color": "#2a3f5f"
           }
          },
          "ternary": {
           "aaxis": {
            "gridcolor": "white",
            "linecolor": "white",
            "ticks": ""
           },
           "baxis": {
            "gridcolor": "white",
            "linecolor": "white",
            "ticks": ""
           },
           "bgcolor": "#E5ECF6",
           "caxis": {
            "gridcolor": "white",
            "linecolor": "white",
            "ticks": ""
           }
          },
          "title": {
           "x": 0.05
          },
          "xaxis": {
           "automargin": true,
           "gridcolor": "white",
           "linecolor": "white",
           "ticks": "",
           "title": {
            "standoff": 15
           },
           "zerolinecolor": "white",
           "zerolinewidth": 2
          },
          "yaxis": {
           "automargin": true,
           "gridcolor": "white",
           "linecolor": "white",
           "ticks": "",
           "title": {
            "standoff": 15
           },
           "zerolinecolor": "white",
           "zerolinewidth": 2
          }
         }
        },
        "title": {
         "font": {
          "color": "black"
         },
         "text": "Top 12 world countries that have won more medal and hosted at least one Olympic game between 1986-2022."
        },
        "xaxis": {
         "anchor": "y",
         "domain": [
          0,
          1
         ],
         "title": {
          "text": "Medal"
         }
        },
        "yaxis": {
         "anchor": "x",
         "autorange": "reversed",
         "domain": [
          0,
          1
         ],
         "title": {
          "text": ""
         }
        }
       }
      },
      "text/html": [
       "<div>                            <div id=\"4a4a53a1-d757-4164-b417-f3fc125e4d63\" class=\"plotly-graph-div\" style=\"height:525px; width:100%;\"></div>            <script type=\"text/javascript\">                require([\"plotly\"], function(Plotly) {                    window.PLOTLYENV=window.PLOTLYENV || {};                                    if (document.getElementById(\"4a4a53a1-d757-4164-b417-f3fc125e4d63\")) {                    Plotly.newPlot(                        \"4a4a53a1-d757-4164-b417-f3fc125e4d63\",                        [{\"alignmentgroup\":\"True\",\"hovertemplate\":\"Number of Olympic games hosted=7<br>Medal=%{text}<br>host country=%{y}<extra></extra>\",\"legendgroup\":\"7\",\"marker\":{\"color\":\"#636efa\",\"pattern\":{\"shape\":\"\"}},\"name\":\"7\",\"offsetgroup\":\"7\",\"orientation\":\"h\",\"showlegend\":true,\"text\":[5707.0],\"textposition\":\"outside\",\"x\":[5707.0],\"xaxis\":\"x\",\"y\":[\"United States\"],\"yaxis\":\"y\",\"type\":\"bar\"},{\"alignmentgroup\":\"True\",\"hovertemplate\":\"Number of Olympic games hosted=1<br>Medal=%{text}<br>host country=%{y}<extra></extra>\",\"legendgroup\":\"1\",\"marker\":{\"color\":\"#EF553B\",\"pattern\":{\"shape\":\"\"}},\"name\":\"1\",\"offsetgroup\":\"1\",\"orientation\":\"h\",\"showlegend\":true,\"text\":[2356.0,1426.0,941.0,793.0],\"textposition\":\"outside\",\"x\":[2356.0,1426.0,941.0,793.0],\"xaxis\":\"x\",\"y\":[\"Germany\",\"Sweden\",\"Australia\",\"Netherlands\"],\"yaxis\":\"y\",\"type\":\"bar\"},{\"alignmentgroup\":\"True\",\"hovertemplate\":\"Number of Olympic games hosted=3<br>Medal=%{text}<br>host country=%{y}<extra></extra>\",\"legendgroup\":\"3\",\"marker\":{\"color\":\"#00cc96\",\"pattern\":{\"shape\":\"\"}},\"name\":\"3\",\"offsetgroup\":\"3\",\"orientation\":\"h\",\"showlegend\":true,\"text\":[2010.0,1020.0],\"textposition\":\"outside\",\"x\":[2010.0,1020.0],\"xaxis\":\"x\",\"y\":[\"United Kingdom\",\"Japan\"],\"yaxis\":\"y\",\"type\":\"bar\"},{\"alignmentgroup\":\"True\",\"hovertemplate\":\"Number of Olympic games hosted=4<br>Medal=%{text}<br>host country=%{y}<extra></extra>\",\"legendgroup\":\"4\",\"marker\":{\"color\":\"#ab63fa\",\"pattern\":{\"shape\":\"\"}},\"name\":\"4\",\"offsetgroup\":\"4\",\"orientation\":\"h\",\"showlegend\":true,\"text\":[1717.0],\"textposition\":\"outside\",\"x\":[1717.0],\"xaxis\":\"x\",\"y\":[\"France\"],\"yaxis\":\"y\",\"type\":\"bar\"},{\"alignmentgroup\":\"True\",\"hovertemplate\":\"Number of Olympic games hosted=2<br>Medal=%{text}<br>host country=%{y}<extra></extra>\",\"legendgroup\":\"2\",\"marker\":{\"color\":\"#FFA15A\",\"pattern\":{\"shape\":\"\"}},\"name\":\"2\",\"offsetgroup\":\"2\",\"orientation\":\"h\",\"showlegend\":true,\"text\":[1502.0,947.0,940.0,615.0],\"textposition\":\"outside\",\"x\":[1502.0,947.0,940.0,615.0],\"xaxis\":\"x\",\"y\":[\"Italy\",\"Norway\",\"Canada\",\"Austria\"],\"yaxis\":\"y\",\"type\":\"bar\"}],                        {\"template\":{\"data\":{\"histogram2dcontour\":[{\"type\":\"histogram2dcontour\",\"colorbar\":{\"outlinewidth\":0,\"ticks\":\"\"},\"colorscale\":[[0.0,\"#0d0887\"],[0.1111111111111111,\"#46039f\"],[0.2222222222222222,\"#7201a8\"],[0.3333333333333333,\"#9c179e\"],[0.4444444444444444,\"#bd3786\"],[0.5555555555555556,\"#d8576b\"],[0.6666666666666666,\"#ed7953\"],[0.7777777777777778,\"#fb9f3a\"],[0.8888888888888888,\"#fdca26\"],[1.0,\"#f0f921\"]]}],\"choropleth\":[{\"type\":\"choropleth\",\"colorbar\":{\"outlinewidth\":0,\"ticks\":\"\"}}],\"histogram2d\":[{\"type\":\"histogram2d\",\"colorbar\":{\"outlinewidth\":0,\"ticks\":\"\"},\"colorscale\":[[0.0,\"#0d0887\"],[0.1111111111111111,\"#46039f\"],[0.2222222222222222,\"#7201a8\"],[0.3333333333333333,\"#9c179e\"],[0.4444444444444444,\"#bd3786\"],[0.5555555555555556,\"#d8576b\"],[0.6666666666666666,\"#ed7953\"],[0.7777777777777778,\"#fb9f3a\"],[0.8888888888888888,\"#fdca26\"],[1.0,\"#f0f921\"]]}],\"heatmap\":[{\"type\":\"heatmap\",\"colorbar\":{\"outlinewidth\":0,\"ticks\":\"\"},\"colorscale\":[[0.0,\"#0d0887\"],[0.1111111111111111,\"#46039f\"],[0.2222222222222222,\"#7201a8\"],[0.3333333333333333,\"#9c179e\"],[0.4444444444444444,\"#bd3786\"],[0.5555555555555556,\"#d8576b\"],[0.6666666666666666,\"#ed7953\"],[0.7777777777777778,\"#fb9f3a\"],[0.8888888888888888,\"#fdca26\"],[1.0,\"#f0f921\"]]}],\"heatmapgl\":[{\"type\":\"heatmapgl\",\"colorbar\":{\"outlinewidth\":0,\"ticks\":\"\"},\"colorscale\":[[0.0,\"#0d0887\"],[0.1111111111111111,\"#46039f\"],[0.2222222222222222,\"#7201a8\"],[0.3333333333333333,\"#9c179e\"],[0.4444444444444444,\"#bd3786\"],[0.5555555555555556,\"#d8576b\"],[0.6666666666666666,\"#ed7953\"],[0.7777777777777778,\"#fb9f3a\"],[0.8888888888888888,\"#fdca26\"],[1.0,\"#f0f921\"]]}],\"contourcarpet\":[{\"type\":\"contourcarpet\",\"colorbar\":{\"outlinewidth\":0,\"ticks\":\"\"}}],\"contour\":[{\"type\":\"contour\",\"colorbar\":{\"outlinewidth\":0,\"ticks\":\"\"},\"colorscale\":[[0.0,\"#0d0887\"],[0.1111111111111111,\"#46039f\"],[0.2222222222222222,\"#7201a8\"],[0.3333333333333333,\"#9c179e\"],[0.4444444444444444,\"#bd3786\"],[0.5555555555555556,\"#d8576b\"],[0.6666666666666666,\"#ed7953\"],[0.7777777777777778,\"#fb9f3a\"],[0.8888888888888888,\"#fdca26\"],[1.0,\"#f0f921\"]]}],\"surface\":[{\"type\":\"surface\",\"colorbar\":{\"outlinewidth\":0,\"ticks\":\"\"},\"colorscale\":[[0.0,\"#0d0887\"],[0.1111111111111111,\"#46039f\"],[0.2222222222222222,\"#7201a8\"],[0.3333333333333333,\"#9c179e\"],[0.4444444444444444,\"#bd3786\"],[0.5555555555555556,\"#d8576b\"],[0.6666666666666666,\"#ed7953\"],[0.7777777777777778,\"#fb9f3a\"],[0.8888888888888888,\"#fdca26\"],[1.0,\"#f0f921\"]]}],\"mesh3d\":[{\"type\":\"mesh3d\",\"colorbar\":{\"outlinewidth\":0,\"ticks\":\"\"}}],\"scatter\":[{\"fillpattern\":{\"fillmode\":\"overlay\",\"size\":10,\"solidity\":0.2},\"type\":\"scatter\"}],\"parcoords\":[{\"type\":\"parcoords\",\"line\":{\"colorbar\":{\"outlinewidth\":0,\"ticks\":\"\"}}}],\"scatterpolargl\":[{\"type\":\"scatterpolargl\",\"marker\":{\"colorbar\":{\"outlinewidth\":0,\"ticks\":\"\"}}}],\"bar\":[{\"error_x\":{\"color\":\"#2a3f5f\"},\"error_y\":{\"color\":\"#2a3f5f\"},\"marker\":{\"line\":{\"color\":\"#E5ECF6\",\"width\":0.5},\"pattern\":{\"fillmode\":\"overlay\",\"size\":10,\"solidity\":0.2}},\"type\":\"bar\"}],\"scattergeo\":[{\"type\":\"scattergeo\",\"marker\":{\"colorbar\":{\"outlinewidth\":0,\"ticks\":\"\"}}}],\"scatterpolar\":[{\"type\":\"scatterpolar\",\"marker\":{\"colorbar\":{\"outlinewidth\":0,\"ticks\":\"\"}}}],\"histogram\":[{\"marker\":{\"pattern\":{\"fillmode\":\"overlay\",\"size\":10,\"solidity\":0.2}},\"type\":\"histogram\"}],\"scattergl\":[{\"type\":\"scattergl\",\"marker\":{\"colorbar\":{\"outlinewidth\":0,\"ticks\":\"\"}}}],\"scatter3d\":[{\"type\":\"scatter3d\",\"line\":{\"colorbar\":{\"outlinewidth\":0,\"ticks\":\"\"}},\"marker\":{\"colorbar\":{\"outlinewidth\":0,\"ticks\":\"\"}}}],\"scattermapbox\":[{\"type\":\"scattermapbox\",\"marker\":{\"colorbar\":{\"outlinewidth\":0,\"ticks\":\"\"}}}],\"scatterternary\":[{\"type\":\"scatterternary\",\"marker\":{\"colorbar\":{\"outlinewidth\":0,\"ticks\":\"\"}}}],\"scattercarpet\":[{\"type\":\"scattercarpet\",\"marker\":{\"colorbar\":{\"outlinewidth\":0,\"ticks\":\"\"}}}],\"carpet\":[{\"aaxis\":{\"endlinecolor\":\"#2a3f5f\",\"gridcolor\":\"white\",\"linecolor\":\"white\",\"minorgridcolor\":\"white\",\"startlinecolor\":\"#2a3f5f\"},\"baxis\":{\"endlinecolor\":\"#2a3f5f\",\"gridcolor\":\"white\",\"linecolor\":\"white\",\"minorgridcolor\":\"white\",\"startlinecolor\":\"#2a3f5f\"},\"type\":\"carpet\"}],\"table\":[{\"cells\":{\"fill\":{\"color\":\"#EBF0F8\"},\"line\":{\"color\":\"white\"}},\"header\":{\"fill\":{\"color\":\"#C8D4E3\"},\"line\":{\"color\":\"white\"}},\"type\":\"table\"}],\"barpolar\":[{\"marker\":{\"line\":{\"color\":\"#E5ECF6\",\"width\":0.5},\"pattern\":{\"fillmode\":\"overlay\",\"size\":10,\"solidity\":0.2}},\"type\":\"barpolar\"}],\"pie\":[{\"automargin\":true,\"type\":\"pie\"}]},\"layout\":{\"autotypenumbers\":\"strict\",\"colorway\":[\"#636efa\",\"#EF553B\",\"#00cc96\",\"#ab63fa\",\"#FFA15A\",\"#19d3f3\",\"#FF6692\",\"#B6E880\",\"#FF97FF\",\"#FECB52\"],\"font\":{\"color\":\"#2a3f5f\"},\"hovermode\":\"closest\",\"hoverlabel\":{\"align\":\"left\"},\"paper_bgcolor\":\"white\",\"plot_bgcolor\":\"#E5ECF6\",\"polar\":{\"bgcolor\":\"#E5ECF6\",\"angularaxis\":{\"gridcolor\":\"white\",\"linecolor\":\"white\",\"ticks\":\"\"},\"radialaxis\":{\"gridcolor\":\"white\",\"linecolor\":\"white\",\"ticks\":\"\"}},\"ternary\":{\"bgcolor\":\"#E5ECF6\",\"aaxis\":{\"gridcolor\":\"white\",\"linecolor\":\"white\",\"ticks\":\"\"},\"baxis\":{\"gridcolor\":\"white\",\"linecolor\":\"white\",\"ticks\":\"\"},\"caxis\":{\"gridcolor\":\"white\",\"linecolor\":\"white\",\"ticks\":\"\"}},\"coloraxis\":{\"colorbar\":{\"outlinewidth\":0,\"ticks\":\"\"}},\"colorscale\":{\"sequential\":[[0.0,\"#0d0887\"],[0.1111111111111111,\"#46039f\"],[0.2222222222222222,\"#7201a8\"],[0.3333333333333333,\"#9c179e\"],[0.4444444444444444,\"#bd3786\"],[0.5555555555555556,\"#d8576b\"],[0.6666666666666666,\"#ed7953\"],[0.7777777777777778,\"#fb9f3a\"],[0.8888888888888888,\"#fdca26\"],[1.0,\"#f0f921\"]],\"sequentialminus\":[[0.0,\"#0d0887\"],[0.1111111111111111,\"#46039f\"],[0.2222222222222222,\"#7201a8\"],[0.3333333333333333,\"#9c179e\"],[0.4444444444444444,\"#bd3786\"],[0.5555555555555556,\"#d8576b\"],[0.6666666666666666,\"#ed7953\"],[0.7777777777777778,\"#fb9f3a\"],[0.8888888888888888,\"#fdca26\"],[1.0,\"#f0f921\"]],\"diverging\":[[0,\"#8e0152\"],[0.1,\"#c51b7d\"],[0.2,\"#de77ae\"],[0.3,\"#f1b6da\"],[0.4,\"#fde0ef\"],[0.5,\"#f7f7f7\"],[0.6,\"#e6f5d0\"],[0.7,\"#b8e186\"],[0.8,\"#7fbc41\"],[0.9,\"#4d9221\"],[1,\"#276419\"]]},\"xaxis\":{\"gridcolor\":\"white\",\"linecolor\":\"white\",\"ticks\":\"\",\"title\":{\"standoff\":15},\"zerolinecolor\":\"white\",\"automargin\":true,\"zerolinewidth\":2},\"yaxis\":{\"gridcolor\":\"white\",\"linecolor\":\"white\",\"ticks\":\"\",\"title\":{\"standoff\":15},\"zerolinecolor\":\"white\",\"automargin\":true,\"zerolinewidth\":2},\"scene\":{\"xaxis\":{\"backgroundcolor\":\"#E5ECF6\",\"gridcolor\":\"white\",\"linecolor\":\"white\",\"showbackground\":true,\"ticks\":\"\",\"zerolinecolor\":\"white\",\"gridwidth\":2},\"yaxis\":{\"backgroundcolor\":\"#E5ECF6\",\"gridcolor\":\"white\",\"linecolor\":\"white\",\"showbackground\":true,\"ticks\":\"\",\"zerolinecolor\":\"white\",\"gridwidth\":2},\"zaxis\":{\"backgroundcolor\":\"#E5ECF6\",\"gridcolor\":\"white\",\"linecolor\":\"white\",\"showbackground\":true,\"ticks\":\"\",\"zerolinecolor\":\"white\",\"gridwidth\":2}},\"shapedefaults\":{\"line\":{\"color\":\"#2a3f5f\"}},\"annotationdefaults\":{\"arrowcolor\":\"#2a3f5f\",\"arrowhead\":0,\"arrowwidth\":1},\"geo\":{\"bgcolor\":\"white\",\"landcolor\":\"#E5ECF6\",\"subunitcolor\":\"white\",\"showland\":true,\"showlakes\":true,\"lakecolor\":\"white\"},\"title\":{\"x\":0.05},\"mapbox\":{\"style\":\"light\"}}},\"xaxis\":{\"anchor\":\"y\",\"domain\":[0.0,1.0],\"title\":{\"text\":\"Medal\"}},\"yaxis\":{\"anchor\":\"x\",\"domain\":[0.0,1.0],\"title\":{\"text\":\"\"},\"autorange\":\"reversed\"},\"legend\":{\"title\":{\"text\":\"Number of Olympic games hosted\",\"font\":{\"color\":\"black\"}},\"tracegroupgap\":0,\"font\":{\"size\":12},\"yanchor\":\"bottom\",\"y\":0.03,\"xanchor\":\"right\",\"x\":0.97},\"title\":{\"text\":\"Top 12 world countries that have won more medal and hosted at least one Olympic game between 1986-2022.\",\"font\":{\"color\":\"black\"}},\"barmode\":\"relative\",\"font\":{\"color\":\"black\"},\"plot_bgcolor\":\"rgba(0, 0, 0, 0)\",\"paper_bgcolor\":\"rgba(0, 0, 0, 0)\"},                        {\"responsive\": true}                    ).then(function(){\n",
       "                            \n",
       "var gd = document.getElementById('4a4a53a1-d757-4164-b417-f3fc125e4d63');\n",
       "var x = new MutationObserver(function (mutations, observer) {{\n",
       "        var display = window.getComputedStyle(gd).display;\n",
       "        if (!display || display === 'none') {{\n",
       "            console.log([gd, 'removed!']);\n",
       "            Plotly.purge(gd);\n",
       "            observer.disconnect();\n",
       "        }}\n",
       "}});\n",
       "\n",
       "// Listen for the removal of the full notebook cells\n",
       "var notebookContainer = gd.closest('#notebook-container');\n",
       "if (notebookContainer) {{\n",
       "    x.observe(notebookContainer, {childList: true});\n",
       "}}\n",
       "\n",
       "// Listen for the clearing of the current output cell\n",
       "var outputEl = gd.closest('.output');\n",
       "if (outputEl) {{\n",
       "    x.observe(outputEl, {childList: true});\n",
       "}}\n",
       "\n",
       "                        })                };                });            </script>        </div>"
      ]
     },
     "metadata": {},
     "output_type": "display_data"
    }
   ],
   "source": [
    "ll = l.merge(pfd, how='right').dropna()\n",
    "ll['Number games hosted']=ll['Number games hosted'].values.astype(int)\n",
    "ll =ll.sort_values(by=['Medal'],ascending=False)\n",
    "ll = ll.head(12)\n",
    "ll =ll.sort_values(by=['Medal'],ascending=False)\n",
    "ll[\"GDP rank\"] = ll[\"GDP rank\"].astype(str)\n",
    "ll[\"Number games hosted\"] = ll[\"Number games hosted\"].astype(str)\n",
    "# ll['Number games hosted']=ll['Number games hosted'].values.astype(str)\n",
    "\n",
    "\n",
    "fig = px.bar(ll, x=\"Medal\", y=\"host country\",text='Medal',color=\"Number games hosted\",\n",
    "             title=\"Top 12 world countries that have won more medal and hosted at least one Olympic game between 1986-2022.\",\n",
    "labels={ # replaces default labels by column name\n",
    "                \"Number games hosted\": \"Number of Olympic games hosted\",\n",
    "                'GDP rank': \"World GDP rank\"\n",
    "            })\n",
    "fig.update_layout(yaxis=dict(autorange=\"reversed\"), legend_title_font_color=\"black\",\n",
    "                  font_color=\"black\",legend = dict(font = dict(size = 12)),\n",
    "    title_font_color=\"black\")\n",
    "fig.update_layout(legend=dict(\n",
    "    yanchor=\"bottom\",\n",
    "    y=0.03,\n",
    "    xanchor=\"right\",\n",
    "    x=.97\n",
    "))\n",
    "fig.update_layout({\n",
    "'plot_bgcolor': 'rgba(0, 0, 0, 0)',\n",
    "'paper_bgcolor': 'rgba(0, 0, 0, 0)',\n",
    "})\n",
    "fig.update_yaxes(title_text='')\n",
    "fig.update_traces(textposition='outside')\n",
    "fig.show()\n",
    "\n"
   ]
  },
  {
   "cell_type": "code",
   "execution_count": 129,
   "id": "d9c90473",
   "metadata": {},
   "outputs": [],
   "source": [
    "ll.to_csv('data/top_12.csv')"
   ]
  },
  {
   "cell_type": "markdown",
   "id": "1d7d4a30",
   "metadata": {},
   "source": [
    "\n",
    "#  Does hosting the Olympic games and the country's economy affect its performance?"
   ]
  },
  {
   "cell_type": "markdown",
   "id": "d3f9a3ef",
   "metadata": {},
   "source": [
    "# coustomized plot:"
   ]
  },
  {
   "cell_type": "code",
   "execution_count": 130,
   "id": "b8adf7f4",
   "metadata": {},
   "outputs": [],
   "source": [
    "custom_template = {\n",
    "    \"layout\": go.Layout(\n",
    "        font={\n",
    "            \"family\": \"Nunito\",\n",
    "            \"size\": 12,\n",
    "            \"color\": \"black\",\n",
    "        },\n",
    "        title={\n",
    "            \"font\": {\n",
    "                \"family\": \"Lato\",\n",
    "                \"size\": 18,\n",
    "                \"color\": \"#1f1f1f\",\n",
    "            },\n",
    "        },\n",
    "        plot_bgcolor=\"#ffffff\",\n",
    "        paper_bgcolor=\"#ffffff\",\n",
    "        colorway=px.colors.qualitative.G10,\n",
    "    )\n",
    "}"
   ]
  },
  {
   "cell_type": "code",
   "execution_count": 131,
   "id": "f2f4bf8b",
   "metadata": {},
   "outputs": [],
   "source": [
    "def format_title(title, subtitle=None, subtitle_font_size=12):\n",
    "    title = f'<b>{title}</b>'\n",
    "    if not subtitle:\n",
    "        return title\n",
    "    subtitle = f'<span style=\"font-size: {subtitle_font_size}px;\">{subtitle}</span>'\n",
    "    return f'{title}<br>{subtitle}'"
   ]
  },
  {
   "cell_type": "code",
   "execution_count": 132,
   "id": "e0fdfed3",
   "metadata": {},
   "outputs": [
    {
     "data": {
      "application/vnd.plotly.v1+json": {
       "config": {
        "plotlyServerURL": "https://plot.ly"
       },
       "data": [
        {
         "customdata": [
          [
           10
          ],
          [
           6
          ],
          [
           4
          ],
          [
           7
          ],
          [
           3
          ],
          [
           14
          ],
          [
           12
          ],
          [
           5
          ],
          [
           1
          ]
         ],
         "hovertemplate": "<b>%{hovertext}</b><br><br>Number games hosted=%{x}<br>Medal=%{y}<br>country=%{text}<br>GDP rank=%{customdata[0]}<extra></extra>",
         "hovertext": [
          "Australia",
          "France",
          "Germany",
          "Italy",
          "Japan",
          "Norway",
          "Sweden",
          "United Kingdom",
          "United States"
         ],
         "legendgroup": "",
         "marker": {
          "color": "rgba(0,0,0,0)",
          "symbol": "circle"
         },
         "mode": "markers+text",
         "name": "",
         "orientation": "v",
         "showlegend": false,
         "text": [
          "Australia",
          "France",
          "Germany",
          "Italy",
          "Japan",
          "Norway",
          "Sweden",
          "United Kingdom",
          "United States"
         ],
         "textposition": "top right",
         "type": "scatter",
         "x": [
          1,
          4,
          1,
          2,
          3,
          2,
          1,
          3,
          7
         ],
         "xaxis": "x",
         "y": [
          941,
          1717,
          2356,
          1502,
          1020,
          947,
          1426,
          2010,
          5707
         ],
         "yaxis": "y"
        }
       ],
       "layout": {
        "annotations": [
         {
          "showarrow": false,
          "text": "Data source: https://www.kaggle.com/datasets/josephcheng123456/olympic-historical-dataset-from-olympediaorg?select=Olympic_Athlete_Bio.csv",
          "x": 0,
          "xref": "paper",
          "y": -0.16,
          "yref": "paper"
         },
         {
          "showarrow": false,
          "text": "Number of medals won",
          "x": -0.08,
          "xref": "paper",
          "y": 1.05,
          "yref": "paper"
         }
        ],
        "images": [
         {
          "layer": "above",
          "opacity": 1,
          "sizex": 300,
          "sizey": 300,
          "sizing": "contain",
          "source": "https://raw.githubusercontent.com/matahombres/CSS-Country-Flags-Rounded/master/flags/AU.png",
          "x": 1,
          "xanchor": "center",
          "xref": "x",
          "y": 941,
          "yanchor": "middle",
          "yref": "y"
         },
         {
          "layer": "above",
          "opacity": 1,
          "sizex": 300,
          "sizey": 300,
          "sizing": "contain",
          "source": "https://raw.githubusercontent.com/matahombres/CSS-Country-Flags-Rounded/master/flags/FR.png",
          "x": 4,
          "xanchor": "center",
          "xref": "x",
          "y": 1717,
          "yanchor": "middle",
          "yref": "y"
         },
         {
          "layer": "above",
          "opacity": 1,
          "sizex": 300,
          "sizey": 300,
          "sizing": "contain",
          "source": "https://raw.githubusercontent.com/matahombres/CSS-Country-Flags-Rounded/master/flags/DE.png",
          "x": 1,
          "xanchor": "center",
          "xref": "x",
          "y": 2356,
          "yanchor": "middle",
          "yref": "y"
         },
         {
          "layer": "above",
          "opacity": 1,
          "sizex": 300,
          "sizey": 300,
          "sizing": "contain",
          "source": "https://raw.githubusercontent.com/matahombres/CSS-Country-Flags-Rounded/master/flags/IT.png",
          "x": 2,
          "xanchor": "center",
          "xref": "x",
          "y": 1502,
          "yanchor": "middle",
          "yref": "y"
         },
         {
          "layer": "above",
          "opacity": 1,
          "sizex": 300,
          "sizey": 300,
          "sizing": "contain",
          "source": "https://raw.githubusercontent.com/matahombres/CSS-Country-Flags-Rounded/master/flags/JP.png",
          "x": 3,
          "xanchor": "center",
          "xref": "x",
          "y": 1020,
          "yanchor": "middle",
          "yref": "y"
         },
         {
          "layer": "above",
          "opacity": 1,
          "sizex": 300,
          "sizey": 300,
          "sizing": "contain",
          "source": "https://raw.githubusercontent.com/matahombres/CSS-Country-Flags-Rounded/master/flags/NO.png",
          "x": 2,
          "xanchor": "center",
          "xref": "x",
          "y": 947,
          "yanchor": "middle",
          "yref": "y"
         },
         {
          "layer": "above",
          "opacity": 1,
          "sizex": 300,
          "sizey": 300,
          "sizing": "contain",
          "source": "https://raw.githubusercontent.com/matahombres/CSS-Country-Flags-Rounded/master/flags/SE.png",
          "x": 1,
          "xanchor": "center",
          "xref": "x",
          "y": 1426,
          "yanchor": "middle",
          "yref": "y"
         },
         {
          "layer": "above",
          "opacity": 1,
          "sizex": 300,
          "sizey": 300,
          "sizing": "contain",
          "source": "https://raw.githubusercontent.com/matahombres/CSS-Country-Flags-Rounded/master/flags/GB.png",
          "x": 3,
          "xanchor": "center",
          "xref": "x",
          "y": 2010,
          "yanchor": "middle",
          "yref": "y"
         },
         {
          "layer": "above",
          "opacity": 1,
          "sizex": 300,
          "sizey": 300,
          "sizing": "contain",
          "source": "https://raw.githubusercontent.com/matahombres/CSS-Country-Flags-Rounded/master/flags/US.png",
          "x": 7,
          "xanchor": "center",
          "xref": "x",
          "y": 5707,
          "yanchor": "middle",
          "yref": "y"
         }
        ],
        "legend": {
         "tracegroupgap": 0
        },
        "margin": {
         "t": 60
        },
        "template": {
         "layout": {
          "colorway": [
           "#3366CC",
           "#DC3912",
           "#FF9900",
           "#109618",
           "#990099",
           "#0099C6",
           "#DD4477",
           "#66AA00",
           "#B82E2E",
           "#316395"
          ],
          "font": {
           "color": "black",
           "family": "Nunito",
           "size": 12
          },
          "paper_bgcolor": "#ffffff",
          "plot_bgcolor": "#ffffff",
          "title": {
           "font": {
            "color": "#1f1f1f",
            "family": "Lato",
            "size": 18
           }
          }
         }
        },
        "title": {
         "text": "<b>Contrary to Popular Belief, Olympic Medals and Hosting the Games are Not Correlated</b><br><span style=\"font-size: 12px;\">Data collected between 186-2021.</span>"
        },
        "xaxis": {
         "anchor": "y",
         "domain": [
          0,
          1
         ],
         "range": [
          0,
          8
         ],
         "title": {
          "text": "Number games hosted"
         }
        },
        "yaxis": {
         "anchor": "x",
         "domain": [
          0,
          1
         ],
         "title": {
          "text": ""
         }
        }
       }
      },
      "text/html": [
       "<div>                            <div id=\"2603300a-67a7-417e-afd3-4c4acab33eb6\" class=\"plotly-graph-div\" style=\"height:525px; width:100%;\"></div>            <script type=\"text/javascript\">                require([\"plotly\"], function(Plotly) {                    window.PLOTLYENV=window.PLOTLYENV || {};                                    if (document.getElementById(\"2603300a-67a7-417e-afd3-4c4acab33eb6\")) {                    Plotly.newPlot(                        \"2603300a-67a7-417e-afd3-4c4acab33eb6\",                        [{\"customdata\":[[10.0],[6.0],[4.0],[7.0],[3.0],[14.0],[12.0],[5.0],[1.0]],\"hovertemplate\":\"<b>%{hovertext}</b><br><br>Number games hosted=%{x}<br>Medal=%{y}<br>country=%{text}<br>GDP rank=%{customdata[0]}<extra></extra>\",\"hovertext\":[\"Australia\",\"France\",\"Germany\",\"Italy\",\"Japan\",\"Norway\",\"Sweden\",\"United Kingdom\",\"United States\"],\"legendgroup\":\"\",\"marker\":{\"color\":\"rgba(0,0,0,0)\",\"symbol\":\"circle\"},\"mode\":\"markers+text\",\"name\":\"\",\"orientation\":\"v\",\"showlegend\":false,\"text\":[\"Australia\",\"France\",\"Germany\",\"Italy\",\"Japan\",\"Norway\",\"Sweden\",\"United Kingdom\",\"United States\"],\"x\":[1.0,4.0,1.0,2.0,3.0,2.0,1.0,3.0,7.0],\"xaxis\":\"x\",\"y\":[941.0,1717.0,2356.0,1502.0,1020.0,947.0,1426.0,2010.0,5707.0],\"yaxis\":\"y\",\"type\":\"scatter\",\"textposition\":\"top right\"}],                        {\"template\":{\"layout\":{\"colorway\":[\"#3366CC\",\"#DC3912\",\"#FF9900\",\"#109618\",\"#990099\",\"#0099C6\",\"#DD4477\",\"#66AA00\",\"#B82E2E\",\"#316395\"],\"font\":{\"color\":\"black\",\"family\":\"Nunito\",\"size\":12},\"paper_bgcolor\":\"#ffffff\",\"plot_bgcolor\":\"#ffffff\",\"title\":{\"font\":{\"color\":\"#1f1f1f\",\"family\":\"Lato\",\"size\":18}}}},\"xaxis\":{\"anchor\":\"y\",\"domain\":[0.0,1.0],\"title\":{\"text\":\"Number games hosted\"},\"range\":[0,8]},\"yaxis\":{\"anchor\":\"x\",\"domain\":[0.0,1.0],\"title\":{\"text\":\"\"}},\"legend\":{\"tracegroupgap\":0},\"margin\":{\"t\":60},\"images\":[{\"layer\":\"above\",\"opacity\":1,\"sizex\":300,\"sizey\":300,\"sizing\":\"contain\",\"source\":\"https://raw.githubusercontent.com/matahombres/CSS-Country-Flags-Rounded/master/flags/AU.png\",\"x\":1.0,\"xanchor\":\"center\",\"xref\":\"x\",\"y\":941.0,\"yanchor\":\"middle\",\"yref\":\"y\"},{\"layer\":\"above\",\"opacity\":1,\"sizex\":300,\"sizey\":300,\"sizing\":\"contain\",\"source\":\"https://raw.githubusercontent.com/matahombres/CSS-Country-Flags-Rounded/master/flags/FR.png\",\"x\":4.0,\"xanchor\":\"center\",\"xref\":\"x\",\"y\":1717.0,\"yanchor\":\"middle\",\"yref\":\"y\"},{\"layer\":\"above\",\"opacity\":1,\"sizex\":300,\"sizey\":300,\"sizing\":\"contain\",\"source\":\"https://raw.githubusercontent.com/matahombres/CSS-Country-Flags-Rounded/master/flags/DE.png\",\"x\":1.0,\"xanchor\":\"center\",\"xref\":\"x\",\"y\":2356.0,\"yanchor\":\"middle\",\"yref\":\"y\"},{\"layer\":\"above\",\"opacity\":1,\"sizex\":300,\"sizey\":300,\"sizing\":\"contain\",\"source\":\"https://raw.githubusercontent.com/matahombres/CSS-Country-Flags-Rounded/master/flags/IT.png\",\"x\":2.0,\"xanchor\":\"center\",\"xref\":\"x\",\"y\":1502.0,\"yanchor\":\"middle\",\"yref\":\"y\"},{\"layer\":\"above\",\"opacity\":1,\"sizex\":300,\"sizey\":300,\"sizing\":\"contain\",\"source\":\"https://raw.githubusercontent.com/matahombres/CSS-Country-Flags-Rounded/master/flags/JP.png\",\"x\":3.0,\"xanchor\":\"center\",\"xref\":\"x\",\"y\":1020.0,\"yanchor\":\"middle\",\"yref\":\"y\"},{\"layer\":\"above\",\"opacity\":1,\"sizex\":300,\"sizey\":300,\"sizing\":\"contain\",\"source\":\"https://raw.githubusercontent.com/matahombres/CSS-Country-Flags-Rounded/master/flags/NO.png\",\"x\":2.0,\"xanchor\":\"center\",\"xref\":\"x\",\"y\":947.0,\"yanchor\":\"middle\",\"yref\":\"y\"},{\"layer\":\"above\",\"opacity\":1,\"sizex\":300,\"sizey\":300,\"sizing\":\"contain\",\"source\":\"https://raw.githubusercontent.com/matahombres/CSS-Country-Flags-Rounded/master/flags/SE.png\",\"x\":1.0,\"xanchor\":\"center\",\"xref\":\"x\",\"y\":1426.0,\"yanchor\":\"middle\",\"yref\":\"y\"},{\"layer\":\"above\",\"opacity\":1,\"sizex\":300,\"sizey\":300,\"sizing\":\"contain\",\"source\":\"https://raw.githubusercontent.com/matahombres/CSS-Country-Flags-Rounded/master/flags/GB.png\",\"x\":3.0,\"xanchor\":\"center\",\"xref\":\"x\",\"y\":2010.0,\"yanchor\":\"middle\",\"yref\":\"y\"},{\"layer\":\"above\",\"opacity\":1,\"sizex\":300,\"sizey\":300,\"sizing\":\"contain\",\"source\":\"https://raw.githubusercontent.com/matahombres/CSS-Country-Flags-Rounded/master/flags/US.png\",\"x\":7.0,\"xanchor\":\"center\",\"xref\":\"x\",\"y\":5707.0,\"yanchor\":\"middle\",\"yref\":\"y\"}],\"title\":{\"text\":\"<b>Contrary to Popular Belief, Olympic Medals and Hosting the Games are Not Correlated</b><br><span style=\\\"font-size: 12px;\\\">Data collected between 186-2021.</span>\"},\"annotations\":[{\"showarrow\":false,\"text\":\"Data source: https://www.kaggle.com/datasets/josephcheng123456/olympic-historical-dataset-from-olympediaorg?select=Olympic_Athlete_Bio.csv\",\"x\":0,\"xref\":\"paper\",\"y\":-0.16,\"yref\":\"paper\"},{\"showarrow\":false,\"text\":\"Number of medals won\",\"x\":-0.08,\"xref\":\"paper\",\"y\":1.05,\"yref\":\"paper\"}]},                        {\"responsive\": true}                    ).then(function(){\n",
       "                            \n",
       "var gd = document.getElementById('2603300a-67a7-417e-afd3-4c4acab33eb6');\n",
       "var x = new MutationObserver(function (mutations, observer) {{\n",
       "        var display = window.getComputedStyle(gd).display;\n",
       "        if (!display || display === 'none') {{\n",
       "            console.log([gd, 'removed!']);\n",
       "            Plotly.purge(gd);\n",
       "            observer.disconnect();\n",
       "        }}\n",
       "}});\n",
       "\n",
       "// Listen for the removal of the full notebook cells\n",
       "var notebookContainer = gd.closest('#notebook-container');\n",
       "if (notebookContainer) {{\n",
       "    x.observe(notebookContainer, {childList: true});\n",
       "}}\n",
       "\n",
       "// Listen for the clearing of the current output cell\n",
       "var outputEl = gd.closest('.output');\n",
       "if (outputEl) {{\n",
       "    x.observe(outputEl, {childList: true});\n",
       "}}\n",
       "\n",
       "                        })                };                });            </script>        </div>"
      ]
     },
     "metadata": {},
     "output_type": "display_data"
    }
   ],
   "source": [
    "\n",
    "import pycountry\n",
    "\n",
    "ll = l.merge(pfd, how='right').dropna()\n",
    "ll['Number games hosted']=ll['Number games hosted'].values.astype(int)\n",
    "ll =ll.sort_values(by=['Medal'],ascending=False)\n",
    "ll = ll.head(9)\n",
    "\n",
    "iso3_to_iso2 = {c.alpha_3: c.alpha_2 for c in pycountry.countries}\n",
    "\n",
    "df = px.data.gapminder().query(\"year==2007\")\n",
    "df[\"iso_alpha2\"] = df[\"iso_alpha\"].map(iso3_to_iso2)\n",
    "ll = ll.rename(columns={\"host country\": 'country'})\n",
    "df=ll.merge(df,how='right').dropna()\n",
    "\n",
    "fig = px.scatter(\n",
    "    df,y=\"Medal\", x=\"Number games hosted\",text='country',\n",
    "    hover_name=\"country\",labels={\"sex\": \"GDP rank\"},template=custom_template,\n",
    "    hover_data=[\"Medal\", \"Number games hosted\", \"GDP rank\"]\n",
    ")\n",
    "fig.update_traces(marker_color=\"rgba(0,0,0,0)\")\n",
    "\n",
    "minDim = df[[\"Medal\", \"Number games hosted\"]].max().idxmax()\n",
    "maxi = df[minDim].max()\n",
    "for i, row in df.iterrows():\n",
    "    country_iso = row[\"iso_alpha2\"]\n",
    "    fig.add_layout_image(\n",
    "        dict(\n",
    "            source=f\"https://raw.githubusercontent.com/matahombres/CSS-Country-Flags-Rounded/master/flags/{country_iso}.png\",\n",
    "            xref=\"x\",\n",
    "            yref=\"y\",\n",
    "            xanchor=\"center\",\n",
    "            yanchor=\"middle\",\n",
    "            y=row[\"Medal\"],\n",
    "            x=row[\"Number games hosted\"],\n",
    "#             sizex=np.sqrt(row[\"GDP rank\"] / df[\"GDP rank\"].max()) * maxi * 0.02 + maxi * 0.04,\n",
    "#             sizey=np.sqrt(row[\"GDP rank\"] / df[\"GDP rank\"].max()) * maxi * 0.02 + maxi * 0.1,\n",
    "            sizex = 300,\n",
    "            sizey=300,\n",
    "            sizing=\"contain\",\n",
    "            opacity=1,\n",
    "            layer=\"above\"\n",
    "        )\n",
    "    )\n",
    "fig.update_traces(textposition='top right')\n",
    "fig.update_yaxes(title_text='')\n",
    "\n",
    "\n",
    "fig.update_layout( title=format_title(\"Contrary to Popular Belief, Olympic Medals and Hosting the Games are Not Correlated\", \n",
    "                                      \"Data collected between 186-2021.\")\n",
    ")\n",
    "fig.update_layout( xaxis_range=[0, 8])\n",
    "fig.update_layout(\n",
    "    annotations=[\n",
    "        dict(\n",
    "            text=\"Data source: https://www.kaggle.com/datasets/josephcheng123456/olympic-historical-dataset-from-olympediaorg?select=Olympic_Athlete_Bio.csv\",\n",
    "            xref=\"paper\",\n",
    "            yref=\"paper\",\n",
    "            x=0,\n",
    "            y=-.16,\n",
    "            showarrow=False\n",
    "        ),\n",
    "        dict(\n",
    "            text=\"Number of medals won\",\n",
    "            xref=\"paper\",\n",
    "            yref=\"paper\",\n",
    "            x=-.08,\n",
    "            y=1.05,\n",
    "            showarrow=False\n",
    "        )\n",
    "    ]\n",
    ")\n",
    "\n",
    "fig.update_yaxes(title_text='')\n",
    "fig.show()\n",
    "pio.write_image(fig, 'Host.png', width=1000, height=600, scale=5)"
   ]
  },
  {
   "cell_type": "code",
   "execution_count": 133,
   "id": "80739474",
   "metadata": {},
   "outputs": [],
   "source": [
    "df[['country','Medal','Number games hosted','continent','iso_alpha2']].to_csv('data/games_hosted.csv')"
   ]
  },
  {
   "cell_type": "code",
   "execution_count": 134,
   "id": "ed7a1e86",
   "metadata": {},
   "outputs": [
    {
     "data": {
      "application/vnd.plotly.v1+json": {
       "config": {
        "plotlyServerURL": "https://plot.ly"
       },
       "data": [
        {
         "customdata": [
          [
           1
          ],
          [
           2
          ],
          [
           1
          ],
          [
           1
          ],
          [
           2
          ],
          [
           4
          ],
          [
           1
          ],
          [
           2
          ],
          [
           3
          ],
          [
           1
          ],
          [
           2
          ],
          [
           1
          ],
          [
           3
          ],
          [
           7
          ]
         ],
         "hovertemplate": "<b>%{hovertext}</b><br><br>GDP rank=%{marker.size}<br>Medal=%{y}<br>country=%{text}<br>Number games hosted=%{customdata[0]}<extra></extra>",
         "hovertext": [
          "Australia",
          "Austria",
          "Belgium",
          "Brazil",
          "Canada",
          "France",
          "Germany",
          "Italy",
          "Japan",
          "Netherlands",
          "Norway",
          "Sweden",
          "United Kingdom",
          "United States"
         ],
         "legendgroup": "",
         "marker": {
          "color": "rgba(0,0,0,0)",
          "size": [
           10,
           15,
           13,
           9,
           8,
           6,
           4,
           7,
           3,
           11,
           14,
           12,
           5,
           1
          ],
          "sizemode": "area",
          "sizeref": 0.0375,
          "symbol": "circle"
         },
         "mode": "markers+text",
         "name": "",
         "orientation": "v",
         "showlegend": false,
         "text": [
          "Australia",
          "Austria",
          "Belgium",
          "Brazil",
          "Canada",
          "France",
          "Germany",
          "Italy",
          "Japan",
          "Netherlands",
          "Norway",
          "Sweden",
          "United Kingdom",
          "United States"
         ],
         "textposition": "top right",
         "type": "scatter",
         "x": [
          10,
          15,
          13,
          9,
          8,
          6,
          4,
          7,
          3,
          11,
          14,
          12,
          5,
          1
         ],
         "xaxis": "x",
         "y": [
          941,
          615,
          330,
          233,
          940,
          1717,
          2356,
          1502,
          1020,
          793,
          947,
          1426,
          2010,
          5707
         ],
         "yaxis": "y"
        }
       ],
       "layout": {
        "annotations": [
         {
          "showarrow": false,
          "text": "Data source: https://www.kaggle.com/datasets/josephcheng123456/olympic-historical-dataset-from-olympediaorg?select=Olympic_Athlete_Bio.csv",
          "x": 0,
          "xref": "paper",
          "y": -0.16,
          "yref": "paper"
         },
         {
          "showarrow": false,
          "text": "Number of medals won",
          "x": -0.08,
          "xref": "paper",
          "y": 1.05,
          "yref": "paper"
         }
        ],
        "images": [
         {
          "layer": "above",
          "opacity": 1,
          "sizex": 500,
          "sizey": 450,
          "sizing": "contain",
          "source": "https://raw.githubusercontent.com/matahombres/CSS-Country-Flags-Rounded/master/flags/AU.png",
          "x": 10,
          "xanchor": "center",
          "xref": "x",
          "y": 941,
          "yanchor": "middle",
          "yref": "y"
         },
         {
          "layer": "above",
          "opacity": 1,
          "sizex": 500,
          "sizey": 450,
          "sizing": "contain",
          "source": "https://raw.githubusercontent.com/matahombres/CSS-Country-Flags-Rounded/master/flags/AT.png",
          "x": 15,
          "xanchor": "center",
          "xref": "x",
          "y": 615,
          "yanchor": "middle",
          "yref": "y"
         },
         {
          "layer": "above",
          "opacity": 1,
          "sizex": 500,
          "sizey": 450,
          "sizing": "contain",
          "source": "https://raw.githubusercontent.com/matahombres/CSS-Country-Flags-Rounded/master/flags/BE.png",
          "x": 13,
          "xanchor": "center",
          "xref": "x",
          "y": 330,
          "yanchor": "middle",
          "yref": "y"
         },
         {
          "layer": "above",
          "opacity": 1,
          "sizex": 500,
          "sizey": 450,
          "sizing": "contain",
          "source": "https://raw.githubusercontent.com/matahombres/CSS-Country-Flags-Rounded/master/flags/BR.png",
          "x": 9,
          "xanchor": "center",
          "xref": "x",
          "y": 233,
          "yanchor": "middle",
          "yref": "y"
         },
         {
          "layer": "above",
          "opacity": 1,
          "sizex": 500,
          "sizey": 450,
          "sizing": "contain",
          "source": "https://raw.githubusercontent.com/matahombres/CSS-Country-Flags-Rounded/master/flags/CA.png",
          "x": 8,
          "xanchor": "center",
          "xref": "x",
          "y": 940,
          "yanchor": "middle",
          "yref": "y"
         },
         {
          "layer": "above",
          "opacity": 1,
          "sizex": 500,
          "sizey": 450,
          "sizing": "contain",
          "source": "https://raw.githubusercontent.com/matahombres/CSS-Country-Flags-Rounded/master/flags/FR.png",
          "x": 6,
          "xanchor": "center",
          "xref": "x",
          "y": 1717,
          "yanchor": "middle",
          "yref": "y"
         },
         {
          "layer": "above",
          "opacity": 1,
          "sizex": 500,
          "sizey": 450,
          "sizing": "contain",
          "source": "https://raw.githubusercontent.com/matahombres/CSS-Country-Flags-Rounded/master/flags/DE.png",
          "x": 4,
          "xanchor": "center",
          "xref": "x",
          "y": 2356,
          "yanchor": "middle",
          "yref": "y"
         },
         {
          "layer": "above",
          "opacity": 1,
          "sizex": 500,
          "sizey": 450,
          "sizing": "contain",
          "source": "https://raw.githubusercontent.com/matahombres/CSS-Country-Flags-Rounded/master/flags/IT.png",
          "x": 7,
          "xanchor": "center",
          "xref": "x",
          "y": 1502,
          "yanchor": "middle",
          "yref": "y"
         },
         {
          "layer": "above",
          "opacity": 1,
          "sizex": 500,
          "sizey": 450,
          "sizing": "contain",
          "source": "https://raw.githubusercontent.com/matahombres/CSS-Country-Flags-Rounded/master/flags/JP.png",
          "x": 3,
          "xanchor": "center",
          "xref": "x",
          "y": 1020,
          "yanchor": "middle",
          "yref": "y"
         },
         {
          "layer": "above",
          "opacity": 1,
          "sizex": 500,
          "sizey": 450,
          "sizing": "contain",
          "source": "https://raw.githubusercontent.com/matahombres/CSS-Country-Flags-Rounded/master/flags/NL.png",
          "x": 11,
          "xanchor": "center",
          "xref": "x",
          "y": 793,
          "yanchor": "middle",
          "yref": "y"
         },
         {
          "layer": "above",
          "opacity": 1,
          "sizex": 500,
          "sizey": 450,
          "sizing": "contain",
          "source": "https://raw.githubusercontent.com/matahombres/CSS-Country-Flags-Rounded/master/flags/NO.png",
          "x": 14,
          "xanchor": "center",
          "xref": "x",
          "y": 947,
          "yanchor": "middle",
          "yref": "y"
         },
         {
          "layer": "above",
          "opacity": 1,
          "sizex": 500,
          "sizey": 450,
          "sizing": "contain",
          "source": "https://raw.githubusercontent.com/matahombres/CSS-Country-Flags-Rounded/master/flags/SE.png",
          "x": 12,
          "xanchor": "center",
          "xref": "x",
          "y": 1426,
          "yanchor": "middle",
          "yref": "y"
         },
         {
          "layer": "above",
          "opacity": 1,
          "sizex": 500,
          "sizey": 450,
          "sizing": "contain",
          "source": "https://raw.githubusercontent.com/matahombres/CSS-Country-Flags-Rounded/master/flags/GB.png",
          "x": 5,
          "xanchor": "center",
          "xref": "x",
          "y": 2010,
          "yanchor": "middle",
          "yref": "y"
         },
         {
          "layer": "above",
          "opacity": 1,
          "sizex": 500,
          "sizey": 450,
          "sizing": "contain",
          "source": "https://raw.githubusercontent.com/matahombres/CSS-Country-Flags-Rounded/master/flags/US.png",
          "x": 1,
          "xanchor": "center",
          "xref": "x",
          "y": 5707,
          "yanchor": "middle",
          "yref": "y"
         }
        ],
        "legend": {
         "itemsizing": "constant",
         "tracegroupgap": 0
        },
        "margin": {
         "t": 60
        },
        "template": {
         "layout": {
          "colorway": [
           "#3366CC",
           "#DC3912",
           "#FF9900",
           "#109618",
           "#990099",
           "#0099C6",
           "#DD4477",
           "#66AA00",
           "#B82E2E",
           "#316395"
          ],
          "font": {
           "color": "black",
           "family": "Nunito",
           "size": 12
          },
          "paper_bgcolor": "#ffffff",
          "plot_bgcolor": "#ffffff",
          "title": {
           "font": {
            "color": "#1f1f1f",
            "family": "Lato",
            "size": 18
           }
          }
         }
        },
        "title": {
         "text": "<b>Japan's Olympic Underperformance: A Deviation from the Negative Correlation between Medals and GDP Ranking.</b><br><span style=\"font-size: 12px;\">Data collected between 1986-2021.</span>"
        },
        "xaxis": {
         "anchor": "y",
         "domain": [
          0,
          1
         ],
         "range": [
          0,
          17
         ],
         "tickmode": "linear",
         "title": {
          "text": "World GPD ranking."
         }
        },
        "yaxis": {
         "anchor": "x",
         "domain": [
          0,
          1
         ],
         "tickangle": 0,
         "title": {
          "text": ""
         }
        }
       }
      },
      "text/html": [
       "<div>                            <div id=\"db0d215f-18db-4297-9e61-a7d639b7b01e\" class=\"plotly-graph-div\" style=\"height:525px; width:100%;\"></div>            <script type=\"text/javascript\">                require([\"plotly\"], function(Plotly) {                    window.PLOTLYENV=window.PLOTLYENV || {};                                    if (document.getElementById(\"db0d215f-18db-4297-9e61-a7d639b7b01e\")) {                    Plotly.newPlot(                        \"db0d215f-18db-4297-9e61-a7d639b7b01e\",                        [{\"customdata\":[[1.0],[2.0],[1.0],[1.0],[2.0],[4.0],[1.0],[2.0],[3.0],[1.0],[2.0],[1.0],[3.0],[7.0]],\"hovertemplate\":\"<b>%{hovertext}</b><br><br>GDP rank=%{marker.size}<br>Medal=%{y}<br>country=%{text}<br>Number games hosted=%{customdata[0]}<extra></extra>\",\"hovertext\":[\"Australia\",\"Austria\",\"Belgium\",\"Brazil\",\"Canada\",\"France\",\"Germany\",\"Italy\",\"Japan\",\"Netherlands\",\"Norway\",\"Sweden\",\"United Kingdom\",\"United States\"],\"legendgroup\":\"\",\"marker\":{\"color\":\"rgba(0,0,0,0)\",\"size\":[10.0,15.0,13.0,9.0,8.0,6.0,4.0,7.0,3.0,11.0,14.0,12.0,5.0,1.0],\"sizemode\":\"area\",\"sizeref\":0.0375,\"symbol\":\"circle\"},\"mode\":\"markers+text\",\"name\":\"\",\"orientation\":\"v\",\"showlegend\":false,\"text\":[\"Australia\",\"Austria\",\"Belgium\",\"Brazil\",\"Canada\",\"France\",\"Germany\",\"Italy\",\"Japan\",\"Netherlands\",\"Norway\",\"Sweden\",\"United Kingdom\",\"United States\"],\"x\":[10.0,15.0,13.0,9.0,8.0,6.0,4.0,7.0,3.0,11.0,14.0,12.0,5.0,1.0],\"xaxis\":\"x\",\"y\":[941.0,615.0,330.0,233.0,940.0,1717.0,2356.0,1502.0,1020.0,793.0,947.0,1426.0,2010.0,5707.0],\"yaxis\":\"y\",\"type\":\"scatter\",\"textposition\":\"top right\"}],                        {\"template\":{\"layout\":{\"colorway\":[\"#3366CC\",\"#DC3912\",\"#FF9900\",\"#109618\",\"#990099\",\"#0099C6\",\"#DD4477\",\"#66AA00\",\"#B82E2E\",\"#316395\"],\"font\":{\"color\":\"black\",\"family\":\"Nunito\",\"size\":12},\"paper_bgcolor\":\"#ffffff\",\"plot_bgcolor\":\"#ffffff\",\"title\":{\"font\":{\"color\":\"#1f1f1f\",\"family\":\"Lato\",\"size\":18}}}},\"xaxis\":{\"anchor\":\"y\",\"domain\":[0.0,1.0],\"title\":{\"text\":\"World GPD ranking.\"},\"tickmode\":\"linear\",\"range\":[0,17]},\"yaxis\":{\"anchor\":\"x\",\"domain\":[0.0,1.0],\"title\":{\"text\":\"\"},\"tickangle\":0},\"legend\":{\"tracegroupgap\":0,\"itemsizing\":\"constant\"},\"margin\":{\"t\":60},\"images\":[{\"layer\":\"above\",\"opacity\":1,\"sizex\":500,\"sizey\":450,\"sizing\":\"contain\",\"source\":\"https://raw.githubusercontent.com/matahombres/CSS-Country-Flags-Rounded/master/flags/AU.png\",\"x\":10.0,\"xanchor\":\"center\",\"xref\":\"x\",\"y\":941.0,\"yanchor\":\"middle\",\"yref\":\"y\"},{\"layer\":\"above\",\"opacity\":1,\"sizex\":500,\"sizey\":450,\"sizing\":\"contain\",\"source\":\"https://raw.githubusercontent.com/matahombres/CSS-Country-Flags-Rounded/master/flags/AT.png\",\"x\":15.0,\"xanchor\":\"center\",\"xref\":\"x\",\"y\":615.0,\"yanchor\":\"middle\",\"yref\":\"y\"},{\"layer\":\"above\",\"opacity\":1,\"sizex\":500,\"sizey\":450,\"sizing\":\"contain\",\"source\":\"https://raw.githubusercontent.com/matahombres/CSS-Country-Flags-Rounded/master/flags/BE.png\",\"x\":13.0,\"xanchor\":\"center\",\"xref\":\"x\",\"y\":330.0,\"yanchor\":\"middle\",\"yref\":\"y\"},{\"layer\":\"above\",\"opacity\":1,\"sizex\":500,\"sizey\":450,\"sizing\":\"contain\",\"source\":\"https://raw.githubusercontent.com/matahombres/CSS-Country-Flags-Rounded/master/flags/BR.png\",\"x\":9.0,\"xanchor\":\"center\",\"xref\":\"x\",\"y\":233.0,\"yanchor\":\"middle\",\"yref\":\"y\"},{\"layer\":\"above\",\"opacity\":1,\"sizex\":500,\"sizey\":450,\"sizing\":\"contain\",\"source\":\"https://raw.githubusercontent.com/matahombres/CSS-Country-Flags-Rounded/master/flags/CA.png\",\"x\":8.0,\"xanchor\":\"center\",\"xref\":\"x\",\"y\":940.0,\"yanchor\":\"middle\",\"yref\":\"y\"},{\"layer\":\"above\",\"opacity\":1,\"sizex\":500,\"sizey\":450,\"sizing\":\"contain\",\"source\":\"https://raw.githubusercontent.com/matahombres/CSS-Country-Flags-Rounded/master/flags/FR.png\",\"x\":6.0,\"xanchor\":\"center\",\"xref\":\"x\",\"y\":1717.0,\"yanchor\":\"middle\",\"yref\":\"y\"},{\"layer\":\"above\",\"opacity\":1,\"sizex\":500,\"sizey\":450,\"sizing\":\"contain\",\"source\":\"https://raw.githubusercontent.com/matahombres/CSS-Country-Flags-Rounded/master/flags/DE.png\",\"x\":4.0,\"xanchor\":\"center\",\"xref\":\"x\",\"y\":2356.0,\"yanchor\":\"middle\",\"yref\":\"y\"},{\"layer\":\"above\",\"opacity\":1,\"sizex\":500,\"sizey\":450,\"sizing\":\"contain\",\"source\":\"https://raw.githubusercontent.com/matahombres/CSS-Country-Flags-Rounded/master/flags/IT.png\",\"x\":7.0,\"xanchor\":\"center\",\"xref\":\"x\",\"y\":1502.0,\"yanchor\":\"middle\",\"yref\":\"y\"},{\"layer\":\"above\",\"opacity\":1,\"sizex\":500,\"sizey\":450,\"sizing\":\"contain\",\"source\":\"https://raw.githubusercontent.com/matahombres/CSS-Country-Flags-Rounded/master/flags/JP.png\",\"x\":3.0,\"xanchor\":\"center\",\"xref\":\"x\",\"y\":1020.0,\"yanchor\":\"middle\",\"yref\":\"y\"},{\"layer\":\"above\",\"opacity\":1,\"sizex\":500,\"sizey\":450,\"sizing\":\"contain\",\"source\":\"https://raw.githubusercontent.com/matahombres/CSS-Country-Flags-Rounded/master/flags/NL.png\",\"x\":11.0,\"xanchor\":\"center\",\"xref\":\"x\",\"y\":793.0,\"yanchor\":\"middle\",\"yref\":\"y\"},{\"layer\":\"above\",\"opacity\":1,\"sizex\":500,\"sizey\":450,\"sizing\":\"contain\",\"source\":\"https://raw.githubusercontent.com/matahombres/CSS-Country-Flags-Rounded/master/flags/NO.png\",\"x\":14.0,\"xanchor\":\"center\",\"xref\":\"x\",\"y\":947.0,\"yanchor\":\"middle\",\"yref\":\"y\"},{\"layer\":\"above\",\"opacity\":1,\"sizex\":500,\"sizey\":450,\"sizing\":\"contain\",\"source\":\"https://raw.githubusercontent.com/matahombres/CSS-Country-Flags-Rounded/master/flags/SE.png\",\"x\":12.0,\"xanchor\":\"center\",\"xref\":\"x\",\"y\":1426.0,\"yanchor\":\"middle\",\"yref\":\"y\"},{\"layer\":\"above\",\"opacity\":1,\"sizex\":500,\"sizey\":450,\"sizing\":\"contain\",\"source\":\"https://raw.githubusercontent.com/matahombres/CSS-Country-Flags-Rounded/master/flags/GB.png\",\"x\":5.0,\"xanchor\":\"center\",\"xref\":\"x\",\"y\":2010.0,\"yanchor\":\"middle\",\"yref\":\"y\"},{\"layer\":\"above\",\"opacity\":1,\"sizex\":500,\"sizey\":450,\"sizing\":\"contain\",\"source\":\"https://raw.githubusercontent.com/matahombres/CSS-Country-Flags-Rounded/master/flags/US.png\",\"x\":1.0,\"xanchor\":\"center\",\"xref\":\"x\",\"y\":5707.0,\"yanchor\":\"middle\",\"yref\":\"y\"}],\"annotations\":[{\"showarrow\":false,\"text\":\"Data source: https://www.kaggle.com/datasets/josephcheng123456/olympic-historical-dataset-from-olympediaorg?select=Olympic_Athlete_Bio.csv\",\"x\":0,\"xref\":\"paper\",\"y\":-0.16,\"yref\":\"paper\"},{\"showarrow\":false,\"text\":\"Number of medals won\",\"x\":-0.08,\"xref\":\"paper\",\"y\":1.05,\"yref\":\"paper\"}],\"title\":{\"text\":\"<b>Japan's Olympic Underperformance: A Deviation from the Negative Correlation between Medals and GDP Ranking.</b><br><span style=\\\"font-size: 12px;\\\">Data collected between 1986-2021.</span>\"}},                        {\"responsive\": true}                    ).then(function(){\n",
       "                            \n",
       "var gd = document.getElementById('db0d215f-18db-4297-9e61-a7d639b7b01e');\n",
       "var x = new MutationObserver(function (mutations, observer) {{\n",
       "        var display = window.getComputedStyle(gd).display;\n",
       "        if (!display || display === 'none') {{\n",
       "            console.log([gd, 'removed!']);\n",
       "            Plotly.purge(gd);\n",
       "            observer.disconnect();\n",
       "        }}\n",
       "}});\n",
       "\n",
       "// Listen for the removal of the full notebook cells\n",
       "var notebookContainer = gd.closest('#notebook-container');\n",
       "if (notebookContainer) {{\n",
       "    x.observe(notebookContainer, {childList: true});\n",
       "}}\n",
       "\n",
       "// Listen for the clearing of the current output cell\n",
       "var outputEl = gd.closest('.output');\n",
       "if (outputEl) {{\n",
       "    x.observe(outputEl, {childList: true});\n",
       "}}\n",
       "\n",
       "                        })                };                });            </script>        </div>"
      ]
     },
     "metadata": {},
     "output_type": "display_data"
    }
   ],
   "source": [
    "\n",
    "import pycountry\n",
    "\n",
    "ll = l.merge(pfd, how='right').dropna()\n",
    "ll['Number games hosted']=ll['Number games hosted'].values.astype(int)\n",
    "ll =ll.sort_values(by=['Medal'],ascending=False)\n",
    "ll = ll.head(14)\n",
    "\n",
    "iso3_to_iso2 = {c.alpha_3: c.alpha_2 for c in pycountry.countries}\n",
    "\n",
    "df = px.data.gapminder().query(\"year==2007\")\n",
    "df[\"iso_alpha2\"] = df[\"iso_alpha\"].map(iso3_to_iso2)\n",
    "ll = ll.rename(columns={\"host country\": 'country'})\n",
    "df=ll.merge(df,how='right').dropna()\n",
    "\n",
    "fig = px.scatter(\n",
    "    df,y=\"Medal\", x=\"GDP rank\",text='country',\n",
    "    hover_name=\"country\",size=\"GDP rank\",\n",
    "    hover_data=[\"Medal\", \"Number games hosted\", \"GDP rank\"],template=custom_template\n",
    ")\n",
    "fig.update_traces(marker_color=\"rgba(0,0,0,0)\")\n",
    "\n",
    "minDim = df[[\"Medal\", \"GDP rank\"]].max().idxmax()\n",
    "maxi = df[minDim].max()\n",
    "for i, row in df.iterrows():\n",
    "    country_iso = row[\"iso_alpha2\"]\n",
    "    fig.add_layout_image(\n",
    "        dict(\n",
    "            source=f\"https://raw.githubusercontent.com/matahombres/CSS-Country-Flags-Rounded/master/flags/{country_iso}.png\",\n",
    "            xref=\"x\",\n",
    "            yref=\"y\",\n",
    "            xanchor=\"center\",\n",
    "            yanchor=\"middle\",\n",
    "            y=row[\"Medal\"],\n",
    "            x=row[\"GDP rank\"],\n",
    "            sizex = 500,\n",
    "            sizey=450,\n",
    "#             sizex=np.sqrt(row[\"GDP rank\"] / df[\"GDP rank\"].max()) * maxi * 0.02 + maxi * 0.04,\n",
    "#             sizey=np.sqrt(row[\"GDP rank\"] / df[\"GDP rank\"].max()) * maxi * 0.02 + maxi * 0.1,\n",
    "            sizing=\"contain\",\n",
    "            opacity=1,\n",
    "            layer=\"above\"\n",
    "        )\n",
    "    )\n",
    "fig.update_traces(textposition='top right')\n",
    "fig.update_xaxes(title_text='World GPD ranking.',tickmode='linear')\n",
    "fig.update_yaxes(tickangle=360)\n",
    "fig.update_layout(\n",
    "    annotations=[\n",
    "        dict(\n",
    "            text=\"Data source: https://www.kaggle.com/datasets/josephcheng123456/olympic-historical-dataset-from-olympediaorg?select=Olympic_Athlete_Bio.csv\",\n",
    "            xref=\"paper\",\n",
    "            yref=\"paper\",\n",
    "            x=0,\n",
    "            y=-.16,\n",
    "            showarrow=False\n",
    "        )\n",
    "    , dict(\n",
    "            text=\"Number of medals won\",\n",
    "            xref=\"paper\",\n",
    "            yref=\"paper\",\n",
    "            x=-.08,\n",
    "            y=1.05,\n",
    "            showarrow=False\n",
    "        )]\n",
    "    \n",
    ")\n",
    "\n",
    "fig.update_layout( title=format_title(\"Japan's Olympic Underperformance: A Deviation from the Negative Correlation between Medals and GDP Ranking.\",\n",
    "                                      \"Data collected between 1986-2021.\")\n",
    ")\n",
    "fig.update_layout( xaxis_range=[0, 17])\n",
    "fig.update_yaxes(title_text='')\n",
    "fig.show()\n",
    "pio.write_image(fig, 'correlation_world.png', width=1000, height=600, scale=5)"
   ]
  },
  {
   "cell_type": "markdown",
   "id": "66c89560",
   "metadata": {},
   "source": [
    "Japan's Olympic Underperformance: A Deviation from the Negative Correlation between Medals and GDP Ranking\" is a title that suggests that there is generally a strong negative correlation between the number of Olympic medals won and the GDP ranking of countries. In this case, Japan is experiencing \"Olympic underperformance\" compared to other top wealth countries, meaning that it has won fewer Olympic medals than expected given its high GDP ranking. This deviation from the expected relationship could potentially be a result of various factors such as the country's sporting culture, funding for athletes, or other variables. The title implies that Japan's lower Olympic medal count is unusual or unexpected given the negative correlation between medals and GDP ranking, and thus warrants further investigation or explanation.\n",
    "\n"
   ]
  },
  {
   "cell_type": "code",
   "execution_count": 135,
   "id": "10120caa",
   "metadata": {},
   "outputs": [],
   "source": [
    "df[['country','Medal','Number games hosted','GDP rank','continent','iso_alpha2']].to_csv('data/top_country_rank.csv')"
   ]
  },
  {
   "cell_type": "markdown",
   "id": "4325a303",
   "metadata": {},
   "source": [
    " For example, you might use color to highlight specific columns for storytelling. Colors can also be used if they are meaningful for the categories posted (e.g. to match company or team colors)."
   ]
  },
  {
   "cell_type": "markdown",
   "id": "05e84885",
   "metadata": {},
   "source": [
    "## c) Top African countries that have won more medail \n",
    "\n",
    "**If the Olympic performance of the riches countries is affected by the place where the games were organised. Therefore what about the country that can not organise the Olympic games?**"
   ]
  },
  {
   "cell_type": "code",
   "execution_count": 136,
   "id": "48a8e580",
   "metadata": {},
   "outputs": [
    {
     "data": {
      "application/vnd.plotly.v1+json": {
       "config": {
        "plotlyServerURL": "https://plot.ly"
       },
       "data": [
        {
         "hovertemplate": "<b>%{hovertext}</b><br><br>Africa GDP rank=%{x}<br>Medal=%{y}<br>country=%{text}<extra></extra>",
         "hovertext": [
          "Algeria",
          "Botswana",
          "Cameroon",
          "Ethiopia",
          "Gabon",
          "Ghana",
          "Kenya",
          "Morocco",
          "Namibia",
          "Nigeria",
          "South Africa",
          "Tunisia",
          "Uganda",
          "Zambia",
          "Zimbabwe"
         ],
         "legendgroup": "",
         "marker": {
          "color": "rgba(0,0,0,0)",
          "symbol": "circle"
         },
         "mode": "markers+text",
         "name": "",
         "orientation": "v",
         "showlegend": false,
         "text": [
          "Algeria",
          "Botswana",
          "Cameroon",
          "Ethiopia",
          "Gabon",
          "Ghana",
          "Kenya",
          "Morocco",
          "Namibia",
          "Nigeria",
          "South Africa",
          "Tunisia",
          "Uganda",
          "Zambia",
          "Zimbabwe"
         ],
         "textposition": "top right",
         "type": "scatter",
         "x": [
          3,
          22,
          11,
          5,
          20,
          7,
          6,
          4,
          29,
          1,
          2,
          10,
          13,
          17,
          16
         ],
         "xaxis": "x",
         "y": [
          25,
          4,
          10,
          89,
          3,
          10,
          165,
          37,
          7,
          38,
          175,
          27,
          15,
          4,
          10
         ],
         "yaxis": "y"
        }
       ],
       "layout": {
        "annotations": [
         {
          "showarrow": false,
          "text": "Data source: https://www.kaggle.com/datasets/josephcheng123456/olympic-historical-dataset-from-olympediaorg?select=Olympic_Athlete_Bio.csv",
          "x": 0,
          "xref": "paper",
          "y": -0.16,
          "yref": "paper"
         },
         {
          "showarrow": false,
          "text": "Number of medals won",
          "x": -0.08,
          "xref": "paper",
          "y": 1.02,
          "yref": "paper"
         }
        ],
        "images": [
         {
          "layer": "above",
          "opacity": 1,
          "sizex": 10,
          "sizey": 10,
          "sizing": "contain",
          "source": "https://raw.githubusercontent.com/matahombres/CSS-Country-Flags-Rounded/master/flags/DZ.png",
          "x": 3,
          "xanchor": "center",
          "xref": "x",
          "y": 25,
          "yanchor": "middle",
          "yref": "y"
         },
         {
          "layer": "above",
          "opacity": 1,
          "sizex": 10,
          "sizey": 10,
          "sizing": "contain",
          "source": "https://raw.githubusercontent.com/matahombres/CSS-Country-Flags-Rounded/master/flags/BW.png",
          "x": 22,
          "xanchor": "center",
          "xref": "x",
          "y": 4,
          "yanchor": "middle",
          "yref": "y"
         },
         {
          "layer": "above",
          "opacity": 1,
          "sizex": 10,
          "sizey": 10,
          "sizing": "contain",
          "source": "https://raw.githubusercontent.com/matahombres/CSS-Country-Flags-Rounded/master/flags/CM.png",
          "x": 11,
          "xanchor": "center",
          "xref": "x",
          "y": 10,
          "yanchor": "middle",
          "yref": "y"
         },
         {
          "layer": "above",
          "opacity": 1,
          "sizex": 10,
          "sizey": 10,
          "sizing": "contain",
          "source": "https://raw.githubusercontent.com/matahombres/CSS-Country-Flags-Rounded/master/flags/ET.png",
          "x": 5,
          "xanchor": "center",
          "xref": "x",
          "y": 89,
          "yanchor": "middle",
          "yref": "y"
         },
         {
          "layer": "above",
          "opacity": 1,
          "sizex": 10,
          "sizey": 10,
          "sizing": "contain",
          "source": "https://raw.githubusercontent.com/matahombres/CSS-Country-Flags-Rounded/master/flags/GA.png",
          "x": 20,
          "xanchor": "center",
          "xref": "x",
          "y": 3,
          "yanchor": "middle",
          "yref": "y"
         },
         {
          "layer": "above",
          "opacity": 1,
          "sizex": 10,
          "sizey": 10,
          "sizing": "contain",
          "source": "https://raw.githubusercontent.com/matahombres/CSS-Country-Flags-Rounded/master/flags/GH.png",
          "x": 7,
          "xanchor": "center",
          "xref": "x",
          "y": 10,
          "yanchor": "middle",
          "yref": "y"
         },
         {
          "layer": "above",
          "opacity": 1,
          "sizex": 10,
          "sizey": 10,
          "sizing": "contain",
          "source": "https://raw.githubusercontent.com/matahombres/CSS-Country-Flags-Rounded/master/flags/KE.png",
          "x": 6,
          "xanchor": "center",
          "xref": "x",
          "y": 165,
          "yanchor": "middle",
          "yref": "y"
         },
         {
          "layer": "above",
          "opacity": 1,
          "sizex": 10,
          "sizey": 10,
          "sizing": "contain",
          "source": "https://raw.githubusercontent.com/matahombres/CSS-Country-Flags-Rounded/master/flags/MA.png",
          "x": 4,
          "xanchor": "center",
          "xref": "x",
          "y": 37,
          "yanchor": "middle",
          "yref": "y"
         },
         {
          "layer": "above",
          "opacity": 1,
          "sizex": 10,
          "sizey": 10,
          "sizing": "contain",
          "source": "https://raw.githubusercontent.com/matahombres/CSS-Country-Flags-Rounded/master/flags/NA.png",
          "x": 29,
          "xanchor": "center",
          "xref": "x",
          "y": 7,
          "yanchor": "middle",
          "yref": "y"
         },
         {
          "layer": "above",
          "opacity": 1,
          "sizex": 10,
          "sizey": 10,
          "sizing": "contain",
          "source": "https://raw.githubusercontent.com/matahombres/CSS-Country-Flags-Rounded/master/flags/NG.png",
          "x": 1,
          "xanchor": "center",
          "xref": "x",
          "y": 38,
          "yanchor": "middle",
          "yref": "y"
         },
         {
          "layer": "above",
          "opacity": 1,
          "sizex": 10,
          "sizey": 10,
          "sizing": "contain",
          "source": "https://raw.githubusercontent.com/matahombres/CSS-Country-Flags-Rounded/master/flags/ZA.png",
          "x": 2,
          "xanchor": "center",
          "xref": "x",
          "y": 175,
          "yanchor": "middle",
          "yref": "y"
         },
         {
          "layer": "above",
          "opacity": 1,
          "sizex": 10,
          "sizey": 10,
          "sizing": "contain",
          "source": "https://raw.githubusercontent.com/matahombres/CSS-Country-Flags-Rounded/master/flags/TN.png",
          "x": 10,
          "xanchor": "center",
          "xref": "x",
          "y": 27,
          "yanchor": "middle",
          "yref": "y"
         },
         {
          "layer": "above",
          "opacity": 1,
          "sizex": 10,
          "sizey": 10,
          "sizing": "contain",
          "source": "https://raw.githubusercontent.com/matahombres/CSS-Country-Flags-Rounded/master/flags/UG.png",
          "x": 13,
          "xanchor": "center",
          "xref": "x",
          "y": 15,
          "yanchor": "middle",
          "yref": "y"
         },
         {
          "layer": "above",
          "opacity": 1,
          "sizex": 10,
          "sizey": 10,
          "sizing": "contain",
          "source": "https://raw.githubusercontent.com/matahombres/CSS-Country-Flags-Rounded/master/flags/ZM.png",
          "x": 17,
          "xanchor": "center",
          "xref": "x",
          "y": 4,
          "yanchor": "middle",
          "yref": "y"
         },
         {
          "layer": "above",
          "opacity": 1,
          "sizex": 10,
          "sizey": 10,
          "sizing": "contain",
          "source": "https://raw.githubusercontent.com/matahombres/CSS-Country-Flags-Rounded/master/flags/ZW.png",
          "x": 16,
          "xanchor": "center",
          "xref": "x",
          "y": 10,
          "yanchor": "middle",
          "yref": "y"
         }
        ],
        "legend": {
         "tracegroupgap": 0
        },
        "margin": {
         "t": 60
        },
        "template": {
         "layout": {
          "colorway": [
           "#3366CC",
           "#DC3912",
           "#FF9900",
           "#109618",
           "#990099",
           "#0099C6",
           "#DD4477",
           "#66AA00",
           "#B82E2E",
           "#316395"
          ],
          "font": {
           "color": "black",
           "family": "Nunito",
           "size": 12
          },
          "paper_bgcolor": "#ffffff",
          "plot_bgcolor": "#ffffff",
          "title": {
           "font": {
            "color": "#1f1f1f",
            "family": "Lato",
            "size": 18
           }
          }
         }
        },
        "title": {
         "text": "<b>Olympic Glory vs. Economic Reality: A Comparison of African Nations.</b><br><span style=\"font-size: 12px;\">A strong negative correlation between Olympic medals and GDP ranking emerges for African countries ranked 10th and lower in terms of GDP.</span>"
        },
        "xaxis": {
         "anchor": "y",
         "domain": [
          0,
          1
         ],
         "range": [
          0,
          32
         ],
         "tickmode": "linear",
         "title": {
          "text": "Africa GPD ranking in 2021"
         }
        },
        "yaxis": {
         "anchor": "x",
         "domain": [
          0,
          1
         ],
         "range": [
          -5,
          190
         ],
         "title": {
          "text": ""
         }
        }
       }
      },
      "text/html": [
       "<div>                            <div id=\"bb450d23-3223-4393-9104-7cb694999521\" class=\"plotly-graph-div\" style=\"height:525px; width:100%;\"></div>            <script type=\"text/javascript\">                require([\"plotly\"], function(Plotly) {                    window.PLOTLYENV=window.PLOTLYENV || {};                                    if (document.getElementById(\"bb450d23-3223-4393-9104-7cb694999521\")) {                    Plotly.newPlot(                        \"bb450d23-3223-4393-9104-7cb694999521\",                        [{\"hovertemplate\":\"<b>%{hovertext}</b><br><br>Africa GDP rank=%{x}<br>Medal=%{y}<br>country=%{text}<extra></extra>\",\"hovertext\":[\"Algeria\",\"Botswana\",\"Cameroon\",\"Ethiopia\",\"Gabon\",\"Ghana\",\"Kenya\",\"Morocco\",\"Namibia\",\"Nigeria\",\"South Africa\",\"Tunisia\",\"Uganda\",\"Zambia\",\"Zimbabwe\"],\"legendgroup\":\"\",\"marker\":{\"color\":\"rgba(0,0,0,0)\",\"symbol\":\"circle\"},\"mode\":\"markers+text\",\"name\":\"\",\"orientation\":\"v\",\"showlegend\":false,\"text\":[\"Algeria\",\"Botswana\",\"Cameroon\",\"Ethiopia\",\"Gabon\",\"Ghana\",\"Kenya\",\"Morocco\",\"Namibia\",\"Nigeria\",\"South Africa\",\"Tunisia\",\"Uganda\",\"Zambia\",\"Zimbabwe\"],\"x\":[3.0,22.0,11.0,5.0,20.0,7.0,6.0,4.0,29.0,1.0,2.0,10.0,13.0,17.0,16.0],\"xaxis\":\"x\",\"y\":[25.0,4.0,10.0,89.0,3.0,10.0,165.0,37.0,7.0,38.0,175.0,27.0,15.0,4.0,10.0],\"yaxis\":\"y\",\"type\":\"scatter\",\"textposition\":\"top right\"}],                        {\"template\":{\"layout\":{\"colorway\":[\"#3366CC\",\"#DC3912\",\"#FF9900\",\"#109618\",\"#990099\",\"#0099C6\",\"#DD4477\",\"#66AA00\",\"#B82E2E\",\"#316395\"],\"font\":{\"color\":\"black\",\"family\":\"Nunito\",\"size\":12},\"paper_bgcolor\":\"#ffffff\",\"plot_bgcolor\":\"#ffffff\",\"title\":{\"font\":{\"color\":\"#1f1f1f\",\"family\":\"Lato\",\"size\":18}}}},\"xaxis\":{\"anchor\":\"y\",\"domain\":[0.0,1.0],\"title\":{\"text\":\"Africa GPD ranking in 2021\"},\"tickmode\":\"linear\",\"range\":[0,32]},\"yaxis\":{\"anchor\":\"x\",\"domain\":[0.0,1.0],\"title\":{\"text\":\"\"},\"range\":[-5,190]},\"legend\":{\"tracegroupgap\":0},\"margin\":{\"t\":60},\"images\":[{\"layer\":\"above\",\"opacity\":1,\"sizex\":10,\"sizey\":10,\"sizing\":\"contain\",\"source\":\"https://raw.githubusercontent.com/matahombres/CSS-Country-Flags-Rounded/master/flags/DZ.png\",\"x\":3.0,\"xanchor\":\"center\",\"xref\":\"x\",\"y\":25.0,\"yanchor\":\"middle\",\"yref\":\"y\"},{\"layer\":\"above\",\"opacity\":1,\"sizex\":10,\"sizey\":10,\"sizing\":\"contain\",\"source\":\"https://raw.githubusercontent.com/matahombres/CSS-Country-Flags-Rounded/master/flags/BW.png\",\"x\":22.0,\"xanchor\":\"center\",\"xref\":\"x\",\"y\":4.0,\"yanchor\":\"middle\",\"yref\":\"y\"},{\"layer\":\"above\",\"opacity\":1,\"sizex\":10,\"sizey\":10,\"sizing\":\"contain\",\"source\":\"https://raw.githubusercontent.com/matahombres/CSS-Country-Flags-Rounded/master/flags/CM.png\",\"x\":11.0,\"xanchor\":\"center\",\"xref\":\"x\",\"y\":10.0,\"yanchor\":\"middle\",\"yref\":\"y\"},{\"layer\":\"above\",\"opacity\":1,\"sizex\":10,\"sizey\":10,\"sizing\":\"contain\",\"source\":\"https://raw.githubusercontent.com/matahombres/CSS-Country-Flags-Rounded/master/flags/ET.png\",\"x\":5.0,\"xanchor\":\"center\",\"xref\":\"x\",\"y\":89.0,\"yanchor\":\"middle\",\"yref\":\"y\"},{\"layer\":\"above\",\"opacity\":1,\"sizex\":10,\"sizey\":10,\"sizing\":\"contain\",\"source\":\"https://raw.githubusercontent.com/matahombres/CSS-Country-Flags-Rounded/master/flags/GA.png\",\"x\":20.0,\"xanchor\":\"center\",\"xref\":\"x\",\"y\":3.0,\"yanchor\":\"middle\",\"yref\":\"y\"},{\"layer\":\"above\",\"opacity\":1,\"sizex\":10,\"sizey\":10,\"sizing\":\"contain\",\"source\":\"https://raw.githubusercontent.com/matahombres/CSS-Country-Flags-Rounded/master/flags/GH.png\",\"x\":7.0,\"xanchor\":\"center\",\"xref\":\"x\",\"y\":10.0,\"yanchor\":\"middle\",\"yref\":\"y\"},{\"layer\":\"above\",\"opacity\":1,\"sizex\":10,\"sizey\":10,\"sizing\":\"contain\",\"source\":\"https://raw.githubusercontent.com/matahombres/CSS-Country-Flags-Rounded/master/flags/KE.png\",\"x\":6.0,\"xanchor\":\"center\",\"xref\":\"x\",\"y\":165.0,\"yanchor\":\"middle\",\"yref\":\"y\"},{\"layer\":\"above\",\"opacity\":1,\"sizex\":10,\"sizey\":10,\"sizing\":\"contain\",\"source\":\"https://raw.githubusercontent.com/matahombres/CSS-Country-Flags-Rounded/master/flags/MA.png\",\"x\":4.0,\"xanchor\":\"center\",\"xref\":\"x\",\"y\":37.0,\"yanchor\":\"middle\",\"yref\":\"y\"},{\"layer\":\"above\",\"opacity\":1,\"sizex\":10,\"sizey\":10,\"sizing\":\"contain\",\"source\":\"https://raw.githubusercontent.com/matahombres/CSS-Country-Flags-Rounded/master/flags/NA.png\",\"x\":29.0,\"xanchor\":\"center\",\"xref\":\"x\",\"y\":7.0,\"yanchor\":\"middle\",\"yref\":\"y\"},{\"layer\":\"above\",\"opacity\":1,\"sizex\":10,\"sizey\":10,\"sizing\":\"contain\",\"source\":\"https://raw.githubusercontent.com/matahombres/CSS-Country-Flags-Rounded/master/flags/NG.png\",\"x\":1.0,\"xanchor\":\"center\",\"xref\":\"x\",\"y\":38.0,\"yanchor\":\"middle\",\"yref\":\"y\"},{\"layer\":\"above\",\"opacity\":1,\"sizex\":10,\"sizey\":10,\"sizing\":\"contain\",\"source\":\"https://raw.githubusercontent.com/matahombres/CSS-Country-Flags-Rounded/master/flags/ZA.png\",\"x\":2.0,\"xanchor\":\"center\",\"xref\":\"x\",\"y\":175.0,\"yanchor\":\"middle\",\"yref\":\"y\"},{\"layer\":\"above\",\"opacity\":1,\"sizex\":10,\"sizey\":10,\"sizing\":\"contain\",\"source\":\"https://raw.githubusercontent.com/matahombres/CSS-Country-Flags-Rounded/master/flags/TN.png\",\"x\":10.0,\"xanchor\":\"center\",\"xref\":\"x\",\"y\":27.0,\"yanchor\":\"middle\",\"yref\":\"y\"},{\"layer\":\"above\",\"opacity\":1,\"sizex\":10,\"sizey\":10,\"sizing\":\"contain\",\"source\":\"https://raw.githubusercontent.com/matahombres/CSS-Country-Flags-Rounded/master/flags/UG.png\",\"x\":13.0,\"xanchor\":\"center\",\"xref\":\"x\",\"y\":15.0,\"yanchor\":\"middle\",\"yref\":\"y\"},{\"layer\":\"above\",\"opacity\":1,\"sizex\":10,\"sizey\":10,\"sizing\":\"contain\",\"source\":\"https://raw.githubusercontent.com/matahombres/CSS-Country-Flags-Rounded/master/flags/ZM.png\",\"x\":17.0,\"xanchor\":\"center\",\"xref\":\"x\",\"y\":4.0,\"yanchor\":\"middle\",\"yref\":\"y\"},{\"layer\":\"above\",\"opacity\":1,\"sizex\":10,\"sizey\":10,\"sizing\":\"contain\",\"source\":\"https://raw.githubusercontent.com/matahombres/CSS-Country-Flags-Rounded/master/flags/ZW.png\",\"x\":16.0,\"xanchor\":\"center\",\"xref\":\"x\",\"y\":10.0,\"yanchor\":\"middle\",\"yref\":\"y\"}],\"title\":{\"text\":\"<b>Olympic Glory vs. Economic Reality: A Comparison of African Nations.</b><br><span style=\\\"font-size: 12px;\\\">A strong negative correlation between Olympic medals and GDP ranking emerges for African countries ranked 10th and lower in terms of GDP.</span>\"},\"annotations\":[{\"showarrow\":false,\"text\":\"Data source: https://www.kaggle.com/datasets/josephcheng123456/olympic-historical-dataset-from-olympediaorg?select=Olympic_Athlete_Bio.csv\",\"x\":0,\"xref\":\"paper\",\"y\":-0.16,\"yref\":\"paper\"},{\"showarrow\":false,\"text\":\"Number of medals won\",\"x\":-0.08,\"xref\":\"paper\",\"y\":1.02,\"yref\":\"paper\"}]},                        {\"responsive\": true}                    ).then(function(){\n",
       "                            \n",
       "var gd = document.getElementById('bb450d23-3223-4393-9104-7cb694999521');\n",
       "var x = new MutationObserver(function (mutations, observer) {{\n",
       "        var display = window.getComputedStyle(gd).display;\n",
       "        if (!display || display === 'none') {{\n",
       "            console.log([gd, 'removed!']);\n",
       "            Plotly.purge(gd);\n",
       "            observer.disconnect();\n",
       "        }}\n",
       "}});\n",
       "\n",
       "// Listen for the removal of the full notebook cells\n",
       "var notebookContainer = gd.closest('#notebook-container');\n",
       "if (notebookContainer) {{\n",
       "    x.observe(notebookContainer, {childList: true});\n",
       "}}\n",
       "\n",
       "// Listen for the clearing of the current output cell\n",
       "var outputEl = gd.closest('.output');\n",
       "if (outputEl) {{\n",
       "    x.observe(outputEl, {childList: true});\n",
       "}}\n",
       "\n",
       "                        })                };                });            </script>        </div>"
      ]
     },
     "metadata": {},
     "output_type": "display_data"
    }
   ],
   "source": [
    "\n",
    "import pycountry\n",
    "\n",
    "# pga =gpd[gpd['Country Name'].isin(['Cameroon','Nigeria','Algeria','South Africa','Kenya','Ethiopia','Ghana'])]\n",
    "pga =gpd[gpd['Country Name'].isin(list(list_africa['Country']))]\n",
    "pga = pga.sort_values(by=['2021'],ascending=False)\n",
    "fda = pd.DataFrame({'country':list(pga['Country Name']), 'Africa GDP rank':[i for i in range(1,len(pga)+1)]})\n",
    "tmp = newdf.groupby(['country'])['Medal number'].sum()\n",
    "df6 = pd.DataFrame(data={'Medal': tmp.values}, index=tmp.index).reset_index()\n",
    "df6 = df6.merge(fda, how='right').dropna()\n",
    "\n",
    "\n",
    "ll= df6.sort_values(by=['Medal'],ascending=False)\n",
    "ll=ll.head(15)\n",
    "iso3_to_iso2 = {c.alpha_3: c.alpha_2 for c in pycountry.countries}\n",
    "\n",
    "df = px.data.gapminder().query(\"year==2007\")\n",
    "df[\"iso_alpha2\"] = df[\"iso_alpha\"].map(iso3_to_iso2)\n",
    "ll = ll.rename(columns={\"host country\": 'country'})\n",
    "df=ll.merge(df,how='right').dropna()\n",
    "\n",
    "fig = px.scatter(\n",
    "    df,y=\"Medal\", x=\"Africa GDP rank\",text='country',\n",
    "    hover_name=\"country\",\n",
    "    hover_data=[\"Medal\", \"Africa GDP rank\"],template=custom_template\n",
    ")\n",
    "fig.update_traces(marker_color=\"rgba(0,0,0,0)\")\n",
    "\n",
    "minDim = df[[\"Medal\", \"Africa GDP rank\"]].max().idxmax()\n",
    "maxi = df[minDim].max()\n",
    "for i, row in df.iterrows():\n",
    "    country_iso = row[\"iso_alpha2\"]\n",
    "    fig.add_layout_image(\n",
    "        dict(\n",
    "            source=f\"https://raw.githubusercontent.com/matahombres/CSS-Country-Flags-Rounded/master/flags/{country_iso}.png\",\n",
    "            xref=\"x\",\n",
    "            yref=\"y\",\n",
    "            xanchor=\"center\",\n",
    "            yanchor=\"middle\",\n",
    "            y=row[\"Medal\"],\n",
    "            x=row[\"Africa GDP rank\"],\n",
    "            sizex = 10,\n",
    "            sizey=10,\n",
    "#             sizex=np.sqrt(row[\"GDP rank\"] / df[\"GDP rank\"].max()) * maxi * 0.02 + maxi * 0.04,\n",
    "#             sizey=np.sqrt(row[\"GDP rank\"] / df[\"GDP rank\"].max()) * maxi * 0.02 + maxi * 0.1,\n",
    "            sizing=\"contain\",\n",
    "            opacity=1,\n",
    "            layer=\"above\"\n",
    "        )\n",
    "    )\n",
    "fig.update_traces(textposition='top right')\n",
    "fig.update_xaxes(title_text='Africa GPD ranking in 2021',tickmode='linear')\n",
    "\n",
    "fig.update_layout( title=format_title(\"Olympic Glory vs. Economic Reality: A Comparison of African Nations.\",\n",
    "                                      \"A strong negative correlation between Olympic medals and GDP ranking emerges for African countries ranked 10th and lower in terms of GDP.\")\n",
    ")\n",
    "\n",
    "fig.update_layout( xaxis_range=[0, 32],yaxis_range=[-5, 190])\n",
    "fig.update_layout(\n",
    "    annotations=[\n",
    "        dict(\n",
    "            text=\"Data source: https://www.kaggle.com/datasets/josephcheng123456/olympic-historical-dataset-from-olympediaorg?select=Olympic_Athlete_Bio.csv\",\n",
    "            xref=\"paper\",\n",
    "            yref=\"paper\",\n",
    "            x=0,\n",
    "            y=-.16,\n",
    "            showarrow=False\n",
    "        ),\n",
    "        dict(\n",
    "            text=\"Number of medals won\",\n",
    "            xref=\"paper\",\n",
    "            yref=\"paper\",\n",
    "            x=-.08,\n",
    "            y=1.02,\n",
    "            showarrow=False\n",
    "        )\n",
    "    ]\n",
    ")\n",
    "fig.update_yaxes(title_text='')\n",
    "fig.show()\n",
    "\n",
    "\n",
    "\n",
    "pio.write_image(fig, 'african_nation.png', width=900, height=600, scale=5)"
   ]
  },
  {
   "cell_type": "markdown",
   "id": "20e3ac56",
   "metadata": {},
   "source": [
    "A strong correlation between Olympic medals and GDP ranking means that there is a strong relationship between the number of Olympic medals a country has won and its ranking in terms of gross domestic product (GDP). This relationship appears to be particularly strong for African countries that are ranked 10th or lower in terms of GDP.\n",
    "\n",
    "GDP is a measure of the size of a country's economy and is often used as an indicator of a country's overall wealth and prosperity. Countries with higher GDPs tend to have more resources available to invest in sports and athlete development, which can lead to better results in international competitions like the Olympics.\n",
    "\n",
    "On the other hand, countries with lower GDPs may have fewer resources available to invest in sports and athlete development, which can make it more difficult for them to compete at the highest levels. As a result, it is not surprising that there is a strong correlation between Olympic medals and GDP ranking for African countries ranked 10th and lower in terms of GDP."
   ]
  },
  {
   "cell_type": "code",
   "execution_count": 137,
   "id": "d9d6e868",
   "metadata": {},
   "outputs": [],
   "source": [
    "df[['country','Medal','Africa GDP rank','continent','iso_alpha2']].to_csv('data/african_medals.csv')"
   ]
  },
  {
   "cell_type": "markdown",
   "id": "2df1c7b9",
   "metadata": {},
   "source": [
    "**why kenya have won more medal in olympic games compare to nigeria?**\n",
    "\n",
    "There are a few reasons why Kenya has won more medals in the Olympic Games compared to Nigeria. Some possible reasons include:\n",
    "\n",
    " 1. Kenya has a strong tradition of success in athletics, especially in distance running events, which tend to be some of the most highly contested events at the Olympics.\n",
    "\n",
    " 2. Kenya has a well-developed sports infrastructure and a national sports program that supports and trains athletes from a young age. This allows them to develop the skills and experience needed to compete at the highest levels.\n",
    "\n",
    " 3. Kenya has a larger population than Nigeria, which means they have a greater pool of potential athletes to choose from. This increases their chances of finding talented athletes who can compete at the Olympics.\n",
    "\n",
    " 4. Kenya has been participating in the Olympics for a longer period of time than Nigeria, which means they have had more opportunities to win medals.\n",
    "\n",
    "Overall, Kenya's success in the Olympics is likely due to a combination of these factors, as well as the dedication and hard work of their athletes."
   ]
  },
  {
   "cell_type": "markdown",
   "id": "9aef02c2",
   "metadata": {},
   "source": [
    "# Trend of the nomber of medal for the 10 top countries that have gain more medal"
   ]
  },
  {
   "cell_type": "markdown",
   "id": "a2b68ab3",
   "metadata": {},
   "source": [
    "1. Host Country Effect- What is the probability that a participant of the host country can win a medal? Are there any type of sports that the host country has more chance of winning?\n",
    "\n",
    "2. Economic Effect- Are there any sports that are won mostly by countries with low GDP? Does the rise/fall in economy affect the Olympic winnings of a country, and if so, in how many years is the effect seen?\n",
    "\n",
    "3. Age Effect- Does the Relative Age Effect influence Olympic winnings? At what age is optimum age for each sport? How does the performance of each athlete improve/degrade over time?\n",
    "\n",
    "Moreover, looking at the medals count in Olympics official site[4] and comparing with the Olympics history dataset used in this report, there are discrepancies, hence the dataset needs to be revised."
   ]
  },
  {
   "cell_type": "code",
   "execution_count": 138,
   "id": "4cc8d5f1",
   "metadata": {},
   "outputs": [],
   "source": [
    "tmp = newdf.groupby(['year', 'country'])['Medal number'].value_counts()\n",
    "df7 = pd.DataFrame(data={'Medal': tmp.values}, index=tmp.index).reset_index()\n"
   ]
  },
  {
   "cell_type": "code",
   "execution_count": 139,
   "id": "e5619b13",
   "metadata": {},
   "outputs": [],
   "source": [
    "# tmp = newdf[['year','Host country']]\n",
    "# track = df7.merge(tmp, how='right').dropna()\n",
    "# df8=track[track['country'].isin(list(seasoncount['host country']))]\n",
    "# df8['year'] = df8['year'].astype(int)"
   ]
  },
  {
   "cell_type": "code",
   "execution_count": 140,
   "id": "6b4573ef",
   "metadata": {},
   "outputs": [
    {
     "name": "stderr",
     "output_type": "stream",
     "text": [
      "<ipython-input-140-6a1a651df7b1>:7: FutureWarning:\n",
      "\n",
      "The frame.append method is deprecated and will be removed from pandas in a future version. Use pandas.concat instead.\n",
      "\n"
     ]
    }
   ],
   "source": [
    "df2 = pd.DataFrame({'year':[],'country':[], 'World GDP rank':[]})\n",
    "date=[gpd.columns[i] for i in range(6,len(gpd.columns)-1)]\n",
    "for dat in date:\n",
    "    GPD = GPD.sort_values(by=dat,ascending=False)\n",
    "    GPD['Country Name'].head(12)\n",
    "    data={'year':[int(dat)]*12,'country': list(GPD['Country Name'].head(12)), 'World GDP rank':[i for i in range(1,13)]}\n",
    "    df2 = df2.append(  pd.DataFrame(data), ignore_index=True)\n",
    "    \n",
    "fg=df2[df2['country'].isin(list(seasoncount['host country']))]"
   ]
  },
  {
   "cell_type": "code",
   "execution_count": 141,
   "id": "a379795b",
   "metadata": {},
   "outputs": [],
   "source": [
    "df2['year'] = df2['year'].astype(int)\n",
    "df2['World GDP rank'] = df2['World GDP rank'].astype(int)\n"
   ]
  },
  {
   "cell_type": "code",
   "execution_count": 142,
   "id": "0460f351",
   "metadata": {},
   "outputs": [
    {
     "data": {
      "text/html": [
       "<div>\n",
       "<style scoped>\n",
       "    .dataframe tbody tr th:only-of-type {\n",
       "        vertical-align: middle;\n",
       "    }\n",
       "\n",
       "    .dataframe tbody tr th {\n",
       "        vertical-align: top;\n",
       "    }\n",
       "\n",
       "    .dataframe thead th {\n",
       "        text-align: right;\n",
       "    }\n",
       "</style>\n",
       "<table border=\"1\" class=\"dataframe\">\n",
       "  <thead>\n",
       "    <tr style=\"text-align: right;\">\n",
       "      <th></th>\n",
       "      <th>year</th>\n",
       "      <th>country</th>\n",
       "      <th>World GDP rank</th>\n",
       "    </tr>\n",
       "  </thead>\n",
       "  <tbody>\n",
       "    <tr>\n",
       "      <th>0</th>\n",
       "      <td>1962</td>\n",
       "      <td>United States</td>\n",
       "      <td>1</td>\n",
       "    </tr>\n",
       "    <tr>\n",
       "      <th>1</th>\n",
       "      <td>1962</td>\n",
       "      <td>United Kingdom</td>\n",
       "      <td>2</td>\n",
       "    </tr>\n",
       "    <tr>\n",
       "      <th>2</th>\n",
       "      <td>1962</td>\n",
       "      <td>France</td>\n",
       "      <td>3</td>\n",
       "    </tr>\n",
       "    <tr>\n",
       "      <th>3</th>\n",
       "      <td>1962</td>\n",
       "      <td>Japan</td>\n",
       "      <td>4</td>\n",
       "    </tr>\n",
       "    <tr>\n",
       "      <th>4</th>\n",
       "      <td>1962</td>\n",
       "      <td>Italy</td>\n",
       "      <td>5</td>\n",
       "    </tr>\n",
       "    <tr>\n",
       "      <th>...</th>\n",
       "      <td>...</td>\n",
       "      <td>...</td>\n",
       "      <td>...</td>\n",
       "    </tr>\n",
       "    <tr>\n",
       "      <th>715</th>\n",
       "      <td>2021</td>\n",
       "      <td>Canada</td>\n",
       "      <td>8</td>\n",
       "    </tr>\n",
       "    <tr>\n",
       "      <th>716</th>\n",
       "      <td>2021</td>\n",
       "      <td>Brazil</td>\n",
       "      <td>9</td>\n",
       "    </tr>\n",
       "    <tr>\n",
       "      <th>717</th>\n",
       "      <td>2021</td>\n",
       "      <td>Australia</td>\n",
       "      <td>10</td>\n",
       "    </tr>\n",
       "    <tr>\n",
       "      <th>718</th>\n",
       "      <td>2021</td>\n",
       "      <td>Netherlands</td>\n",
       "      <td>11</td>\n",
       "    </tr>\n",
       "    <tr>\n",
       "      <th>719</th>\n",
       "      <td>2021</td>\n",
       "      <td>Sweden</td>\n",
       "      <td>12</td>\n",
       "    </tr>\n",
       "  </tbody>\n",
       "</table>\n",
       "<p>720 rows × 3 columns</p>\n",
       "</div>"
      ],
      "text/plain": [
       "     year         country  World GDP rank\n",
       "0    1962   United States               1\n",
       "1    1962  United Kingdom               2\n",
       "2    1962          France               3\n",
       "3    1962           Japan               4\n",
       "4    1962           Italy               5\n",
       "..    ...             ...             ...\n",
       "715  2021          Canada               8\n",
       "716  2021          Brazil               9\n",
       "717  2021       Australia              10\n",
       "718  2021     Netherlands              11\n",
       "719  2021          Sweden              12\n",
       "\n",
       "[720 rows x 3 columns]"
      ]
     },
     "execution_count": 142,
     "metadata": {},
     "output_type": "execute_result"
    }
   ],
   "source": [
    "df2"
   ]
  },
  {
   "cell_type": "code",
   "execution_count": 143,
   "id": "693afb3b",
   "metadata": {},
   "outputs": [],
   "source": [
    "df3 = df2.merge(newdf, how='right').dropna()\n",
    "df3= df3.sort_values(by=['year','Medal number'])\n",
    "df3 = df3.drop_duplicates(subset=[\"year\", \"country\"], keep='first')\n",
    "df3['Medal number'] = df3['Medal number'].astype(int)\n",
    "df3['World GDP rank'] = df3['World GDP rank'].astype(int)"
   ]
  },
  {
   "cell_type": "code",
   "execution_count": 144,
   "id": "1e181412",
   "metadata": {},
   "outputs": [
    {
     "data": {
      "application/vnd.plotly.v1+json": {
       "config": {
        "plotlyServerURL": "https://plot.ly"
       },
       "data": [
        {
         "alignmentgroup": "True",
         "hovertemplate": "Host country=Austria<br>year=1964.0<br>Medal number=%{text}<br>country=%{y}<br>World GDP rank=%{marker.color}<extra></extra>",
         "ids": [
          "Brazil",
          "United Kingdom",
          "Netherlands",
          "Belgium",
          "Canada",
          "Italy",
          "France",
          "Sweden",
          "United States",
          "Australia",
          "Japan"
         ],
         "legendgroup": "Austria",
         "marker": {
          "color": [
           10,
           2,
           11,
           12,
           7,
           5,
           3,
           9,
           1,
           8,
           4
          ],
          "coloraxis": "coloraxis",
          "pattern": {
           "shape": ""
          }
         },
         "name": "Austria",
         "offsetgroup": "Austria",
         "orientation": "h",
         "showlegend": true,
         "text": [
          1,
          1,
          2,
          3,
          3,
          4,
          7,
          7,
          7,
          18,
          29
         ],
         "textposition": "outside",
         "type": "bar",
         "x": [
          1,
          1,
          2,
          3,
          3,
          4,
          7,
          7,
          7,
          18,
          29
         ],
         "xaxis": "x",
         "y": [
          "Brazil",
          "United Kingdom",
          "Netherlands",
          "Belgium",
          "Canada",
          "Italy",
          "France",
          "Sweden",
          "United States",
          "Australia",
          "Japan"
         ],
         "yaxis": "y"
        }
       ],
       "frames": [
        {
         "data": [
          {
           "alignmentgroup": "True",
           "hovertemplate": "Host country=Austria<br>year=1964.0<br>Medal number=%{text}<br>country=%{y}<br>World GDP rank=%{marker.color}<extra></extra>",
           "ids": [
            "Brazil",
            "United Kingdom",
            "Netherlands",
            "Belgium",
            "Canada",
            "Italy",
            "France",
            "Sweden",
            "United States",
            "Australia",
            "Japan"
           ],
           "legendgroup": "Austria",
           "marker": {
            "color": [
             10,
             2,
             11,
             12,
             7,
             5,
             3,
             9,
             1,
             8,
             4
            ],
            "coloraxis": "coloraxis",
            "pattern": {
             "shape": ""
            }
           },
           "name": "Austria",
           "offsetgroup": "Austria",
           "orientation": "h",
           "showlegend": true,
           "text": [
            1,
            1,
            2,
            3,
            3,
            4,
            7,
            7,
            7,
            18,
            29
           ],
           "textposition": "auto",
           "type": "bar",
           "x": [
            1,
            1,
            2,
            3,
            3,
            4,
            7,
            7,
            7,
            18,
            29
           ],
           "xaxis": "x",
           "y": [
            "Brazil",
            "United Kingdom",
            "Netherlands",
            "Belgium",
            "Canada",
            "Italy",
            "France",
            "Sweden",
            "United States",
            "Australia",
            "Japan"
           ],
           "yaxis": "y"
          }
         ],
         "name": "1964.0"
        },
        {
         "data": [
          {
           "alignmentgroup": "True",
           "hovertemplate": "Host country=France<br>year=1968.0<br>Medal number=%{text}<br>country=%{y}<br>World GDP rank=%{marker.color}<extra></extra>",
           "ids": [
            "Belgium",
            "Brazil",
            "Canada",
            "Sweden",
            "Italy",
            "Netherlands",
            "United States",
            "France",
            "United Kingdom",
            "Australia",
            "Japan"
           ],
           "legendgroup": "France",
           "marker": {
            "color": [
             12,
             8,
             6,
             10,
             5,
             11,
             1,
             3,
             4,
             9,
             2
            ],
            "coloraxis": "coloraxis",
            "pattern": {
             "shape": "/"
            }
           },
           "name": "France",
           "offsetgroup": "France",
           "orientation": "h",
           "showlegend": true,
           "text": [
            2,
            3,
            3,
            4,
            4,
            7,
            7,
            9,
            13,
            17,
            25
           ],
           "textposition": "auto",
           "type": "bar",
           "x": [
            2,
            3,
            3,
            4,
            4,
            7,
            7,
            9,
            13,
            17,
            25
           ],
           "xaxis": "x",
           "y": [
            "Belgium",
            "Brazil",
            "Canada",
            "Sweden",
            "Italy",
            "Netherlands",
            "United States",
            "France",
            "United Kingdom",
            "Australia",
            "Japan"
           ],
           "yaxis": "y"
          }
         ],
         "name": "1968.0"
        },
        {
         "data": [
          {
           "alignmentgroup": "True",
           "hovertemplate": "Host country=Japan<br>year=1972.0<br>Medal number=%{text}<br>country=%{y}<br>World GDP rank=%{marker.color}<extra></extra>",
           "ids": [
            "Canada",
            "Brazil",
            "Japan",
            "France",
            "Sweden",
            "Netherlands",
            "Germany",
            "Italy",
            "United States",
            "Australia",
            "United Kingdom"
           ],
           "legendgroup": "Japan",
           "marker": {
            "color": [
             8,
             9,
             2,
             4,
             12,
             10,
             3,
             6,
             1,
             11,
             5
            ],
            "coloraxis": "coloraxis",
            "pattern": {
             "shape": "\\"
            }
           },
           "name": "Japan",
           "offsetgroup": "Japan",
           "orientation": "h",
           "showlegend": true,
           "text": [
            1,
            2,
            3,
            3,
            4,
            5,
            5,
            5,
            8,
            17,
            18
           ],
           "textposition": "auto",
           "type": "bar",
           "x": [
            1,
            2,
            3,
            3,
            4,
            5,
            5,
            5,
            8,
            17,
            18
           ],
           "xaxis": "x",
           "y": [
            "Canada",
            "Brazil",
            "Japan",
            "France",
            "Sweden",
            "Netherlands",
            "Germany",
            "Italy",
            "United States",
            "Australia",
            "United Kingdom"
           ],
           "yaxis": "y"
          }
         ],
         "name": "1972.0"
        },
        {
         "data": [
          {
           "alignmentgroup": "True",
           "hovertemplate": "Host country=Austria<br>year=1976.0<br>Medal number=%{text}<br>country=%{y}<br>World GDP rank=%{marker.color}<extra></extra>",
           "ids": [
            "United Kingdom",
            "France",
            "Brazil",
            "Sweden",
            "Canada",
            "Italy",
            "Netherlands",
            "Australia",
            "United States",
            "Germany",
            "Japan"
           ],
           "legendgroup": "Austria",
           "marker": {
            "color": [
             5,
             4,
             9,
             12,
             7,
             6,
             10,
             11,
             1,
             3,
             2
            ],
            "coloraxis": "coloraxis",
            "pattern": {
             "shape": ""
            }
           },
           "name": "Austria",
           "offsetgroup": "Austria",
           "orientation": "h",
           "showlegend": true,
           "text": [
            1,
            1,
            2,
            2,
            3,
            4,
            5,
            5,
            10,
            10,
            25
           ],
           "textposition": "auto",
           "type": "bar",
           "x": [
            1,
            1,
            2,
            2,
            3,
            4,
            5,
            5,
            10,
            10,
            25
           ],
           "xaxis": "x",
           "y": [
            "United Kingdom",
            "France",
            "Brazil",
            "Sweden",
            "Canada",
            "Italy",
            "Netherlands",
            "Australia",
            "United States",
            "Germany",
            "Japan"
           ],
           "yaxis": "y"
          }
         ],
         "name": "1976.0"
        },
        {
         "data": [
          {
           "alignmentgroup": "True",
           "hovertemplate": "Host country=United States<br>year=1980.0<br>Medal number=%{text}<br>country=%{y}<br>World GDP rank=%{marker.color}<extra></extra>",
           "ids": [
            "United Kingdom",
            "Japan",
            "France",
            "Italy",
            "Canada",
            "Netherlands",
            "Brazil",
            "Sweden",
            "Germany",
            "Australia",
            "United States"
           ],
           "legendgroup": "United States",
           "marker": {
            "color": [
             5,
             2,
             4,
             6,
             7,
             9,
             8,
             12,
             3,
             11,
             1
            ],
            "coloraxis": "coloraxis",
            "pattern": {
             "shape": "x"
            }
           },
           "name": "United States",
           "offsetgroup": "United States",
           "orientation": "h",
           "showlegend": true,
           "text": [
            1,
            1,
            1,
            2,
            2,
            3,
            4,
            4,
            5,
            9,
            12
           ],
           "textposition": "auto",
           "type": "bar",
           "x": [
            1,
            1,
            1,
            2,
            2,
            3,
            4,
            4,
            5,
            9,
            12
           ],
           "xaxis": "x",
           "y": [
            "United Kingdom",
            "Japan",
            "France",
            "Italy",
            "Canada",
            "Netherlands",
            "Brazil",
            "Sweden",
            "Germany",
            "Australia",
            "United States"
           ],
           "yaxis": "y"
          }
         ],
         "name": "1980.0"
        },
        {
         "data": [
          {
           "alignmentgroup": "True",
           "hovertemplate": "Host country=United States<br>year=1984.0<br>Medal number=%{text}<br>country=%{y}<br>World GDP rank=%{marker.color}<extra></extra>",
           "ids": [
            "United Kingdom",
            "Japan",
            "Italy",
            "France",
            "Canada",
            "Germany",
            "Brazil",
            "United States",
            "Sweden",
            "Netherlands",
            "Australia"
           ],
           "legendgroup": "United States",
           "marker": {
            "color": [
             5,
             2,
             6,
             4,
             7,
             3,
             10,
             1,
             12,
             11,
             9
            ],
            "coloraxis": "coloraxis",
            "pattern": {
             "shape": "x"
            }
           },
           "name": "United States",
           "offsetgroup": "United States",
           "orientation": "h",
           "showlegend": true,
           "text": [
            1,
            1,
            2,
            3,
            4,
            4,
            8,
            8,
            8,
            13,
            24
           ],
           "textposition": "auto",
           "type": "bar",
           "x": [
            1,
            1,
            2,
            3,
            4,
            4,
            8,
            8,
            8,
            13,
            24
           ],
           "xaxis": "x",
           "y": [
            "United Kingdom",
            "Japan",
            "Italy",
            "France",
            "Canada",
            "Germany",
            "Brazil",
            "United States",
            "Sweden",
            "Netherlands",
            "Australia"
           ],
           "yaxis": "y"
          }
         ],
         "name": "1984.0"
        },
        {
         "data": [
          {
           "alignmentgroup": "True",
           "hovertemplate": "Host country=Canada<br>year=1988.0<br>Medal number=%{text}<br>country=%{y}<br>World GDP rank=%{marker.color}<extra></extra>",
           "ids": [
            "Japan",
            "France",
            "Italy",
            "Canada",
            "Brazil",
            "Sweden",
            "United States",
            "Netherlands",
            "Germany",
            "Australia",
            "United Kingdom"
           ],
           "legendgroup": "Canada",
           "marker": {
            "color": [
             2,
             4,
             6,
             7,
             10,
             12,
             1,
             9,
             3,
             11,
             5
            ],
            "coloraxis": "coloraxis",
            "pattern": {
             "shape": "+"
            }
           },
           "name": "Canada",
           "offsetgroup": "Canada",
           "orientation": "h",
           "showlegend": true,
           "text": [
            1,
            2,
            5,
            5,
            6,
            6,
            6,
            7,
            8,
            14,
            24
           ],
           "textposition": "auto",
           "type": "bar",
           "x": [
            1,
            2,
            5,
            5,
            6,
            6,
            6,
            7,
            8,
            14,
            24
           ],
           "xaxis": "x",
           "y": [
            "Japan",
            "France",
            "Italy",
            "Canada",
            "Brazil",
            "Sweden",
            "United States",
            "Netherlands",
            "Germany",
            "Australia",
            "United Kingdom"
           ],
           "yaxis": "y"
          }
         ],
         "name": "1988.0"
        },
        {
         "data": [
          {
           "alignmentgroup": "True",
           "hovertemplate": "Host country=France<br>year=1992.0<br>Medal number=%{text}<br>country=%{y}<br>World GDP rank=%{marker.color}<extra></extra>",
           "ids": [
            "Brazil",
            "Netherlands",
            "Sweden",
            "Canada",
            "Japan",
            "France",
            "United States",
            "Italy",
            "United Kingdom",
            "Germany",
            "Australia"
           ],
           "legendgroup": "France",
           "marker": {
            "color": [
             10,
             9,
             12,
             7,
             2,
             4,
             1,
             5,
             6,
             3,
             11
            ],
            "coloraxis": "coloraxis",
            "pattern": {
             "shape": "/"
            }
           },
           "name": "France",
           "offsetgroup": "France",
           "orientation": "h",
           "showlegend": true,
           "text": [
            3,
            4,
            4,
            7,
            7,
            9,
            11,
            14,
            20,
            26,
            27
           ],
           "textposition": "auto",
           "type": "bar",
           "x": [
            3,
            4,
            4,
            7,
            7,
            9,
            11,
            14,
            20,
            26,
            27
           ],
           "xaxis": "x",
           "y": [
            "Brazil",
            "Netherlands",
            "Sweden",
            "Canada",
            "Japan",
            "France",
            "United States",
            "Italy",
            "United Kingdom",
            "Germany",
            "Australia"
           ],
           "yaxis": "y"
          }
         ],
         "name": "1992.0"
        },
        {
         "data": [
          {
           "alignmentgroup": "True",
           "hovertemplate": "Host country=Norway<br>year=1994.0<br>Medal number=%{text}<br>country=%{y}<br>World GDP rank=%{marker.color}<extra></extra>",
           "ids": [
            "Australia",
            "United Kingdom",
            "Netherlands",
            "Japan",
            "France",
            "United States",
            "Canada",
            "Italy",
            "Germany"
           ],
           "legendgroup": "Norway",
           "marker": {
            "color": [
             11,
             5,
             10,
             2,
             4,
             1,
             7,
             6,
             3
            ],
            "coloraxis": "coloraxis",
            "pattern": {
             "shape": "."
            }
           },
           "name": "Norway",
           "offsetgroup": "Norway",
           "orientation": "h",
           "showlegend": true,
           "text": [
            1,
            2,
            4,
            5,
            5,
            13,
            13,
            20,
            24
           ],
           "textposition": "auto",
           "type": "bar",
           "x": [
            1,
            2,
            4,
            5,
            5,
            13,
            13,
            20,
            24
           ],
           "xaxis": "x",
           "y": [
            "Australia",
            "United Kingdom",
            "Netherlands",
            "Japan",
            "France",
            "United States",
            "Canada",
            "Italy",
            "Germany"
           ],
           "yaxis": "y"
          }
         ],
         "name": "1994.0"
        },
        {
         "data": [
          {
           "alignmentgroup": "True",
           "hovertemplate": "Host country=United States<br>year=1996.0<br>Medal number=%{text}<br>country=%{y}<br>World GDP rank=%{marker.color}<extra></extra>",
           "ids": [
            "Sweden",
            "Japan",
            "Brazil",
            "United Kingdom",
            "Netherlands",
            "Canada",
            "Italy",
            "France",
            "Australia",
            "Germany",
            "United States"
           ],
           "legendgroup": "United States",
           "marker": {
            "color": [
             12,
             2,
             8,
             5,
             10,
             9,
             6,
             4,
             11,
             3,
             1
            ],
            "coloraxis": "coloraxis",
            "pattern": {
             "shape": "x"
            }
           },
           "name": "United States",
           "offsetgroup": "United States",
           "orientation": "h",
           "showlegend": true,
           "text": [
            8,
            14,
            15,
            15,
            19,
            22,
            35,
            37,
            41,
            65,
            101
           ],
           "textposition": "auto",
           "type": "bar",
           "x": [
            8,
            14,
            15,
            15,
            19,
            22,
            35,
            37,
            41,
            65,
            101
           ],
           "xaxis": "x",
           "y": [
            "Sweden",
            "Japan",
            "Brazil",
            "United Kingdom",
            "Netherlands",
            "Canada",
            "Italy",
            "France",
            "Australia",
            "Germany",
            "United States"
           ],
           "yaxis": "y"
          }
         ],
         "name": "1996.0"
        },
        {
         "data": [
          {
           "alignmentgroup": "True",
           "hovertemplate": "Host country=Japan<br>year=1998.0<br>Medal number=%{text}<br>country=%{y}<br>World GDP rank=%{marker.color}<extra></extra>",
           "ids": [
            "Australia",
            "United Kingdom",
            "Sweden",
            "France",
            "Japan",
            "Italy",
            "Netherlands",
            "United States",
            "Canada",
            "Germany"
           ],
           "legendgroup": "Japan",
           "marker": {
            "color": [
             11,
             4,
             12,
             5,
             2,
             6,
             10,
             1,
             9,
             3
            ],
            "coloraxis": "coloraxis",
            "pattern": {
             "shape": "\\"
            }
           },
           "name": "Japan",
           "offsetgroup": "Japan",
           "orientation": "h",
           "showlegend": true,
           "text": [
            1,
            1,
            3,
            8,
            10,
            10,
            11,
            13,
            15,
            29
           ],
           "textposition": "auto",
           "type": "bar",
           "x": [
            1,
            1,
            3,
            8,
            10,
            10,
            11,
            13,
            15,
            29
           ],
           "xaxis": "x",
           "y": [
            "Australia",
            "United Kingdom",
            "Sweden",
            "France",
            "Japan",
            "Italy",
            "Netherlands",
            "United States",
            "Canada",
            "Germany"
           ],
           "yaxis": "y"
          }
         ],
         "name": "1998.0"
        },
        {
         "data": [
          {
           "alignmentgroup": "True",
           "hovertemplate": "Host country=Australia<br>year=2000.0<br>Medal number=%{text}<br>country=%{y}<br>World GDP rank=%{marker.color}<extra></extra>",
           "ids": [
            "Sweden",
            "Brazil",
            "Canada",
            "Japan",
            "Netherlands",
            "United Kingdom",
            "Italy",
            "France",
            "Germany",
            "Australia",
            "United States"
           ],
           "legendgroup": "Australia",
           "marker": {
            "color": [
             12,
             9,
             8,
             2,
             10,
             4,
             7,
             5,
             3,
             11,
             1
            ],
            "coloraxis": "coloraxis",
            "pattern": {
             "shape": ""
            }
           },
           "name": "Australia",
           "offsetgroup": "Australia",
           "orientation": "h",
           "showlegend": true,
           "text": [
            12,
            12,
            14,
            18,
            25,
            28,
            34,
            38,
            56,
            58,
            93
           ],
           "textposition": "auto",
           "type": "bar",
           "x": [
            12,
            12,
            14,
            18,
            25,
            28,
            34,
            38,
            56,
            58,
            93
           ],
           "xaxis": "x",
           "y": [
            "Sweden",
            "Brazil",
            "Canada",
            "Japan",
            "Netherlands",
            "United Kingdom",
            "Italy",
            "France",
            "Germany",
            "Australia",
            "United States"
           ],
           "yaxis": "y"
          }
         ],
         "name": "2000.0"
        },
        {
         "data": [
          {
           "alignmentgroup": "True",
           "hovertemplate": "Host country=United States<br>year=2002.0<br>Medal number=%{text}<br>country=%{y}<br>World GDP rank=%{marker.color}<extra></extra>",
           "ids": [
            "United Kingdom",
            "Australia",
            "Japan",
            "Sweden",
            "Netherlands",
            "France",
            "Italy",
            "Canada",
            "United States",
            "Germany"
           ],
           "legendgroup": "United States",
           "marker": {
            "color": [
             4,
             11,
             2,
             12,
             10,
             5,
             7,
             8,
             1,
             3
            ],
            "coloraxis": "coloraxis",
            "pattern": {
             "shape": "x"
            }
           },
           "name": "United States",
           "offsetgroup": "United States",
           "orientation": "h",
           "showlegend": true,
           "text": [
            1,
            2,
            2,
            7,
            8,
            11,
            13,
            17,
            31,
            36
           ],
           "textposition": "auto",
           "type": "bar",
           "x": [
            1,
            2,
            2,
            7,
            8,
            11,
            13,
            17,
            31,
            36
           ],
           "xaxis": "x",
           "y": [
            "United Kingdom",
            "Australia",
            "Japan",
            "Sweden",
            "Netherlands",
            "France",
            "Italy",
            "Canada",
            "United States",
            "Germany"
           ],
           "yaxis": "y"
          }
         ],
         "name": "2002.0"
        },
        {
         "data": [
          {
           "alignmentgroup": "True",
           "hovertemplate": "Host country=Greece<br>year=2004.0<br>Medal number=%{text}<br>country=%{y}<br>World GDP rank=%{marker.color}<extra></extra>",
           "ids": [
            "Sweden",
            "Brazil",
            "Canada",
            "Netherlands",
            "United Kingdom",
            "Italy",
            "France",
            "Japan",
            "Germany",
            "Australia",
            "United States"
           ],
           "legendgroup": "Greece",
           "marker": {
            "color": [
             12,
             9,
             8,
             10,
             4,
             7,
             5,
             2,
             3,
             11,
             1
            ],
            "coloraxis": "coloraxis",
            "pattern": {
             "shape": "/"
            }
           },
           "name": "Greece",
           "offsetgroup": "Greece",
           "orientation": "h",
           "showlegend": true,
           "text": [
            7,
            10,
            12,
            22,
            30,
            32,
            33,
            37,
            49,
            50,
            101
           ],
           "textposition": "auto",
           "type": "bar",
           "x": [
            7,
            10,
            12,
            22,
            30,
            32,
            33,
            37,
            49,
            50,
            101
           ],
           "xaxis": "x",
           "y": [
            "Sweden",
            "Brazil",
            "Canada",
            "Netherlands",
            "United Kingdom",
            "Italy",
            "France",
            "Japan",
            "Germany",
            "Australia",
            "United States"
           ],
           "yaxis": "y"
          }
         ],
         "name": "2004.0"
        },
        {
         "data": [
          {
           "alignmentgroup": "True",
           "hovertemplate": "Host country=Italy<br>year=2006.0<br>Medal number=%{text}<br>country=%{y}<br>World GDP rank=%{marker.color}<extra></extra>",
           "ids": [
            "Japan",
            "Australia",
            "France",
            "Netherlands",
            "Italy",
            "Sweden",
            "Canada",
            "United States",
            "Germany"
           ],
           "legendgroup": "Italy",
           "marker": {
            "color": [
             2,
             10,
             6,
             11,
             7,
             12,
             8,
             1,
             3
            ],
            "coloraxis": "coloraxis",
            "pattern": {
             "shape": "\\"
            }
           },
           "name": "Italy",
           "offsetgroup": "Italy",
           "orientation": "h",
           "showlegend": true,
           "text": [
            1,
            2,
            9,
            9,
            11,
            14,
            21,
            25,
            29
           ],
           "textposition": "auto",
           "type": "bar",
           "x": [
            1,
            2,
            9,
            9,
            11,
            14,
            21,
            25,
            29
           ],
           "xaxis": "x",
           "y": [
            "Japan",
            "Australia",
            "France",
            "Netherlands",
            "Italy",
            "Sweden",
            "Canada",
            "United States",
            "Germany"
           ],
           "yaxis": "y"
          }
         ],
         "name": "2006.0"
        },
        {
         "data": [
          {
           "alignmentgroup": "True",
           "hovertemplate": "Host country=China<br>year=2008.0<br>Medal number=%{text}<br>country=%{y}<br>World GDP rank=%{marker.color}<extra></extra>",
           "ids": [
            "Sweden",
            "Netherlands",
            "Brazil",
            "Canada",
            "Japan",
            "Italy",
            "Germany",
            "France",
            "Australia",
            "United Kingdom",
            "United States"
           ],
           "legendgroup": "China",
           "marker": {
            "color": [
             12,
             11,
             8,
             9,
             2,
             7,
             4,
             6,
             10,
             5,
             1
            ],
            "coloraxis": "coloraxis",
            "pattern": {
             "shape": "x"
            }
           },
           "name": "China",
           "offsetgroup": "China",
           "orientation": "h",
           "showlegend": true,
           "text": [
            5,
            16,
            17,
            20,
            25,
            27,
            41,
            43,
            46,
            51,
            112
           ],
           "textposition": "auto",
           "type": "bar",
           "x": [
            5,
            16,
            17,
            20,
            25,
            27,
            41,
            43,
            46,
            51,
            112
           ],
           "xaxis": "x",
           "y": [
            "Sweden",
            "Netherlands",
            "Brazil",
            "Canada",
            "Japan",
            "Italy",
            "Germany",
            "France",
            "Australia",
            "United Kingdom",
            "United States"
           ],
           "yaxis": "y"
          }
         ],
         "name": "2008.0"
        },
        {
         "data": [
          {
           "alignmentgroup": "True",
           "hovertemplate": "Host country=Canada<br>year=2010.0<br>Medal number=%{text}<br>country=%{y}<br>World GDP rank=%{marker.color}<extra></extra>",
           "ids": [
            "United Kingdom",
            "Australia",
            "Italy",
            "Japan",
            "Netherlands",
            "Sweden",
            "France",
            "Canada",
            "Germany",
            "United States"
           ],
           "legendgroup": "Canada",
           "marker": {
            "color": [
             6,
             10,
             8,
             3,
             11,
             12,
             5,
             9,
             4,
             1
            ],
            "coloraxis": "coloraxis",
            "pattern": {
             "shape": "+"
            }
           },
           "name": "Canada",
           "offsetgroup": "Canada",
           "orientation": "h",
           "showlegend": true,
           "text": [
            1,
            3,
            5,
            5,
            8,
            11,
            11,
            26,
            30,
            37
           ],
           "textposition": "auto",
           "type": "bar",
           "x": [
            1,
            3,
            5,
            5,
            8,
            11,
            11,
            26,
            30,
            37
           ],
           "xaxis": "x",
           "y": [
            "United Kingdom",
            "Australia",
            "Italy",
            "Japan",
            "Netherlands",
            "Sweden",
            "France",
            "Canada",
            "Germany",
            "United States"
           ],
           "yaxis": "y"
          }
         ],
         "name": "2010.0"
        },
        {
         "data": [
          {
           "alignmentgroup": "True",
           "hovertemplate": "Host country=United Kingdom<br>year=2012.0<br>Medal number=%{text}<br>country=%{y}<br>World GDP rank=%{marker.color}<extra></extra>",
           "ids": [
            "Sweden",
            "Brazil",
            "Canada",
            "Netherlands",
            "Italy",
            "France",
            "Australia",
            "Japan",
            "Germany",
            "United Kingdom",
            "United States"
           ],
           "legendgroup": "United Kingdom",
           "marker": {
            "color": [
             12,
             7,
             9,
             11,
             8,
             6,
             10,
             3,
             4,
             5,
             1
            ],
            "coloraxis": "coloraxis",
            "pattern": {
             "shape": "+"
            }
           },
           "name": "United Kingdom",
           "offsetgroup": "United Kingdom",
           "orientation": "h",
           "showlegend": true,
           "text": [
            8,
            17,
            18,
            20,
            28,
            35,
            35,
            38,
            44,
            65,
            104
           ],
           "textposition": "auto",
           "type": "bar",
           "x": [
            8,
            17,
            18,
            20,
            28,
            35,
            35,
            38,
            44,
            65,
            104
           ],
           "xaxis": "x",
           "y": [
            "Sweden",
            "Brazil",
            "Canada",
            "Netherlands",
            "Italy",
            "France",
            "Australia",
            "Japan",
            "Germany",
            "United Kingdom",
            "United States"
           ],
           "yaxis": "y"
          }
         ],
         "name": "2012.0"
        },
        {
         "data": [
          {
           "alignmentgroup": "True",
           "hovertemplate": "Host country=Russia<br>year=2014.0<br>Medal number=%{text}<br>country=%{y}<br>World GDP rank=%{marker.color}<extra></extra>",
           "ids": [
            "Australia",
            "United Kingdom",
            "Japan",
            "Italy",
            "France",
            "Sweden",
            "Germany",
            "Netherlands",
            "Canada",
            "United States"
           ],
           "legendgroup": "Russia",
           "marker": {
            "color": [
             10,
             5,
             3,
             8,
             6,
             12,
             4,
             11,
             9,
             1
            ],
            "coloraxis": "coloraxis",
            "pattern": {
             "shape": "."
            }
           },
           "name": "Russia",
           "offsetgroup": "Russia",
           "orientation": "h",
           "showlegend": true,
           "text": [
            3,
            5,
            8,
            8,
            15,
            15,
            19,
            24,
            25,
            28
           ],
           "textposition": "auto",
           "type": "bar",
           "x": [
            3,
            5,
            8,
            8,
            15,
            15,
            19,
            24,
            25,
            28
           ],
           "xaxis": "x",
           "y": [
            "Australia",
            "United Kingdom",
            "Japan",
            "Italy",
            "France",
            "Sweden",
            "Germany",
            "Netherlands",
            "Canada",
            "United States"
           ],
           "yaxis": "y"
          }
         ],
         "name": "2014.0"
        },
        {
         "data": [
          {
           "alignmentgroup": "True",
           "hovertemplate": "Host country=Brazil<br>year=2016.0<br>Medal number=%{text}<br>country=%{y}<br>World GDP rank=%{marker.color}<extra></extra>",
           "ids": [
            "Sweden",
            "Netherlands",
            "Brazil",
            "Canada",
            "Italy",
            "Australia",
            "Japan",
            "Germany",
            "France",
            "United Kingdom",
            "United States"
           ],
           "legendgroup": "Brazil",
           "marker": {
            "color": [
             12,
             11,
             8,
             9,
             7,
             10,
             3,
             4,
             6,
             5,
             1
            ],
            "coloraxis": "coloraxis",
            "pattern": {
             "shape": ""
            }
           },
           "name": "Brazil",
           "offsetgroup": "Brazil",
           "orientation": "h",
           "showlegend": true,
           "text": [
            11,
            19,
            19,
            22,
            28,
            29,
            41,
            42,
            42,
            67,
            121
           ],
           "textposition": "auto",
           "type": "bar",
           "x": [
            11,
            19,
            19,
            22,
            28,
            29,
            41,
            42,
            42,
            67,
            121
           ],
           "xaxis": "x",
           "y": [
            "Sweden",
            "Netherlands",
            "Brazil",
            "Canada",
            "Italy",
            "Australia",
            "Japan",
            "Germany",
            "France",
            "United Kingdom",
            "United States"
           ],
           "yaxis": "y"
          }
         ],
         "name": "2016.0"
        },
        {
         "data": [
          {
           "alignmentgroup": "True",
           "hovertemplate": "Host country=Japan<br>year=2020.0<br>Medal number=%{text}<br>country=%{y}<br>World GDP rank=%{marker.color}<extra></extra>",
           "ids": [
            "Sweden",
            "Brazil",
            "Canada",
            "France",
            "Netherlands",
            "Germany",
            "Italy",
            "Australia",
            "Japan",
            "United Kingdom",
            "United States"
           ],
           "legendgroup": "Japan",
           "marker": {
            "color": [
             12,
             9,
             8,
             6,
             11,
             4,
             7,
             10,
             3,
             5,
             1
            ],
            "coloraxis": "coloraxis",
            "pattern": {
             "shape": "\\"
            }
           },
           "name": "Japan",
           "offsetgroup": "Japan",
           "orientation": "h",
           "showlegend": true,
           "text": [
            9,
            21,
            24,
            33,
            36,
            37,
            40,
            46,
            58,
            64,
            113
           ],
           "textposition": "auto",
           "type": "bar",
           "x": [
            9,
            21,
            24,
            33,
            36,
            37,
            40,
            46,
            58,
            64,
            113
           ],
           "xaxis": "x",
           "y": [
            "Sweden",
            "Brazil",
            "Canada",
            "France",
            "Netherlands",
            "Germany",
            "Italy",
            "Australia",
            "Japan",
            "United Kingdom",
            "United States"
           ],
           "yaxis": "y"
          }
         ],
         "name": "2020.0"
        }
       ],
       "layout": {
        "barmode": "relative",
        "coloraxis": {
         "colorbar": {
          "title": {
           "text": "World GDP rank"
          }
         },
         "colorscale": [
          [
           0,
           "#0d0887"
          ],
          [
           0.1111111111111111,
           "#46039f"
          ],
          [
           0.2222222222222222,
           "#7201a8"
          ],
          [
           0.3333333333333333,
           "#9c179e"
          ],
          [
           0.4444444444444444,
           "#bd3786"
          ],
          [
           0.5555555555555556,
           "#d8576b"
          ],
          [
           0.6666666666666666,
           "#ed7953"
          ],
          [
           0.7777777777777778,
           "#fb9f3a"
          ],
          [
           0.8888888888888888,
           "#fdca26"
          ],
          [
           1,
           "#f0f921"
          ]
         ]
        },
        "font": {
         "color": "black"
        },
        "legend": {
         "font": {
          "size": 12
         },
         "title": {
          "font": {
           "color": "black"
          },
          "text": "Host country"
         },
         "tracegroupgap": 0,
         "x": 0.97,
         "xanchor": "right",
         "y": 0.03,
         "yanchor": "bottom"
        },
        "paper_bgcolor": "rgba(0, 0, 0, 0)",
        "plot_bgcolor": "rgba(0, 0, 0, 0)",
        "sliders": [
         {
          "active": 0,
          "currentvalue": {
           "prefix": "year="
          },
          "len": 0.9,
          "pad": {
           "b": 10,
           "t": 60
          },
          "steps": [
           {
            "args": [
             [
              "1964.0"
             ],
             {
              "frame": {
               "duration": 0,
               "redraw": true
              },
              "fromcurrent": true,
              "mode": "immediate",
              "transition": {
               "duration": 0,
               "easing": "linear"
              }
             }
            ],
            "label": "1964.0",
            "method": "animate"
           },
           {
            "args": [
             [
              "1968.0"
             ],
             {
              "frame": {
               "duration": 0,
               "redraw": true
              },
              "fromcurrent": true,
              "mode": "immediate",
              "transition": {
               "duration": 0,
               "easing": "linear"
              }
             }
            ],
            "label": "1968.0",
            "method": "animate"
           },
           {
            "args": [
             [
              "1972.0"
             ],
             {
              "frame": {
               "duration": 0,
               "redraw": true
              },
              "fromcurrent": true,
              "mode": "immediate",
              "transition": {
               "duration": 0,
               "easing": "linear"
              }
             }
            ],
            "label": "1972.0",
            "method": "animate"
           },
           {
            "args": [
             [
              "1976.0"
             ],
             {
              "frame": {
               "duration": 0,
               "redraw": true
              },
              "fromcurrent": true,
              "mode": "immediate",
              "transition": {
               "duration": 0,
               "easing": "linear"
              }
             }
            ],
            "label": "1976.0",
            "method": "animate"
           },
           {
            "args": [
             [
              "1980.0"
             ],
             {
              "frame": {
               "duration": 0,
               "redraw": true
              },
              "fromcurrent": true,
              "mode": "immediate",
              "transition": {
               "duration": 0,
               "easing": "linear"
              }
             }
            ],
            "label": "1980.0",
            "method": "animate"
           },
           {
            "args": [
             [
              "1984.0"
             ],
             {
              "frame": {
               "duration": 0,
               "redraw": true
              },
              "fromcurrent": true,
              "mode": "immediate",
              "transition": {
               "duration": 0,
               "easing": "linear"
              }
             }
            ],
            "label": "1984.0",
            "method": "animate"
           },
           {
            "args": [
             [
              "1988.0"
             ],
             {
              "frame": {
               "duration": 0,
               "redraw": true
              },
              "fromcurrent": true,
              "mode": "immediate",
              "transition": {
               "duration": 0,
               "easing": "linear"
              }
             }
            ],
            "label": "1988.0",
            "method": "animate"
           },
           {
            "args": [
             [
              "1992.0"
             ],
             {
              "frame": {
               "duration": 0,
               "redraw": true
              },
              "fromcurrent": true,
              "mode": "immediate",
              "transition": {
               "duration": 0,
               "easing": "linear"
              }
             }
            ],
            "label": "1992.0",
            "method": "animate"
           },
           {
            "args": [
             [
              "1994.0"
             ],
             {
              "frame": {
               "duration": 0,
               "redraw": true
              },
              "fromcurrent": true,
              "mode": "immediate",
              "transition": {
               "duration": 0,
               "easing": "linear"
              }
             }
            ],
            "label": "1994.0",
            "method": "animate"
           },
           {
            "args": [
             [
              "1996.0"
             ],
             {
              "frame": {
               "duration": 0,
               "redraw": true
              },
              "fromcurrent": true,
              "mode": "immediate",
              "transition": {
               "duration": 0,
               "easing": "linear"
              }
             }
            ],
            "label": "1996.0",
            "method": "animate"
           },
           {
            "args": [
             [
              "1998.0"
             ],
             {
              "frame": {
               "duration": 0,
               "redraw": true
              },
              "fromcurrent": true,
              "mode": "immediate",
              "transition": {
               "duration": 0,
               "easing": "linear"
              }
             }
            ],
            "label": "1998.0",
            "method": "animate"
           },
           {
            "args": [
             [
              "2000.0"
             ],
             {
              "frame": {
               "duration": 0,
               "redraw": true
              },
              "fromcurrent": true,
              "mode": "immediate",
              "transition": {
               "duration": 0,
               "easing": "linear"
              }
             }
            ],
            "label": "2000.0",
            "method": "animate"
           },
           {
            "args": [
             [
              "2002.0"
             ],
             {
              "frame": {
               "duration": 0,
               "redraw": true
              },
              "fromcurrent": true,
              "mode": "immediate",
              "transition": {
               "duration": 0,
               "easing": "linear"
              }
             }
            ],
            "label": "2002.0",
            "method": "animate"
           },
           {
            "args": [
             [
              "2004.0"
             ],
             {
              "frame": {
               "duration": 0,
               "redraw": true
              },
              "fromcurrent": true,
              "mode": "immediate",
              "transition": {
               "duration": 0,
               "easing": "linear"
              }
             }
            ],
            "label": "2004.0",
            "method": "animate"
           },
           {
            "args": [
             [
              "2006.0"
             ],
             {
              "frame": {
               "duration": 0,
               "redraw": true
              },
              "fromcurrent": true,
              "mode": "immediate",
              "transition": {
               "duration": 0,
               "easing": "linear"
              }
             }
            ],
            "label": "2006.0",
            "method": "animate"
           },
           {
            "args": [
             [
              "2008.0"
             ],
             {
              "frame": {
               "duration": 0,
               "redraw": true
              },
              "fromcurrent": true,
              "mode": "immediate",
              "transition": {
               "duration": 0,
               "easing": "linear"
              }
             }
            ],
            "label": "2008.0",
            "method": "animate"
           },
           {
            "args": [
             [
              "2010.0"
             ],
             {
              "frame": {
               "duration": 0,
               "redraw": true
              },
              "fromcurrent": true,
              "mode": "immediate",
              "transition": {
               "duration": 0,
               "easing": "linear"
              }
             }
            ],
            "label": "2010.0",
            "method": "animate"
           },
           {
            "args": [
             [
              "2012.0"
             ],
             {
              "frame": {
               "duration": 0,
               "redraw": true
              },
              "fromcurrent": true,
              "mode": "immediate",
              "transition": {
               "duration": 0,
               "easing": "linear"
              }
             }
            ],
            "label": "2012.0",
            "method": "animate"
           },
           {
            "args": [
             [
              "2014.0"
             ],
             {
              "frame": {
               "duration": 0,
               "redraw": true
              },
              "fromcurrent": true,
              "mode": "immediate",
              "transition": {
               "duration": 0,
               "easing": "linear"
              }
             }
            ],
            "label": "2014.0",
            "method": "animate"
           },
           {
            "args": [
             [
              "2016.0"
             ],
             {
              "frame": {
               "duration": 0,
               "redraw": true
              },
              "fromcurrent": true,
              "mode": "immediate",
              "transition": {
               "duration": 0,
               "easing": "linear"
              }
             }
            ],
            "label": "2016.0",
            "method": "animate"
           },
           {
            "args": [
             [
              "2020.0"
             ],
             {
              "frame": {
               "duration": 0,
               "redraw": true
              },
              "fromcurrent": true,
              "mode": "immediate",
              "transition": {
               "duration": 0,
               "easing": "linear"
              }
             }
            ],
            "label": "2020.0",
            "method": "animate"
           }
          ],
          "x": 0.1,
          "xanchor": "left",
          "y": 0,
          "yanchor": "top"
         }
        ],
        "template": {
         "data": {
          "bar": [
           {
            "error_x": {
             "color": "#2a3f5f"
            },
            "error_y": {
             "color": "#2a3f5f"
            },
            "marker": {
             "line": {
              "color": "#E5ECF6",
              "width": 0.5
             },
             "pattern": {
              "fillmode": "overlay",
              "size": 10,
              "solidity": 0.2
             }
            },
            "type": "bar"
           }
          ],
          "barpolar": [
           {
            "marker": {
             "line": {
              "color": "#E5ECF6",
              "width": 0.5
             },
             "pattern": {
              "fillmode": "overlay",
              "size": 10,
              "solidity": 0.2
             }
            },
            "type": "barpolar"
           }
          ],
          "carpet": [
           {
            "aaxis": {
             "endlinecolor": "#2a3f5f",
             "gridcolor": "white",
             "linecolor": "white",
             "minorgridcolor": "white",
             "startlinecolor": "#2a3f5f"
            },
            "baxis": {
             "endlinecolor": "#2a3f5f",
             "gridcolor": "white",
             "linecolor": "white",
             "minorgridcolor": "white",
             "startlinecolor": "#2a3f5f"
            },
            "type": "carpet"
           }
          ],
          "choropleth": [
           {
            "colorbar": {
             "outlinewidth": 0,
             "ticks": ""
            },
            "type": "choropleth"
           }
          ],
          "contour": [
           {
            "colorbar": {
             "outlinewidth": 0,
             "ticks": ""
            },
            "colorscale": [
             [
              0,
              "#0d0887"
             ],
             [
              0.1111111111111111,
              "#46039f"
             ],
             [
              0.2222222222222222,
              "#7201a8"
             ],
             [
              0.3333333333333333,
              "#9c179e"
             ],
             [
              0.4444444444444444,
              "#bd3786"
             ],
             [
              0.5555555555555556,
              "#d8576b"
             ],
             [
              0.6666666666666666,
              "#ed7953"
             ],
             [
              0.7777777777777778,
              "#fb9f3a"
             ],
             [
              0.8888888888888888,
              "#fdca26"
             ],
             [
              1,
              "#f0f921"
             ]
            ],
            "type": "contour"
           }
          ],
          "contourcarpet": [
           {
            "colorbar": {
             "outlinewidth": 0,
             "ticks": ""
            },
            "type": "contourcarpet"
           }
          ],
          "heatmap": [
           {
            "colorbar": {
             "outlinewidth": 0,
             "ticks": ""
            },
            "colorscale": [
             [
              0,
              "#0d0887"
             ],
             [
              0.1111111111111111,
              "#46039f"
             ],
             [
              0.2222222222222222,
              "#7201a8"
             ],
             [
              0.3333333333333333,
              "#9c179e"
             ],
             [
              0.4444444444444444,
              "#bd3786"
             ],
             [
              0.5555555555555556,
              "#d8576b"
             ],
             [
              0.6666666666666666,
              "#ed7953"
             ],
             [
              0.7777777777777778,
              "#fb9f3a"
             ],
             [
              0.8888888888888888,
              "#fdca26"
             ],
             [
              1,
              "#f0f921"
             ]
            ],
            "type": "heatmap"
           }
          ],
          "heatmapgl": [
           {
            "colorbar": {
             "outlinewidth": 0,
             "ticks": ""
            },
            "colorscale": [
             [
              0,
              "#0d0887"
             ],
             [
              0.1111111111111111,
              "#46039f"
             ],
             [
              0.2222222222222222,
              "#7201a8"
             ],
             [
              0.3333333333333333,
              "#9c179e"
             ],
             [
              0.4444444444444444,
              "#bd3786"
             ],
             [
              0.5555555555555556,
              "#d8576b"
             ],
             [
              0.6666666666666666,
              "#ed7953"
             ],
             [
              0.7777777777777778,
              "#fb9f3a"
             ],
             [
              0.8888888888888888,
              "#fdca26"
             ],
             [
              1,
              "#f0f921"
             ]
            ],
            "type": "heatmapgl"
           }
          ],
          "histogram": [
           {
            "marker": {
             "pattern": {
              "fillmode": "overlay",
              "size": 10,
              "solidity": 0.2
             }
            },
            "type": "histogram"
           }
          ],
          "histogram2d": [
           {
            "colorbar": {
             "outlinewidth": 0,
             "ticks": ""
            },
            "colorscale": [
             [
              0,
              "#0d0887"
             ],
             [
              0.1111111111111111,
              "#46039f"
             ],
             [
              0.2222222222222222,
              "#7201a8"
             ],
             [
              0.3333333333333333,
              "#9c179e"
             ],
             [
              0.4444444444444444,
              "#bd3786"
             ],
             [
              0.5555555555555556,
              "#d8576b"
             ],
             [
              0.6666666666666666,
              "#ed7953"
             ],
             [
              0.7777777777777778,
              "#fb9f3a"
             ],
             [
              0.8888888888888888,
              "#fdca26"
             ],
             [
              1,
              "#f0f921"
             ]
            ],
            "type": "histogram2d"
           }
          ],
          "histogram2dcontour": [
           {
            "colorbar": {
             "outlinewidth": 0,
             "ticks": ""
            },
            "colorscale": [
             [
              0,
              "#0d0887"
             ],
             [
              0.1111111111111111,
              "#46039f"
             ],
             [
              0.2222222222222222,
              "#7201a8"
             ],
             [
              0.3333333333333333,
              "#9c179e"
             ],
             [
              0.4444444444444444,
              "#bd3786"
             ],
             [
              0.5555555555555556,
              "#d8576b"
             ],
             [
              0.6666666666666666,
              "#ed7953"
             ],
             [
              0.7777777777777778,
              "#fb9f3a"
             ],
             [
              0.8888888888888888,
              "#fdca26"
             ],
             [
              1,
              "#f0f921"
             ]
            ],
            "type": "histogram2dcontour"
           }
          ],
          "mesh3d": [
           {
            "colorbar": {
             "outlinewidth": 0,
             "ticks": ""
            },
            "type": "mesh3d"
           }
          ],
          "parcoords": [
           {
            "line": {
             "colorbar": {
              "outlinewidth": 0,
              "ticks": ""
             }
            },
            "type": "parcoords"
           }
          ],
          "pie": [
           {
            "automargin": true,
            "type": "pie"
           }
          ],
          "scatter": [
           {
            "fillpattern": {
             "fillmode": "overlay",
             "size": 10,
             "solidity": 0.2
            },
            "type": "scatter"
           }
          ],
          "scatter3d": [
           {
            "line": {
             "colorbar": {
              "outlinewidth": 0,
              "ticks": ""
             }
            },
            "marker": {
             "colorbar": {
              "outlinewidth": 0,
              "ticks": ""
             }
            },
            "type": "scatter3d"
           }
          ],
          "scattercarpet": [
           {
            "marker": {
             "colorbar": {
              "outlinewidth": 0,
              "ticks": ""
             }
            },
            "type": "scattercarpet"
           }
          ],
          "scattergeo": [
           {
            "marker": {
             "colorbar": {
              "outlinewidth": 0,
              "ticks": ""
             }
            },
            "type": "scattergeo"
           }
          ],
          "scattergl": [
           {
            "marker": {
             "colorbar": {
              "outlinewidth": 0,
              "ticks": ""
             }
            },
            "type": "scattergl"
           }
          ],
          "scattermapbox": [
           {
            "marker": {
             "colorbar": {
              "outlinewidth": 0,
              "ticks": ""
             }
            },
            "type": "scattermapbox"
           }
          ],
          "scatterpolar": [
           {
            "marker": {
             "colorbar": {
              "outlinewidth": 0,
              "ticks": ""
             }
            },
            "type": "scatterpolar"
           }
          ],
          "scatterpolargl": [
           {
            "marker": {
             "colorbar": {
              "outlinewidth": 0,
              "ticks": ""
             }
            },
            "type": "scatterpolargl"
           }
          ],
          "scatterternary": [
           {
            "marker": {
             "colorbar": {
              "outlinewidth": 0,
              "ticks": ""
             }
            },
            "type": "scatterternary"
           }
          ],
          "surface": [
           {
            "colorbar": {
             "outlinewidth": 0,
             "ticks": ""
            },
            "colorscale": [
             [
              0,
              "#0d0887"
             ],
             [
              0.1111111111111111,
              "#46039f"
             ],
             [
              0.2222222222222222,
              "#7201a8"
             ],
             [
              0.3333333333333333,
              "#9c179e"
             ],
             [
              0.4444444444444444,
              "#bd3786"
             ],
             [
              0.5555555555555556,
              "#d8576b"
             ],
             [
              0.6666666666666666,
              "#ed7953"
             ],
             [
              0.7777777777777778,
              "#fb9f3a"
             ],
             [
              0.8888888888888888,
              "#fdca26"
             ],
             [
              1,
              "#f0f921"
             ]
            ],
            "type": "surface"
           }
          ],
          "table": [
           {
            "cells": {
             "fill": {
              "color": "#EBF0F8"
             },
             "line": {
              "color": "white"
             }
            },
            "header": {
             "fill": {
              "color": "#C8D4E3"
             },
             "line": {
              "color": "white"
             }
            },
            "type": "table"
           }
          ]
         },
         "layout": {
          "annotationdefaults": {
           "arrowcolor": "#2a3f5f",
           "arrowhead": 0,
           "arrowwidth": 1
          },
          "autotypenumbers": "strict",
          "coloraxis": {
           "colorbar": {
            "outlinewidth": 0,
            "ticks": ""
           }
          },
          "colorscale": {
           "diverging": [
            [
             0,
             "#8e0152"
            ],
            [
             0.1,
             "#c51b7d"
            ],
            [
             0.2,
             "#de77ae"
            ],
            [
             0.3,
             "#f1b6da"
            ],
            [
             0.4,
             "#fde0ef"
            ],
            [
             0.5,
             "#f7f7f7"
            ],
            [
             0.6,
             "#e6f5d0"
            ],
            [
             0.7,
             "#b8e186"
            ],
            [
             0.8,
             "#7fbc41"
            ],
            [
             0.9,
             "#4d9221"
            ],
            [
             1,
             "#276419"
            ]
           ],
           "sequential": [
            [
             0,
             "#0d0887"
            ],
            [
             0.1111111111111111,
             "#46039f"
            ],
            [
             0.2222222222222222,
             "#7201a8"
            ],
            [
             0.3333333333333333,
             "#9c179e"
            ],
            [
             0.4444444444444444,
             "#bd3786"
            ],
            [
             0.5555555555555556,
             "#d8576b"
            ],
            [
             0.6666666666666666,
             "#ed7953"
            ],
            [
             0.7777777777777778,
             "#fb9f3a"
            ],
            [
             0.8888888888888888,
             "#fdca26"
            ],
            [
             1,
             "#f0f921"
            ]
           ],
           "sequentialminus": [
            [
             0,
             "#0d0887"
            ],
            [
             0.1111111111111111,
             "#46039f"
            ],
            [
             0.2222222222222222,
             "#7201a8"
            ],
            [
             0.3333333333333333,
             "#9c179e"
            ],
            [
             0.4444444444444444,
             "#bd3786"
            ],
            [
             0.5555555555555556,
             "#d8576b"
            ],
            [
             0.6666666666666666,
             "#ed7953"
            ],
            [
             0.7777777777777778,
             "#fb9f3a"
            ],
            [
             0.8888888888888888,
             "#fdca26"
            ],
            [
             1,
             "#f0f921"
            ]
           ]
          },
          "colorway": [
           "#636efa",
           "#EF553B",
           "#00cc96",
           "#ab63fa",
           "#FFA15A",
           "#19d3f3",
           "#FF6692",
           "#B6E880",
           "#FF97FF",
           "#FECB52"
          ],
          "font": {
           "color": "#2a3f5f"
          },
          "geo": {
           "bgcolor": "white",
           "lakecolor": "white",
           "landcolor": "#E5ECF6",
           "showlakes": true,
           "showland": true,
           "subunitcolor": "white"
          },
          "hoverlabel": {
           "align": "left"
          },
          "hovermode": "closest",
          "mapbox": {
           "style": "light"
          },
          "paper_bgcolor": "white",
          "plot_bgcolor": "#E5ECF6",
          "polar": {
           "angularaxis": {
            "gridcolor": "white",
            "linecolor": "white",
            "ticks": ""
           },
           "bgcolor": "#E5ECF6",
           "radialaxis": {
            "gridcolor": "white",
            "linecolor": "white",
            "ticks": ""
           }
          },
          "scene": {
           "xaxis": {
            "backgroundcolor": "#E5ECF6",
            "gridcolor": "white",
            "gridwidth": 2,
            "linecolor": "white",
            "showbackground": true,
            "ticks": "",
            "zerolinecolor": "white"
           },
           "yaxis": {
            "backgroundcolor": "#E5ECF6",
            "gridcolor": "white",
            "gridwidth": 2,
            "linecolor": "white",
            "showbackground": true,
            "ticks": "",
            "zerolinecolor": "white"
           },
           "zaxis": {
            "backgroundcolor": "#E5ECF6",
            "gridcolor": "white",
            "gridwidth": 2,
            "linecolor": "white",
            "showbackground": true,
            "ticks": "",
            "zerolinecolor": "white"
           }
          },
          "shapedefaults": {
           "line": {
            "color": "#2a3f5f"
           }
          },
          "ternary": {
           "aaxis": {
            "gridcolor": "white",
            "linecolor": "white",
            "ticks": ""
           },
           "baxis": {
            "gridcolor": "white",
            "linecolor": "white",
            "ticks": ""
           },
           "bgcolor": "#E5ECF6",
           "caxis": {
            "gridcolor": "white",
            "linecolor": "white",
            "ticks": ""
           }
          },
          "title": {
           "x": 0.05
          },
          "xaxis": {
           "automargin": true,
           "gridcolor": "white",
           "linecolor": "white",
           "ticks": "",
           "title": {
            "standoff": 15
           },
           "zerolinecolor": "white",
           "zerolinewidth": 2
          },
          "yaxis": {
           "automargin": true,
           "gridcolor": "white",
           "linecolor": "white",
           "ticks": "",
           "title": {
            "standoff": 15
           },
           "zerolinecolor": "white",
           "zerolinewidth": 2
          }
         }
        },
        "title": {
         "font": {
          "color": "black"
         },
         "text": "Number of medal won by countries that have hosted at least one Olympic game between 1986-2022."
        },
        "updatemenus": [
         {
          "buttons": [
           {
            "args": [
             null,
             {
              "frame": {
               "duration": 5000,
               "redraw": true
              },
              "fromcurrent": true,
              "mode": "immediate",
              "transition": {
               "duration": 500,
               "easing": "linear"
              }
             }
            ],
            "label": "&#9654;",
            "method": "animate"
           },
           {
            "args": [
             [
              null
             ],
             {
              "frame": {
               "duration": 0,
               "redraw": true
              },
              "fromcurrent": true,
              "mode": "immediate",
              "transition": {
               "duration": 0,
               "easing": "linear"
              }
             }
            ],
            "label": "&#9724;",
            "method": "animate"
           }
          ],
          "direction": "left",
          "pad": {
           "r": 10,
           "t": 70
          },
          "showactive": false,
          "type": "buttons",
          "x": 0.1,
          "xanchor": "right",
          "y": 0,
          "yanchor": "top"
         }
        ],
        "xaxis": {
         "anchor": "y",
         "domain": [
          0,
          1
         ],
         "range": [
          0,
          150
         ],
         "title": {
          "text": "Medal number"
         }
        },
        "yaxis": {
         "anchor": "x",
         "domain": [
          0,
          1
         ],
         "title": {
          "text": ""
         }
        }
       }
      },
      "text/html": [
       "<div>                            <div id=\"4aaab124-02ea-4680-91d1-36d2011adcec\" class=\"plotly-graph-div\" style=\"height:525px; width:100%;\"></div>            <script type=\"text/javascript\">                require([\"plotly\"], function(Plotly) {                    window.PLOTLYENV=window.PLOTLYENV || {};                                    if (document.getElementById(\"4aaab124-02ea-4680-91d1-36d2011adcec\")) {                    Plotly.newPlot(                        \"4aaab124-02ea-4680-91d1-36d2011adcec\",                        [{\"alignmentgroup\":\"True\",\"hovertemplate\":\"Host country=Austria<br>year=1964.0<br>Medal number=%{text}<br>country=%{y}<br>World GDP rank=%{marker.color}<extra></extra>\",\"ids\":[\"Brazil\",\"United Kingdom\",\"Netherlands\",\"Belgium\",\"Canada\",\"Italy\",\"France\",\"Sweden\",\"United States\",\"Australia\",\"Japan\"],\"legendgroup\":\"Austria\",\"marker\":{\"color\":[10,2,11,12,7,5,3,9,1,8,4],\"coloraxis\":\"coloraxis\",\"pattern\":{\"shape\":\"\"}},\"name\":\"Austria\",\"offsetgroup\":\"Austria\",\"orientation\":\"h\",\"showlegend\":true,\"text\":[1.0,1.0,2.0,3.0,3.0,4.0,7.0,7.0,7.0,18.0,29.0],\"textposition\":\"outside\",\"x\":[1,1,2,3,3,4,7,7,7,18,29],\"xaxis\":\"x\",\"y\":[\"Brazil\",\"United Kingdom\",\"Netherlands\",\"Belgium\",\"Canada\",\"Italy\",\"France\",\"Sweden\",\"United States\",\"Australia\",\"Japan\"],\"yaxis\":\"y\",\"type\":\"bar\"}],                        {\"template\":{\"data\":{\"histogram2dcontour\":[{\"type\":\"histogram2dcontour\",\"colorbar\":{\"outlinewidth\":0,\"ticks\":\"\"},\"colorscale\":[[0.0,\"#0d0887\"],[0.1111111111111111,\"#46039f\"],[0.2222222222222222,\"#7201a8\"],[0.3333333333333333,\"#9c179e\"],[0.4444444444444444,\"#bd3786\"],[0.5555555555555556,\"#d8576b\"],[0.6666666666666666,\"#ed7953\"],[0.7777777777777778,\"#fb9f3a\"],[0.8888888888888888,\"#fdca26\"],[1.0,\"#f0f921\"]]}],\"choropleth\":[{\"type\":\"choropleth\",\"colorbar\":{\"outlinewidth\":0,\"ticks\":\"\"}}],\"histogram2d\":[{\"type\":\"histogram2d\",\"colorbar\":{\"outlinewidth\":0,\"ticks\":\"\"},\"colorscale\":[[0.0,\"#0d0887\"],[0.1111111111111111,\"#46039f\"],[0.2222222222222222,\"#7201a8\"],[0.3333333333333333,\"#9c179e\"],[0.4444444444444444,\"#bd3786\"],[0.5555555555555556,\"#d8576b\"],[0.6666666666666666,\"#ed7953\"],[0.7777777777777778,\"#fb9f3a\"],[0.8888888888888888,\"#fdca26\"],[1.0,\"#f0f921\"]]}],\"heatmap\":[{\"type\":\"heatmap\",\"colorbar\":{\"outlinewidth\":0,\"ticks\":\"\"},\"colorscale\":[[0.0,\"#0d0887\"],[0.1111111111111111,\"#46039f\"],[0.2222222222222222,\"#7201a8\"],[0.3333333333333333,\"#9c179e\"],[0.4444444444444444,\"#bd3786\"],[0.5555555555555556,\"#d8576b\"],[0.6666666666666666,\"#ed7953\"],[0.7777777777777778,\"#fb9f3a\"],[0.8888888888888888,\"#fdca26\"],[1.0,\"#f0f921\"]]}],\"heatmapgl\":[{\"type\":\"heatmapgl\",\"colorbar\":{\"outlinewidth\":0,\"ticks\":\"\"},\"colorscale\":[[0.0,\"#0d0887\"],[0.1111111111111111,\"#46039f\"],[0.2222222222222222,\"#7201a8\"],[0.3333333333333333,\"#9c179e\"],[0.4444444444444444,\"#bd3786\"],[0.5555555555555556,\"#d8576b\"],[0.6666666666666666,\"#ed7953\"],[0.7777777777777778,\"#fb9f3a\"],[0.8888888888888888,\"#fdca26\"],[1.0,\"#f0f921\"]]}],\"contourcarpet\":[{\"type\":\"contourcarpet\",\"colorbar\":{\"outlinewidth\":0,\"ticks\":\"\"}}],\"contour\":[{\"type\":\"contour\",\"colorbar\":{\"outlinewidth\":0,\"ticks\":\"\"},\"colorscale\":[[0.0,\"#0d0887\"],[0.1111111111111111,\"#46039f\"],[0.2222222222222222,\"#7201a8\"],[0.3333333333333333,\"#9c179e\"],[0.4444444444444444,\"#bd3786\"],[0.5555555555555556,\"#d8576b\"],[0.6666666666666666,\"#ed7953\"],[0.7777777777777778,\"#fb9f3a\"],[0.8888888888888888,\"#fdca26\"],[1.0,\"#f0f921\"]]}],\"surface\":[{\"type\":\"surface\",\"colorbar\":{\"outlinewidth\":0,\"ticks\":\"\"},\"colorscale\":[[0.0,\"#0d0887\"],[0.1111111111111111,\"#46039f\"],[0.2222222222222222,\"#7201a8\"],[0.3333333333333333,\"#9c179e\"],[0.4444444444444444,\"#bd3786\"],[0.5555555555555556,\"#d8576b\"],[0.6666666666666666,\"#ed7953\"],[0.7777777777777778,\"#fb9f3a\"],[0.8888888888888888,\"#fdca26\"],[1.0,\"#f0f921\"]]}],\"mesh3d\":[{\"type\":\"mesh3d\",\"colorbar\":{\"outlinewidth\":0,\"ticks\":\"\"}}],\"scatter\":[{\"fillpattern\":{\"fillmode\":\"overlay\",\"size\":10,\"solidity\":0.2},\"type\":\"scatter\"}],\"parcoords\":[{\"type\":\"parcoords\",\"line\":{\"colorbar\":{\"outlinewidth\":0,\"ticks\":\"\"}}}],\"scatterpolargl\":[{\"type\":\"scatterpolargl\",\"marker\":{\"colorbar\":{\"outlinewidth\":0,\"ticks\":\"\"}}}],\"bar\":[{\"error_x\":{\"color\":\"#2a3f5f\"},\"error_y\":{\"color\":\"#2a3f5f\"},\"marker\":{\"line\":{\"color\":\"#E5ECF6\",\"width\":0.5},\"pattern\":{\"fillmode\":\"overlay\",\"size\":10,\"solidity\":0.2}},\"type\":\"bar\"}],\"scattergeo\":[{\"type\":\"scattergeo\",\"marker\":{\"colorbar\":{\"outlinewidth\":0,\"ticks\":\"\"}}}],\"scatterpolar\":[{\"type\":\"scatterpolar\",\"marker\":{\"colorbar\":{\"outlinewidth\":0,\"ticks\":\"\"}}}],\"histogram\":[{\"marker\":{\"pattern\":{\"fillmode\":\"overlay\",\"size\":10,\"solidity\":0.2}},\"type\":\"histogram\"}],\"scattergl\":[{\"type\":\"scattergl\",\"marker\":{\"colorbar\":{\"outlinewidth\":0,\"ticks\":\"\"}}}],\"scatter3d\":[{\"type\":\"scatter3d\",\"line\":{\"colorbar\":{\"outlinewidth\":0,\"ticks\":\"\"}},\"marker\":{\"colorbar\":{\"outlinewidth\":0,\"ticks\":\"\"}}}],\"scattermapbox\":[{\"type\":\"scattermapbox\",\"marker\":{\"colorbar\":{\"outlinewidth\":0,\"ticks\":\"\"}}}],\"scatterternary\":[{\"type\":\"scatterternary\",\"marker\":{\"colorbar\":{\"outlinewidth\":0,\"ticks\":\"\"}}}],\"scattercarpet\":[{\"type\":\"scattercarpet\",\"marker\":{\"colorbar\":{\"outlinewidth\":0,\"ticks\":\"\"}}}],\"carpet\":[{\"aaxis\":{\"endlinecolor\":\"#2a3f5f\",\"gridcolor\":\"white\",\"linecolor\":\"white\",\"minorgridcolor\":\"white\",\"startlinecolor\":\"#2a3f5f\"},\"baxis\":{\"endlinecolor\":\"#2a3f5f\",\"gridcolor\":\"white\",\"linecolor\":\"white\",\"minorgridcolor\":\"white\",\"startlinecolor\":\"#2a3f5f\"},\"type\":\"carpet\"}],\"table\":[{\"cells\":{\"fill\":{\"color\":\"#EBF0F8\"},\"line\":{\"color\":\"white\"}},\"header\":{\"fill\":{\"color\":\"#C8D4E3\"},\"line\":{\"color\":\"white\"}},\"type\":\"table\"}],\"barpolar\":[{\"marker\":{\"line\":{\"color\":\"#E5ECF6\",\"width\":0.5},\"pattern\":{\"fillmode\":\"overlay\",\"size\":10,\"solidity\":0.2}},\"type\":\"barpolar\"}],\"pie\":[{\"automargin\":true,\"type\":\"pie\"}]},\"layout\":{\"autotypenumbers\":\"strict\",\"colorway\":[\"#636efa\",\"#EF553B\",\"#00cc96\",\"#ab63fa\",\"#FFA15A\",\"#19d3f3\",\"#FF6692\",\"#B6E880\",\"#FF97FF\",\"#FECB52\"],\"font\":{\"color\":\"#2a3f5f\"},\"hovermode\":\"closest\",\"hoverlabel\":{\"align\":\"left\"},\"paper_bgcolor\":\"white\",\"plot_bgcolor\":\"#E5ECF6\",\"polar\":{\"bgcolor\":\"#E5ECF6\",\"angularaxis\":{\"gridcolor\":\"white\",\"linecolor\":\"white\",\"ticks\":\"\"},\"radialaxis\":{\"gridcolor\":\"white\",\"linecolor\":\"white\",\"ticks\":\"\"}},\"ternary\":{\"bgcolor\":\"#E5ECF6\",\"aaxis\":{\"gridcolor\":\"white\",\"linecolor\":\"white\",\"ticks\":\"\"},\"baxis\":{\"gridcolor\":\"white\",\"linecolor\":\"white\",\"ticks\":\"\"},\"caxis\":{\"gridcolor\":\"white\",\"linecolor\":\"white\",\"ticks\":\"\"}},\"coloraxis\":{\"colorbar\":{\"outlinewidth\":0,\"ticks\":\"\"}},\"colorscale\":{\"sequential\":[[0.0,\"#0d0887\"],[0.1111111111111111,\"#46039f\"],[0.2222222222222222,\"#7201a8\"],[0.3333333333333333,\"#9c179e\"],[0.4444444444444444,\"#bd3786\"],[0.5555555555555556,\"#d8576b\"],[0.6666666666666666,\"#ed7953\"],[0.7777777777777778,\"#fb9f3a\"],[0.8888888888888888,\"#fdca26\"],[1.0,\"#f0f921\"]],\"sequentialminus\":[[0.0,\"#0d0887\"],[0.1111111111111111,\"#46039f\"],[0.2222222222222222,\"#7201a8\"],[0.3333333333333333,\"#9c179e\"],[0.4444444444444444,\"#bd3786\"],[0.5555555555555556,\"#d8576b\"],[0.6666666666666666,\"#ed7953\"],[0.7777777777777778,\"#fb9f3a\"],[0.8888888888888888,\"#fdca26\"],[1.0,\"#f0f921\"]],\"diverging\":[[0,\"#8e0152\"],[0.1,\"#c51b7d\"],[0.2,\"#de77ae\"],[0.3,\"#f1b6da\"],[0.4,\"#fde0ef\"],[0.5,\"#f7f7f7\"],[0.6,\"#e6f5d0\"],[0.7,\"#b8e186\"],[0.8,\"#7fbc41\"],[0.9,\"#4d9221\"],[1,\"#276419\"]]},\"xaxis\":{\"gridcolor\":\"white\",\"linecolor\":\"white\",\"ticks\":\"\",\"title\":{\"standoff\":15},\"zerolinecolor\":\"white\",\"automargin\":true,\"zerolinewidth\":2},\"yaxis\":{\"gridcolor\":\"white\",\"linecolor\":\"white\",\"ticks\":\"\",\"title\":{\"standoff\":15},\"zerolinecolor\":\"white\",\"automargin\":true,\"zerolinewidth\":2},\"scene\":{\"xaxis\":{\"backgroundcolor\":\"#E5ECF6\",\"gridcolor\":\"white\",\"linecolor\":\"white\",\"showbackground\":true,\"ticks\":\"\",\"zerolinecolor\":\"white\",\"gridwidth\":2},\"yaxis\":{\"backgroundcolor\":\"#E5ECF6\",\"gridcolor\":\"white\",\"linecolor\":\"white\",\"showbackground\":true,\"ticks\":\"\",\"zerolinecolor\":\"white\",\"gridwidth\":2},\"zaxis\":{\"backgroundcolor\":\"#E5ECF6\",\"gridcolor\":\"white\",\"linecolor\":\"white\",\"showbackground\":true,\"ticks\":\"\",\"zerolinecolor\":\"white\",\"gridwidth\":2}},\"shapedefaults\":{\"line\":{\"color\":\"#2a3f5f\"}},\"annotationdefaults\":{\"arrowcolor\":\"#2a3f5f\",\"arrowhead\":0,\"arrowwidth\":1},\"geo\":{\"bgcolor\":\"white\",\"landcolor\":\"#E5ECF6\",\"subunitcolor\":\"white\",\"showland\":true,\"showlakes\":true,\"lakecolor\":\"white\"},\"title\":{\"x\":0.05},\"mapbox\":{\"style\":\"light\"}}},\"xaxis\":{\"anchor\":\"y\",\"domain\":[0.0,1.0],\"title\":{\"text\":\"Medal number\"},\"range\":[0,150]},\"yaxis\":{\"anchor\":\"x\",\"domain\":[0.0,1.0],\"title\":{\"text\":\"\"}},\"coloraxis\":{\"colorbar\":{\"title\":{\"text\":\"World GDP rank\"}},\"colorscale\":[[0.0,\"#0d0887\"],[0.1111111111111111,\"#46039f\"],[0.2222222222222222,\"#7201a8\"],[0.3333333333333333,\"#9c179e\"],[0.4444444444444444,\"#bd3786\"],[0.5555555555555556,\"#d8576b\"],[0.6666666666666666,\"#ed7953\"],[0.7777777777777778,\"#fb9f3a\"],[0.8888888888888888,\"#fdca26\"],[1.0,\"#f0f921\"]]},\"legend\":{\"title\":{\"text\":\"Host country\",\"font\":{\"color\":\"black\"}},\"tracegroupgap\":0,\"yanchor\":\"bottom\",\"y\":0.03,\"xanchor\":\"right\",\"x\":0.97,\"font\":{\"size\":12}},\"title\":{\"text\":\"Number of medal won by countries that have hosted at least one Olympic game between 1986-2022.\",\"font\":{\"color\":\"black\"}},\"barmode\":\"relative\",\"updatemenus\":[{\"buttons\":[{\"args\":[null,{\"frame\":{\"duration\":5000,\"redraw\":true},\"mode\":\"immediate\",\"fromcurrent\":true,\"transition\":{\"duration\":500,\"easing\":\"linear\"}}],\"label\":\"&#9654;\",\"method\":\"animate\"},{\"args\":[[null],{\"frame\":{\"duration\":0,\"redraw\":true},\"mode\":\"immediate\",\"fromcurrent\":true,\"transition\":{\"duration\":0,\"easing\":\"linear\"}}],\"label\":\"&#9724;\",\"method\":\"animate\"}],\"direction\":\"left\",\"pad\":{\"r\":10,\"t\":70},\"showactive\":false,\"type\":\"buttons\",\"x\":0.1,\"xanchor\":\"right\",\"y\":0,\"yanchor\":\"top\"}],\"sliders\":[{\"active\":0,\"currentvalue\":{\"prefix\":\"year=\"},\"len\":0.9,\"pad\":{\"b\":10,\"t\":60},\"steps\":[{\"args\":[[\"1964.0\"],{\"frame\":{\"duration\":0,\"redraw\":true},\"mode\":\"immediate\",\"fromcurrent\":true,\"transition\":{\"duration\":0,\"easing\":\"linear\"}}],\"label\":\"1964.0\",\"method\":\"animate\"},{\"args\":[[\"1968.0\"],{\"frame\":{\"duration\":0,\"redraw\":true},\"mode\":\"immediate\",\"fromcurrent\":true,\"transition\":{\"duration\":0,\"easing\":\"linear\"}}],\"label\":\"1968.0\",\"method\":\"animate\"},{\"args\":[[\"1972.0\"],{\"frame\":{\"duration\":0,\"redraw\":true},\"mode\":\"immediate\",\"fromcurrent\":true,\"transition\":{\"duration\":0,\"easing\":\"linear\"}}],\"label\":\"1972.0\",\"method\":\"animate\"},{\"args\":[[\"1976.0\"],{\"frame\":{\"duration\":0,\"redraw\":true},\"mode\":\"immediate\",\"fromcurrent\":true,\"transition\":{\"duration\":0,\"easing\":\"linear\"}}],\"label\":\"1976.0\",\"method\":\"animate\"},{\"args\":[[\"1980.0\"],{\"frame\":{\"duration\":0,\"redraw\":true},\"mode\":\"immediate\",\"fromcurrent\":true,\"transition\":{\"duration\":0,\"easing\":\"linear\"}}],\"label\":\"1980.0\",\"method\":\"animate\"},{\"args\":[[\"1984.0\"],{\"frame\":{\"duration\":0,\"redraw\":true},\"mode\":\"immediate\",\"fromcurrent\":true,\"transition\":{\"duration\":0,\"easing\":\"linear\"}}],\"label\":\"1984.0\",\"method\":\"animate\"},{\"args\":[[\"1988.0\"],{\"frame\":{\"duration\":0,\"redraw\":true},\"mode\":\"immediate\",\"fromcurrent\":true,\"transition\":{\"duration\":0,\"easing\":\"linear\"}}],\"label\":\"1988.0\",\"method\":\"animate\"},{\"args\":[[\"1992.0\"],{\"frame\":{\"duration\":0,\"redraw\":true},\"mode\":\"immediate\",\"fromcurrent\":true,\"transition\":{\"duration\":0,\"easing\":\"linear\"}}],\"label\":\"1992.0\",\"method\":\"animate\"},{\"args\":[[\"1994.0\"],{\"frame\":{\"duration\":0,\"redraw\":true},\"mode\":\"immediate\",\"fromcurrent\":true,\"transition\":{\"duration\":0,\"easing\":\"linear\"}}],\"label\":\"1994.0\",\"method\":\"animate\"},{\"args\":[[\"1996.0\"],{\"frame\":{\"duration\":0,\"redraw\":true},\"mode\":\"immediate\",\"fromcurrent\":true,\"transition\":{\"duration\":0,\"easing\":\"linear\"}}],\"label\":\"1996.0\",\"method\":\"animate\"},{\"args\":[[\"1998.0\"],{\"frame\":{\"duration\":0,\"redraw\":true},\"mode\":\"immediate\",\"fromcurrent\":true,\"transition\":{\"duration\":0,\"easing\":\"linear\"}}],\"label\":\"1998.0\",\"method\":\"animate\"},{\"args\":[[\"2000.0\"],{\"frame\":{\"duration\":0,\"redraw\":true},\"mode\":\"immediate\",\"fromcurrent\":true,\"transition\":{\"duration\":0,\"easing\":\"linear\"}}],\"label\":\"2000.0\",\"method\":\"animate\"},{\"args\":[[\"2002.0\"],{\"frame\":{\"duration\":0,\"redraw\":true},\"mode\":\"immediate\",\"fromcurrent\":true,\"transition\":{\"duration\":0,\"easing\":\"linear\"}}],\"label\":\"2002.0\",\"method\":\"animate\"},{\"args\":[[\"2004.0\"],{\"frame\":{\"duration\":0,\"redraw\":true},\"mode\":\"immediate\",\"fromcurrent\":true,\"transition\":{\"duration\":0,\"easing\":\"linear\"}}],\"label\":\"2004.0\",\"method\":\"animate\"},{\"args\":[[\"2006.0\"],{\"frame\":{\"duration\":0,\"redraw\":true},\"mode\":\"immediate\",\"fromcurrent\":true,\"transition\":{\"duration\":0,\"easing\":\"linear\"}}],\"label\":\"2006.0\",\"method\":\"animate\"},{\"args\":[[\"2008.0\"],{\"frame\":{\"duration\":0,\"redraw\":true},\"mode\":\"immediate\",\"fromcurrent\":true,\"transition\":{\"duration\":0,\"easing\":\"linear\"}}],\"label\":\"2008.0\",\"method\":\"animate\"},{\"args\":[[\"2010.0\"],{\"frame\":{\"duration\":0,\"redraw\":true},\"mode\":\"immediate\",\"fromcurrent\":true,\"transition\":{\"duration\":0,\"easing\":\"linear\"}}],\"label\":\"2010.0\",\"method\":\"animate\"},{\"args\":[[\"2012.0\"],{\"frame\":{\"duration\":0,\"redraw\":true},\"mode\":\"immediate\",\"fromcurrent\":true,\"transition\":{\"duration\":0,\"easing\":\"linear\"}}],\"label\":\"2012.0\",\"method\":\"animate\"},{\"args\":[[\"2014.0\"],{\"frame\":{\"duration\":0,\"redraw\":true},\"mode\":\"immediate\",\"fromcurrent\":true,\"transition\":{\"duration\":0,\"easing\":\"linear\"}}],\"label\":\"2014.0\",\"method\":\"animate\"},{\"args\":[[\"2016.0\"],{\"frame\":{\"duration\":0,\"redraw\":true},\"mode\":\"immediate\",\"fromcurrent\":true,\"transition\":{\"duration\":0,\"easing\":\"linear\"}}],\"label\":\"2016.0\",\"method\":\"animate\"},{\"args\":[[\"2020.0\"],{\"frame\":{\"duration\":0,\"redraw\":true},\"mode\":\"immediate\",\"fromcurrent\":true,\"transition\":{\"duration\":0,\"easing\":\"linear\"}}],\"label\":\"2020.0\",\"method\":\"animate\"}],\"x\":0.1,\"xanchor\":\"left\",\"y\":0,\"yanchor\":\"top\"}],\"plot_bgcolor\":\"rgba(0, 0, 0, 0)\",\"paper_bgcolor\":\"rgba(0, 0, 0, 0)\",\"font\":{\"color\":\"black\"}},                        {\"responsive\": true}                    ).then(function(){\n",
       "                            Plotly.addFrames('4aaab124-02ea-4680-91d1-36d2011adcec', [{\"data\":[{\"alignmentgroup\":\"True\",\"hovertemplate\":\"Host country=Austria<br>year=1964.0<br>Medal number=%{text}<br>country=%{y}<br>World GDP rank=%{marker.color}<extra></extra>\",\"ids\":[\"Brazil\",\"United Kingdom\",\"Netherlands\",\"Belgium\",\"Canada\",\"Italy\",\"France\",\"Sweden\",\"United States\",\"Australia\",\"Japan\"],\"legendgroup\":\"Austria\",\"marker\":{\"color\":[10,2,11,12,7,5,3,9,1,8,4],\"coloraxis\":\"coloraxis\",\"pattern\":{\"shape\":\"\"}},\"name\":\"Austria\",\"offsetgroup\":\"Austria\",\"orientation\":\"h\",\"showlegend\":true,\"text\":[1.0,1.0,2.0,3.0,3.0,4.0,7.0,7.0,7.0,18.0,29.0],\"textposition\":\"auto\",\"x\":[1,1,2,3,3,4,7,7,7,18,29],\"xaxis\":\"x\",\"y\":[\"Brazil\",\"United Kingdom\",\"Netherlands\",\"Belgium\",\"Canada\",\"Italy\",\"France\",\"Sweden\",\"United States\",\"Australia\",\"Japan\"],\"yaxis\":\"y\",\"type\":\"bar\"}],\"name\":\"1964.0\"},{\"data\":[{\"alignmentgroup\":\"True\",\"hovertemplate\":\"Host country=France<br>year=1968.0<br>Medal number=%{text}<br>country=%{y}<br>World GDP rank=%{marker.color}<extra></extra>\",\"ids\":[\"Belgium\",\"Brazil\",\"Canada\",\"Sweden\",\"Italy\",\"Netherlands\",\"United States\",\"France\",\"United Kingdom\",\"Australia\",\"Japan\"],\"legendgroup\":\"France\",\"marker\":{\"color\":[12,8,6,10,5,11,1,3,4,9,2],\"coloraxis\":\"coloraxis\",\"pattern\":{\"shape\":\"/\"}},\"name\":\"France\",\"offsetgroup\":\"France\",\"orientation\":\"h\",\"showlegend\":true,\"text\":[2.0,3.0,3.0,4.0,4.0,7.0,7.0,9.0,13.0,17.0,25.0],\"textposition\":\"auto\",\"x\":[2,3,3,4,4,7,7,9,13,17,25],\"xaxis\":\"x\",\"y\":[\"Belgium\",\"Brazil\",\"Canada\",\"Sweden\",\"Italy\",\"Netherlands\",\"United States\",\"France\",\"United Kingdom\",\"Australia\",\"Japan\"],\"yaxis\":\"y\",\"type\":\"bar\"}],\"name\":\"1968.0\"},{\"data\":[{\"alignmentgroup\":\"True\",\"hovertemplate\":\"Host country=Japan<br>year=1972.0<br>Medal number=%{text}<br>country=%{y}<br>World GDP rank=%{marker.color}<extra></extra>\",\"ids\":[\"Canada\",\"Brazil\",\"Japan\",\"France\",\"Sweden\",\"Netherlands\",\"Germany\",\"Italy\",\"United States\",\"Australia\",\"United Kingdom\"],\"legendgroup\":\"Japan\",\"marker\":{\"color\":[8,9,2,4,12,10,3,6,1,11,5],\"coloraxis\":\"coloraxis\",\"pattern\":{\"shape\":\"\\\\\"}},\"name\":\"Japan\",\"offsetgroup\":\"Japan\",\"orientation\":\"h\",\"showlegend\":true,\"text\":[1.0,2.0,3.0,3.0,4.0,5.0,5.0,5.0,8.0,17.0,18.0],\"textposition\":\"auto\",\"x\":[1,2,3,3,4,5,5,5,8,17,18],\"xaxis\":\"x\",\"y\":[\"Canada\",\"Brazil\",\"Japan\",\"France\",\"Sweden\",\"Netherlands\",\"Germany\",\"Italy\",\"United States\",\"Australia\",\"United Kingdom\"],\"yaxis\":\"y\",\"type\":\"bar\"}],\"name\":\"1972.0\"},{\"data\":[{\"alignmentgroup\":\"True\",\"hovertemplate\":\"Host country=Austria<br>year=1976.0<br>Medal number=%{text}<br>country=%{y}<br>World GDP rank=%{marker.color}<extra></extra>\",\"ids\":[\"United Kingdom\",\"France\",\"Brazil\",\"Sweden\",\"Canada\",\"Italy\",\"Netherlands\",\"Australia\",\"United States\",\"Germany\",\"Japan\"],\"legendgroup\":\"Austria\",\"marker\":{\"color\":[5,4,9,12,7,6,10,11,1,3,2],\"coloraxis\":\"coloraxis\",\"pattern\":{\"shape\":\"\"}},\"name\":\"Austria\",\"offsetgroup\":\"Austria\",\"orientation\":\"h\",\"showlegend\":true,\"text\":[1.0,1.0,2.0,2.0,3.0,4.0,5.0,5.0,10.0,10.0,25.0],\"textposition\":\"auto\",\"x\":[1,1,2,2,3,4,5,5,10,10,25],\"xaxis\":\"x\",\"y\":[\"United Kingdom\",\"France\",\"Brazil\",\"Sweden\",\"Canada\",\"Italy\",\"Netherlands\",\"Australia\",\"United States\",\"Germany\",\"Japan\"],\"yaxis\":\"y\",\"type\":\"bar\"}],\"name\":\"1976.0\"},{\"data\":[{\"alignmentgroup\":\"True\",\"hovertemplate\":\"Host country=United States<br>year=1980.0<br>Medal number=%{text}<br>country=%{y}<br>World GDP rank=%{marker.color}<extra></extra>\",\"ids\":[\"United Kingdom\",\"Japan\",\"France\",\"Italy\",\"Canada\",\"Netherlands\",\"Brazil\",\"Sweden\",\"Germany\",\"Australia\",\"United States\"],\"legendgroup\":\"United States\",\"marker\":{\"color\":[5,2,4,6,7,9,8,12,3,11,1],\"coloraxis\":\"coloraxis\",\"pattern\":{\"shape\":\"x\"}},\"name\":\"United States\",\"offsetgroup\":\"United States\",\"orientation\":\"h\",\"showlegend\":true,\"text\":[1.0,1.0,1.0,2.0,2.0,3.0,4.0,4.0,5.0,9.0,12.0],\"textposition\":\"auto\",\"x\":[1,1,1,2,2,3,4,4,5,9,12],\"xaxis\":\"x\",\"y\":[\"United Kingdom\",\"Japan\",\"France\",\"Italy\",\"Canada\",\"Netherlands\",\"Brazil\",\"Sweden\",\"Germany\",\"Australia\",\"United States\"],\"yaxis\":\"y\",\"type\":\"bar\"}],\"name\":\"1980.0\"},{\"data\":[{\"alignmentgroup\":\"True\",\"hovertemplate\":\"Host country=United States<br>year=1984.0<br>Medal number=%{text}<br>country=%{y}<br>World GDP rank=%{marker.color}<extra></extra>\",\"ids\":[\"United Kingdom\",\"Japan\",\"Italy\",\"France\",\"Canada\",\"Germany\",\"Brazil\",\"United States\",\"Sweden\",\"Netherlands\",\"Australia\"],\"legendgroup\":\"United States\",\"marker\":{\"color\":[5,2,6,4,7,3,10,1,12,11,9],\"coloraxis\":\"coloraxis\",\"pattern\":{\"shape\":\"x\"}},\"name\":\"United States\",\"offsetgroup\":\"United States\",\"orientation\":\"h\",\"showlegend\":true,\"text\":[1.0,1.0,2.0,3.0,4.0,4.0,8.0,8.0,8.0,13.0,24.0],\"textposition\":\"auto\",\"x\":[1,1,2,3,4,4,8,8,8,13,24],\"xaxis\":\"x\",\"y\":[\"United Kingdom\",\"Japan\",\"Italy\",\"France\",\"Canada\",\"Germany\",\"Brazil\",\"United States\",\"Sweden\",\"Netherlands\",\"Australia\"],\"yaxis\":\"y\",\"type\":\"bar\"}],\"name\":\"1984.0\"},{\"data\":[{\"alignmentgroup\":\"True\",\"hovertemplate\":\"Host country=Canada<br>year=1988.0<br>Medal number=%{text}<br>country=%{y}<br>World GDP rank=%{marker.color}<extra></extra>\",\"ids\":[\"Japan\",\"France\",\"Italy\",\"Canada\",\"Brazil\",\"Sweden\",\"United States\",\"Netherlands\",\"Germany\",\"Australia\",\"United Kingdom\"],\"legendgroup\":\"Canada\",\"marker\":{\"color\":[2,4,6,7,10,12,1,9,3,11,5],\"coloraxis\":\"coloraxis\",\"pattern\":{\"shape\":\"+\"}},\"name\":\"Canada\",\"offsetgroup\":\"Canada\",\"orientation\":\"h\",\"showlegend\":true,\"text\":[1.0,2.0,5.0,5.0,6.0,6.0,6.0,7.0,8.0,14.0,24.0],\"textposition\":\"auto\",\"x\":[1,2,5,5,6,6,6,7,8,14,24],\"xaxis\":\"x\",\"y\":[\"Japan\",\"France\",\"Italy\",\"Canada\",\"Brazil\",\"Sweden\",\"United States\",\"Netherlands\",\"Germany\",\"Australia\",\"United Kingdom\"],\"yaxis\":\"y\",\"type\":\"bar\"}],\"name\":\"1988.0\"},{\"data\":[{\"alignmentgroup\":\"True\",\"hovertemplate\":\"Host country=France<br>year=1992.0<br>Medal number=%{text}<br>country=%{y}<br>World GDP rank=%{marker.color}<extra></extra>\",\"ids\":[\"Brazil\",\"Netherlands\",\"Sweden\",\"Canada\",\"Japan\",\"France\",\"United States\",\"Italy\",\"United Kingdom\",\"Germany\",\"Australia\"],\"legendgroup\":\"France\",\"marker\":{\"color\":[10,9,12,7,2,4,1,5,6,3,11],\"coloraxis\":\"coloraxis\",\"pattern\":{\"shape\":\"/\"}},\"name\":\"France\",\"offsetgroup\":\"France\",\"orientation\":\"h\",\"showlegend\":true,\"text\":[3.0,4.0,4.0,7.0,7.0,9.0,11.0,14.0,20.0,26.0,27.0],\"textposition\":\"auto\",\"x\":[3,4,4,7,7,9,11,14,20,26,27],\"xaxis\":\"x\",\"y\":[\"Brazil\",\"Netherlands\",\"Sweden\",\"Canada\",\"Japan\",\"France\",\"United States\",\"Italy\",\"United Kingdom\",\"Germany\",\"Australia\"],\"yaxis\":\"y\",\"type\":\"bar\"}],\"name\":\"1992.0\"},{\"data\":[{\"alignmentgroup\":\"True\",\"hovertemplate\":\"Host country=Norway<br>year=1994.0<br>Medal number=%{text}<br>country=%{y}<br>World GDP rank=%{marker.color}<extra></extra>\",\"ids\":[\"Australia\",\"United Kingdom\",\"Netherlands\",\"Japan\",\"France\",\"United States\",\"Canada\",\"Italy\",\"Germany\"],\"legendgroup\":\"Norway\",\"marker\":{\"color\":[11,5,10,2,4,1,7,6,3],\"coloraxis\":\"coloraxis\",\"pattern\":{\"shape\":\".\"}},\"name\":\"Norway\",\"offsetgroup\":\"Norway\",\"orientation\":\"h\",\"showlegend\":true,\"text\":[1.0,2.0,4.0,5.0,5.0,13.0,13.0,20.0,24.0],\"textposition\":\"auto\",\"x\":[1,2,4,5,5,13,13,20,24],\"xaxis\":\"x\",\"y\":[\"Australia\",\"United Kingdom\",\"Netherlands\",\"Japan\",\"France\",\"United States\",\"Canada\",\"Italy\",\"Germany\"],\"yaxis\":\"y\",\"type\":\"bar\"}],\"name\":\"1994.0\"},{\"data\":[{\"alignmentgroup\":\"True\",\"hovertemplate\":\"Host country=United States<br>year=1996.0<br>Medal number=%{text}<br>country=%{y}<br>World GDP rank=%{marker.color}<extra></extra>\",\"ids\":[\"Sweden\",\"Japan\",\"Brazil\",\"United Kingdom\",\"Netherlands\",\"Canada\",\"Italy\",\"France\",\"Australia\",\"Germany\",\"United States\"],\"legendgroup\":\"United States\",\"marker\":{\"color\":[12,2,8,5,10,9,6,4,11,3,1],\"coloraxis\":\"coloraxis\",\"pattern\":{\"shape\":\"x\"}},\"name\":\"United States\",\"offsetgroup\":\"United States\",\"orientation\":\"h\",\"showlegend\":true,\"text\":[8.0,14.0,15.0,15.0,19.0,22.0,35.0,37.0,41.0,65.0,101.0],\"textposition\":\"auto\",\"x\":[8,14,15,15,19,22,35,37,41,65,101],\"xaxis\":\"x\",\"y\":[\"Sweden\",\"Japan\",\"Brazil\",\"United Kingdom\",\"Netherlands\",\"Canada\",\"Italy\",\"France\",\"Australia\",\"Germany\",\"United States\"],\"yaxis\":\"y\",\"type\":\"bar\"}],\"name\":\"1996.0\"},{\"data\":[{\"alignmentgroup\":\"True\",\"hovertemplate\":\"Host country=Japan<br>year=1998.0<br>Medal number=%{text}<br>country=%{y}<br>World GDP rank=%{marker.color}<extra></extra>\",\"ids\":[\"Australia\",\"United Kingdom\",\"Sweden\",\"France\",\"Japan\",\"Italy\",\"Netherlands\",\"United States\",\"Canada\",\"Germany\"],\"legendgroup\":\"Japan\",\"marker\":{\"color\":[11,4,12,5,2,6,10,1,9,3],\"coloraxis\":\"coloraxis\",\"pattern\":{\"shape\":\"\\\\\"}},\"name\":\"Japan\",\"offsetgroup\":\"Japan\",\"orientation\":\"h\",\"showlegend\":true,\"text\":[1.0,1.0,3.0,8.0,10.0,10.0,11.0,13.0,15.0,29.0],\"textposition\":\"auto\",\"x\":[1,1,3,8,10,10,11,13,15,29],\"xaxis\":\"x\",\"y\":[\"Australia\",\"United Kingdom\",\"Sweden\",\"France\",\"Japan\",\"Italy\",\"Netherlands\",\"United States\",\"Canada\",\"Germany\"],\"yaxis\":\"y\",\"type\":\"bar\"}],\"name\":\"1998.0\"},{\"data\":[{\"alignmentgroup\":\"True\",\"hovertemplate\":\"Host country=Australia<br>year=2000.0<br>Medal number=%{text}<br>country=%{y}<br>World GDP rank=%{marker.color}<extra></extra>\",\"ids\":[\"Sweden\",\"Brazil\",\"Canada\",\"Japan\",\"Netherlands\",\"United Kingdom\",\"Italy\",\"France\",\"Germany\",\"Australia\",\"United States\"],\"legendgroup\":\"Australia\",\"marker\":{\"color\":[12,9,8,2,10,4,7,5,3,11,1],\"coloraxis\":\"coloraxis\",\"pattern\":{\"shape\":\"\"}},\"name\":\"Australia\",\"offsetgroup\":\"Australia\",\"orientation\":\"h\",\"showlegend\":true,\"text\":[12.0,12.0,14.0,18.0,25.0,28.0,34.0,38.0,56.0,58.0,93.0],\"textposition\":\"auto\",\"x\":[12,12,14,18,25,28,34,38,56,58,93],\"xaxis\":\"x\",\"y\":[\"Sweden\",\"Brazil\",\"Canada\",\"Japan\",\"Netherlands\",\"United Kingdom\",\"Italy\",\"France\",\"Germany\",\"Australia\",\"United States\"],\"yaxis\":\"y\",\"type\":\"bar\"}],\"name\":\"2000.0\"},{\"data\":[{\"alignmentgroup\":\"True\",\"hovertemplate\":\"Host country=United States<br>year=2002.0<br>Medal number=%{text}<br>country=%{y}<br>World GDP rank=%{marker.color}<extra></extra>\",\"ids\":[\"United Kingdom\",\"Australia\",\"Japan\",\"Sweden\",\"Netherlands\",\"France\",\"Italy\",\"Canada\",\"United States\",\"Germany\"],\"legendgroup\":\"United States\",\"marker\":{\"color\":[4,11,2,12,10,5,7,8,1,3],\"coloraxis\":\"coloraxis\",\"pattern\":{\"shape\":\"x\"}},\"name\":\"United States\",\"offsetgroup\":\"United States\",\"orientation\":\"h\",\"showlegend\":true,\"text\":[1.0,2.0,2.0,7.0,8.0,11.0,13.0,17.0,31.0,36.0],\"textposition\":\"auto\",\"x\":[1,2,2,7,8,11,13,17,31,36],\"xaxis\":\"x\",\"y\":[\"United Kingdom\",\"Australia\",\"Japan\",\"Sweden\",\"Netherlands\",\"France\",\"Italy\",\"Canada\",\"United States\",\"Germany\"],\"yaxis\":\"y\",\"type\":\"bar\"}],\"name\":\"2002.0\"},{\"data\":[{\"alignmentgroup\":\"True\",\"hovertemplate\":\"Host country=Greece<br>year=2004.0<br>Medal number=%{text}<br>country=%{y}<br>World GDP rank=%{marker.color}<extra></extra>\",\"ids\":[\"Sweden\",\"Brazil\",\"Canada\",\"Netherlands\",\"United Kingdom\",\"Italy\",\"France\",\"Japan\",\"Germany\",\"Australia\",\"United States\"],\"legendgroup\":\"Greece\",\"marker\":{\"color\":[12,9,8,10,4,7,5,2,3,11,1],\"coloraxis\":\"coloraxis\",\"pattern\":{\"shape\":\"/\"}},\"name\":\"Greece\",\"offsetgroup\":\"Greece\",\"orientation\":\"h\",\"showlegend\":true,\"text\":[7.0,10.0,12.0,22.0,30.0,32.0,33.0,37.0,49.0,50.0,101.0],\"textposition\":\"auto\",\"x\":[7,10,12,22,30,32,33,37,49,50,101],\"xaxis\":\"x\",\"y\":[\"Sweden\",\"Brazil\",\"Canada\",\"Netherlands\",\"United Kingdom\",\"Italy\",\"France\",\"Japan\",\"Germany\",\"Australia\",\"United States\"],\"yaxis\":\"y\",\"type\":\"bar\"}],\"name\":\"2004.0\"},{\"data\":[{\"alignmentgroup\":\"True\",\"hovertemplate\":\"Host country=Italy<br>year=2006.0<br>Medal number=%{text}<br>country=%{y}<br>World GDP rank=%{marker.color}<extra></extra>\",\"ids\":[\"Japan\",\"Australia\",\"France\",\"Netherlands\",\"Italy\",\"Sweden\",\"Canada\",\"United States\",\"Germany\"],\"legendgroup\":\"Italy\",\"marker\":{\"color\":[2,10,6,11,7,12,8,1,3],\"coloraxis\":\"coloraxis\",\"pattern\":{\"shape\":\"\\\\\"}},\"name\":\"Italy\",\"offsetgroup\":\"Italy\",\"orientation\":\"h\",\"showlegend\":true,\"text\":[1.0,2.0,9.0,9.0,11.0,14.0,21.0,25.0,29.0],\"textposition\":\"auto\",\"x\":[1,2,9,9,11,14,21,25,29],\"xaxis\":\"x\",\"y\":[\"Japan\",\"Australia\",\"France\",\"Netherlands\",\"Italy\",\"Sweden\",\"Canada\",\"United States\",\"Germany\"],\"yaxis\":\"y\",\"type\":\"bar\"}],\"name\":\"2006.0\"},{\"data\":[{\"alignmentgroup\":\"True\",\"hovertemplate\":\"Host country=China<br>year=2008.0<br>Medal number=%{text}<br>country=%{y}<br>World GDP rank=%{marker.color}<extra></extra>\",\"ids\":[\"Sweden\",\"Netherlands\",\"Brazil\",\"Canada\",\"Japan\",\"Italy\",\"Germany\",\"France\",\"Australia\",\"United Kingdom\",\"United States\"],\"legendgroup\":\"China\",\"marker\":{\"color\":[12,11,8,9,2,7,4,6,10,5,1],\"coloraxis\":\"coloraxis\",\"pattern\":{\"shape\":\"x\"}},\"name\":\"China\",\"offsetgroup\":\"China\",\"orientation\":\"h\",\"showlegend\":true,\"text\":[5.0,16.0,17.0,20.0,25.0,27.0,41.0,43.0,46.0,51.0,112.0],\"textposition\":\"auto\",\"x\":[5,16,17,20,25,27,41,43,46,51,112],\"xaxis\":\"x\",\"y\":[\"Sweden\",\"Netherlands\",\"Brazil\",\"Canada\",\"Japan\",\"Italy\",\"Germany\",\"France\",\"Australia\",\"United Kingdom\",\"United States\"],\"yaxis\":\"y\",\"type\":\"bar\"}],\"name\":\"2008.0\"},{\"data\":[{\"alignmentgroup\":\"True\",\"hovertemplate\":\"Host country=Canada<br>year=2010.0<br>Medal number=%{text}<br>country=%{y}<br>World GDP rank=%{marker.color}<extra></extra>\",\"ids\":[\"United Kingdom\",\"Australia\",\"Italy\",\"Japan\",\"Netherlands\",\"Sweden\",\"France\",\"Canada\",\"Germany\",\"United States\"],\"legendgroup\":\"Canada\",\"marker\":{\"color\":[6,10,8,3,11,12,5,9,4,1],\"coloraxis\":\"coloraxis\",\"pattern\":{\"shape\":\"+\"}},\"name\":\"Canada\",\"offsetgroup\":\"Canada\",\"orientation\":\"h\",\"showlegend\":true,\"text\":[1.0,3.0,5.0,5.0,8.0,11.0,11.0,26.0,30.0,37.0],\"textposition\":\"auto\",\"x\":[1,3,5,5,8,11,11,26,30,37],\"xaxis\":\"x\",\"y\":[\"United Kingdom\",\"Australia\",\"Italy\",\"Japan\",\"Netherlands\",\"Sweden\",\"France\",\"Canada\",\"Germany\",\"United States\"],\"yaxis\":\"y\",\"type\":\"bar\"}],\"name\":\"2010.0\"},{\"data\":[{\"alignmentgroup\":\"True\",\"hovertemplate\":\"Host country=United Kingdom<br>year=2012.0<br>Medal number=%{text}<br>country=%{y}<br>World GDP rank=%{marker.color}<extra></extra>\",\"ids\":[\"Sweden\",\"Brazil\",\"Canada\",\"Netherlands\",\"Italy\",\"France\",\"Australia\",\"Japan\",\"Germany\",\"United Kingdom\",\"United States\"],\"legendgroup\":\"United Kingdom\",\"marker\":{\"color\":[12,7,9,11,8,6,10,3,4,5,1],\"coloraxis\":\"coloraxis\",\"pattern\":{\"shape\":\"+\"}},\"name\":\"United Kingdom\",\"offsetgroup\":\"United Kingdom\",\"orientation\":\"h\",\"showlegend\":true,\"text\":[8.0,17.0,18.0,20.0,28.0,35.0,35.0,38.0,44.0,65.0,104.0],\"textposition\":\"auto\",\"x\":[8,17,18,20,28,35,35,38,44,65,104],\"xaxis\":\"x\",\"y\":[\"Sweden\",\"Brazil\",\"Canada\",\"Netherlands\",\"Italy\",\"France\",\"Australia\",\"Japan\",\"Germany\",\"United Kingdom\",\"United States\"],\"yaxis\":\"y\",\"type\":\"bar\"}],\"name\":\"2012.0\"},{\"data\":[{\"alignmentgroup\":\"True\",\"hovertemplate\":\"Host country=Russia<br>year=2014.0<br>Medal number=%{text}<br>country=%{y}<br>World GDP rank=%{marker.color}<extra></extra>\",\"ids\":[\"Australia\",\"United Kingdom\",\"Japan\",\"Italy\",\"France\",\"Sweden\",\"Germany\",\"Netherlands\",\"Canada\",\"United States\"],\"legendgroup\":\"Russia\",\"marker\":{\"color\":[10,5,3,8,6,12,4,11,9,1],\"coloraxis\":\"coloraxis\",\"pattern\":{\"shape\":\".\"}},\"name\":\"Russia\",\"offsetgroup\":\"Russia\",\"orientation\":\"h\",\"showlegend\":true,\"text\":[3.0,5.0,8.0,8.0,15.0,15.0,19.0,24.0,25.0,28.0],\"textposition\":\"auto\",\"x\":[3,5,8,8,15,15,19,24,25,28],\"xaxis\":\"x\",\"y\":[\"Australia\",\"United Kingdom\",\"Japan\",\"Italy\",\"France\",\"Sweden\",\"Germany\",\"Netherlands\",\"Canada\",\"United States\"],\"yaxis\":\"y\",\"type\":\"bar\"}],\"name\":\"2014.0\"},{\"data\":[{\"alignmentgroup\":\"True\",\"hovertemplate\":\"Host country=Brazil<br>year=2016.0<br>Medal number=%{text}<br>country=%{y}<br>World GDP rank=%{marker.color}<extra></extra>\",\"ids\":[\"Sweden\",\"Netherlands\",\"Brazil\",\"Canada\",\"Italy\",\"Australia\",\"Japan\",\"Germany\",\"France\",\"United Kingdom\",\"United States\"],\"legendgroup\":\"Brazil\",\"marker\":{\"color\":[12,11,8,9,7,10,3,4,6,5,1],\"coloraxis\":\"coloraxis\",\"pattern\":{\"shape\":\"\"}},\"name\":\"Brazil\",\"offsetgroup\":\"Brazil\",\"orientation\":\"h\",\"showlegend\":true,\"text\":[11.0,19.0,19.0,22.0,28.0,29.0,41.0,42.0,42.0,67.0,121.0],\"textposition\":\"auto\",\"x\":[11,19,19,22,28,29,41,42,42,67,121],\"xaxis\":\"x\",\"y\":[\"Sweden\",\"Netherlands\",\"Brazil\",\"Canada\",\"Italy\",\"Australia\",\"Japan\",\"Germany\",\"France\",\"United Kingdom\",\"United States\"],\"yaxis\":\"y\",\"type\":\"bar\"}],\"name\":\"2016.0\"},{\"data\":[{\"alignmentgroup\":\"True\",\"hovertemplate\":\"Host country=Japan<br>year=2020.0<br>Medal number=%{text}<br>country=%{y}<br>World GDP rank=%{marker.color}<extra></extra>\",\"ids\":[\"Sweden\",\"Brazil\",\"Canada\",\"France\",\"Netherlands\",\"Germany\",\"Italy\",\"Australia\",\"Japan\",\"United Kingdom\",\"United States\"],\"legendgroup\":\"Japan\",\"marker\":{\"color\":[12,9,8,6,11,4,7,10,3,5,1],\"coloraxis\":\"coloraxis\",\"pattern\":{\"shape\":\"\\\\\"}},\"name\":\"Japan\",\"offsetgroup\":\"Japan\",\"orientation\":\"h\",\"showlegend\":true,\"text\":[9.0,21.0,24.0,33.0,36.0,37.0,40.0,46.0,58.0,64.0,113.0],\"textposition\":\"auto\",\"x\":[9,21,24,33,36,37,40,46,58,64,113],\"xaxis\":\"x\",\"y\":[\"Sweden\",\"Brazil\",\"Canada\",\"France\",\"Netherlands\",\"Germany\",\"Italy\",\"Australia\",\"Japan\",\"United Kingdom\",\"United States\"],\"yaxis\":\"y\",\"type\":\"bar\"}],\"name\":\"2020.0\"}]);\n",
       "                        }).then(function(){\n",
       "                            \n",
       "var gd = document.getElementById('4aaab124-02ea-4680-91d1-36d2011adcec');\n",
       "var x = new MutationObserver(function (mutations, observer) {{\n",
       "        var display = window.getComputedStyle(gd).display;\n",
       "        if (!display || display === 'none') {{\n",
       "            console.log([gd, 'removed!']);\n",
       "            Plotly.purge(gd);\n",
       "            observer.disconnect();\n",
       "        }}\n",
       "}});\n",
       "\n",
       "// Listen for the removal of the full notebook cells\n",
       "var notebookContainer = gd.closest('#notebook-container');\n",
       "if (notebookContainer) {{\n",
       "    x.observe(notebookContainer, {childList: true});\n",
       "}}\n",
       "\n",
       "// Listen for the clearing of the current output cell\n",
       "var outputEl = gd.closest('.output');\n",
       "if (outputEl) {{\n",
       "    x.observe(outputEl, {childList: true});\n",
       "}}\n",
       "\n",
       "                        })                };                });            </script>        </div>"
      ]
     },
     "metadata": {},
     "output_type": "display_data"
    }
   ],
   "source": [
    "fig = px.bar(df3, x=\"Medal number\", y=\"country\", color=\"World GDP rank\",text='Medal number',pattern_shape=\"Host country\",\n",
    "  animation_frame=\"year\", animation_group=\"country\",range_x=[0,150],title=\"Number of medal won by countries that have hosted at least one Olympic game between 1986-2022.\")\n",
    "fig.update_traces(textposition='outside')\n",
    "fig.update_layout(legend=dict(\n",
    "    yanchor=\"bottom\",\n",
    "    y=0.03,\n",
    "    xanchor=\"right\",\n",
    "    x=.97\n",
    "))\n",
    "\n",
    "fig.layout.updatemenus[0].buttons[0].args[1][\"frame\"][\"duration\"] = 5000\n",
    "fig.update_layout({\n",
    "'plot_bgcolor': 'rgba(0, 0, 0, 0)',\n",
    "'paper_bgcolor': 'rgba(0, 0, 0, 0)',\n",
    "})\n",
    "fig.update_layout( legend_title_font_color=\"black\",\n",
    "                  font_color=\"black\",legend = dict(font = dict(size =12 )),\n",
    "    title_font_color=\"black\",)\n",
    "fig.update_yaxes(title_text='')\n",
    "\n",
    "fig.show()"
   ]
  },
  {
   "cell_type": "code",
   "execution_count": 145,
   "id": "0072cb0b",
   "metadata": {},
   "outputs": [],
   "source": [
    "\n",
    "import pycountry\n",
    "#df3 = df3.rename(columns={\"host country\": 'country'})\n",
    "df3 = df2.merge(newdf, how='right').dropna()\n",
    "df3= df3.sort_values(by=['year','Medal number'])\n",
    "df3 = df3.drop_duplicates(subset=[\"year\", \"country\"], keep='first')\n",
    "df3['Medal number'] = df3['Medal number'].astype(int)\n",
    "df3['World GDP rank'] = df3['World GDP rank'].astype(int)\n",
    "\n",
    "iso3_to_iso2 = {c.alpha_3: c.alpha_2 for c in pycountry.countries}\n",
    "df3 = df3.merge(medal[['country','country_noc']], how='right').dropna()\n",
    "df3 = df3.rename(columns={'country_noc':'iso_alpha'})\n",
    "df3[\"iso_alpha2\"] = df3[\"iso_alpha\"].map(iso3_to_iso2)\n",
    "\n"
   ]
  },
  {
   "cell_type": "code",
   "execution_count": 146,
   "id": "1237812a",
   "metadata": {},
   "outputs": [
    {
     "ename": "KeyboardInterrupt",
     "evalue": "",
     "output_type": "error",
     "traceback": [
      "\u001b[0;31m---------------------------------------------------------------------------\u001b[0m",
      "\u001b[0;31mKeyboardInterrupt\u001b[0m                         Traceback (most recent call last)",
      "Cell \u001b[0;32mIn [146], line 13\u001b[0m\n\u001b[1;32m     11\u001b[0m \u001b[38;5;28;01mfor\u001b[39;00m i, row \u001b[38;5;129;01min\u001b[39;00m df3\u001b[38;5;241m.\u001b[39miterrows():\n\u001b[1;32m     12\u001b[0m     country_iso \u001b[38;5;241m=\u001b[39m row[\u001b[38;5;124m\"\u001b[39m\u001b[38;5;124miso_alpha2\u001b[39m\u001b[38;5;124m\"\u001b[39m]\n\u001b[0;32m---> 13\u001b[0m     \u001b[43mfig\u001b[49m\u001b[38;5;241;43m.\u001b[39;49m\u001b[43madd_layout_image\u001b[49m\u001b[43m(\u001b[49m\n\u001b[1;32m     14\u001b[0m \u001b[43m        \u001b[49m\u001b[38;5;28;43mdict\u001b[39;49m\u001b[43m(\u001b[49m\n\u001b[1;32m     15\u001b[0m \u001b[43m            \u001b[49m\u001b[43msource\u001b[49m\u001b[38;5;241;43m=\u001b[39;49m\u001b[38;5;124;43mf\u001b[39;49m\u001b[38;5;124;43m\"\u001b[39;49m\u001b[38;5;124;43mhttps://raw.githubusercontent.com/matahombres/CSS-Country-Flags-Rounded/master/flags/\u001b[39;49m\u001b[38;5;132;43;01m{\u001b[39;49;00m\u001b[43mcountry_iso\u001b[49m\u001b[38;5;132;43;01m}\u001b[39;49;00m\u001b[38;5;124;43m.png\u001b[39;49m\u001b[38;5;124;43m\"\u001b[39;49m\u001b[43m,\u001b[49m\n\u001b[1;32m     16\u001b[0m \u001b[43m            \u001b[49m\u001b[43mxref\u001b[49m\u001b[38;5;241;43m=\u001b[39;49m\u001b[38;5;124;43m\"\u001b[39;49m\u001b[38;5;124;43mx\u001b[39;49m\u001b[38;5;124;43m\"\u001b[39;49m\u001b[43m,\u001b[49m\n\u001b[1;32m     17\u001b[0m \u001b[43m            \u001b[49m\u001b[43myref\u001b[49m\u001b[38;5;241;43m=\u001b[39;49m\u001b[38;5;124;43m\"\u001b[39;49m\u001b[38;5;124;43my\u001b[39;49m\u001b[38;5;124;43m\"\u001b[39;49m\u001b[43m,\u001b[49m\n\u001b[1;32m     18\u001b[0m \u001b[43m            \u001b[49m\u001b[43mxanchor\u001b[49m\u001b[38;5;241;43m=\u001b[39;49m\u001b[38;5;124;43m\"\u001b[39;49m\u001b[38;5;124;43mcenter\u001b[39;49m\u001b[38;5;124;43m\"\u001b[39;49m\u001b[43m,\u001b[49m\n\u001b[1;32m     19\u001b[0m \u001b[43m            \u001b[49m\u001b[43myanchor\u001b[49m\u001b[38;5;241;43m=\u001b[39;49m\u001b[38;5;124;43m\"\u001b[39;49m\u001b[38;5;124;43mmiddle\u001b[39;49m\u001b[38;5;124;43m\"\u001b[39;49m\u001b[43m,\u001b[49m\n\u001b[1;32m     20\u001b[0m \u001b[43m            \u001b[49m\u001b[43my\u001b[49m\u001b[38;5;241;43m=\u001b[39;49m\u001b[43mrow\u001b[49m\u001b[43m[\u001b[49m\u001b[38;5;124;43m\"\u001b[39;49m\u001b[38;5;124;43mMedal number\u001b[39;49m\u001b[38;5;124;43m\"\u001b[39;49m\u001b[43m]\u001b[49m\u001b[43m,\u001b[49m\n\u001b[1;32m     21\u001b[0m \u001b[43m            \u001b[49m\u001b[43mx\u001b[49m\u001b[38;5;241;43m=\u001b[39;49m\u001b[43mrow\u001b[49m\u001b[43m[\u001b[49m\u001b[38;5;124;43m\"\u001b[39;49m\u001b[38;5;124;43mWorld GDP rank\u001b[39;49m\u001b[38;5;124;43m\"\u001b[39;49m\u001b[43m]\u001b[49m\u001b[43m,\u001b[49m\n\u001b[1;32m     22\u001b[0m \u001b[43m            \u001b[49m\u001b[43msizex\u001b[49m\u001b[43m \u001b[49m\u001b[38;5;241;43m=\u001b[39;49m\u001b[43m \u001b[49m\u001b[38;5;241;43m500\u001b[39;49m\u001b[43m,\u001b[49m\n\u001b[1;32m     23\u001b[0m \u001b[43m            \u001b[49m\u001b[43msizey\u001b[49m\u001b[38;5;241;43m=\u001b[39;49m\u001b[38;5;241;43m450\u001b[39;49m\u001b[43m,\u001b[49m\n\u001b[1;32m     24\u001b[0m \u001b[38;5;66;43;03m#             sizex=np.sqrt(row[\"GDP rank\"] / df[\"GDP rank\"].max()) * maxi * 0.02 + maxi * 0.04,\u001b[39;49;00m\n\u001b[1;32m     25\u001b[0m \u001b[38;5;66;43;03m#             sizey=np.sqrt(row[\"GDP rank\"] / df[\"GDP rank\"].max()) * maxi * 0.02 + maxi * 0.1,\u001b[39;49;00m\n\u001b[1;32m     26\u001b[0m \u001b[43m            \u001b[49m\u001b[43msizing\u001b[49m\u001b[38;5;241;43m=\u001b[39;49m\u001b[38;5;124;43m\"\u001b[39;49m\u001b[38;5;124;43mcontain\u001b[39;49m\u001b[38;5;124;43m\"\u001b[39;49m\u001b[43m,\u001b[49m\n\u001b[1;32m     27\u001b[0m \u001b[43m            \u001b[49m\u001b[43mopacity\u001b[49m\u001b[38;5;241;43m=\u001b[39;49m\u001b[38;5;241;43m1\u001b[39;49m\u001b[43m,\u001b[49m\n\u001b[1;32m     28\u001b[0m \u001b[43m            \u001b[49m\u001b[43mlayer\u001b[49m\u001b[38;5;241;43m=\u001b[39;49m\u001b[38;5;124;43m\"\u001b[39;49m\u001b[38;5;124;43mabove\u001b[39;49m\u001b[38;5;124;43m\"\u001b[39;49m\n\u001b[1;32m     29\u001b[0m \u001b[43m        \u001b[49m\u001b[43m)\u001b[49m\n\u001b[1;32m     30\u001b[0m \u001b[43m    \u001b[49m\u001b[43m)\u001b[49m\n\u001b[1;32m     31\u001b[0m fig\u001b[38;5;241m.\u001b[39mupdate_traces(textposition\u001b[38;5;241m=\u001b[39m\u001b[38;5;124m'\u001b[39m\u001b[38;5;124mtop right\u001b[39m\u001b[38;5;124m'\u001b[39m)\n\u001b[1;32m     32\u001b[0m fig\u001b[38;5;241m.\u001b[39mupdate_xaxes(title_text\u001b[38;5;241m=\u001b[39m\u001b[38;5;124m'\u001b[39m\u001b[38;5;124mWorld GPD ranking.\u001b[39m\u001b[38;5;124m'\u001b[39m,tickmode\u001b[38;5;241m=\u001b[39m\u001b[38;5;124m'\u001b[39m\u001b[38;5;124mlinear\u001b[39m\u001b[38;5;124m'\u001b[39m)\n",
      "File \u001b[0;32m~/anaconda3/envs/venv/lib/python3.9/site-packages/plotly/graph_objs/_figure.py:22505\u001b[0m, in \u001b[0;36mFigure.add_layout_image\u001b[0;34m(self, arg, layer, name, opacity, sizex, sizey, sizing, source, templateitemname, visible, x, xanchor, xref, y, yanchor, yref, row, col, secondary_y, exclude_empty_subplots, **kwargs)\u001b[0m\n\u001b[1;32m  22484\u001b[0m \u001b[38;5;28;01mfrom\u001b[39;00m \u001b[38;5;21;01mplotly\u001b[39;00m\u001b[38;5;21;01m.\u001b[39;00m\u001b[38;5;21;01mgraph_objs\u001b[39;00m \u001b[38;5;28;01mimport\u001b[39;00m layout \u001b[38;5;28;01mas\u001b[39;00m _layout\n\u001b[1;32m  22486\u001b[0m new_obj \u001b[38;5;241m=\u001b[39m _layout\u001b[38;5;241m.\u001b[39mImage(\n\u001b[1;32m  22487\u001b[0m     arg,\n\u001b[1;32m  22488\u001b[0m     layer\u001b[38;5;241m=\u001b[39mlayer,\n\u001b[0;32m   (...)\u001b[0m\n\u001b[1;32m  22503\u001b[0m     \u001b[38;5;241m*\u001b[39m\u001b[38;5;241m*\u001b[39mkwargs,\n\u001b[1;32m  22504\u001b[0m )\n\u001b[0;32m> 22505\u001b[0m \u001b[38;5;28;01mreturn\u001b[39;00m \u001b[38;5;28;43mself\u001b[39;49m\u001b[38;5;241;43m.\u001b[39;49m\u001b[43m_add_annotation_like\u001b[49m\u001b[43m(\u001b[49m\n\u001b[1;32m  22506\u001b[0m \u001b[43m    \u001b[49m\u001b[38;5;124;43m\"\u001b[39;49m\u001b[38;5;124;43mimage\u001b[39;49m\u001b[38;5;124;43m\"\u001b[39;49m\u001b[43m,\u001b[49m\n\u001b[1;32m  22507\u001b[0m \u001b[43m    \u001b[49m\u001b[38;5;124;43m\"\u001b[39;49m\u001b[38;5;124;43mimages\u001b[39;49m\u001b[38;5;124;43m\"\u001b[39;49m\u001b[43m,\u001b[49m\n\u001b[1;32m  22508\u001b[0m \u001b[43m    \u001b[49m\u001b[43mnew_obj\u001b[49m\u001b[43m,\u001b[49m\n\u001b[1;32m  22509\u001b[0m \u001b[43m    \u001b[49m\u001b[43mrow\u001b[49m\u001b[38;5;241;43m=\u001b[39;49m\u001b[43mrow\u001b[49m\u001b[43m,\u001b[49m\n\u001b[1;32m  22510\u001b[0m \u001b[43m    \u001b[49m\u001b[43mcol\u001b[49m\u001b[38;5;241;43m=\u001b[39;49m\u001b[43mcol\u001b[49m\u001b[43m,\u001b[49m\n\u001b[1;32m  22511\u001b[0m \u001b[43m    \u001b[49m\u001b[43msecondary_y\u001b[49m\u001b[38;5;241;43m=\u001b[39;49m\u001b[43msecondary_y\u001b[49m\u001b[43m,\u001b[49m\n\u001b[1;32m  22512\u001b[0m \u001b[43m    \u001b[49m\u001b[43mexclude_empty_subplots\u001b[49m\u001b[38;5;241;43m=\u001b[39;49m\u001b[43mexclude_empty_subplots\u001b[49m\u001b[43m,\u001b[49m\n\u001b[1;32m  22513\u001b[0m \u001b[43m\u001b[49m\u001b[43m)\u001b[49m\n",
      "File \u001b[0;32m~/anaconda3/envs/venv/lib/python3.9/site-packages/plotly/basedatatypes.py:1601\u001b[0m, in \u001b[0;36mBaseFigure._add_annotation_like\u001b[0;34m(self, prop_singular, prop_plural, new_obj, row, col, secondary_y, exclude_empty_subplots)\u001b[0m\n\u001b[1;32m   1598\u001b[0m     xref, yref \u001b[38;5;241m=\u001b[39m \u001b[38;5;28mmap\u001b[39m(\u001b[38;5;28;01mlambda\u001b[39;00m t: _add_domain(\u001b[38;5;241m*\u001b[39mt), \u001b[38;5;28mzip\u001b[39m([\u001b[38;5;124m\"\u001b[39m\u001b[38;5;124mx\u001b[39m\u001b[38;5;124m\"\u001b[39m, \u001b[38;5;124m\"\u001b[39m\u001b[38;5;124my\u001b[39m\u001b[38;5;124m\"\u001b[39m], [xref, yref]))\n\u001b[1;32m   1599\u001b[0m     new_obj\u001b[38;5;241m.\u001b[39mupdate(xref\u001b[38;5;241m=\u001b[39mxref, yref\u001b[38;5;241m=\u001b[39myref)\n\u001b[0;32m-> 1601\u001b[0m \u001b[38;5;28;43mself\u001b[39;49m\u001b[38;5;241;43m.\u001b[39;49m\u001b[43mlayout\u001b[49m\u001b[43m[\u001b[49m\u001b[43mprop_plural\u001b[49m\u001b[43m]\u001b[49m \u001b[38;5;241m+\u001b[39m\u001b[38;5;241m=\u001b[39m (new_obj,)\n\u001b[1;32m   1603\u001b[0m \u001b[38;5;28;01mreturn\u001b[39;00m \u001b[38;5;28mself\u001b[39m\n",
      "File \u001b[0;32m~/anaconda3/envs/venv/lib/python3.9/site-packages/plotly/basedatatypes.py:5861\u001b[0m, in \u001b[0;36mBaseLayoutType.__setitem__\u001b[0;34m(self, prop, value)\u001b[0m\n\u001b[1;32m   5858\u001b[0m match \u001b[38;5;241m=\u001b[39m \u001b[38;5;28mself\u001b[39m\u001b[38;5;241m.\u001b[39m_subplot_re_match(prop)\n\u001b[1;32m   5859\u001b[0m \u001b[38;5;28;01mif\u001b[39;00m match \u001b[38;5;129;01mis\u001b[39;00m \u001b[38;5;28;01mNone\u001b[39;00m:\n\u001b[1;32m   5860\u001b[0m     \u001b[38;5;66;03m# Set as ordinary property\u001b[39;00m\n\u001b[0;32m-> 5861\u001b[0m     \u001b[38;5;28;43msuper\u001b[39;49m\u001b[43m(\u001b[49m\u001b[43mBaseLayoutHierarchyType\u001b[49m\u001b[43m,\u001b[49m\u001b[43m \u001b[49m\u001b[38;5;28;43mself\u001b[39;49m\u001b[43m)\u001b[49m\u001b[38;5;241;43m.\u001b[39;49m\u001b[38;5;21;43m__setitem__\u001b[39;49m\u001b[43m(\u001b[49m\u001b[43mprop\u001b[49m\u001b[43m,\u001b[49m\u001b[43m \u001b[49m\u001b[43mvalue\u001b[49m\u001b[43m)\u001b[49m\n\u001b[1;32m   5862\u001b[0m \u001b[38;5;28;01melse\u001b[39;00m:\n\u001b[1;32m   5863\u001b[0m     \u001b[38;5;66;03m# Set as subplotid property\u001b[39;00m\n\u001b[1;32m   5864\u001b[0m     \u001b[38;5;28mself\u001b[39m\u001b[38;5;241m.\u001b[39m_set_subplotid_prop(prop, value)\n",
      "File \u001b[0;32m~/anaconda3/envs/venv/lib/python3.9/site-packages/plotly/basedatatypes.py:4855\u001b[0m, in \u001b[0;36mBasePlotlyType.__setitem__\u001b[0;34m(self, prop, value)\u001b[0m\n\u001b[1;32m   4853\u001b[0m \u001b[38;5;66;03m# ### Handle compound array property ###\u001b[39;00m\n\u001b[1;32m   4854\u001b[0m \u001b[38;5;28;01melif\u001b[39;00m \u001b[38;5;28misinstance\u001b[39m(validator, (CompoundArrayValidator, BaseDataValidator)):\n\u001b[0;32m-> 4855\u001b[0m     \u001b[38;5;28;43mself\u001b[39;49m\u001b[38;5;241;43m.\u001b[39;49m\u001b[43m_set_array_prop\u001b[49m\u001b[43m(\u001b[49m\u001b[43mprop\u001b[49m\u001b[43m,\u001b[49m\u001b[43m \u001b[49m\u001b[43mvalue\u001b[49m\u001b[43m)\u001b[49m\n\u001b[1;32m   4857\u001b[0m \u001b[38;5;66;03m# ### Handle simple property ###\u001b[39;00m\n\u001b[1;32m   4858\u001b[0m \u001b[38;5;28;01melse\u001b[39;00m:\n\u001b[1;32m   4859\u001b[0m     \u001b[38;5;28mself\u001b[39m\u001b[38;5;241m.\u001b[39m_set_prop(prop, value)\n",
      "File \u001b[0;32m~/anaconda3/envs/venv/lib/python3.9/site-packages/plotly/basedatatypes.py:5336\u001b[0m, in \u001b[0;36mBasePlotlyType._set_array_prop\u001b[0;34m(self, prop, val)\u001b[0m\n\u001b[1;32m   5333\u001b[0m \u001b[38;5;66;03m# Import value\u001b[39;00m\n\u001b[1;32m   5334\u001b[0m \u001b[38;5;66;03m# ------------\u001b[39;00m\n\u001b[1;32m   5335\u001b[0m validator \u001b[38;5;241m=\u001b[39m \u001b[38;5;28mself\u001b[39m\u001b[38;5;241m.\u001b[39m_get_validator(prop)\n\u001b[0;32m-> 5336\u001b[0m val \u001b[38;5;241m=\u001b[39m \u001b[43mvalidator\u001b[49m\u001b[38;5;241;43m.\u001b[39;49m\u001b[43mvalidate_coerce\u001b[49m\u001b[43m(\u001b[49m\u001b[43mval\u001b[49m\u001b[43m,\u001b[49m\u001b[43m \u001b[49m\u001b[43mskip_invalid\u001b[49m\u001b[38;5;241;43m=\u001b[39;49m\u001b[38;5;28;43mself\u001b[39;49m\u001b[38;5;241;43m.\u001b[39;49m\u001b[43m_skip_invalid\u001b[49m\u001b[43m)\u001b[49m\n\u001b[1;32m   5338\u001b[0m \u001b[38;5;66;03m# Save deep copies of current and new states\u001b[39;00m\n\u001b[1;32m   5339\u001b[0m \u001b[38;5;66;03m# ------------------------------------------\u001b[39;00m\n\u001b[1;32m   5340\u001b[0m curr_val \u001b[38;5;241m=\u001b[39m \u001b[38;5;28mself\u001b[39m\u001b[38;5;241m.\u001b[39m_compound_array_props\u001b[38;5;241m.\u001b[39mget(prop, \u001b[38;5;28;01mNone\u001b[39;00m)\n",
      "File \u001b[0;32m~/anaconda3/envs/venv/lib/python3.9/site-packages/_plotly_utils/basevalidators.py:2545\u001b[0m, in \u001b[0;36mCompoundArrayValidator.validate_coerce\u001b[0;34m(self, v, skip_invalid)\u001b[0m\n\u001b[1;32m   2543\u001b[0m \u001b[38;5;28;01mfor\u001b[39;00m v_el \u001b[38;5;129;01min\u001b[39;00m v:\n\u001b[1;32m   2544\u001b[0m     \u001b[38;5;28;01mif\u001b[39;00m \u001b[38;5;28misinstance\u001b[39m(v_el, \u001b[38;5;28mself\u001b[39m\u001b[38;5;241m.\u001b[39mdata_class):\n\u001b[0;32m-> 2545\u001b[0m         res\u001b[38;5;241m.\u001b[39mappend(\u001b[38;5;28;43mself\u001b[39;49m\u001b[38;5;241;43m.\u001b[39;49m\u001b[43mdata_class\u001b[49m\u001b[43m(\u001b[49m\u001b[43mv_el\u001b[49m\u001b[43m)\u001b[49m)\n\u001b[1;32m   2546\u001b[0m     \u001b[38;5;28;01melif\u001b[39;00m \u001b[38;5;28misinstance\u001b[39m(v_el, \u001b[38;5;28mdict\u001b[39m):\n\u001b[1;32m   2547\u001b[0m         res\u001b[38;5;241m.\u001b[39mappend(\u001b[38;5;28mself\u001b[39m\u001b[38;5;241m.\u001b[39mdata_class(v_el, skip_invalid\u001b[38;5;241m=\u001b[39mskip_invalid))\n",
      "File \u001b[0;32m~/anaconda3/envs/venv/lib/python3.9/site-packages/plotly/graph_objs/layout/_image.py:615\u001b[0m, in \u001b[0;36mImage.__init__\u001b[0;34m(self, arg, layer, name, opacity, sizex, sizey, sizing, source, templateitemname, visible, x, xanchor, xref, y, yanchor, yref, **kwargs)\u001b[0m\n\u001b[1;32m    613\u001b[0m     arg \u001b[38;5;241m=\u001b[39m {}\n\u001b[1;32m    614\u001b[0m \u001b[38;5;28;01melif\u001b[39;00m \u001b[38;5;28misinstance\u001b[39m(arg, \u001b[38;5;28mself\u001b[39m\u001b[38;5;241m.\u001b[39m\u001b[38;5;18m__class__\u001b[39m):\n\u001b[0;32m--> 615\u001b[0m     arg \u001b[38;5;241m=\u001b[39m \u001b[43marg\u001b[49m\u001b[38;5;241;43m.\u001b[39;49m\u001b[43mto_plotly_json\u001b[49m\u001b[43m(\u001b[49m\u001b[43m)\u001b[49m\n\u001b[1;32m    616\u001b[0m \u001b[38;5;28;01melif\u001b[39;00m \u001b[38;5;28misinstance\u001b[39m(arg, \u001b[38;5;28mdict\u001b[39m):\n\u001b[1;32m    617\u001b[0m     arg \u001b[38;5;241m=\u001b[39m _copy\u001b[38;5;241m.\u001b[39mcopy(arg)\n",
      "File \u001b[0;32m~/anaconda3/envs/venv/lib/python3.9/site-packages/plotly/basedatatypes.py:5590\u001b[0m, in \u001b[0;36mBasePlotlyType.to_plotly_json\u001b[0;34m(self)\u001b[0m\n\u001b[1;32m   5582\u001b[0m \u001b[38;5;28;01mdef\u001b[39;00m \u001b[38;5;21mto_plotly_json\u001b[39m(\u001b[38;5;28mself\u001b[39m):\n\u001b[1;32m   5583\u001b[0m     \u001b[38;5;124;03m\"\"\"\u001b[39;00m\n\u001b[1;32m   5584\u001b[0m \u001b[38;5;124;03m    Return plotly JSON representation of object as a Python dict\u001b[39;00m\n\u001b[1;32m   5585\u001b[0m \n\u001b[0;32m   (...)\u001b[0m\n\u001b[1;32m   5588\u001b[0m \u001b[38;5;124;03m    dict\u001b[39;00m\n\u001b[1;32m   5589\u001b[0m \u001b[38;5;124;03m    \"\"\"\u001b[39;00m\n\u001b[0;32m-> 5590\u001b[0m     \u001b[38;5;28;01mreturn\u001b[39;00m deepcopy(\u001b[38;5;28mself\u001b[39m\u001b[38;5;241m.\u001b[39m_props \u001b[38;5;28;01mif\u001b[39;00m \u001b[38;5;28;43mself\u001b[39;49m\u001b[38;5;241;43m.\u001b[39;49m\u001b[43m_props\u001b[49m \u001b[38;5;129;01mis\u001b[39;00m \u001b[38;5;129;01mnot\u001b[39;00m \u001b[38;5;28;01mNone\u001b[39;00m \u001b[38;5;28;01melse\u001b[39;00m {})\n",
      "File \u001b[0;32m~/anaconda3/envs/venv/lib/python3.9/site-packages/plotly/basedatatypes.py:4428\u001b[0m, in \u001b[0;36mBasePlotlyType._props\u001b[0;34m(self)\u001b[0m\n\u001b[1;32m   4425\u001b[0m     \u001b[38;5;28;01mreturn\u001b[39;00m \u001b[38;5;28mself\u001b[39m\u001b[38;5;241m.\u001b[39m_orphan_props\n\u001b[1;32m   4426\u001b[0m \u001b[38;5;28;01melse\u001b[39;00m:\n\u001b[1;32m   4427\u001b[0m     \u001b[38;5;66;03m# Get data from parent's dict\u001b[39;00m\n\u001b[0;32m-> 4428\u001b[0m     \u001b[38;5;28;01mreturn\u001b[39;00m \u001b[38;5;28;43mself\u001b[39;49m\u001b[38;5;241;43m.\u001b[39;49m\u001b[43mparent\u001b[49m\u001b[38;5;241;43m.\u001b[39;49m\u001b[43m_get_child_props\u001b[49m\u001b[43m(\u001b[49m\u001b[38;5;28;43mself\u001b[39;49m\u001b[43m)\u001b[49m\n",
      "File \u001b[0;32m~/anaconda3/envs/venv/lib/python3.9/site-packages/plotly/basedatatypes.py:4448\u001b[0m, in \u001b[0;36mBasePlotlyType._get_child_props\u001b[0;34m(self, child)\u001b[0m\n\u001b[1;32m   4445\u001b[0m     \u001b[38;5;28;01mreturn\u001b[39;00m \u001b[38;5;28;01mNone\u001b[39;00m\n\u001b[1;32m   4446\u001b[0m \u001b[38;5;28;01melse\u001b[39;00m:\n\u001b[1;32m   4447\u001b[0m     \u001b[38;5;66;03m# ### Child a compound property ###\u001b[39;00m\n\u001b[0;32m-> 4448\u001b[0m     \u001b[38;5;28;01mif\u001b[39;00m \u001b[43mchild\u001b[49m\u001b[38;5;241;43m.\u001b[39;49m\u001b[43mplotly_name\u001b[49m\u001b[43m \u001b[49m\u001b[38;5;129;43;01min\u001b[39;49;00m\u001b[43m \u001b[49m\u001b[38;5;28;43mself\u001b[39;49m:\n\u001b[1;32m   4449\u001b[0m         \u001b[38;5;28;01mfrom\u001b[39;00m \u001b[38;5;21;01m_plotly_utils\u001b[39;00m\u001b[38;5;21;01m.\u001b[39;00m\u001b[38;5;21;01mbasevalidators\u001b[39;00m \u001b[38;5;28;01mimport\u001b[39;00m (\n\u001b[1;32m   4450\u001b[0m             CompoundValidator,\n\u001b[1;32m   4451\u001b[0m             CompoundArrayValidator,\n\u001b[1;32m   4452\u001b[0m         )\n\u001b[1;32m   4454\u001b[0m         validator \u001b[38;5;241m=\u001b[39m \u001b[38;5;28mself\u001b[39m\u001b[38;5;241m.\u001b[39m_get_validator(child\u001b[38;5;241m.\u001b[39mplotly_name)\n",
      "File \u001b[0;32m~/anaconda3/envs/venv/lib/python3.9/site-packages/plotly/basedatatypes.py:5839\u001b[0m, in \u001b[0;36mBaseLayoutType.__contains__\u001b[0;34m(self, prop)\u001b[0m\n\u001b[1;32m   5835\u001b[0m \u001b[38;5;124;03m\"\"\"\u001b[39;00m\n\u001b[1;32m   5836\u001b[0m \u001b[38;5;124;03mCustom __contains__ that handles dynamic subplot properties\u001b[39;00m\n\u001b[1;32m   5837\u001b[0m \u001b[38;5;124;03m\"\"\"\u001b[39;00m\n\u001b[1;32m   5838\u001b[0m prop \u001b[38;5;241m=\u001b[39m \u001b[38;5;28mself\u001b[39m\u001b[38;5;241m.\u001b[39m_strip_subplot_suffix_of_1(prop)\n\u001b[0;32m-> 5839\u001b[0m \u001b[38;5;28;01mreturn\u001b[39;00m \u001b[38;5;28;43msuper\u001b[39;49m\u001b[43m(\u001b[49m\u001b[43mBaseLayoutHierarchyType\u001b[49m\u001b[43m,\u001b[49m\u001b[43m \u001b[49m\u001b[38;5;28;43mself\u001b[39;49m\u001b[43m)\u001b[49m\u001b[38;5;241;43m.\u001b[39;49m\u001b[38;5;21;43m__contains__\u001b[39;49m\u001b[43m(\u001b[49m\u001b[43mprop\u001b[49m\u001b[43m)\u001b[49m\n",
      "File \u001b[0;32m~/anaconda3/envs/venv/lib/python3.9/site-packages/plotly/basedatatypes.py:4790\u001b[0m, in \u001b[0;36mBasePlotlyType.__contains__\u001b[0;34m(self, prop)\u001b[0m\n\u001b[1;32m   4788\u001b[0m \u001b[38;5;28;01melse\u001b[39;00m:\n\u001b[1;32m   4789\u001b[0m     \u001b[38;5;28;01mif\u001b[39;00m obj \u001b[38;5;129;01mis\u001b[39;00m \u001b[38;5;129;01mnot\u001b[39;00m \u001b[38;5;28;01mNone\u001b[39;00m \u001b[38;5;129;01mand\u001b[39;00m p \u001b[38;5;129;01min\u001b[39;00m obj\u001b[38;5;241m.\u001b[39m_valid_props:\n\u001b[0;32m-> 4790\u001b[0m         obj \u001b[38;5;241m=\u001b[39m \u001b[43mobj\u001b[49m\u001b[43m[\u001b[49m\u001b[43mp\u001b[49m\u001b[43m]\u001b[49m\n\u001b[1;32m   4791\u001b[0m     \u001b[38;5;28;01melse\u001b[39;00m:\n\u001b[1;32m   4792\u001b[0m         \u001b[38;5;28;01mreturn\u001b[39;00m \u001b[38;5;28;01mFalse\u001b[39;00m\n",
      "File \u001b[0;32m~/anaconda3/envs/venv/lib/python3.9/site-packages/plotly/basedatatypes.py:5827\u001b[0m, in \u001b[0;36mBaseLayoutType.__getitem__\u001b[0;34m(self, prop)\u001b[0m\n\u001b[1;32m   5824\u001b[0m     \u001b[38;5;28;01melse\u001b[39;00m:\n\u001b[1;32m   5825\u001b[0m         \u001b[38;5;28;01mreturn\u001b[39;00m \u001b[38;5;28msuper\u001b[39m(BaseLayoutHierarchyType, \u001b[38;5;28mself\u001b[39m)\u001b[38;5;241m.\u001b[39m\u001b[38;5;21m__getattribute__\u001b[39m(prop)\n\u001b[0;32m-> 5827\u001b[0m \u001b[38;5;28;01mdef\u001b[39;00m \u001b[38;5;21m__getitem__\u001b[39m(\u001b[38;5;28mself\u001b[39m, prop):\n\u001b[1;32m   5828\u001b[0m     \u001b[38;5;124;03m\"\"\"\u001b[39;00m\n\u001b[1;32m   5829\u001b[0m \u001b[38;5;124;03m    Custom __getitem__ that handles dynamic subplot properties\u001b[39;00m\n\u001b[1;32m   5830\u001b[0m \u001b[38;5;124;03m    \"\"\"\u001b[39;00m\n\u001b[1;32m   5831\u001b[0m     prop \u001b[38;5;241m=\u001b[39m \u001b[38;5;28mself\u001b[39m\u001b[38;5;241m.\u001b[39m_strip_subplot_suffix_of_1(prop)\n",
      "\u001b[0;31mKeyboardInterrupt\u001b[0m: "
     ]
    }
   ],
   "source": [
    "fig = px.scatter(\n",
    "    df3,y=\"Medal number\", x=\"World GDP rank\",text='country',\n",
    "    size=\"World GDP rank\", animation_frame=\"year\",\n",
    "   template=custom_template, hover_name=\"country\", hover_data=[\"Medal number\", \"World GDP rank\"]\n",
    ")\n",
    "fig.layout.updatemenus[0].buttons[0].args[1][\"frame\"][\"duration\"] = 50\n",
    "fig.update_traces(marker_color=\"rgba(0,0,0,0)\")\n",
    "\n",
    "# minDim = df[[\"Medal number\", \"World GDP rank\"]].max().idxmax()\n",
    "# maxi = df[minDim].max()\n",
    "for i, row in df3.iterrows():\n",
    "    country_iso = row[\"iso_alpha2\"]\n",
    "    fig.add_layout_image(\n",
    "        dict(\n",
    "            source=f\"https://raw.githubusercontent.com/matahombres/CSS-Country-Flags-Rounded/master/flags/{country_iso}.png\",\n",
    "            xref=\"x\",\n",
    "            yref=\"y\",\n",
    "            xanchor=\"center\",\n",
    "            yanchor=\"middle\",\n",
    "            y=row[\"Medal number\"],\n",
    "            x=row[\"World GDP rank\"],\n",
    "            sizex = 500,\n",
    "            sizey=450,\n",
    "#             sizex=np.sqrt(row[\"GDP rank\"] / df[\"GDP rank\"].max()) * maxi * 0.02 + maxi * 0.04,\n",
    "#             sizey=np.sqrt(row[\"GDP rank\"] / df[\"GDP rank\"].max()) * maxi * 0.02 + maxi * 0.1,\n",
    "            sizing=\"contain\",\n",
    "            opacity=1,\n",
    "            layer=\"above\"\n",
    "        )\n",
    "    )\n",
    "fig.update_traces(textposition='top right')\n",
    "fig.update_xaxes(title_text='World GPD ranking.',tickmode='linear')\n",
    "fig.update_yaxes(tickangle=360)\n",
    "fig.update_layout(\n",
    "    annotations=[\n",
    "        dict(\n",
    "            text=\"Data source: https://www.kaggle.com/datasets/josephcheng123456/olympic-historical-dataset-from-olympediaorg?select=Olympic_Athlete_Bio.csv\",\n",
    "            xref=\"paper\",\n",
    "            yref=\"paper\",\n",
    "            x=0,\n",
    "            y=-.2,\n",
    "            showarrow=False\n",
    "        )\n",
    "    ]\n",
    ")\n",
    "\n",
    "fig.update_layout( title=format_title(\"Japan's Olympic Underperformance: A Deviation from the Negative Correlation between Medals and GDP Ranking.\",\n",
    "                                      \"Data collected between 1986-2021.\")\n",
    ")\n",
    "fig.update_layout( xaxis_range=[0, 17])\n",
    "fig.show()\n",
    "\n",
    "fig.update_layout( legend_title_font_color=\"black\",\n",
    "                  font_color=\"black\",legend = dict(font = dict(size =12 )),\n",
    "    title_font_color=\"black\",)\n",
    "fig.update_yaxes(title_text='')\n",
    "\n",
    "fig.show()"
   ]
  },
  {
   "cell_type": "markdown",
   "id": "c95f9633",
   "metadata": {},
   "source": [
    "![image.png](attachment:test.jif)"
   ]
  },
  {
   "cell_type": "code",
   "execution_count": null,
   "id": "93df98df",
   "metadata": {},
   "outputs": [],
   "source": [
    "fig = px.scatter(\n",
    "    df3,y=\"Medal number\", x=\"World GDP rank\",text='country',\n",
    "    size=\"World GDP rank\", animation_frame=\"year\",\n",
    "   template=custom_template, hover_name=\"country\", hover_data=[\"Medal number\", \"World GDP rank\"]\n",
    ")\n",
    "fig.layout.updatemenus[0].buttons[0].args[1][\"frame\"][\"duration\"] = 5000\n",
    "fig.update_traces(marker_color=\"rgba(0,0,0,0)\")"
   ]
  },
  {
   "cell_type": "code",
   "execution_count": null,
   "id": "b734f527",
   "metadata": {},
   "outputs": [],
   "source": [
    "df3.to_csv('data/data_medal_animation.csv')"
   ]
  },
  {
   "cell_type": "code",
   "execution_count": null,
   "id": "94cddfdb",
   "metadata": {},
   "outputs": [],
   "source": [
    "# generate images for each step in animation\n",
    "frames = []\n",
    "for s, fr in enumerate(fig.frames):\n",
    "    # set main traces to appropriate traces within plotly frame\n",
    "    fig.update(data=fr.data)\n",
    "    # move slider to correct place\n",
    "    fig.layout.sliders[0].update(active=s)\n",
    "    # generate image of current state\n",
    "    frames.append(PIL.Image.open(io.BytesIO(fig.to_image(format=\"png\"))))\n",
    "    \n",
    "# create animated GIF\n",
    "frames[0].save(\n",
    "        \"test.gif\",\n",
    "        save_all=True,\n",
    "        append_images=frames[1:],\n",
    "        optimize=True,\n",
    "        duration=5000,\n",
    "        loop=0,\n",
    "    )"
   ]
  },
  {
   "cell_type": "code",
   "execution_count": null,
   "id": "24ab6edf",
   "metadata": {},
   "outputs": [],
   "source": [
    "df"
   ]
  },
  {
   "cell_type": "code",
   "execution_count": null,
   "id": "7ac7adfa",
   "metadata": {},
   "outputs": [],
   "source": []
  },
  {
   "cell_type": "code",
   "execution_count": null,
   "id": "b072142d",
   "metadata": {},
   "outputs": [],
   "source": []
  },
  {
   "cell_type": "code",
   "execution_count": null,
   "id": "20ae410f",
   "metadata": {},
   "outputs": [],
   "source": []
  },
  {
   "cell_type": "code",
   "execution_count": null,
   "id": "64c16462",
   "metadata": {},
   "outputs": [],
   "source": []
  },
  {
   "cell_type": "code",
   "execution_count": null,
   "id": "709964d3",
   "metadata": {},
   "outputs": [],
   "source": []
  },
  {
   "cell_type": "code",
   "execution_count": null,
   "id": "1c315422",
   "metadata": {},
   "outputs": [],
   "source": []
  }
 ],
 "metadata": {
  "kernelspec": {
   "display_name": "Python 3",
   "language": "python",
   "name": "python3"
  },
  "language_info": {
   "codemirror_mode": {
    "name": "ipython",
    "version": 3
   },
   "file_extension": ".py",
   "mimetype": "text/x-python",
   "name": "python",
   "nbconvert_exporter": "python",
   "pygments_lexer": "ipython3",
   "version": "3.9.13"
  }
 },
 "nbformat": 4,
 "nbformat_minor": 5
}
