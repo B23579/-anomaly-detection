{
 "cells": [
  {
   "cell_type": "code",
   "execution_count": 265,
   "id": "e99d6da4",
   "metadata": {},
   "outputs": [],
   "source": [
    "import pandas as pd\n",
    "import seaborn as sns\n",
    "import numpy as np\n",
    "import matplotlib.pyplot as plt"
   ]
  },
  {
   "cell_type": "markdown",
   "id": "cfebd8d9",
   "metadata": {},
   "source": [
    "# Import and merge datasets"
   ]
  },
  {
   "cell_type": "code",
   "execution_count": 313,
   "id": "89d7901e",
   "metadata": {},
   "outputs": [],
   "source": [
    "df = pd.read_csv('data/athleteEvents.csv')\n",
    "country = pd.read_excel('data/olympic_city_country.xlsx')\n",
    "place = pd.read_csv('data/nocRegions.csv')\n",
    "place.head()\n",
    "place = place.drop(['region', 'notes'],axis=1)\n",
    "newdf1 = df.merge(place, how='right')\n"
   ]
  },
  {
   "cell_type": "markdown",
   "id": "3ffe1649",
   "metadata": {},
   "source": [
    "# data pre-processing "
   ]
  },
  {
   "cell_type": "code",
   "execution_count": 314,
   "id": "641fa3a3",
   "metadata": {},
   "outputs": [],
   "source": [
    "df = newdf1.dropna(subset=['Year','Games'])\n",
    "df['Team']= df['Team'].str.replace('[#,@,&,0-9]', '',regex=True)\n",
    "df['City']= df['City'].str.replace('[#,@,&,0-9]', '',regex=True)\n",
    "df['Team'] = df['Team'].str.lower()\n",
    "df['City'] = df['City'].str.lower()\n",
    "\n",
    "country['City'] = country['City'].str.replace(r'[#,@,&,0-9]', '', regex=True)\n",
    "country['City'] = country['City'].str.lower()\n",
    "\n",
    "country['Country'] = country['Country'].str.replace(r'[#,@,&,0-9]', '', regex=True)\n",
    "country['Country'] = country['Country'].str.lower()"
   ]
  },
  {
   "cell_type": "code",
   "execution_count": 315,
   "id": "88e832fb",
   "metadata": {},
   "outputs": [
    {
     "data": {
      "text/plain": [
       "ID             0\n",
       "Name           0\n",
       "Sex            0\n",
       "Age         9462\n",
       "Height     60083\n",
       "Weight     62785\n",
       "Team           0\n",
       "NOC            0\n",
       "Games          0\n",
       "Year           0\n",
       "Season         0\n",
       "City           0\n",
       "Sport          0\n",
       "Event          0\n",
       "Medal     230993\n",
       "dtype: int64"
      ]
     },
     "execution_count": 315,
     "metadata": {},
     "output_type": "execute_result"
    }
   ],
   "source": [
    "df.isnull().sum()"
   ]
  },
  {
   "cell_type": "code",
   "execution_count": 316,
   "id": "27a50c38",
   "metadata": {},
   "outputs": [],
   "source": [
    "df=df.fillna(0)"
   ]
  },
  {
   "cell_type": "markdown",
   "id": "4a2d650c",
   "metadata": {},
   "source": [
    "## medal "
   ]
  },
  {
   "cell_type": "code",
   "execution_count": 317,
   "id": "193a61b0",
   "metadata": {},
   "outputs": [
    {
     "data": {
      "text/plain": [
       "array([0, 'Bronze', 'Silver', 'Gold'], dtype=object)"
      ]
     },
     "execution_count": 317,
     "metadata": {},
     "output_type": "execute_result"
    }
   ],
   "source": [
    "pd.unique(df['Medal'].values)"
   ]
  },
  {
   "cell_type": "code",
   "execution_count": 318,
   "id": "d5b426d2",
   "metadata": {},
   "outputs": [
    {
     "data": {
      "text/plain": [
       "229"
      ]
     },
     "execution_count": 318,
     "metadata": {},
     "output_type": "execute_result"
    }
   ],
   "source": [
    "len(pd.unique(df['NOC'].values))"
   ]
  },
  {
   "cell_type": "markdown",
   "id": "bb894419",
   "metadata": {},
   "source": [
    "## years"
   ]
  },
  {
   "cell_type": "code",
   "execution_count": 319,
   "id": "ce971592",
   "metadata": {},
   "outputs": [
    {
     "name": "stdout",
     "output_type": "stream",
     "text": [
      "[1956. 1936. 1948. 1980. 1964. 1972. 1968. 2004. 2008. 2012. 2016. 1988.\n",
      " 1960. 1996. 1984. 1952. 1992. 2000. 1976. 2014. 2006. 2010. 2002. 1994.\n",
      " 1998. 1908. 1912. 1924. 1928. 1932. 1900. 1920. 1906. 1896. 1904.]\n",
      "lenght is  35\n"
     ]
    }
   ],
   "source": [
    "print(pd.unique(df['Year']))\n",
    "print( \"lenght is \" , len(pd.unique(df['Year'])))"
   ]
  },
  {
   "cell_type": "code",
   "execution_count": 320,
   "id": "320701d7",
   "metadata": {},
   "outputs": [],
   "source": [
    "df92=df[df['Year']==1900]\n",
    "df20=df[df['Year']==2012]"
   ]
  },
  {
   "cell_type": "code",
   "execution_count": 321,
   "id": "3f48d2f8",
   "metadata": {},
   "outputs": [
    {
     "name": "stdout",
     "output_type": "stream",
     "text": [
      "Pourcentage of man 0.9829545454545454  pourcentage of femel 0.017045454545454544\n"
     ]
    }
   ],
   "source": [
    "pM = len(df92[df92[\"Sex\"]=='M'])/(len(df92[df92[\"Sex\"]=='M'])+len(df92[df92[\"Sex\"]=='F']))\n",
    "PF= len(df92[df92[\"Sex\"]=='F'])/(len(df92[df92[\"Sex\"]=='M'])+len(df92[df92[\"Sex\"]=='F']))\n",
    "print('Pourcentage of man', pM , \" pourcentage of femel\", PF)"
   ]
  },
  {
   "cell_type": "code",
   "execution_count": 322,
   "id": "65da9317",
   "metadata": {},
   "outputs": [
    {
     "data": {
      "text/html": [
       "<div>\n",
       "<style scoped>\n",
       "    .dataframe tbody tr th:only-of-type {\n",
       "        vertical-align: middle;\n",
       "    }\n",
       "\n",
       "    .dataframe tbody tr th {\n",
       "        vertical-align: top;\n",
       "    }\n",
       "\n",
       "    .dataframe thead th {\n",
       "        text-align: right;\n",
       "    }\n",
       "</style>\n",
       "<table border=\"1\" class=\"dataframe\">\n",
       "  <thead>\n",
       "    <tr style=\"text-align: right;\">\n",
       "      <th></th>\n",
       "      <th>Sex</th>\n",
       "      <th>participation pourcentage</th>\n",
       "      <th>Year</th>\n",
       "    </tr>\n",
       "  </thead>\n",
       "  <tbody>\n",
       "    <tr>\n",
       "      <th>0</th>\n",
       "      <td>M</td>\n",
       "      <td>0.982955</td>\n",
       "      <td>1900</td>\n",
       "    </tr>\n",
       "    <tr>\n",
       "      <th>1</th>\n",
       "      <td>F</td>\n",
       "      <td>0.017045</td>\n",
       "      <td>1900</td>\n",
       "    </tr>\n",
       "  </tbody>\n",
       "</table>\n",
       "</div>"
      ],
      "text/plain": [
       "  Sex  participation pourcentage  Year\n",
       "0   M                   0.982955  1900\n",
       "1   F                   0.017045  1900"
      ]
     },
     "execution_count": 322,
     "metadata": {},
     "output_type": "execute_result"
    }
   ],
   "source": [
    "dt= {\"Sex\":[\"M\",\"F\"],'participation pourcentage':[pM,PF],\"Year\":[1900,1900]}\n",
    "dt=pd.DataFrame(dt)\n",
    "dt"
   ]
  },
  {
   "cell_type": "code",
   "execution_count": 323,
   "id": "24bfb196",
   "metadata": {},
   "outputs": [
    {
     "name": "stdout",
     "output_type": "stream",
     "text": [
      "Pourcentage of man 0.9829545454545454  pourcentage of femel 0.017045454545454544\n"
     ]
    }
   ],
   "source": [
    "PM = len(df20[df20[\"Sex\"]=='M'])/(len(df20[df20[\"Sex\"]=='M'])+len(df20[df20[\"Sex\"]=='F']))\n",
    "pF= len(df20[df20[\"Sex\"]=='F'])/(len(df20[df20[\"Sex\"]=='M'])+len(df20[df20[\"Sex\"]=='F']))\n",
    "print('Pourcentage of man', pM , \" pourcentage of femel\", PF)"
   ]
  },
  {
   "cell_type": "code",
   "execution_count": 324,
   "id": "b32e8bf7",
   "metadata": {},
   "outputs": [
    {
     "data": {
      "text/html": [
       "<div>\n",
       "<style scoped>\n",
       "    .dataframe tbody tr th:only-of-type {\n",
       "        vertical-align: middle;\n",
       "    }\n",
       "\n",
       "    .dataframe tbody tr th {\n",
       "        vertical-align: top;\n",
       "    }\n",
       "\n",
       "    .dataframe thead th {\n",
       "        text-align: right;\n",
       "    }\n",
       "</style>\n",
       "<table border=\"1\" class=\"dataframe\">\n",
       "  <thead>\n",
       "    <tr style=\"text-align: right;\">\n",
       "      <th></th>\n",
       "      <th>Sex</th>\n",
       "      <th>participation pourcentage</th>\n",
       "      <th>Year</th>\n",
       "    </tr>\n",
       "  </thead>\n",
       "  <tbody>\n",
       "    <tr>\n",
       "      <th>0</th>\n",
       "      <td>M</td>\n",
       "      <td>0.550528</td>\n",
       "      <td>2012</td>\n",
       "    </tr>\n",
       "    <tr>\n",
       "      <th>1</th>\n",
       "      <td>F</td>\n",
       "      <td>0.449472</td>\n",
       "      <td>2012</td>\n",
       "    </tr>\n",
       "  </tbody>\n",
       "</table>\n",
       "</div>"
      ],
      "text/plain": [
       "  Sex  participation pourcentage  Year\n",
       "0   M                   0.550528  2012\n",
       "1   F                   0.449472  2012"
      ]
     },
     "execution_count": 324,
     "metadata": {},
     "output_type": "execute_result"
    }
   ],
   "source": [
    "dt2= {\"Sex\":[\"M\",\"F\"],'participation pourcentage':[PM,pF],\"Year\":[2012,2012]}\n",
    "dt2=pd.DataFrame(dt2)\n",
    "dt2"
   ]
  },
  {
   "cell_type": "markdown",
   "id": "45a78552",
   "metadata": {},
   "source": [
    "# Slopgraph"
   ]
  },
  {
   "cell_type": "code",
   "execution_count": 325,
   "id": "06f45641",
   "metadata": {},
   "outputs": [],
   "source": [
    "\n",
    "frames = [dt2, dt]\n",
    "result = pd.concat(frames,axis=0)\n",
    "result\n",
    "fm= result[result['Sex']=='M']\n",
    "ff= result[result['Sex']=='F']"
   ]
  },
  {
   "cell_type": "code",
   "execution_count": 326,
   "id": "0d704865",
   "metadata": {},
   "outputs": [
    {
     "data": {
      "image/png": "[encoded data removed]",
      "text/plain": [
       "<Figure size 432x288 with 1 Axes>"
      ]
     },
     "metadata": {
      "needs_background": "light"
     },
     "output_type": "display_data"
    }
   ],
   "source": [
    "plt.plot(fm['Year'], fm['participation pourcentage'])\n",
    "plt.plot(ff['Year'], ff['participation pourcentage'])\n",
    "plt.xticks([1900, 2012])\n",
    "plt.text(fm['Year'].values[0]+0.02, fm['participation pourcentage'].values[0], '{:,.2f}'.format(fm['participation pourcentage'].values[0]), va='center', ha='right')\n",
    "plt.text(ff['Year'].values[0]+0.02, ff['participation pourcentage'].values[0], 'Femel')\n",
    "plt.xticks([1900, 2012])\n",
    "plt.text(fm['Year'].values[-1]-5, fm['participation pourcentage'].values[-1], 'Male')\n",
    "plt.text(ff['Year'].values[-1]-5, ff['participation pourcentage'].values[-1], 'Femel')\n",
    "\n",
    "plt.show()"
   ]
  },
  {
   "cell_type": "markdown",
   "id": "b5b7110b",
   "metadata": {},
   "source": [
    "https://news.ubc.ca/2014/09/30/gender-equality-olympics/"
   ]
  },
  {
   "cell_type": "code",
   "execution_count": 327,
   "id": "63260e2b",
   "metadata": {},
   "outputs": [
    {
     "data": {
      "text/plain": [
       "2012"
      ]
     },
     "execution_count": 327,
     "metadata": {},
     "output_type": "execute_result"
    }
   ],
   "source": [
    "fm['Year'].values[0]"
   ]
  },
  {
   "cell_type": "markdown",
   "id": "c4a1110a",
   "metadata": {},
   "source": [
    "## Pourcentage of medal wont by each gender"
   ]
  },
  {
   "cell_type": "code",
   "execution_count": 328,
   "id": "f8704557",
   "metadata": {},
   "outputs": [
    {
     "data": {
      "text/html": [
       "<div>\n",
       "<style scoped>\n",
       "    .dataframe tbody tr th:only-of-type {\n",
       "        vertical-align: middle;\n",
       "    }\n",
       "\n",
       "    .dataframe tbody tr th {\n",
       "        vertical-align: top;\n",
       "    }\n",
       "\n",
       "    .dataframe thead th {\n",
       "        text-align: right;\n",
       "    }\n",
       "</style>\n",
       "<table border=\"1\" class=\"dataframe\">\n",
       "  <thead>\n",
       "    <tr style=\"text-align: right;\">\n",
       "      <th></th>\n",
       "      <th>Sex</th>\n",
       "      <th>Year</th>\n",
       "      <th>count</th>\n",
       "      <th>Medal</th>\n",
       "    </tr>\n",
       "  </thead>\n",
       "  <tbody>\n",
       "    <tr>\n",
       "      <th>0</th>\n",
       "      <td>F</td>\n",
       "      <td>1900.0</td>\n",
       "      <td>20</td>\n",
       "      <td>0</td>\n",
       "    </tr>\n",
       "    <tr>\n",
       "      <th>1</th>\n",
       "      <td>F</td>\n",
       "      <td>1900.0</td>\n",
       "      <td>5</td>\n",
       "      <td>Bronze</td>\n",
       "    </tr>\n",
       "    <tr>\n",
       "      <th>2</th>\n",
       "      <td>F</td>\n",
       "      <td>1900.0</td>\n",
       "      <td>4</td>\n",
       "      <td>Gold</td>\n",
       "    </tr>\n",
       "    <tr>\n",
       "      <th>3</th>\n",
       "      <td>F</td>\n",
       "      <td>1900.0</td>\n",
       "      <td>4</td>\n",
       "      <td>Silver</td>\n",
       "    </tr>\n",
       "    <tr>\n",
       "      <th>4</th>\n",
       "      <td>F</td>\n",
       "      <td>1904.0</td>\n",
       "      <td>6</td>\n",
       "      <td>0</td>\n",
       "    </tr>\n",
       "  </tbody>\n",
       "</table>\n",
       "</div>"
      ],
      "text/plain": [
       "  Sex    Year  count   Medal\n",
       "0   F  1900.0     20       0\n",
       "1   F  1900.0      5  Bronze\n",
       "2   F  1900.0      4    Gold\n",
       "3   F  1900.0      4  Silver\n",
       "4   F  1904.0      6       0"
      ]
     },
     "execution_count": 328,
     "metadata": {},
     "output_type": "execute_result"
    }
   ],
   "source": [
    "l =df.groupby(['Sex', 'Year','Medal']).agg('count').reset_index()\n",
    "l['count'] = l['ID']\n",
    "l=l[['Sex','Year','count','Medal']]\n",
    "l.head()"
   ]
  },
  {
   "cell_type": "code",
   "execution_count": 329,
   "id": "432da233",
   "metadata": {},
   "outputs": [
    {
     "data": {
      "text/plain": [
       "Sex\n",
       "F      33\n",
       "M    1903\n",
       "Name: count, dtype: int64"
      ]
     },
     "execution_count": 329,
     "metadata": {},
     "output_type": "execute_result"
    }
   ],
   "source": [
    "dfm= l[l['Year']==1900]\n",
    "dfm.groupby(['Sex'])['count'].sum()"
   ]
  },
  {
   "cell_type": "code",
   "execution_count": 330,
   "id": "beb65cff",
   "metadata": {},
   "outputs": [
    {
     "data": {
      "text/plain": [
       "Sex\n",
       "F     13\n",
       "M    591\n",
       "Name: count, dtype: int64"
      ]
     },
     "execution_count": 330,
     "metadata": {},
     "output_type": "execute_result"
    }
   ],
   "source": [
    "dfm=dfm[dfm['Medal']!=0]\n",
    "dfm.groupby(['Sex'])['count'].agg('sum')\n"
   ]
  },
  {
   "cell_type": "code",
   "execution_count": 331,
   "id": "2321d2d5",
   "metadata": {},
   "outputs": [
    {
     "data": {
      "text/plain": [
       "Sex\n",
       "F    5791\n",
       "M    7093\n",
       "Name: count, dtype: int64"
      ]
     },
     "execution_count": 331,
     "metadata": {},
     "output_type": "execute_result"
    }
   ],
   "source": [
    "dfm2= l[l['Year']==2012]\n",
    "dfm2.groupby(['Sex'])['count'].sum()"
   ]
  },
  {
   "cell_type": "code",
   "execution_count": 332,
   "id": "aa0a797c",
   "metadata": {},
   "outputs": [
    {
     "name": "stdout",
     "output_type": "stream",
     "text": [
      "Sex\n",
      "F     914\n",
      "M    1023\n",
      "Name: count, dtype: int64\n"
     ]
    }
   ],
   "source": [
    "dfm2=dfm2[dfm2['Medal']!=0]\n",
    "print(dfm2.groupby(['Sex'])['count'].agg('sum'))"
   ]
  },
  {
   "cell_type": "code",
   "execution_count": 333,
   "id": "35399f82",
   "metadata": {},
   "outputs": [
    {
     "name": "stdout",
     "output_type": "stream",
     "text": [
      "Sex\n",
      "F    5791\n",
      "M    7093\n",
      "Name: count, dtype: int64\n",
      "Sex\n",
      "F     914\n",
      "M    1023\n",
      "Name: count, dtype: int64\n"
     ]
    }
   ],
   "source": [
    "dfm2= l[l['Year']==2012]\n",
    "print(dfm2.groupby(['Sex'])['count'].sum())\n",
    "dfm2=dfm2[dfm2['Medal']!=0]\n",
    "print(dfm2.groupby(['Sex'])['count'].sum())"
   ]
  },
  {
   "cell_type": "markdown",
   "id": "a5e02adc",
   "metadata": {},
   "source": [
    "explore the slopgraphe and the percentage to compare the percentage of femel and male participation during the time.\n",
    "the pourcentage of medal from past to know. I will then explore the same direction for the country with most number of medail and also the country with less number of medail.  \n",
    "If possible, show the distribution of medal get by both gender in the word map.  To get which country could affect the gender performance in the olympic game.  "
   ]
  },
  {
   "cell_type": "code",
   "execution_count": 334,
   "id": "a2417b79",
   "metadata": {},
   "outputs": [
    {
     "data": {
      "text/plain": [
       "<AxesSubplot:xlabel='Sex', ylabel='count'>"
      ]
     },
     "execution_count": 334,
     "metadata": {},
     "output_type": "execute_result"
    },
    {
     "data": {
      "image/png": "[encoded data removed]",
      "text/plain": [
       "<Figure size 432x288 with 1 Axes>"
      ]
     },
     "metadata": {
      "needs_background": "light"
     },
     "output_type": "display_data"
    }
   ],
   "source": [
    "sns.countplot(data=df20, x='Sex')"
   ]
  },
  {
   "cell_type": "code",
   "execution_count": 335,
   "id": "83e55158",
   "metadata": {},
   "outputs": [
    {
     "data": {
      "text/plain": [
       "<AxesSubplot:xlabel='Sex', ylabel='count'>"
      ]
     },
     "execution_count": 335,
     "metadata": {},
     "output_type": "execute_result"
    },
    {
     "data": {
      "image/png": "[encoded data removed]",
      "text/plain": [
       "<Figure size 432x288 with 1 Axes>"
      ]
     },
     "metadata": {
      "needs_background": "light"
     },
     "output_type": "display_data"
    }
   ],
   "source": [
    "sns.countplot(data=df92, x='Sex')\n"
   ]
  },
  {
   "cell_type": "markdown",
   "id": "28d453e8",
   "metadata": {},
   "source": [
    "**count the total number of men and winen who participate to the onlympic and show the number of medal got per gender.**"
   ]
  },
  {
   "cell_type": "code",
   "execution_count": 336,
   "id": "2089e435",
   "metadata": {},
   "outputs": [],
   "source": [
    "l =df.groupby(['Sex', 'Year']).agg('count').reset_index()\n",
    "l['count'] = l['ID']\n",
    "l=l[['Sex','Year','count']]"
   ]
  },
  {
   "cell_type": "code",
   "execution_count": 337,
   "id": "e84f842a",
   "metadata": {},
   "outputs": [
    {
     "name": "stdout",
     "output_type": "stream",
     "text": [
      "<class 'pandas.core.frame.DataFrame'>\n",
      "RangeIndex: 69 entries, 0 to 68\n",
      "Data columns (total 3 columns):\n",
      " #   Column  Non-Null Count  Dtype \n",
      "---  ------  --------------  ----- \n",
      " 0   Sex     69 non-null     object\n",
      " 1   Year    69 non-null     int64 \n",
      " 2   count   69 non-null     int64 \n",
      "dtypes: int64(2), object(1)\n",
      "memory usage: 1.7+ KB\n"
     ]
    }
   ],
   "source": [
    "l['Year'] = l['Year'].astype(int)\n",
    "l.info()"
   ]
  },
  {
   "cell_type": "code",
   "execution_count": 338,
   "id": "d29f8747",
   "metadata": {},
   "outputs": [
    {
     "data": {
      "text/plain": [
       "<AxesSubplot:xlabel='Year', ylabel='count'>"
      ]
     },
     "execution_count": 338,
     "metadata": {},
     "output_type": "execute_result"
    },
    {
     "data": {
      "image/png": "[encoded data removed]",
      "text/plain": [
       "<Figure size 432x288 with 1 Axes>"
      ]
     },
     "metadata": {
      "needs_background": "light"
     },
     "output_type": "display_data"
    }
   ],
   "source": [
    "sns.lineplot(data=l, x='Year',y='count',hue='Sex')"
   ]
  },
  {
   "cell_type": "code",
   "execution_count": 339,
   "id": "e0a20c47",
   "metadata": {},
   "outputs": [
    {
     "data": {
      "text/html": [
       "<div>\n",
       "<style scoped>\n",
       "    .dataframe tbody tr th:only-of-type {\n",
       "        vertical-align: middle;\n",
       "    }\n",
       "\n",
       "    .dataframe tbody tr th {\n",
       "        vertical-align: top;\n",
       "    }\n",
       "\n",
       "    .dataframe thead th {\n",
       "        text-align: right;\n",
       "    }\n",
       "</style>\n",
       "<table border=\"1\" class=\"dataframe\">\n",
       "  <thead>\n",
       "    <tr style=\"text-align: right;\">\n",
       "      <th></th>\n",
       "      <th>Sex</th>\n",
       "      <th>Year</th>\n",
       "      <th>count</th>\n",
       "      <th>Medal</th>\n",
       "    </tr>\n",
       "  </thead>\n",
       "  <tbody>\n",
       "    <tr>\n",
       "      <th>0</th>\n",
       "      <td>F</td>\n",
       "      <td>1900.0</td>\n",
       "      <td>20</td>\n",
       "      <td>0</td>\n",
       "    </tr>\n",
       "    <tr>\n",
       "      <th>1</th>\n",
       "      <td>F</td>\n",
       "      <td>1900.0</td>\n",
       "      <td>5</td>\n",
       "      <td>Bronze</td>\n",
       "    </tr>\n",
       "    <tr>\n",
       "      <th>2</th>\n",
       "      <td>F</td>\n",
       "      <td>1900.0</td>\n",
       "      <td>4</td>\n",
       "      <td>Gold</td>\n",
       "    </tr>\n",
       "    <tr>\n",
       "      <th>3</th>\n",
       "      <td>F</td>\n",
       "      <td>1900.0</td>\n",
       "      <td>4</td>\n",
       "      <td>Silver</td>\n",
       "    </tr>\n",
       "    <tr>\n",
       "      <th>4</th>\n",
       "      <td>F</td>\n",
       "      <td>1904.0</td>\n",
       "      <td>6</td>\n",
       "      <td>0</td>\n",
       "    </tr>\n",
       "    <tr>\n",
       "      <th>...</th>\n",
       "      <td>...</td>\n",
       "      <td>...</td>\n",
       "      <td>...</td>\n",
       "      <td>...</td>\n",
       "    </tr>\n",
       "    <tr>\n",
       "      <th>271</th>\n",
       "      <td>M</td>\n",
       "      <td>2014.0</td>\n",
       "      <td>110</td>\n",
       "      <td>Silver</td>\n",
       "    </tr>\n",
       "    <tr>\n",
       "      <th>272</th>\n",
       "      <td>M</td>\n",
       "      <td>2016.0</td>\n",
       "      <td>6400</td>\n",
       "      <td>0</td>\n",
       "    </tr>\n",
       "    <tr>\n",
       "      <th>273</th>\n",
       "      <td>M</td>\n",
       "      <td>2016.0</td>\n",
       "      <td>372</td>\n",
       "      <td>Bronze</td>\n",
       "    </tr>\n",
       "    <tr>\n",
       "      <th>274</th>\n",
       "      <td>M</td>\n",
       "      <td>2016.0</td>\n",
       "      <td>346</td>\n",
       "      <td>Gold</td>\n",
       "    </tr>\n",
       "    <tr>\n",
       "      <th>275</th>\n",
       "      <td>M</td>\n",
       "      <td>2016.0</td>\n",
       "      <td>335</td>\n",
       "      <td>Silver</td>\n",
       "    </tr>\n",
       "  </tbody>\n",
       "</table>\n",
       "<p>276 rows × 4 columns</p>\n",
       "</div>"
      ],
      "text/plain": [
       "    Sex    Year  count   Medal\n",
       "0     F  1900.0     20       0\n",
       "1     F  1900.0      5  Bronze\n",
       "2     F  1900.0      4    Gold\n",
       "3     F  1900.0      4  Silver\n",
       "4     F  1904.0      6       0\n",
       "..   ..     ...    ...     ...\n",
       "271   M  2014.0    110  Silver\n",
       "272   M  2016.0   6400       0\n",
       "273   M  2016.0    372  Bronze\n",
       "274   M  2016.0    346    Gold\n",
       "275   M  2016.0    335  Silver\n",
       "\n",
       "[276 rows x 4 columns]"
      ]
     },
     "execution_count": 339,
     "metadata": {},
     "output_type": "execute_result"
    }
   ],
   "source": [
    "l =df.groupby(['Sex', 'Year','Medal']).agg('count').reset_index()\n",
    "l['count'] = l['ID']\n",
    "l=l[['Sex','Year','count','Medal']]\n",
    "l"
   ]
  },
  {
   "cell_type": "code",
   "execution_count": 340,
   "id": "95178aaa",
   "metadata": {},
   "outputs": [
    {
     "data": {
      "text/plain": [
       "<AxesSubplot:xlabel='Year', ylabel='count'>"
      ]
     },
     "execution_count": 340,
     "metadata": {},
     "output_type": "execute_result"
    },
    {
     "data": {
      "image/png": "[encoded data removed]",
      "text/plain": [
       "<Figure size 432x288 with 1 Axes>"
      ]
     },
     "metadata": {
      "needs_background": "light"
     },
     "output_type": "display_data"
    }
   ],
   "source": [
    "sns.lineplot(data=l, x='Year',y='count',hue='Medal',style='Sex')"
   ]
  },
  {
   "cell_type": "code",
   "execution_count": 341,
   "id": "c965d094",
   "metadata": {},
   "outputs": [],
   "source": [
    "l=l[l['Year']>=1990]"
   ]
  },
  {
   "cell_type": "code",
   "execution_count": 342,
   "id": "a7a54d3d",
   "metadata": {},
   "outputs": [
    {
     "data": {
      "text/plain": [
       "<AxesSubplot:xlabel='Year', ylabel='count'>"
      ]
     },
     "execution_count": 342,
     "metadata": {},
     "output_type": "execute_result"
    },
    {
     "data": {
      "image/png": "[encoded data removed]",
      "text/plain": [
       "<Figure size 432x288 with 1 Axes>"
      ]
     },
     "metadata": {
      "needs_background": "light"
     },
     "output_type": "display_data"
    }
   ],
   "source": [
    "sns.lineplot(data=l, x='Year',y='count',hue='Medal',style='Sex',markers=True)"
   ]
  },
  {
   "cell_type": "code",
   "execution_count": 343,
   "id": "8bd14e2c",
   "metadata": {},
   "outputs": [
    {
     "data": {
      "text/plain": [
       "<seaborn.axisgrid.FacetGrid at 0x7f8c9b21a4c0>"
      ]
     },
     "execution_count": 343,
     "metadata": {},
     "output_type": "execute_result"
    },
    {
     "data": {
      "image/png": "[encoded data removed]",
      "text/plain": [
       "<Figure size 1484.62x360 with 4 Axes>"
      ]
     },
     "metadata": {
      "needs_background": "light"
     },
     "output_type": "display_data"
    }
   ],
   "source": [
    "sns.relplot(\n",
    "    data=l, x=\"Year\", y=\"count\",\n",
    "    col=\"Medal\", hue=\"Sex\",\n",
    "    kind=\"line\"\n",
    ")"
   ]
  },
  {
   "cell_type": "markdown",
   "id": "f9c0a5f2",
   "metadata": {},
   "source": [
    "# How does age and gender affect olympic sports performance?"
   ]
  },
  {
   "cell_type": "markdown",
   "id": "02c09646",
   "metadata": {},
   "source": [
    "# Does location really affect an athlete performance?"
   ]
  },
  {
   "cell_type": "markdown",
   "id": "9e8e28bc",
   "metadata": {},
   "source": [
    "# How sport Location Affects athlete Performance?"
   ]
  },
  {
   "cell_type": "markdown",
   "id": "bbb9fe31",
   "metadata": {},
   "source": [
    "# How does the athlete with more medal evolve in year?"
   ]
  },
  {
   "cell_type": "code",
   "execution_count": 344,
   "id": "287faa01",
   "metadata": {},
   "outputs": [
    {
     "data": {
      "text/html": [
       "        <script type=\"text/javascript\">\n",
       "        window.PlotlyConfig = {MathJaxConfig: 'local'};\n",
       "        if (window.MathJax && window.MathJax.Hub && window.MathJax.Hub.Config) {window.MathJax.Hub.Config({SVG: {font: \"STIX-Web\"}});}\n",
       "        if (typeof require !== 'undefined') {\n",
       "        require.undef(\"plotly\");\n",
       "        requirejs.config({\n",
       "            paths: {\n",
       "                'plotly': ['https://cdn.plot.ly/plotly-2.14.0.min']\n",
       "            }\n",
       "        });\n",
       "        require(['plotly'], function(Plotly) {\n",
       "            window._Plotly = Plotly;\n",
       "        });\n",
       "        }\n",
       "        </script>\n",
       "        "
      ]
     },
     "metadata": {},
     "output_type": "display_data"
    }
   ],
   "source": [
    "import plotly.graph_objs as go\n",
    "import plotly.figure_factory as ff\n",
    "from plotly import tools\n",
    "from plotly.offline import download_plotlyjs, init_notebook_mode, plot, iplot\n",
    "init_notebook_mode(connected=True)"
   ]
  },
  {
   "cell_type": "code",
   "execution_count": 345,
   "id": "0bcb9048",
   "metadata": {},
   "outputs": [],
   "source": [
    "tmp = df.groupby(['Year', 'City'])['Season'].value_counts()\n",
    "df2 = pd.DataFrame(data={'Athlets': tmp.values}, index=tmp.index).reset_index()"
   ]
  },
  {
   "cell_type": "code",
   "execution_count": 346,
   "id": "ecd47054",
   "metadata": {},
   "outputs": [],
   "source": [
    "tmp = df.groupby(['Team', 'Medal'])['ID'].agg('count').dropna()\n",
    "df3 = pd.DataFrame(tmp).reset_index()"
   ]
  },
  {
   "cell_type": "code",
   "execution_count": 347,
   "id": "2fea87d6",
   "metadata": {},
   "outputs": [],
   "source": [
    "dfG = df3[df3['Medal']=='Gold']\n",
    "dfS = df3[df3['Medal']=='Silver']\n",
    "dfB = df3[df3['Medal']=='Bronze']\n",
    "\n",
    "def draw_map(dataset, title, colorscale):\n",
    "    trace = go.Choropleth(\n",
    "                locations = dataset['Team'],\n",
    "                locationmode='country names',\n",
    "                z = dataset['ID'],\n",
    "                text = dataset['Team'],\n",
    "                autocolorscale =False,\n",
    "                reversescale = True,\n",
    "                colorscale = colorscale,\n",
    "                marker = dict(\n",
    "                    line = dict(\n",
    "                        color = 'rgb(0,0,0)',\n",
    "                        width = 0.5)\n",
    "                ),\n",
    "                colorbar = dict(\n",
    "                    title = 'Medals',\n",
    "                    tickprefix = '')\n",
    "            )\n",
    "    data = [trace]\n",
    "    layout = go.Layout(\n",
    "        title = title,\n",
    "        geo = dict(\n",
    "            showframe = True,\n",
    "            showlakes = False,\n",
    "            showcoastlines = True,\n",
    "            projection = dict(\n",
    "                type = 'natural earth'\n",
    "            )\n",
    "        )\n",
    "    )\n",
    "    fig = dict( data=data, layout=layout )\n",
    "    iplot(fig)"
   ]
  },
  {
   "cell_type": "code",
   "execution_count": 348,
   "id": "ac250c6e",
   "metadata": {},
   "outputs": [
    {
     "data": {
      "application/vnd.plotly.v1+json": {
       "config": {
        "linkText": "Export to plot.ly",
        "plotlyServerURL": "https://plot.ly",
        "showLink": false
       },
       "data": [
        {
         "autocolorscale": false,
         "colorbar": {
          "tickprefix": "",
          "title": {
           "text": "Medals"
          }
         },
         "colorscale": [
          [
           0,
           "rgb(247,252,245)"
          ],
          [
           0.125,
           "rgb(229,245,224)"
          ],
          [
           0.25,
           "rgb(199,233,192)"
          ],
          [
           0.375,
           "rgb(161,217,155)"
          ],
          [
           0.5,
           "rgb(116,196,118)"
          ],
          [
           0.625,
           "rgb(65,171,93)"
          ],
          [
           0.75,
           "rgb(35,139,69)"
          ],
          [
           0.875,
           "rgb(0,109,44)"
          ],
          [
           1,
           "rgb(0,68,27)"
          ]
         ],
         "locationmode": "country names",
         "locations": [
          "algeria",
          "amateur athletic association",
          "ancora",
          "angelita",
          "argentina",
          "armenia",
          "aschenbrodel",
          "atalanta boat club-",
          "atlanta",
          "australasia",
          "australia",
          "australia-",
          "austria",
          "austria-",
          "azerbaijan",
          "baby-",
          "bahamas",
          "bahrain",
          "barrenjoey",
          "beatrijs iii-",
          "belarus",
          "belgium",
          "belgium-",
          "bera",
          "bissbi",
          "bona fide",
          "bonaparte",
          "brazil",
          "brazil-",
          "bucintoro venezia",
          "bucintoro venezia-",
          "bulgaria",
          "burundi",
          "cameroon",
          "camille",
          "canada",
          "canada-",
          "carabinier-",
          "century boat club-",
          "cercle de l'aviron roubaix-",
          "chile",
          "china",
          "china-",
          "chinese taipei",
          "cicely-",
          "cincinnati archers",
          "cobweb-",
          "colombia",
          "complex ii",
          "costa rica",
          "cote d'ivoire",
          "croatia",
          "cuba",
          "czech republic",
          "czechoslovakia",
          "denmark",
          "denmark/sweden",
          "deutscher schwimm verband berlin",
          "devon and somerset wanderers",
          "dominican republic",
          "dormy-",
          "east germany",
          "east germany-",
          "ecuador",
          "edelweiss ii-",
          "egypt",
          "eleda",
          "elisabeth v",
          "elvis va",
          "england-",
          "esterel-",
          "estonia",
          "ethiopia",
          "fantlet-",
          "femur-",
          "fiji",
          "finland",
          "foxhunters hurlingham",
          "france",
          "france-",
          "galt football club",
          "gem",
          "georgia",
          "germania ruder club hamburg-",
          "germany",
          "germany-",
          "great britain",
          "great britain-",
          "great britain/germany",
          "greece",
          "grenada",
          "gyrinus-",
          "heira ii",
          "hera-",
          "heroine",
          "hilarius",
          "hong kong",
          "hungary",
          "india",
          "individual olympic athletes",
          "indonesia",
          "indonesia-",
          "iran",
          "ireland",
          "irene",
          "israel",
          "italia",
          "italy",
          "italy-",
          "jamaica",
          "japan",
          "jest",
          "jo",
          "jordan",
          "jupiter",
          "kathleen",
          "kazakhstan",
          "kenya",
          "kitty-",
          "kosovo",
          "kullan",
          "l'aile vi",
          "lalage",
          "large boat central naval prep school \"poros\"-",
          "latvia",
          "leander club -",
          "leander club-",
          "lerina",
          "liechtenstein",
          "lithuania",
          "llanoria",
          "london city police-",
          "ludwigshafener ruderverein",
          "luxembourg",
          "mac miche",
          "magda ix",
          "magdalen college boat club-",
          "marinai della nave da guerra \"varese\"",
          "merope",
          "mexico",
          "milwaukee athletic club-",
          "minerva amsterdam",
          "minotaur",
          "mongolia",
          "morocco",
          "mosk ii",
          "mozambique",
          "nepal",
          "netherlands",
          "new york athletic club",
          "new york athletic club -",
          "new york athletic club-",
          "new zealand",
          "nigeria",
          "nirefs",
          "norna",
          "north korea",
          "norway",
          "nrnberg",
          "nykjbings paa falster",
          "olle",
          "oranje",
          "osborne swimming club manchester",
          "pakistan",
          "pan",
          "panama",
          "pandora",
          "peru",
          "philadelphia turngemeinde philadelphia",
          "poland",
          "portugal",
          "potomac archers",
          "puerto rico",
          "roehampton-",
          "romania",
          "rush v",
          "russia",
          "russia-",
          "satchmo",
          "scotia",
          "seawanhaka boat club-",
          "serbia",
          "serbia and montenegro",
          "sif",
          "sildra-",
          "sirene",
          "slaghoken ii",
          "slovakia",
          "slovenia",
          "south africa",
          "south korea",
          "south korea-",
          "soviet union",
          "soviet union-",
          "spain",
          "spain-",
          "suriname",
          "sweden",
          "swift",
          "switzerland",
          "switzerland-",
          "syria",
          "taifun",
          "tajikistan",
          "thailand",
          "tornado",
          "trinidad and tobago",
          "tunisia",
          "turkey",
          "uganda",
          "ukraine",
          "unified team",
          "unified team-",
          "union des socits franais de sports athletiques",
          "united arab emirates",
          "united states",
          "united states-",
          "upton park fc",
          "uruguay",
          "uzbekistan",
          "venezuela",
          "vesper boat club",
          "vietnam",
          "wannsee",
          "west germany",
          "west germany-",
          "western golf association-",
          "white lady",
          "winnipeg shamrocks-",
          "yugoslavia",
          "zimbabwe"
         ],
         "marker": {
          "line": {
           "color": "rgb(0,0,0)",
           "width": 0.5
          }
         },
         "reversescale": true,
         "text": [
          "algeria",
          "amateur athletic association",
          "ancora",
          "angelita",
          "argentina",
          "armenia",
          "aschenbrodel",
          "atalanta boat club-",
          "atlanta",
          "australasia",
          "australia",
          "australia-",
          "austria",
          "austria-",
          "azerbaijan",
          "baby-",
          "bahamas",
          "bahrain",
          "barrenjoey",
          "beatrijs iii-",
          "belarus",
          "belgium",
          "belgium-",
          "bera",
          "bissbi",
          "bona fide",
          "bonaparte",
          "brazil",
          "brazil-",
          "bucintoro venezia",
          "bucintoro venezia-",
          "bulgaria",
          "burundi",
          "cameroon",
          "camille",
          "canada",
          "canada-",
          "carabinier-",
          "century boat club-",
          "cercle de l'aviron roubaix-",
          "chile",
          "china",
          "china-",
          "chinese taipei",
          "cicely-",
          "cincinnati archers",
          "cobweb-",
          "colombia",
          "complex ii",
          "costa rica",
          "cote d'ivoire",
          "croatia",
          "cuba",
          "czech republic",
          "czechoslovakia",
          "denmark",
          "denmark/sweden",
          "deutscher schwimm verband berlin",
          "devon and somerset wanderers",
          "dominican republic",
          "dormy-",
          "east germany",
          "east germany-",
          "ecuador",
          "edelweiss ii-",
          "egypt",
          "eleda",
          "elisabeth v",
          "elvis va",
          "england-",
          "esterel-",
          "estonia",
          "ethiopia",
          "fantlet-",
          "femur-",
          "fiji",
          "finland",
          "foxhunters hurlingham",
          "france",
          "france-",
          "galt football club",
          "gem",
          "georgia",
          "germania ruder club hamburg-",
          "germany",
          "germany-",
          "great britain",
          "great britain-",
          "great britain/germany",
          "greece",
          "grenada",
          "gyrinus-",
          "heira ii",
          "hera-",
          "heroine",
          "hilarius",
          "hong kong",
          "hungary",
          "india",
          "individual olympic athletes",
          "indonesia",
          "indonesia-",
          "iran",
          "ireland",
          "irene",
          "israel",
          "italia",
          "italy",
          "italy-",
          "jamaica",
          "japan",
          "jest",
          "jo",
          "jordan",
          "jupiter",
          "kathleen",
          "kazakhstan",
          "kenya",
          "kitty-",
          "kosovo",
          "kullan",
          "l'aile vi",
          "lalage",
          "large boat central naval prep school \"poros\"-",
          "latvia",
          "leander club -",
          "leander club-",
          "lerina",
          "liechtenstein",
          "lithuania",
          "llanoria",
          "london city police-",
          "ludwigshafener ruderverein",
          "luxembourg",
          "mac miche",
          "magda ix",
          "magdalen college boat club-",
          "marinai della nave da guerra \"varese\"",
          "merope",
          "mexico",
          "milwaukee athletic club-",
          "minerva amsterdam",
          "minotaur",
          "mongolia",
          "morocco",
          "mosk ii",
          "mozambique",
          "nepal",
          "netherlands",
          "new york athletic club",
          "new york athletic club -",
          "new york athletic club-",
          "new zealand",
          "nigeria",
          "nirefs",
          "norna",
          "north korea",
          "norway",
          "nrnberg",
          "nykjbings paa falster",
          "olle",
          "oranje",
          "osborne swimming club manchester",
          "pakistan",
          "pan",
          "panama",
          "pandora",
          "peru",
          "philadelphia turngemeinde philadelphia",
          "poland",
          "portugal",
          "potomac archers",
          "puerto rico",
          "roehampton-",
          "romania",
          "rush v",
          "russia",
          "russia-",
          "satchmo",
          "scotia",
          "seawanhaka boat club-",
          "serbia",
          "serbia and montenegro",
          "sif",
          "sildra-",
          "sirene",
          "slaghoken ii",
          "slovakia",
          "slovenia",
          "south africa",
          "south korea",
          "south korea-",
          "soviet union",
          "soviet union-",
          "spain",
          "spain-",
          "suriname",
          "sweden",
          "swift",
          "switzerland",
          "switzerland-",
          "syria",
          "taifun",
          "tajikistan",
          "thailand",
          "tornado",
          "trinidad and tobago",
          "tunisia",
          "turkey",
          "uganda",
          "ukraine",
          "unified team",
          "unified team-",
          "union des socits franais de sports athletiques",
          "united arab emirates",
          "united states",
          "united states-",
          "upton park fc",
          "uruguay",
          "uzbekistan",
          "venezuela",
          "vesper boat club",
          "vietnam",
          "wannsee",
          "west germany",
          "west germany-",
          "western golf association-",
          "white lady",
          "winnipeg shamrocks-",
          "yugoslavia",
          "zimbabwe"
         ],
         "type": "choropleth",
         "z": [
          5,
          5,
          4,
          12,
          91,
          2,
          4,
          2,
          9,
          20,
          342,
          2,
          95,
          12,
          7,
          1,
          12,
          1,
          3,
          3,
          24,
          94,
          1,
          5,
          4,
          3,
          1,
          103,
          6,
          8,
          3,
          54,
          1,
          20,
          1,
          422,
          16,
          1,
          4,
          5,
          3,
          308,
          42,
          3,
          1,
          4,
          5,
          5,
          4,
          1,
          1,
          58,
          164,
          42,
          81,
          168,
          6,
          4,
          12,
          3,
          3,
          369,
          28,
          1,
          3,
          7,
          7,
          3,
          1,
          11,
          2,
          13,
          22,
          1,
          1,
          13,
          198,
          5,
          455,
          6,
          13,
          2,
          8,
          5,
          679,
          42,
          519,
          24,
          2,
          42,
          1,
          6,
          9,
          10,
          4,
          2,
          1,
          432,
          138,
          1,
          7,
          4,
          18,
          9,
          5,
          1,
          6,
          535,
          14,
          38,
          247,
          2,
          3,
          1,
          2,
          2,
          20,
          34,
          8,
          1,
          3,
          6,
          5,
          17,
          3,
          2,
          18,
          3,
          2,
          6,
          11,
          8,
          5,
          4,
          3,
          10,
          4,
          7,
          2,
          30,
          5,
          3,
          3,
          2,
          6,
          7,
          1,
          1,
          277,
          5,
          4,
          7,
          85,
          23,
          3,
          4,
          16,
          299,
          1,
          5,
          6,
          3,
          7,
          42,
          6,
          1,
          2,
          1,
          6,
          117,
          4,
          4,
          1,
          4,
          161,
          3,
          366,
          24,
          1,
          6,
          2,
          15,
          12,
          4,
          4,
          2,
          3,
          15,
          8,
          32,
          211,
          10,
          1058,
          22,
          108,
          2,
          1,
          451,
          2,
          144,
          28,
          1,
          5,
          1,
          9,
          2,
          7,
          3,
          40,
          2,
          47,
          123,
          4,
          17,
          1,
          2474,
          55,
          11,
          31,
          10,
          2,
          18,
          1,
          2,
          155,
          4,
          10,
          3,
          12,
          130,
          17
         ]
        }
       ],
       "layout": {
        "geo": {
         "projection": {
          "type": "natural earth"
         },
         "showcoastlines": true,
         "showframe": true,
         "showlakes": false
        },
        "template": {
         "data": {
          "bar": [
           {
            "error_x": {
             "color": "#2a3f5f"
            },
            "error_y": {
             "color": "#2a3f5f"
            },
            "marker": {
             "line": {
              "color": "#E5ECF6",
              "width": 0.5
             },
             "pattern": {
              "fillmode": "overlay",
              "size": 10,
              "solidity": 0.2
             }
            },
            "type": "bar"
           }
          ],
          "barpolar": [
           {
            "marker": {
             "line": {
              "color": "#E5ECF6",
              "width": 0.5
             },
             "pattern": {
              "fillmode": "overlay",
              "size": 10,
              "solidity": 0.2
             }
            },
            "type": "barpolar"
           }
          ],
          "carpet": [
           {
            "aaxis": {
             "endlinecolor": "#2a3f5f",
             "gridcolor": "white",
             "linecolor": "white",
             "minorgridcolor": "white",
             "startlinecolor": "#2a3f5f"
            },
            "baxis": {
             "endlinecolor": "#2a3f5f",
             "gridcolor": "white",
             "linecolor": "white",
             "minorgridcolor": "white",
             "startlinecolor": "#2a3f5f"
            },
            "type": "carpet"
           }
          ],
          "choropleth": [
           {
            "colorbar": {
             "outlinewidth": 0,
             "ticks": ""
            },
            "type": "choropleth"
           }
          ],
          "contour": [
           {
            "colorbar": {
             "outlinewidth": 0,
             "ticks": ""
            },
            "colorscale": [
             [
              0,
              "#0d0887"
             ],
             [
              0.1111111111111111,
              "#46039f"
             ],
             [
              0.2222222222222222,
              "#7201a8"
             ],
             [
              0.3333333333333333,
              "#9c179e"
             ],
             [
              0.4444444444444444,
              "#bd3786"
             ],
             [
              0.5555555555555556,
              "#d8576b"
             ],
             [
              0.6666666666666666,
              "#ed7953"
             ],
             [
              0.7777777777777778,
              "#fb9f3a"
             ],
             [
              0.8888888888888888,
              "#fdca26"
             ],
             [
              1,
              "#f0f921"
             ]
            ],
            "type": "contour"
           }
          ],
          "contourcarpet": [
           {
            "colorbar": {
             "outlinewidth": 0,
             "ticks": ""
            },
            "type": "contourcarpet"
           }
          ],
          "heatmap": [
           {
            "colorbar": {
             "outlinewidth": 0,
             "ticks": ""
            },
            "colorscale": [
             [
              0,
              "#0d0887"
             ],
             [
              0.1111111111111111,
              "#46039f"
             ],
             [
              0.2222222222222222,
              "#7201a8"
             ],
             [
              0.3333333333333333,
              "#9c179e"
             ],
             [
              0.4444444444444444,
              "#bd3786"
             ],
             [
              0.5555555555555556,
              "#d8576b"
             ],
             [
              0.6666666666666666,
              "#ed7953"
             ],
             [
              0.7777777777777778,
              "#fb9f3a"
             ],
             [
              0.8888888888888888,
              "#fdca26"
             ],
             [
              1,
              "#f0f921"
             ]
            ],
            "type": "heatmap"
           }
          ],
          "heatmapgl": [
           {
            "colorbar": {
             "outlinewidth": 0,
             "ticks": ""
            },
            "colorscale": [
             [
              0,
              "#0d0887"
             ],
             [
              0.1111111111111111,
              "#46039f"
             ],
             [
              0.2222222222222222,
              "#7201a8"
             ],
             [
              0.3333333333333333,
              "#9c179e"
             ],
             [
              0.4444444444444444,
              "#bd3786"
             ],
             [
              0.5555555555555556,
              "#d8576b"
             ],
             [
              0.6666666666666666,
              "#ed7953"
             ],
             [
              0.7777777777777778,
              "#fb9f3a"
             ],
             [
              0.8888888888888888,
              "#fdca26"
             ],
             [
              1,
              "#f0f921"
             ]
            ],
            "type": "heatmapgl"
           }
          ],
          "histogram": [
           {
            "marker": {
             "pattern": {
              "fillmode": "overlay",
              "size": 10,
              "solidity": 0.2
             }
            },
            "type": "histogram"
           }
          ],
          "histogram2d": [
           {
            "colorbar": {
             "outlinewidth": 0,
             "ticks": ""
            },
            "colorscale": [
             [
              0,
              "#0d0887"
             ],
             [
              0.1111111111111111,
              "#46039f"
             ],
             [
              0.2222222222222222,
              "#7201a8"
             ],
             [
              0.3333333333333333,
              "#9c179e"
             ],
             [
              0.4444444444444444,
              "#bd3786"
             ],
             [
              0.5555555555555556,
              "#d8576b"
             ],
             [
              0.6666666666666666,
              "#ed7953"
             ],
             [
              0.7777777777777778,
              "#fb9f3a"
             ],
             [
              0.8888888888888888,
              "#fdca26"
             ],
             [
              1,
              "#f0f921"
             ]
            ],
            "type": "histogram2d"
           }
          ],
          "histogram2dcontour": [
           {
            "colorbar": {
             "outlinewidth": 0,
             "ticks": ""
            },
            "colorscale": [
             [
              0,
              "#0d0887"
             ],
             [
              0.1111111111111111,
              "#46039f"
             ],
             [
              0.2222222222222222,
              "#7201a8"
             ],
             [
              0.3333333333333333,
              "#9c179e"
             ],
             [
              0.4444444444444444,
              "#bd3786"
             ],
             [
              0.5555555555555556,
              "#d8576b"
             ],
             [
              0.6666666666666666,
              "#ed7953"
             ],
             [
              0.7777777777777778,
              "#fb9f3a"
             ],
             [
              0.8888888888888888,
              "#fdca26"
             ],
             [
              1,
              "#f0f921"
             ]
            ],
            "type": "histogram2dcontour"
           }
          ],
          "mesh3d": [
           {
            "colorbar": {
             "outlinewidth": 0,
             "ticks": ""
            },
            "type": "mesh3d"
           }
          ],
          "parcoords": [
           {
            "line": {
             "colorbar": {
              "outlinewidth": 0,
              "ticks": ""
             }
            },
            "type": "parcoords"
           }
          ],
          "pie": [
           {
            "automargin": true,
            "type": "pie"
           }
          ],
          "scatter": [
           {
            "fillpattern": {
             "fillmode": "overlay",
             "size": 10,
             "solidity": 0.2
            },
            "type": "scatter"
           }
          ],
          "scatter3d": [
           {
            "line": {
             "colorbar": {
              "outlinewidth": 0,
              "ticks": ""
             }
            },
            "marker": {
             "colorbar": {
              "outlinewidth": 0,
              "ticks": ""
             }
            },
            "type": "scatter3d"
           }
          ],
          "scattercarpet": [
           {
            "marker": {
             "colorbar": {
              "outlinewidth": 0,
              "ticks": ""
             }
            },
            "type": "scattercarpet"
           }
          ],
          "scattergeo": [
           {
            "marker": {
             "colorbar": {
              "outlinewidth": 0,
              "ticks": ""
             }
            },
            "type": "scattergeo"
           }
          ],
          "scattergl": [
           {
            "marker": {
             "colorbar": {
              "outlinewidth": 0,
              "ticks": ""
             }
            },
            "type": "scattergl"
           }
          ],
          "scattermapbox": [
           {
            "marker": {
             "colorbar": {
              "outlinewidth": 0,
              "ticks": ""
             }
            },
            "type": "scattermapbox"
           }
          ],
          "scatterpolar": [
           {
            "marker": {
             "colorbar": {
              "outlinewidth": 0,
              "ticks": ""
             }
            },
            "type": "scatterpolar"
           }
          ],
          "scatterpolargl": [
           {
            "marker": {
             "colorbar": {
              "outlinewidth": 0,
              "ticks": ""
             }
            },
            "type": "scatterpolargl"
           }
          ],
          "scatterternary": [
           {
            "marker": {
             "colorbar": {
              "outlinewidth": 0,
              "ticks": ""
             }
            },
            "type": "scatterternary"
           }
          ],
          "surface": [
           {
            "colorbar": {
             "outlinewidth": 0,
             "ticks": ""
            },
            "colorscale": [
             [
              0,
              "#0d0887"
             ],
             [
              0.1111111111111111,
              "#46039f"
             ],
             [
              0.2222222222222222,
              "#7201a8"
             ],
             [
              0.3333333333333333,
              "#9c179e"
             ],
             [
              0.4444444444444444,
              "#bd3786"
             ],
             [
              0.5555555555555556,
              "#d8576b"
             ],
             [
              0.6666666666666666,
              "#ed7953"
             ],
             [
              0.7777777777777778,
              "#fb9f3a"
             ],
             [
              0.8888888888888888,
              "#fdca26"
             ],
             [
              1,
              "#f0f921"
             ]
            ],
            "type": "surface"
           }
          ],
          "table": [
           {
            "cells": {
             "fill": {
              "color": "#EBF0F8"
             },
             "line": {
              "color": "white"
             }
            },
            "header": {
             "fill": {
              "color": "#C8D4E3"
             },
             "line": {
              "color": "white"
             }
            },
            "type": "table"
           }
          ]
         },
         "layout": {
          "annotationdefaults": {
           "arrowcolor": "#2a3f5f",
           "arrowhead": 0,
           "arrowwidth": 1
          },
          "autotypenumbers": "strict",
          "coloraxis": {
           "colorbar": {
            "outlinewidth": 0,
            "ticks": ""
           }
          },
          "colorscale": {
           "diverging": [
            [
             0,
             "#8e0152"
            ],
            [
             0.1,
             "#c51b7d"
            ],
            [
             0.2,
             "#de77ae"
            ],
            [
             0.3,
             "#f1b6da"
            ],
            [
             0.4,
             "#fde0ef"
            ],
            [
             0.5,
             "#f7f7f7"
            ],
            [
             0.6,
             "#e6f5d0"
            ],
            [
             0.7,
             "#b8e186"
            ],
            [
             0.8,
             "#7fbc41"
            ],
            [
             0.9,
             "#4d9221"
            ],
            [
             1,
             "#276419"
            ]
           ],
           "sequential": [
            [
             0,
             "#0d0887"
            ],
            [
             0.1111111111111111,
             "#46039f"
            ],
            [
             0.2222222222222222,
             "#7201a8"
            ],
            [
             0.3333333333333333,
             "#9c179e"
            ],
            [
             0.4444444444444444,
             "#bd3786"
            ],
            [
             0.5555555555555556,
             "#d8576b"
            ],
            [
             0.6666666666666666,
             "#ed7953"
            ],
            [
             0.7777777777777778,
             "#fb9f3a"
            ],
            [
             0.8888888888888888,
             "#fdca26"
            ],
            [
             1,
             "#f0f921"
            ]
           ],
           "sequentialminus": [
            [
             0,
             "#0d0887"
            ],
            [
             0.1111111111111111,
             "#46039f"
            ],
            [
             0.2222222222222222,
             "#7201a8"
            ],
            [
             0.3333333333333333,
             "#9c179e"
            ],
            [
             0.4444444444444444,
             "#bd3786"
            ],
            [
             0.5555555555555556,
             "#d8576b"
            ],
            [
             0.6666666666666666,
             "#ed7953"
            ],
            [
             0.7777777777777778,
             "#fb9f3a"
            ],
            [
             0.8888888888888888,
             "#fdca26"
            ],
            [
             1,
             "#f0f921"
            ]
           ]
          },
          "colorway": [
           "#636efa",
           "#EF553B",
           "#00cc96",
           "#ab63fa",
           "#FFA15A",
           "#19d3f3",
           "#FF6692",
           "#B6E880",
           "#FF97FF",
           "#FECB52"
          ],
          "font": {
           "color": "#2a3f5f"
          },
          "geo": {
           "bgcolor": "white",
           "lakecolor": "white",
           "landcolor": "#E5ECF6",
           "showlakes": true,
           "showland": true,
           "subunitcolor": "white"
          },
          "hoverlabel": {
           "align": "left"
          },
          "hovermode": "closest",
          "mapbox": {
           "style": "light"
          },
          "paper_bgcolor": "white",
          "plot_bgcolor": "#E5ECF6",
          "polar": {
           "angularaxis": {
            "gridcolor": "white",
            "linecolor": "white",
            "ticks": ""
           },
           "bgcolor": "#E5ECF6",
           "radialaxis": {
            "gridcolor": "white",
            "linecolor": "white",
            "ticks": ""
           }
          },
          "scene": {
           "xaxis": {
            "backgroundcolor": "#E5ECF6",
            "gridcolor": "white",
            "gridwidth": 2,
            "linecolor": "white",
            "showbackground": true,
            "ticks": "",
            "zerolinecolor": "white"
           },
           "yaxis": {
            "backgroundcolor": "#E5ECF6",
            "gridcolor": "white",
            "gridwidth": 2,
            "linecolor": "white",
            "showbackground": true,
            "ticks": "",
            "zerolinecolor": "white"
           },
           "zaxis": {
            "backgroundcolor": "#E5ECF6",
            "gridcolor": "white",
            "gridwidth": 2,
            "linecolor": "white",
            "showbackground": true,
            "ticks": "",
            "zerolinecolor": "white"
           }
          },
          "shapedefaults": {
           "line": {
            "color": "#2a3f5f"
           }
          },
          "ternary": {
           "aaxis": {
            "gridcolor": "white",
            "linecolor": "white",
            "ticks": ""
           },
           "baxis": {
            "gridcolor": "white",
            "linecolor": "white",
            "ticks": ""
           },
           "bgcolor": "#E5ECF6",
           "caxis": {
            "gridcolor": "white",
            "linecolor": "white",
            "ticks": ""
           }
          },
          "title": {
           "x": 0.05
          },
          "xaxis": {
           "automargin": true,
           "gridcolor": "white",
           "linecolor": "white",
           "ticks": "",
           "title": {
            "standoff": 15
           },
           "zerolinecolor": "white",
           "zerolinewidth": 2
          },
          "yaxis": {
           "automargin": true,
           "gridcolor": "white",
           "linecolor": "white",
           "ticks": "",
           "title": {
            "standoff": 15
           },
           "zerolinecolor": "white",
           "zerolinewidth": 2
          }
         }
        },
        "title": {
         "text": "Countries with Gold Medals"
        }
       }
      },
      "text/html": [
       "<div>                            <div id=\"7ca96654-5052-4f48-b7a1-d7c50bc70903\" class=\"plotly-graph-div\" style=\"height:525px; width:100%;\"></div>            <script type=\"text/javascript\">                require([\"plotly\"], function(Plotly) {                    window.PLOTLYENV=window.PLOTLYENV || {};                                    if (document.getElementById(\"7ca96654-5052-4f48-b7a1-d7c50bc70903\")) {                    Plotly.newPlot(                        \"7ca96654-5052-4f48-b7a1-d7c50bc70903\",                        [{\"autocolorscale\":false,\"colorbar\":{\"tickprefix\":\"\",\"title\":{\"text\":\"Medals\"}},\"colorscale\":[[0.0,\"rgb(247,252,245)\"],[0.125,\"rgb(229,245,224)\"],[0.25,\"rgb(199,233,192)\"],[0.375,\"rgb(161,217,155)\"],[0.5,\"rgb(116,196,118)\"],[0.625,\"rgb(65,171,93)\"],[0.75,\"rgb(35,139,69)\"],[0.875,\"rgb(0,109,44)\"],[1.0,\"rgb(0,68,27)\"]],\"locationmode\":\"country names\",\"locations\":[\"algeria\",\"amateur athletic association\",\"ancora\",\"angelita\",\"argentina\",\"armenia\",\"aschenbrodel\",\"atalanta boat club-\",\"atlanta\",\"australasia\",\"australia\",\"australia-\",\"austria\",\"austria-\",\"azerbaijan\",\"baby-\",\"bahamas\",\"bahrain\",\"barrenjoey\",\"beatrijs iii-\",\"belarus\",\"belgium\",\"belgium-\",\"bera\",\"bissbi\",\"bona fide\",\"bonaparte\",\"brazil\",\"brazil-\",\"bucintoro venezia\",\"bucintoro venezia-\",\"bulgaria\",\"burundi\",\"cameroon\",\"camille\",\"canada\",\"canada-\",\"carabinier-\",\"century boat club-\",\"cercle de l'aviron roubaix-\",\"chile\",\"china\",\"china-\",\"chinese taipei\",\"cicely-\",\"cincinnati archers\",\"cobweb-\",\"colombia\",\"complex ii\",\"costa rica\",\"cote d'ivoire\",\"croatia\",\"cuba\",\"czech republic\",\"czechoslovakia\",\"denmark\",\"denmark/sweden\",\"deutscher schwimm verband berlin\",\"devon and somerset wanderers\",\"dominican republic\",\"dormy-\",\"east germany\",\"east germany-\",\"ecuador\",\"edelweiss ii-\",\"egypt\",\"eleda\",\"elisabeth v\",\"elvis va\",\"england-\",\"esterel-\",\"estonia\",\"ethiopia\",\"fantlet-\",\"femur-\",\"fiji\",\"finland\",\"foxhunters hurlingham\",\"france\",\"france-\",\"galt football club\",\"gem\",\"georgia\",\"germania ruder club hamburg-\",\"germany\",\"germany-\",\"great britain\",\"great britain-\",\"great britain/germany\",\"greece\",\"grenada\",\"gyrinus-\",\"heira ii\",\"hera-\",\"heroine\",\"hilarius\",\"hong kong\",\"hungary\",\"india\",\"individual olympic athletes\",\"indonesia\",\"indonesia-\",\"iran\",\"ireland\",\"irene\",\"israel\",\"italia\",\"italy\",\"italy-\",\"jamaica\",\"japan\",\"jest\",\"jo\",\"jordan\",\"jupiter\",\"kathleen\",\"kazakhstan\",\"kenya\",\"kitty-\",\"kosovo\",\"kullan\",\"l'aile vi\",\"lalage\",\"large boat central naval prep school \\\"poros\\\"-\",\"latvia\",\"leander club -\",\"leander club-\",\"lerina\",\"liechtenstein\",\"lithuania\",\"llanoria\",\"london city police-\",\"ludwigshafener ruderverein\",\"luxembourg\",\"mac miche\",\"magda ix\",\"magdalen college boat club-\",\"marinai della nave da guerra \\\"varese\\\"\",\"merope\",\"mexico\",\"milwaukee athletic club-\",\"minerva amsterdam\",\"minotaur\",\"mongolia\",\"morocco\",\"mosk ii\",\"mozambique\",\"nepal\",\"netherlands\",\"new york athletic club\",\"new york athletic club -\",\"new york athletic club-\",\"new zealand\",\"nigeria\",\"nirefs\",\"norna\",\"north korea\",\"norway\",\"nrnberg\",\"nykjbings paa falster\",\"olle\",\"oranje\",\"osborne swimming club manchester\",\"pakistan\",\"pan\",\"panama\",\"pandora\",\"peru\",\"philadelphia turngemeinde philadelphia\",\"poland\",\"portugal\",\"potomac archers\",\"puerto rico\",\"roehampton-\",\"romania\",\"rush v\",\"russia\",\"russia-\",\"satchmo\",\"scotia\",\"seawanhaka boat club-\",\"serbia\",\"serbia and montenegro\",\"sif\",\"sildra-\",\"sirene\",\"slaghoken ii\",\"slovakia\",\"slovenia\",\"south africa\",\"south korea\",\"south korea-\",\"soviet union\",\"soviet union-\",\"spain\",\"spain-\",\"suriname\",\"sweden\",\"swift\",\"switzerland\",\"switzerland-\",\"syria\",\"taifun\",\"tajikistan\",\"thailand\",\"tornado\",\"trinidad and tobago\",\"tunisia\",\"turkey\",\"uganda\",\"ukraine\",\"unified team\",\"unified team-\",\"union des socits franais de sports athletiques\",\"united arab emirates\",\"united states\",\"united states-\",\"upton park fc\",\"uruguay\",\"uzbekistan\",\"venezuela\",\"vesper boat club\",\"vietnam\",\"wannsee\",\"west germany\",\"west germany-\",\"western golf association-\",\"white lady\",\"winnipeg shamrocks-\",\"yugoslavia\",\"zimbabwe\"],\"marker\":{\"line\":{\"color\":\"rgb(0,0,0)\",\"width\":0.5}},\"reversescale\":true,\"text\":[\"algeria\",\"amateur athletic association\",\"ancora\",\"angelita\",\"argentina\",\"armenia\",\"aschenbrodel\",\"atalanta boat club-\",\"atlanta\",\"australasia\",\"australia\",\"australia-\",\"austria\",\"austria-\",\"azerbaijan\",\"baby-\",\"bahamas\",\"bahrain\",\"barrenjoey\",\"beatrijs iii-\",\"belarus\",\"belgium\",\"belgium-\",\"bera\",\"bissbi\",\"bona fide\",\"bonaparte\",\"brazil\",\"brazil-\",\"bucintoro venezia\",\"bucintoro venezia-\",\"bulgaria\",\"burundi\",\"cameroon\",\"camille\",\"canada\",\"canada-\",\"carabinier-\",\"century boat club-\",\"cercle de l'aviron roubaix-\",\"chile\",\"china\",\"china-\",\"chinese taipei\",\"cicely-\",\"cincinnati archers\",\"cobweb-\",\"colombia\",\"complex ii\",\"costa rica\",\"cote d'ivoire\",\"croatia\",\"cuba\",\"czech republic\",\"czechoslovakia\",\"denmark\",\"denmark/sweden\",\"deutscher schwimm verband berlin\",\"devon and somerset wanderers\",\"dominican republic\",\"dormy-\",\"east germany\",\"east germany-\",\"ecuador\",\"edelweiss ii-\",\"egypt\",\"eleda\",\"elisabeth v\",\"elvis va\",\"england-\",\"esterel-\",\"estonia\",\"ethiopia\",\"fantlet-\",\"femur-\",\"fiji\",\"finland\",\"foxhunters hurlingham\",\"france\",\"france-\",\"galt football club\",\"gem\",\"georgia\",\"germania ruder club hamburg-\",\"germany\",\"germany-\",\"great britain\",\"great britain-\",\"great britain/germany\",\"greece\",\"grenada\",\"gyrinus-\",\"heira ii\",\"hera-\",\"heroine\",\"hilarius\",\"hong kong\",\"hungary\",\"india\",\"individual olympic athletes\",\"indonesia\",\"indonesia-\",\"iran\",\"ireland\",\"irene\",\"israel\",\"italia\",\"italy\",\"italy-\",\"jamaica\",\"japan\",\"jest\",\"jo\",\"jordan\",\"jupiter\",\"kathleen\",\"kazakhstan\",\"kenya\",\"kitty-\",\"kosovo\",\"kullan\",\"l'aile vi\",\"lalage\",\"large boat central naval prep school \\\"poros\\\"-\",\"latvia\",\"leander club -\",\"leander club-\",\"lerina\",\"liechtenstein\",\"lithuania\",\"llanoria\",\"london city police-\",\"ludwigshafener ruderverein\",\"luxembourg\",\"mac miche\",\"magda ix\",\"magdalen college boat club-\",\"marinai della nave da guerra \\\"varese\\\"\",\"merope\",\"mexico\",\"milwaukee athletic club-\",\"minerva amsterdam\",\"minotaur\",\"mongolia\",\"morocco\",\"mosk ii\",\"mozambique\",\"nepal\",\"netherlands\",\"new york athletic club\",\"new york athletic club -\",\"new york athletic club-\",\"new zealand\",\"nigeria\",\"nirefs\",\"norna\",\"north korea\",\"norway\",\"nrnberg\",\"nykjbings paa falster\",\"olle\",\"oranje\",\"osborne swimming club manchester\",\"pakistan\",\"pan\",\"panama\",\"pandora\",\"peru\",\"philadelphia turngemeinde philadelphia\",\"poland\",\"portugal\",\"potomac archers\",\"puerto rico\",\"roehampton-\",\"romania\",\"rush v\",\"russia\",\"russia-\",\"satchmo\",\"scotia\",\"seawanhaka boat club-\",\"serbia\",\"serbia and montenegro\",\"sif\",\"sildra-\",\"sirene\",\"slaghoken ii\",\"slovakia\",\"slovenia\",\"south africa\",\"south korea\",\"south korea-\",\"soviet union\",\"soviet union-\",\"spain\",\"spain-\",\"suriname\",\"sweden\",\"swift\",\"switzerland\",\"switzerland-\",\"syria\",\"taifun\",\"tajikistan\",\"thailand\",\"tornado\",\"trinidad and tobago\",\"tunisia\",\"turkey\",\"uganda\",\"ukraine\",\"unified team\",\"unified team-\",\"union des socits franais de sports athletiques\",\"united arab emirates\",\"united states\",\"united states-\",\"upton park fc\",\"uruguay\",\"uzbekistan\",\"venezuela\",\"vesper boat club\",\"vietnam\",\"wannsee\",\"west germany\",\"west germany-\",\"western golf association-\",\"white lady\",\"winnipeg shamrocks-\",\"yugoslavia\",\"zimbabwe\"],\"z\":[5,5,4,12,91,2,4,2,9,20,342,2,95,12,7,1,12,1,3,3,24,94,1,5,4,3,1,103,6,8,3,54,1,20,1,422,16,1,4,5,3,308,42,3,1,4,5,5,4,1,1,58,164,42,81,168,6,4,12,3,3,369,28,1,3,7,7,3,1,11,2,13,22,1,1,13,198,5,455,6,13,2,8,5,679,42,519,24,2,42,1,6,9,10,4,2,1,432,138,1,7,4,18,9,5,1,6,535,14,38,247,2,3,1,2,2,20,34,8,1,3,6,5,17,3,2,18,3,2,6,11,8,5,4,3,10,4,7,2,30,5,3,3,2,6,7,1,1,277,5,4,7,85,23,3,4,16,299,1,5,6,3,7,42,6,1,2,1,6,117,4,4,1,4,161,3,366,24,1,6,2,15,12,4,4,2,3,15,8,32,211,10,1058,22,108,2,1,451,2,144,28,1,5,1,9,2,7,3,40,2,47,123,4,17,1,2474,55,11,31,10,2,18,1,2,155,4,10,3,12,130,17],\"type\":\"choropleth\"}],                        {\"geo\":{\"projection\":{\"type\":\"natural earth\"},\"showcoastlines\":true,\"showframe\":true,\"showlakes\":false},\"template\":{\"data\":{\"barpolar\":[{\"marker\":{\"line\":{\"color\":\"#E5ECF6\",\"width\":0.5},\"pattern\":{\"fillmode\":\"overlay\",\"size\":10,\"solidity\":0.2}},\"type\":\"barpolar\"}],\"bar\":[{\"error_x\":{\"color\":\"#2a3f5f\"},\"error_y\":{\"color\":\"#2a3f5f\"},\"marker\":{\"line\":{\"color\":\"#E5ECF6\",\"width\":0.5},\"pattern\":{\"fillmode\":\"overlay\",\"size\":10,\"solidity\":0.2}},\"type\":\"bar\"}],\"carpet\":[{\"aaxis\":{\"endlinecolor\":\"#2a3f5f\",\"gridcolor\":\"white\",\"linecolor\":\"white\",\"minorgridcolor\":\"white\",\"startlinecolor\":\"#2a3f5f\"},\"baxis\":{\"endlinecolor\":\"#2a3f5f\",\"gridcolor\":\"white\",\"linecolor\":\"white\",\"minorgridcolor\":\"white\",\"startlinecolor\":\"#2a3f5f\"},\"type\":\"carpet\"}],\"choropleth\":[{\"colorbar\":{\"outlinewidth\":0,\"ticks\":\"\"},\"type\":\"choropleth\"}],\"contourcarpet\":[{\"colorbar\":{\"outlinewidth\":0,\"ticks\":\"\"},\"type\":\"contourcarpet\"}],\"contour\":[{\"colorbar\":{\"outlinewidth\":0,\"ticks\":\"\"},\"colorscale\":[[0.0,\"#0d0887\"],[0.1111111111111111,\"#46039f\"],[0.2222222222222222,\"#7201a8\"],[0.3333333333333333,\"#9c179e\"],[0.4444444444444444,\"#bd3786\"],[0.5555555555555556,\"#d8576b\"],[0.6666666666666666,\"#ed7953\"],[0.7777777777777778,\"#fb9f3a\"],[0.8888888888888888,\"#fdca26\"],[1.0,\"#f0f921\"]],\"type\":\"contour\"}],\"heatmapgl\":[{\"colorbar\":{\"outlinewidth\":0,\"ticks\":\"\"},\"colorscale\":[[0.0,\"#0d0887\"],[0.1111111111111111,\"#46039f\"],[0.2222222222222222,\"#7201a8\"],[0.3333333333333333,\"#9c179e\"],[0.4444444444444444,\"#bd3786\"],[0.5555555555555556,\"#d8576b\"],[0.6666666666666666,\"#ed7953\"],[0.7777777777777778,\"#fb9f3a\"],[0.8888888888888888,\"#fdca26\"],[1.0,\"#f0f921\"]],\"type\":\"heatmapgl\"}],\"heatmap\":[{\"colorbar\":{\"outlinewidth\":0,\"ticks\":\"\"},\"colorscale\":[[0.0,\"#0d0887\"],[0.1111111111111111,\"#46039f\"],[0.2222222222222222,\"#7201a8\"],[0.3333333333333333,\"#9c179e\"],[0.4444444444444444,\"#bd3786\"],[0.5555555555555556,\"#d8576b\"],[0.6666666666666666,\"#ed7953\"],[0.7777777777777778,\"#fb9f3a\"],[0.8888888888888888,\"#fdca26\"],[1.0,\"#f0f921\"]],\"type\":\"heatmap\"}],\"histogram2dcontour\":[{\"colorbar\":{\"outlinewidth\":0,\"ticks\":\"\"},\"colorscale\":[[0.0,\"#0d0887\"],[0.1111111111111111,\"#46039f\"],[0.2222222222222222,\"#7201a8\"],[0.3333333333333333,\"#9c179e\"],[0.4444444444444444,\"#bd3786\"],[0.5555555555555556,\"#d8576b\"],[0.6666666666666666,\"#ed7953\"],[0.7777777777777778,\"#fb9f3a\"],[0.8888888888888888,\"#fdca26\"],[1.0,\"#f0f921\"]],\"type\":\"histogram2dcontour\"}],\"histogram2d\":[{\"colorbar\":{\"outlinewidth\":0,\"ticks\":\"\"},\"colorscale\":[[0.0,\"#0d0887\"],[0.1111111111111111,\"#46039f\"],[0.2222222222222222,\"#7201a8\"],[0.3333333333333333,\"#9c179e\"],[0.4444444444444444,\"#bd3786\"],[0.5555555555555556,\"#d8576b\"],[0.6666666666666666,\"#ed7953\"],[0.7777777777777778,\"#fb9f3a\"],[0.8888888888888888,\"#fdca26\"],[1.0,\"#f0f921\"]],\"type\":\"histogram2d\"}],\"histogram\":[{\"marker\":{\"pattern\":{\"fillmode\":\"overlay\",\"size\":10,\"solidity\":0.2}},\"type\":\"histogram\"}],\"mesh3d\":[{\"colorbar\":{\"outlinewidth\":0,\"ticks\":\"\"},\"type\":\"mesh3d\"}],\"parcoords\":[{\"line\":{\"colorbar\":{\"outlinewidth\":0,\"ticks\":\"\"}},\"type\":\"parcoords\"}],\"pie\":[{\"automargin\":true,\"type\":\"pie\"}],\"scatter3d\":[{\"line\":{\"colorbar\":{\"outlinewidth\":0,\"ticks\":\"\"}},\"marker\":{\"colorbar\":{\"outlinewidth\":0,\"ticks\":\"\"}},\"type\":\"scatter3d\"}],\"scattercarpet\":[{\"marker\":{\"colorbar\":{\"outlinewidth\":0,\"ticks\":\"\"}},\"type\":\"scattercarpet\"}],\"scattergeo\":[{\"marker\":{\"colorbar\":{\"outlinewidth\":0,\"ticks\":\"\"}},\"type\":\"scattergeo\"}],\"scattergl\":[{\"marker\":{\"colorbar\":{\"outlinewidth\":0,\"ticks\":\"\"}},\"type\":\"scattergl\"}],\"scattermapbox\":[{\"marker\":{\"colorbar\":{\"outlinewidth\":0,\"ticks\":\"\"}},\"type\":\"scattermapbox\"}],\"scatterpolargl\":[{\"marker\":{\"colorbar\":{\"outlinewidth\":0,\"ticks\":\"\"}},\"type\":\"scatterpolargl\"}],\"scatterpolar\":[{\"marker\":{\"colorbar\":{\"outlinewidth\":0,\"ticks\":\"\"}},\"type\":\"scatterpolar\"}],\"scatter\":[{\"fillpattern\":{\"fillmode\":\"overlay\",\"size\":10,\"solidity\":0.2},\"type\":\"scatter\"}],\"scatterternary\":[{\"marker\":{\"colorbar\":{\"outlinewidth\":0,\"ticks\":\"\"}},\"type\":\"scatterternary\"}],\"surface\":[{\"colorbar\":{\"outlinewidth\":0,\"ticks\":\"\"},\"colorscale\":[[0.0,\"#0d0887\"],[0.1111111111111111,\"#46039f\"],[0.2222222222222222,\"#7201a8\"],[0.3333333333333333,\"#9c179e\"],[0.4444444444444444,\"#bd3786\"],[0.5555555555555556,\"#d8576b\"],[0.6666666666666666,\"#ed7953\"],[0.7777777777777778,\"#fb9f3a\"],[0.8888888888888888,\"#fdca26\"],[1.0,\"#f0f921\"]],\"type\":\"surface\"}],\"table\":[{\"cells\":{\"fill\":{\"color\":\"#EBF0F8\"},\"line\":{\"color\":\"white\"}},\"header\":{\"fill\":{\"color\":\"#C8D4E3\"},\"line\":{\"color\":\"white\"}},\"type\":\"table\"}]},\"layout\":{\"annotationdefaults\":{\"arrowcolor\":\"#2a3f5f\",\"arrowhead\":0,\"arrowwidth\":1},\"autotypenumbers\":\"strict\",\"coloraxis\":{\"colorbar\":{\"outlinewidth\":0,\"ticks\":\"\"}},\"colorscale\":{\"diverging\":[[0,\"#8e0152\"],[0.1,\"#c51b7d\"],[0.2,\"#de77ae\"],[0.3,\"#f1b6da\"],[0.4,\"#fde0ef\"],[0.5,\"#f7f7f7\"],[0.6,\"#e6f5d0\"],[0.7,\"#b8e186\"],[0.8,\"#7fbc41\"],[0.9,\"#4d9221\"],[1,\"#276419\"]],\"sequential\":[[0.0,\"#0d0887\"],[0.1111111111111111,\"#46039f\"],[0.2222222222222222,\"#7201a8\"],[0.3333333333333333,\"#9c179e\"],[0.4444444444444444,\"#bd3786\"],[0.5555555555555556,\"#d8576b\"],[0.6666666666666666,\"#ed7953\"],[0.7777777777777778,\"#fb9f3a\"],[0.8888888888888888,\"#fdca26\"],[1.0,\"#f0f921\"]],\"sequentialminus\":[[0.0,\"#0d0887\"],[0.1111111111111111,\"#46039f\"],[0.2222222222222222,\"#7201a8\"],[0.3333333333333333,\"#9c179e\"],[0.4444444444444444,\"#bd3786\"],[0.5555555555555556,\"#d8576b\"],[0.6666666666666666,\"#ed7953\"],[0.7777777777777778,\"#fb9f3a\"],[0.8888888888888888,\"#fdca26\"],[1.0,\"#f0f921\"]]},\"colorway\":[\"#636efa\",\"#EF553B\",\"#00cc96\",\"#ab63fa\",\"#FFA15A\",\"#19d3f3\",\"#FF6692\",\"#B6E880\",\"#FF97FF\",\"#FECB52\"],\"font\":{\"color\":\"#2a3f5f\"},\"geo\":{\"bgcolor\":\"white\",\"lakecolor\":\"white\",\"landcolor\":\"#E5ECF6\",\"showlakes\":true,\"showland\":true,\"subunitcolor\":\"white\"},\"hoverlabel\":{\"align\":\"left\"},\"hovermode\":\"closest\",\"mapbox\":{\"style\":\"light\"},\"paper_bgcolor\":\"white\",\"plot_bgcolor\":\"#E5ECF6\",\"polar\":{\"angularaxis\":{\"gridcolor\":\"white\",\"linecolor\":\"white\",\"ticks\":\"\"},\"bgcolor\":\"#E5ECF6\",\"radialaxis\":{\"gridcolor\":\"white\",\"linecolor\":\"white\",\"ticks\":\"\"}},\"scene\":{\"xaxis\":{\"backgroundcolor\":\"#E5ECF6\",\"gridcolor\":\"white\",\"gridwidth\":2,\"linecolor\":\"white\",\"showbackground\":true,\"ticks\":\"\",\"zerolinecolor\":\"white\"},\"yaxis\":{\"backgroundcolor\":\"#E5ECF6\",\"gridcolor\":\"white\",\"gridwidth\":2,\"linecolor\":\"white\",\"showbackground\":true,\"ticks\":\"\",\"zerolinecolor\":\"white\"},\"zaxis\":{\"backgroundcolor\":\"#E5ECF6\",\"gridcolor\":\"white\",\"gridwidth\":2,\"linecolor\":\"white\",\"showbackground\":true,\"ticks\":\"\",\"zerolinecolor\":\"white\"}},\"shapedefaults\":{\"line\":{\"color\":\"#2a3f5f\"}},\"ternary\":{\"aaxis\":{\"gridcolor\":\"white\",\"linecolor\":\"white\",\"ticks\":\"\"},\"baxis\":{\"gridcolor\":\"white\",\"linecolor\":\"white\",\"ticks\":\"\"},\"bgcolor\":\"#E5ECF6\",\"caxis\":{\"gridcolor\":\"white\",\"linecolor\":\"white\",\"ticks\":\"\"}},\"title\":{\"x\":0.05},\"xaxis\":{\"automargin\":true,\"gridcolor\":\"white\",\"linecolor\":\"white\",\"ticks\":\"\",\"title\":{\"standoff\":15},\"zerolinecolor\":\"white\",\"zerolinewidth\":2},\"yaxis\":{\"automargin\":true,\"gridcolor\":\"white\",\"linecolor\":\"white\",\"ticks\":\"\",\"title\":{\"standoff\":15},\"zerolinecolor\":\"white\",\"zerolinewidth\":2}}},\"title\":{\"text\":\"Countries with Gold Medals\"}},                        {\"responsive\": true}                    ).then(function(){\n",
       "                            \n",
       "var gd = document.getElementById('7ca96654-5052-4f48-b7a1-d7c50bc70903');\n",
       "var x = new MutationObserver(function (mutations, observer) {{\n",
       "        var display = window.getComputedStyle(gd).display;\n",
       "        if (!display || display === 'none') {{\n",
       "            console.log([gd, 'removed!']);\n",
       "            Plotly.purge(gd);\n",
       "            observer.disconnect();\n",
       "        }}\n",
       "}});\n",
       "\n",
       "// Listen for the removal of the full notebook cells\n",
       "var notebookContainer = gd.closest('#notebook-container');\n",
       "if (notebookContainer) {{\n",
       "    x.observe(notebookContainer, {childList: true});\n",
       "}}\n",
       "\n",
       "// Listen for the clearing of the current output cell\n",
       "var outputEl = gd.closest('.output');\n",
       "if (outputEl) {{\n",
       "    x.observe(outputEl, {childList: true});\n",
       "}}\n",
       "\n",
       "                        })                };                });            </script>        </div>"
      ]
     },
     "metadata": {},
     "output_type": "display_data"
    },
    {
     "data": {
      "application/vnd.plotly.v1+json": {
       "config": {
        "linkText": "Export to plot.ly",
        "plotlyServerURL": "https://plot.ly",
        "showLink": false
       },
       "data": [
        {
         "autocolorscale": false,
         "colorbar": {
          "tickprefix": "",
          "title": {
           "text": "Medals"
          }
         },
         "colorscale": [
          [
           0,
           "rgb(255,255,255)"
          ],
          [
           0.125,
           "rgb(240,240,240)"
          ],
          [
           0.25,
           "rgb(217,217,217)"
          ],
          [
           0.375,
           "rgb(189,189,189)"
          ],
          [
           0.5,
           "rgb(150,150,150)"
          ],
          [
           0.625,
           "rgb(115,115,115)"
          ],
          [
           0.75,
           "rgb(82,82,82)"
          ],
          [
           0.875,
           "rgb(37,37,37)"
          ],
          [
           1,
           "rgb(0,0,0)"
          ]
         ],
         "locationmode": "country names",
         "locations": [
          "algeria",
          "argentina",
          "armenia",
          "aschenbrodel",
          "atalanta boat club-",
          "australasia",
          "australia",
          "austria",
          "austria-",
          "azerbaijan",
          "bahamas",
          "bahrain",
          "barion/bari-",
          "belarus",
          "belgium",
          "blo polo club rugby",
          "bohemia",
          "bonzo",
          "boreas-",
          "botswana",
          "brazil",
          "brazil-",
          "brussels swimming and water polo club",
          "brynhild-",
          "bulgaria",
          "burundi",
          "cameroon",
          "canada",
          "canada-",
          "chicago athletic association",
          "chicago athletic association-",
          "chile",
          "china",
          "china-",
          "chinese taipei",
          "christian brothers' college-",
          "cincinnati archers",
          "club nautique de lyon-",
          "colombia",
          "comanche",
          "cornwall",
          "costa rica",
          "cote d'ivoire",
          "crabe ii-",
          "croatia",
          "cuba",
          "cyprus",
          "czech republic",
          "czech republic-",
          "czechoslovakia",
          "czechoslovakia-",
          "denmark",
          "djinn",
          "dominican republic",
          "east germany",
          "east germany-",
          "ecuador",
          "egypt",
          "elisabeth x",
          "elsie",
          "emily",
          "encore",
          "england",
          "england-",
          "erna signe",
          "estonia",
          "ethiopia",
          "falcon iv",
          "favorite-",
          "finland",
          "fornebo",
          "france",
          "france-",
          "france/great britain",
          "frankfurt club",
          "gabon",
          "gallant",
          "georgia",
          "germany",
          "germany-",
          "ghana",
          "gitana-",
          "glider",
          "great britain",
          "great britain-",
          "greece",
          "greece-",
          "grenada",
          "guatemala",
          "haiti",
          "hi-hi",
          "hollandia",
          "hong kong-",
          "hungary",
          "hungary-",
          "hurlingham-",
          "iceland",
          "india",
          "individual olympic athletes",
          "indonesia",
          "indonesia-",
          "iran",
          "ireland",
          "ireland-",
          "israel",
          "italy",
          "italy-",
          "jamaica",
          "japan",
          "japan-",
          "joy",
          "kazakhstan",
          "kenya",
          "kurush ii",
          "kyrgyzstan",
          "lady c",
          "latvia",
          "latvia-",
          "leander club -",
          "leander club-",
          "lebanon",
          "lerina",
          "liechtenstein",
          "life boat naval ship \"spetsai\"-",
          "lithuania",
          "liverpool police team-",
          "lully ii",
          "luxembourg",
          "lyn-",
          "ma'lindo",
          "malaysia",
          "malaysia-",
          "marmi ii-",
          "martha-",
          "mascotte",
          "merope iii",
          "mexico",
          "minerva amsterdam",
          "moldova",
          "mongolia",
          "montenegro",
          "morocco",
          "moseley wanderers",
          "mouchette-",
          "mound city rowing club-",
          "mutafo",
          "nadine",
          "namibia",
          "netherlands",
          "netherlands antilles",
          "new college oxford-",
          "new york turnverein new york",
          "new zealand",
          "niger",
          "nigeria",
          "nina",
          "north korea",
          "norway",
          "nurdug ii",
          "omas helliniki p. s.",
          "pakistan",
          "paraguay",
          "peru",
          "phalainis ton thorichtou \"hydra\"-",
          "philippines",
          "poland",
          "poland-",
          "portugal",
          "puerto rico",
          "qatar",
          "quand-mme-",
          "racing club de france",
          "ravenswood boat club-",
          "roddklubben af -",
          "romania",
          "rose pompon",
          "rostock",
          "royal club nautique de gand",
          "rush vii",
          "russia",
          "russia-",
          "salinero",
          "sans atout-",
          "santa maria",
          "saudi arabia",
          "scamasaxe-",
          "senegal",
          "serbia",
          "serbia and montenegro",
          "silja",
          "skum",
          "slaghoken",
          "slovakia",
          "slovenia",
          "smyrna",
          "societ nautique de la marne-",
          "socit nautique de la basse seine-",
          "south africa",
          "south korea",
          "south korea-",
          "soviet union",
          "soviet union-",
          "spain",
          "spain-",
          "sri lanka",
          "st. louis amateur athletic association",
          "st. louis southwest turnverein -",
          "sudan",
          "sunrise",
          "sunshine",
          "sweden",
          "sweden-",
          "switzerland",
          "switzerland-",
          "symphony",
          "syria",
          "tajikistan",
          "tan-fe-pah",
          "tango",
          "tanzania",
          "thailand",
          "thames rowing club",
          "tip",
          "tonga",
          "tornado",
          "toronto argonauts",
          "trans-mississippi golf association-",
          "trinidad and tobago",
          "tritons lillois-",
          "tunisia",
          "turkey",
          "uganda",
          "ukraine",
          "unified team",
          "unified team-",
          "union des socits franais de sports athletiques",
          "united arab republic",
          "united states",
          "united states virgin islands",
          "united states-",
          "united states/france",
          "uruguay",
          "usfsa",
          "uzbekistan",
          "venezuela",
          "vietnam",
          "vinga-",
          "vision",
          "web ii",
          "west germany",
          "west germany-",
          "yugoslavia",
          "zambia",
          "zimbabwe",
          "zut"
         ],
         "marker": {
          "line": {
           "color": "rgb(0,0,0)",
           "width": 0.5
          }
         },
         "reversescale": true,
         "text": [
          "algeria",
          "argentina",
          "armenia",
          "aschenbrodel",
          "atalanta boat club-",
          "australasia",
          "australia",
          "austria",
          "austria-",
          "azerbaijan",
          "bahamas",
          "bahrain",
          "barion/bari-",
          "belarus",
          "belgium",
          "blo polo club rugby",
          "bohemia",
          "bonzo",
          "boreas-",
          "botswana",
          "brazil",
          "brazil-",
          "brussels swimming and water polo club",
          "brynhild-",
          "bulgaria",
          "burundi",
          "cameroon",
          "canada",
          "canada-",
          "chicago athletic association",
          "chicago athletic association-",
          "chile",
          "china",
          "china-",
          "chinese taipei",
          "christian brothers' college-",
          "cincinnati archers",
          "club nautique de lyon-",
          "colombia",
          "comanche",
          "cornwall",
          "costa rica",
          "cote d'ivoire",
          "crabe ii-",
          "croatia",
          "cuba",
          "cyprus",
          "czech republic",
          "czech republic-",
          "czechoslovakia",
          "czechoslovakia-",
          "denmark",
          "djinn",
          "dominican republic",
          "east germany",
          "east germany-",
          "ecuador",
          "egypt",
          "elisabeth x",
          "elsie",
          "emily",
          "encore",
          "england",
          "england-",
          "erna signe",
          "estonia",
          "ethiopia",
          "falcon iv",
          "favorite-",
          "finland",
          "fornebo",
          "france",
          "france-",
          "france/great britain",
          "frankfurt club",
          "gabon",
          "gallant",
          "georgia",
          "germany",
          "germany-",
          "ghana",
          "gitana-",
          "glider",
          "great britain",
          "great britain-",
          "greece",
          "greece-",
          "grenada",
          "guatemala",
          "haiti",
          "hi-hi",
          "hollandia",
          "hong kong-",
          "hungary",
          "hungary-",
          "hurlingham-",
          "iceland",
          "india",
          "individual olympic athletes",
          "indonesia",
          "indonesia-",
          "iran",
          "ireland",
          "ireland-",
          "israel",
          "italy",
          "italy-",
          "jamaica",
          "japan",
          "japan-",
          "joy",
          "kazakhstan",
          "kenya",
          "kurush ii",
          "kyrgyzstan",
          "lady c",
          "latvia",
          "latvia-",
          "leander club -",
          "leander club-",
          "lebanon",
          "lerina",
          "liechtenstein",
          "life boat naval ship \"spetsai\"-",
          "lithuania",
          "liverpool police team-",
          "lully ii",
          "luxembourg",
          "lyn-",
          "ma'lindo",
          "malaysia",
          "malaysia-",
          "marmi ii-",
          "martha-",
          "mascotte",
          "merope iii",
          "mexico",
          "minerva amsterdam",
          "moldova",
          "mongolia",
          "montenegro",
          "morocco",
          "moseley wanderers",
          "mouchette-",
          "mound city rowing club-",
          "mutafo",
          "nadine",
          "namibia",
          "netherlands",
          "netherlands antilles",
          "new college oxford-",
          "new york turnverein new york",
          "new zealand",
          "niger",
          "nigeria",
          "nina",
          "north korea",
          "norway",
          "nurdug ii",
          "omas helliniki p. s.",
          "pakistan",
          "paraguay",
          "peru",
          "phalainis ton thorichtou \"hydra\"-",
          "philippines",
          "poland",
          "poland-",
          "portugal",
          "puerto rico",
          "qatar",
          "quand-mme-",
          "racing club de france",
          "ravenswood boat club-",
          "roddklubben af -",
          "romania",
          "rose pompon",
          "rostock",
          "royal club nautique de gand",
          "rush vii",
          "russia",
          "russia-",
          "salinero",
          "sans atout-",
          "santa maria",
          "saudi arabia",
          "scamasaxe-",
          "senegal",
          "serbia",
          "serbia and montenegro",
          "silja",
          "skum",
          "slaghoken",
          "slovakia",
          "slovenia",
          "smyrna",
          "societ nautique de la marne-",
          "socit nautique de la basse seine-",
          "south africa",
          "south korea",
          "south korea-",
          "soviet union",
          "soviet union-",
          "spain",
          "spain-",
          "sri lanka",
          "st. louis amateur athletic association",
          "st. louis southwest turnverein -",
          "sudan",
          "sunrise",
          "sunshine",
          "sweden",
          "sweden-",
          "switzerland",
          "switzerland-",
          "symphony",
          "syria",
          "tajikistan",
          "tan-fe-pah",
          "tango",
          "tanzania",
          "thailand",
          "thames rowing club",
          "tip",
          "tonga",
          "tornado",
          "toronto argonauts",
          "trans-mississippi golf association-",
          "trinidad and tobago",
          "tritons lillois-",
          "tunisia",
          "turkey",
          "uganda",
          "ukraine",
          "unified team",
          "unified team-",
          "union des socits franais de sports athletiques",
          "united arab republic",
          "united states",
          "united states virgin islands",
          "united states-",
          "united states/france",
          "uruguay",
          "usfsa",
          "uzbekistan",
          "venezuela",
          "vietnam",
          "vinga-",
          "vision",
          "web ii",
          "west germany",
          "west germany-",
          "yugoslavia",
          "zambia",
          "zimbabwe",
          "zut"
         ],
         "type": "choropleth",
         "z": [
          4,
          84,
          5,
          4,
          2,
          4,
          453,
          168,
          18,
          12,
          11,
          1,
          3,
          44,
          161,
          4,
          1,
          3,
          2,
          1,
          161,
          14,
          10,
          1,
          144,
          1,
          1,
          413,
          10,
          5,
          11,
          9,
          325,
          22,
          28,
          11,
          4,
          4,
          8,
          2,
          15,
          1,
          1,
          5,
          54,
          127,
          1,
          32,
          4,
          223,
          2,
          223,
          5,
          2,
          309,
          18,
          1,
          8,
          5,
          4,
          5,
          3,
          1,
          12,
          10,
          12,
          9,
          2,
          8,
          263,
          4,
          518,
          7,
          2,
          15,
          1,
          5,
          6,
          627,
          24,
          1,
          5,
          2,
          582,
          22,
          70,
          6,
          1,
          1,
          1,
          4,
          6,
          2,
          330,
          2,
          4,
          15,
          19,
          1,
          11,
          6,
          21,
          13,
          16,
          1,
          508,
          18,
          75,
          307,
          2,
          2,
          25,
          41,
          2,
          1,
          2,
          13,
          6,
          2,
          4,
          2,
          3,
          2,
          7,
          7,
          8,
          5,
          4,
          5,
          2,
          9,
          2,
          3,
          4,
          3,
          2,
          26,
          5,
          3,
          10,
          14,
          5,
          15,
          10,
          4,
          3,
          1,
          4,
          321,
          1,
          9,
          6,
          56,
          1,
          30,
          7,
          16,
          330,
          3,
          8,
          45,
          17,
          14,
          17,
          3,
          193,
          2,
          7,
          2,
          1,
          9,
          11,
          2,
          5,
          200,
          3,
          1,
          21,
          3,
          351,
          16,
          1,
          5,
          6,
          1,
          2,
          1,
          29,
          26,
          6,
          2,
          3,
          19,
          13,
          11,
          2,
          5,
          47,
          222,
          10,
          716,
          16,
          239,
          4,
          2,
          12,
          5,
          1,
          1,
          2,
          476,
          6,
          213,
          32,
          2,
          1,
          1,
          3,
          3,
          2,
          8,
          5,
          3,
          1,
          3,
          9,
          10,
          8,
          5,
          3,
          27,
          3,
          52,
          69,
          2,
          12,
          1,
          1512,
          1,
          47,
          2,
          2,
          13,
          7,
          3,
          3,
          5,
          4,
          3,
          184,
          10,
          167,
          1,
          4,
          3
         ]
        }
       ],
       "layout": {
        "geo": {
         "projection": {
          "type": "natural earth"
         },
         "showcoastlines": true,
         "showframe": true,
         "showlakes": false
        },
        "template": {
         "data": {
          "bar": [
           {
            "error_x": {
             "color": "#2a3f5f"
            },
            "error_y": {
             "color": "#2a3f5f"
            },
            "marker": {
             "line": {
              "color": "#E5ECF6",
              "width": 0.5
             },
             "pattern": {
              "fillmode": "overlay",
              "size": 10,
              "solidity": 0.2
             }
            },
            "type": "bar"
           }
          ],
          "barpolar": [
           {
            "marker": {
             "line": {
              "color": "#E5ECF6",
              "width": 0.5
             },
             "pattern": {
              "fillmode": "overlay",
              "size": 10,
              "solidity": 0.2
             }
            },
            "type": "barpolar"
           }
          ],
          "carpet": [
           {
            "aaxis": {
             "endlinecolor": "#2a3f5f",
             "gridcolor": "white",
             "linecolor": "white",
             "minorgridcolor": "white",
             "startlinecolor": "#2a3f5f"
            },
            "baxis": {
             "endlinecolor": "#2a3f5f",
             "gridcolor": "white",
             "linecolor": "white",
             "minorgridcolor": "white",
             "startlinecolor": "#2a3f5f"
            },
            "type": "carpet"
           }
          ],
          "choropleth": [
           {
            "colorbar": {
             "outlinewidth": 0,
             "ticks": ""
            },
            "type": "choropleth"
           }
          ],
          "contour": [
           {
            "colorbar": {
             "outlinewidth": 0,
             "ticks": ""
            },
            "colorscale": [
             [
              0,
              "#0d0887"
             ],
             [
              0.1111111111111111,
              "#46039f"
             ],
             [
              0.2222222222222222,
              "#7201a8"
             ],
             [
              0.3333333333333333,
              "#9c179e"
             ],
             [
              0.4444444444444444,
              "#bd3786"
             ],
             [
              0.5555555555555556,
              "#d8576b"
             ],
             [
              0.6666666666666666,
              "#ed7953"
             ],
             [
              0.7777777777777778,
              "#fb9f3a"
             ],
             [
              0.8888888888888888,
              "#fdca26"
             ],
             [
              1,
              "#f0f921"
             ]
            ],
            "type": "contour"
           }
          ],
          "contourcarpet": [
           {
            "colorbar": {
             "outlinewidth": 0,
             "ticks": ""
            },
            "type": "contourcarpet"
           }
          ],
          "heatmap": [
           {
            "colorbar": {
             "outlinewidth": 0,
             "ticks": ""
            },
            "colorscale": [
             [
              0,
              "#0d0887"
             ],
             [
              0.1111111111111111,
              "#46039f"
             ],
             [
              0.2222222222222222,
              "#7201a8"
             ],
             [
              0.3333333333333333,
              "#9c179e"
             ],
             [
              0.4444444444444444,
              "#bd3786"
             ],
             [
              0.5555555555555556,
              "#d8576b"
             ],
             [
              0.6666666666666666,
              "#ed7953"
             ],
             [
              0.7777777777777778,
              "#fb9f3a"
             ],
             [
              0.8888888888888888,
              "#fdca26"
             ],
             [
              1,
              "#f0f921"
             ]
            ],
            "type": "heatmap"
           }
          ],
          "heatmapgl": [
           {
            "colorbar": {
             "outlinewidth": 0,
             "ticks": ""
            },
            "colorscale": [
             [
              0,
              "#0d0887"
             ],
             [
              0.1111111111111111,
              "#46039f"
             ],
             [
              0.2222222222222222,
              "#7201a8"
             ],
             [
              0.3333333333333333,
              "#9c179e"
             ],
             [
              0.4444444444444444,
              "#bd3786"
             ],
             [
              0.5555555555555556,
              "#d8576b"
             ],
             [
              0.6666666666666666,
              "#ed7953"
             ],
             [
              0.7777777777777778,
              "#fb9f3a"
             ],
             [
              0.8888888888888888,
              "#fdca26"
             ],
             [
              1,
              "#f0f921"
             ]
            ],
            "type": "heatmapgl"
           }
          ],
          "histogram": [
           {
            "marker": {
             "pattern": {
              "fillmode": "overlay",
              "size": 10,
              "solidity": 0.2
             }
            },
            "type": "histogram"
           }
          ],
          "histogram2d": [
           {
            "colorbar": {
             "outlinewidth": 0,
             "ticks": ""
            },
            "colorscale": [
             [
              0,
              "#0d0887"
             ],
             [
              0.1111111111111111,
              "#46039f"
             ],
             [
              0.2222222222222222,
              "#7201a8"
             ],
             [
              0.3333333333333333,
              "#9c179e"
             ],
             [
              0.4444444444444444,
              "#bd3786"
             ],
             [
              0.5555555555555556,
              "#d8576b"
             ],
             [
              0.6666666666666666,
              "#ed7953"
             ],
             [
              0.7777777777777778,
              "#fb9f3a"
             ],
             [
              0.8888888888888888,
              "#fdca26"
             ],
             [
              1,
              "#f0f921"
             ]
            ],
            "type": "histogram2d"
           }
          ],
          "histogram2dcontour": [
           {
            "colorbar": {
             "outlinewidth": 0,
             "ticks": ""
            },
            "colorscale": [
             [
              0,
              "#0d0887"
             ],
             [
              0.1111111111111111,
              "#46039f"
             ],
             [
              0.2222222222222222,
              "#7201a8"
             ],
             [
              0.3333333333333333,
              "#9c179e"
             ],
             [
              0.4444444444444444,
              "#bd3786"
             ],
             [
              0.5555555555555556,
              "#d8576b"
             ],
             [
              0.6666666666666666,
              "#ed7953"
             ],
             [
              0.7777777777777778,
              "#fb9f3a"
             ],
             [
              0.8888888888888888,
              "#fdca26"
             ],
             [
              1,
              "#f0f921"
             ]
            ],
            "type": "histogram2dcontour"
           }
          ],
          "mesh3d": [
           {
            "colorbar": {
             "outlinewidth": 0,
             "ticks": ""
            },
            "type": "mesh3d"
           }
          ],
          "parcoords": [
           {
            "line": {
             "colorbar": {
              "outlinewidth": 0,
              "ticks": ""
             }
            },
            "type": "parcoords"
           }
          ],
          "pie": [
           {
            "automargin": true,
            "type": "pie"
           }
          ],
          "scatter": [
           {
            "fillpattern": {
             "fillmode": "overlay",
             "size": 10,
             "solidity": 0.2
            },
            "type": "scatter"
           }
          ],
          "scatter3d": [
           {
            "line": {
             "colorbar": {
              "outlinewidth": 0,
              "ticks": ""
             }
            },
            "marker": {
             "colorbar": {
              "outlinewidth": 0,
              "ticks": ""
             }
            },
            "type": "scatter3d"
           }
          ],
          "scattercarpet": [
           {
            "marker": {
             "colorbar": {
              "outlinewidth": 0,
              "ticks": ""
             }
            },
            "type": "scattercarpet"
           }
          ],
          "scattergeo": [
           {
            "marker": {
             "colorbar": {
              "outlinewidth": 0,
              "ticks": ""
             }
            },
            "type": "scattergeo"
           }
          ],
          "scattergl": [
           {
            "marker": {
             "colorbar": {
              "outlinewidth": 0,
              "ticks": ""
             }
            },
            "type": "scattergl"
           }
          ],
          "scattermapbox": [
           {
            "marker": {
             "colorbar": {
              "outlinewidth": 0,
              "ticks": ""
             }
            },
            "type": "scattermapbox"
           }
          ],
          "scatterpolar": [
           {
            "marker": {
             "colorbar": {
              "outlinewidth": 0,
              "ticks": ""
             }
            },
            "type": "scatterpolar"
           }
          ],
          "scatterpolargl": [
           {
            "marker": {
             "colorbar": {
              "outlinewidth": 0,
              "ticks": ""
             }
            },
            "type": "scatterpolargl"
           }
          ],
          "scatterternary": [
           {
            "marker": {
             "colorbar": {
              "outlinewidth": 0,
              "ticks": ""
             }
            },
            "type": "scatterternary"
           }
          ],
          "surface": [
           {
            "colorbar": {
             "outlinewidth": 0,
             "ticks": ""
            },
            "colorscale": [
             [
              0,
              "#0d0887"
             ],
             [
              0.1111111111111111,
              "#46039f"
             ],
             [
              0.2222222222222222,
              "#7201a8"
             ],
             [
              0.3333333333333333,
              "#9c179e"
             ],
             [
              0.4444444444444444,
              "#bd3786"
             ],
             [
              0.5555555555555556,
              "#d8576b"
             ],
             [
              0.6666666666666666,
              "#ed7953"
             ],
             [
              0.7777777777777778,
              "#fb9f3a"
             ],
             [
              0.8888888888888888,
              "#fdca26"
             ],
             [
              1,
              "#f0f921"
             ]
            ],
            "type": "surface"
           }
          ],
          "table": [
           {
            "cells": {
             "fill": {
              "color": "#EBF0F8"
             },
             "line": {
              "color": "white"
             }
            },
            "header": {
             "fill": {
              "color": "#C8D4E3"
             },
             "line": {
              "color": "white"
             }
            },
            "type": "table"
           }
          ]
         },
         "layout": {
          "annotationdefaults": {
           "arrowcolor": "#2a3f5f",
           "arrowhead": 0,
           "arrowwidth": 1
          },
          "autotypenumbers": "strict",
          "coloraxis": {
           "colorbar": {
            "outlinewidth": 0,
            "ticks": ""
           }
          },
          "colorscale": {
           "diverging": [
            [
             0,
             "#8e0152"
            ],
            [
             0.1,
             "#c51b7d"
            ],
            [
             0.2,
             "#de77ae"
            ],
            [
             0.3,
             "#f1b6da"
            ],
            [
             0.4,
             "#fde0ef"
            ],
            [
             0.5,
             "#f7f7f7"
            ],
            [
             0.6,
             "#e6f5d0"
            ],
            [
             0.7,
             "#b8e186"
            ],
            [
             0.8,
             "#7fbc41"
            ],
            [
             0.9,
             "#4d9221"
            ],
            [
             1,
             "#276419"
            ]
           ],
           "sequential": [
            [
             0,
             "#0d0887"
            ],
            [
             0.1111111111111111,
             "#46039f"
            ],
            [
             0.2222222222222222,
             "#7201a8"
            ],
            [
             0.3333333333333333,
             "#9c179e"
            ],
            [
             0.4444444444444444,
             "#bd3786"
            ],
            [
             0.5555555555555556,
             "#d8576b"
            ],
            [
             0.6666666666666666,
             "#ed7953"
            ],
            [
             0.7777777777777778,
             "#fb9f3a"
            ],
            [
             0.8888888888888888,
             "#fdca26"
            ],
            [
             1,
             "#f0f921"
            ]
           ],
           "sequentialminus": [
            [
             0,
             "#0d0887"
            ],
            [
             0.1111111111111111,
             "#46039f"
            ],
            [
             0.2222222222222222,
             "#7201a8"
            ],
            [
             0.3333333333333333,
             "#9c179e"
            ],
            [
             0.4444444444444444,
             "#bd3786"
            ],
            [
             0.5555555555555556,
             "#d8576b"
            ],
            [
             0.6666666666666666,
             "#ed7953"
            ],
            [
             0.7777777777777778,
             "#fb9f3a"
            ],
            [
             0.8888888888888888,
             "#fdca26"
            ],
            [
             1,
             "#f0f921"
            ]
           ]
          },
          "colorway": [
           "#636efa",
           "#EF553B",
           "#00cc96",
           "#ab63fa",
           "#FFA15A",
           "#19d3f3",
           "#FF6692",
           "#B6E880",
           "#FF97FF",
           "#FECB52"
          ],
          "font": {
           "color": "#2a3f5f"
          },
          "geo": {
           "bgcolor": "white",
           "lakecolor": "white",
           "landcolor": "#E5ECF6",
           "showlakes": true,
           "showland": true,
           "subunitcolor": "white"
          },
          "hoverlabel": {
           "align": "left"
          },
          "hovermode": "closest",
          "mapbox": {
           "style": "light"
          },
          "paper_bgcolor": "white",
          "plot_bgcolor": "#E5ECF6",
          "polar": {
           "angularaxis": {
            "gridcolor": "white",
            "linecolor": "white",
            "ticks": ""
           },
           "bgcolor": "#E5ECF6",
           "radialaxis": {
            "gridcolor": "white",
            "linecolor": "white",
            "ticks": ""
           }
          },
          "scene": {
           "xaxis": {
            "backgroundcolor": "#E5ECF6",
            "gridcolor": "white",
            "gridwidth": 2,
            "linecolor": "white",
            "showbackground": true,
            "ticks": "",
            "zerolinecolor": "white"
           },
           "yaxis": {
            "backgroundcolor": "#E5ECF6",
            "gridcolor": "white",
            "gridwidth": 2,
            "linecolor": "white",
            "showbackground": true,
            "ticks": "",
            "zerolinecolor": "white"
           },
           "zaxis": {
            "backgroundcolor": "#E5ECF6",
            "gridcolor": "white",
            "gridwidth": 2,
            "linecolor": "white",
            "showbackground": true,
            "ticks": "",
            "zerolinecolor": "white"
           }
          },
          "shapedefaults": {
           "line": {
            "color": "#2a3f5f"
           }
          },
          "ternary": {
           "aaxis": {
            "gridcolor": "white",
            "linecolor": "white",
            "ticks": ""
           },
           "baxis": {
            "gridcolor": "white",
            "linecolor": "white",
            "ticks": ""
           },
           "bgcolor": "#E5ECF6",
           "caxis": {
            "gridcolor": "white",
            "linecolor": "white",
            "ticks": ""
           }
          },
          "title": {
           "x": 0.05
          },
          "xaxis": {
           "automargin": true,
           "gridcolor": "white",
           "linecolor": "white",
           "ticks": "",
           "title": {
            "standoff": 15
           },
           "zerolinecolor": "white",
           "zerolinewidth": 2
          },
          "yaxis": {
           "automargin": true,
           "gridcolor": "white",
           "linecolor": "white",
           "ticks": "",
           "title": {
            "standoff": 15
           },
           "zerolinecolor": "white",
           "zerolinewidth": 2
          }
         }
        },
        "title": {
         "text": "Countries with Silver Medals"
        }
       }
      },
      "text/html": [
       "<div>                            <div id=\"3a763073-2cc7-44b7-9562-57180b545f1b\" class=\"plotly-graph-div\" style=\"height:525px; width:100%;\"></div>            <script type=\"text/javascript\">                require([\"plotly\"], function(Plotly) {                    window.PLOTLYENV=window.PLOTLYENV || {};                                    if (document.getElementById(\"3a763073-2cc7-44b7-9562-57180b545f1b\")) {                    Plotly.newPlot(                        \"3a763073-2cc7-44b7-9562-57180b545f1b\",                        [{\"autocolorscale\":false,\"colorbar\":{\"tickprefix\":\"\",\"title\":{\"text\":\"Medals\"}},\"colorscale\":[[0.0,\"rgb(255,255,255)\"],[0.125,\"rgb(240,240,240)\"],[0.25,\"rgb(217,217,217)\"],[0.375,\"rgb(189,189,189)\"],[0.5,\"rgb(150,150,150)\"],[0.625,\"rgb(115,115,115)\"],[0.75,\"rgb(82,82,82)\"],[0.875,\"rgb(37,37,37)\"],[1.0,\"rgb(0,0,0)\"]],\"locationmode\":\"country names\",\"locations\":[\"algeria\",\"argentina\",\"armenia\",\"aschenbrodel\",\"atalanta boat club-\",\"australasia\",\"australia\",\"austria\",\"austria-\",\"azerbaijan\",\"bahamas\",\"bahrain\",\"barion/bari-\",\"belarus\",\"belgium\",\"blo polo club rugby\",\"bohemia\",\"bonzo\",\"boreas-\",\"botswana\",\"brazil\",\"brazil-\",\"brussels swimming and water polo club\",\"brynhild-\",\"bulgaria\",\"burundi\",\"cameroon\",\"canada\",\"canada-\",\"chicago athletic association\",\"chicago athletic association-\",\"chile\",\"china\",\"china-\",\"chinese taipei\",\"christian brothers' college-\",\"cincinnati archers\",\"club nautique de lyon-\",\"colombia\",\"comanche\",\"cornwall\",\"costa rica\",\"cote d'ivoire\",\"crabe ii-\",\"croatia\",\"cuba\",\"cyprus\",\"czech republic\",\"czech republic-\",\"czechoslovakia\",\"czechoslovakia-\",\"denmark\",\"djinn\",\"dominican republic\",\"east germany\",\"east germany-\",\"ecuador\",\"egypt\",\"elisabeth x\",\"elsie\",\"emily\",\"encore\",\"england\",\"england-\",\"erna signe\",\"estonia\",\"ethiopia\",\"falcon iv\",\"favorite-\",\"finland\",\"fornebo\",\"france\",\"france-\",\"france/great britain\",\"frankfurt club\",\"gabon\",\"gallant\",\"georgia\",\"germany\",\"germany-\",\"ghana\",\"gitana-\",\"glider\",\"great britain\",\"great britain-\",\"greece\",\"greece-\",\"grenada\",\"guatemala\",\"haiti\",\"hi-hi\",\"hollandia\",\"hong kong-\",\"hungary\",\"hungary-\",\"hurlingham-\",\"iceland\",\"india\",\"individual olympic athletes\",\"indonesia\",\"indonesia-\",\"iran\",\"ireland\",\"ireland-\",\"israel\",\"italy\",\"italy-\",\"jamaica\",\"japan\",\"japan-\",\"joy\",\"kazakhstan\",\"kenya\",\"kurush ii\",\"kyrgyzstan\",\"lady c\",\"latvia\",\"latvia-\",\"leander club -\",\"leander club-\",\"lebanon\",\"lerina\",\"liechtenstein\",\"life boat naval ship \\\"spetsai\\\"-\",\"lithuania\",\"liverpool police team-\",\"lully ii\",\"luxembourg\",\"lyn-\",\"ma'lindo\",\"malaysia\",\"malaysia-\",\"marmi ii-\",\"martha-\",\"mascotte\",\"merope iii\",\"mexico\",\"minerva amsterdam\",\"moldova\",\"mongolia\",\"montenegro\",\"morocco\",\"moseley wanderers\",\"mouchette-\",\"mound city rowing club-\",\"mutafo\",\"nadine\",\"namibia\",\"netherlands\",\"netherlands antilles\",\"new college oxford-\",\"new york turnverein new york\",\"new zealand\",\"niger\",\"nigeria\",\"nina\",\"north korea\",\"norway\",\"nurdug ii\",\"omas helliniki p. s.\",\"pakistan\",\"paraguay\",\"peru\",\"phalainis ton thorichtou \\\"hydra\\\"-\",\"philippines\",\"poland\",\"poland-\",\"portugal\",\"puerto rico\",\"qatar\",\"quand-mme-\",\"racing club de france\",\"ravenswood boat club-\",\"roddklubben af -\",\"romania\",\"rose pompon\",\"rostock\",\"royal club nautique de gand\",\"rush vii\",\"russia\",\"russia-\",\"salinero\",\"sans atout-\",\"santa maria\",\"saudi arabia\",\"scamasaxe-\",\"senegal\",\"serbia\",\"serbia and montenegro\",\"silja\",\"skum\",\"slaghoken\",\"slovakia\",\"slovenia\",\"smyrna\",\"societ nautique de la marne-\",\"socit nautique de la basse seine-\",\"south africa\",\"south korea\",\"south korea-\",\"soviet union\",\"soviet union-\",\"spain\",\"spain-\",\"sri lanka\",\"st. louis amateur athletic association\",\"st. louis southwest turnverein -\",\"sudan\",\"sunrise\",\"sunshine\",\"sweden\",\"sweden-\",\"switzerland\",\"switzerland-\",\"symphony\",\"syria\",\"tajikistan\",\"tan-fe-pah\",\"tango\",\"tanzania\",\"thailand\",\"thames rowing club\",\"tip\",\"tonga\",\"tornado\",\"toronto argonauts\",\"trans-mississippi golf association-\",\"trinidad and tobago\",\"tritons lillois-\",\"tunisia\",\"turkey\",\"uganda\",\"ukraine\",\"unified team\",\"unified team-\",\"union des socits franais de sports athletiques\",\"united arab republic\",\"united states\",\"united states virgin islands\",\"united states-\",\"united states/france\",\"uruguay\",\"usfsa\",\"uzbekistan\",\"venezuela\",\"vietnam\",\"vinga-\",\"vision\",\"web ii\",\"west germany\",\"west germany-\",\"yugoslavia\",\"zambia\",\"zimbabwe\",\"zut\"],\"marker\":{\"line\":{\"color\":\"rgb(0,0,0)\",\"width\":0.5}},\"reversescale\":true,\"text\":[\"algeria\",\"argentina\",\"armenia\",\"aschenbrodel\",\"atalanta boat club-\",\"australasia\",\"australia\",\"austria\",\"austria-\",\"azerbaijan\",\"bahamas\",\"bahrain\",\"barion/bari-\",\"belarus\",\"belgium\",\"blo polo club rugby\",\"bohemia\",\"bonzo\",\"boreas-\",\"botswana\",\"brazil\",\"brazil-\",\"brussels swimming and water polo club\",\"brynhild-\",\"bulgaria\",\"burundi\",\"cameroon\",\"canada\",\"canada-\",\"chicago athletic association\",\"chicago athletic association-\",\"chile\",\"china\",\"china-\",\"chinese taipei\",\"christian brothers' college-\",\"cincinnati archers\",\"club nautique de lyon-\",\"colombia\",\"comanche\",\"cornwall\",\"costa rica\",\"cote d'ivoire\",\"crabe ii-\",\"croatia\",\"cuba\",\"cyprus\",\"czech republic\",\"czech republic-\",\"czechoslovakia\",\"czechoslovakia-\",\"denmark\",\"djinn\",\"dominican republic\",\"east germany\",\"east germany-\",\"ecuador\",\"egypt\",\"elisabeth x\",\"elsie\",\"emily\",\"encore\",\"england\",\"england-\",\"erna signe\",\"estonia\",\"ethiopia\",\"falcon iv\",\"favorite-\",\"finland\",\"fornebo\",\"france\",\"france-\",\"france/great britain\",\"frankfurt club\",\"gabon\",\"gallant\",\"georgia\",\"germany\",\"germany-\",\"ghana\",\"gitana-\",\"glider\",\"great britain\",\"great britain-\",\"greece\",\"greece-\",\"grenada\",\"guatemala\",\"haiti\",\"hi-hi\",\"hollandia\",\"hong kong-\",\"hungary\",\"hungary-\",\"hurlingham-\",\"iceland\",\"india\",\"individual olympic athletes\",\"indonesia\",\"indonesia-\",\"iran\",\"ireland\",\"ireland-\",\"israel\",\"italy\",\"italy-\",\"jamaica\",\"japan\",\"japan-\",\"joy\",\"kazakhstan\",\"kenya\",\"kurush ii\",\"kyrgyzstan\",\"lady c\",\"latvia\",\"latvia-\",\"leander club -\",\"leander club-\",\"lebanon\",\"lerina\",\"liechtenstein\",\"life boat naval ship \\\"spetsai\\\"-\",\"lithuania\",\"liverpool police team-\",\"lully ii\",\"luxembourg\",\"lyn-\",\"ma'lindo\",\"malaysia\",\"malaysia-\",\"marmi ii-\",\"martha-\",\"mascotte\",\"merope iii\",\"mexico\",\"minerva amsterdam\",\"moldova\",\"mongolia\",\"montenegro\",\"morocco\",\"moseley wanderers\",\"mouchette-\",\"mound city rowing club-\",\"mutafo\",\"nadine\",\"namibia\",\"netherlands\",\"netherlands antilles\",\"new college oxford-\",\"new york turnverein new york\",\"new zealand\",\"niger\",\"nigeria\",\"nina\",\"north korea\",\"norway\",\"nurdug ii\",\"omas helliniki p. s.\",\"pakistan\",\"paraguay\",\"peru\",\"phalainis ton thorichtou \\\"hydra\\\"-\",\"philippines\",\"poland\",\"poland-\",\"portugal\",\"puerto rico\",\"qatar\",\"quand-mme-\",\"racing club de france\",\"ravenswood boat club-\",\"roddklubben af -\",\"romania\",\"rose pompon\",\"rostock\",\"royal club nautique de gand\",\"rush vii\",\"russia\",\"russia-\",\"salinero\",\"sans atout-\",\"santa maria\",\"saudi arabia\",\"scamasaxe-\",\"senegal\",\"serbia\",\"serbia and montenegro\",\"silja\",\"skum\",\"slaghoken\",\"slovakia\",\"slovenia\",\"smyrna\",\"societ nautique de la marne-\",\"socit nautique de la basse seine-\",\"south africa\",\"south korea\",\"south korea-\",\"soviet union\",\"soviet union-\",\"spain\",\"spain-\",\"sri lanka\",\"st. louis amateur athletic association\",\"st. louis southwest turnverein -\",\"sudan\",\"sunrise\",\"sunshine\",\"sweden\",\"sweden-\",\"switzerland\",\"switzerland-\",\"symphony\",\"syria\",\"tajikistan\",\"tan-fe-pah\",\"tango\",\"tanzania\",\"thailand\",\"thames rowing club\",\"tip\",\"tonga\",\"tornado\",\"toronto argonauts\",\"trans-mississippi golf association-\",\"trinidad and tobago\",\"tritons lillois-\",\"tunisia\",\"turkey\",\"uganda\",\"ukraine\",\"unified team\",\"unified team-\",\"union des socits franais de sports athletiques\",\"united arab republic\",\"united states\",\"united states virgin islands\",\"united states-\",\"united states/france\",\"uruguay\",\"usfsa\",\"uzbekistan\",\"venezuela\",\"vietnam\",\"vinga-\",\"vision\",\"web ii\",\"west germany\",\"west germany-\",\"yugoslavia\",\"zambia\",\"zimbabwe\",\"zut\"],\"z\":[4,84,5,4,2,4,453,168,18,12,11,1,3,44,161,4,1,3,2,1,161,14,10,1,144,1,1,413,10,5,11,9,325,22,28,11,4,4,8,2,15,1,1,5,54,127,1,32,4,223,2,223,5,2,309,18,1,8,5,4,5,3,1,12,10,12,9,2,8,263,4,518,7,2,15,1,5,6,627,24,1,5,2,582,22,70,6,1,1,1,4,6,2,330,2,4,15,19,1,11,6,21,13,16,1,508,18,75,307,2,2,25,41,2,1,2,13,6,2,4,2,3,2,7,7,8,5,4,5,2,9,2,3,4,3,2,26,5,3,10,14,5,15,10,4,3,1,4,321,1,9,6,56,1,30,7,16,330,3,8,45,17,14,17,3,193,2,7,2,1,9,11,2,5,200,3,1,21,3,351,16,1,5,6,1,2,1,29,26,6,2,3,19,13,11,2,5,47,222,10,716,16,239,4,2,12,5,1,1,2,476,6,213,32,2,1,1,3,3,2,8,5,3,1,3,9,10,8,5,3,27,3,52,69,2,12,1,1512,1,47,2,2,13,7,3,3,5,4,3,184,10,167,1,4,3],\"type\":\"choropleth\"}],                        {\"geo\":{\"projection\":{\"type\":\"natural earth\"},\"showcoastlines\":true,\"showframe\":true,\"showlakes\":false},\"template\":{\"data\":{\"barpolar\":[{\"marker\":{\"line\":{\"color\":\"#E5ECF6\",\"width\":0.5},\"pattern\":{\"fillmode\":\"overlay\",\"size\":10,\"solidity\":0.2}},\"type\":\"barpolar\"}],\"bar\":[{\"error_x\":{\"color\":\"#2a3f5f\"},\"error_y\":{\"color\":\"#2a3f5f\"},\"marker\":{\"line\":{\"color\":\"#E5ECF6\",\"width\":0.5},\"pattern\":{\"fillmode\":\"overlay\",\"size\":10,\"solidity\":0.2}},\"type\":\"bar\"}],\"carpet\":[{\"aaxis\":{\"endlinecolor\":\"#2a3f5f\",\"gridcolor\":\"white\",\"linecolor\":\"white\",\"minorgridcolor\":\"white\",\"startlinecolor\":\"#2a3f5f\"},\"baxis\":{\"endlinecolor\":\"#2a3f5f\",\"gridcolor\":\"white\",\"linecolor\":\"white\",\"minorgridcolor\":\"white\",\"startlinecolor\":\"#2a3f5f\"},\"type\":\"carpet\"}],\"choropleth\":[{\"colorbar\":{\"outlinewidth\":0,\"ticks\":\"\"},\"type\":\"choropleth\"}],\"contourcarpet\":[{\"colorbar\":{\"outlinewidth\":0,\"ticks\":\"\"},\"type\":\"contourcarpet\"}],\"contour\":[{\"colorbar\":{\"outlinewidth\":0,\"ticks\":\"\"},\"colorscale\":[[0.0,\"#0d0887\"],[0.1111111111111111,\"#46039f\"],[0.2222222222222222,\"#7201a8\"],[0.3333333333333333,\"#9c179e\"],[0.4444444444444444,\"#bd3786\"],[0.5555555555555556,\"#d8576b\"],[0.6666666666666666,\"#ed7953\"],[0.7777777777777778,\"#fb9f3a\"],[0.8888888888888888,\"#fdca26\"],[1.0,\"#f0f921\"]],\"type\":\"contour\"}],\"heatmapgl\":[{\"colorbar\":{\"outlinewidth\":0,\"ticks\":\"\"},\"colorscale\":[[0.0,\"#0d0887\"],[0.1111111111111111,\"#46039f\"],[0.2222222222222222,\"#7201a8\"],[0.3333333333333333,\"#9c179e\"],[0.4444444444444444,\"#bd3786\"],[0.5555555555555556,\"#d8576b\"],[0.6666666666666666,\"#ed7953\"],[0.7777777777777778,\"#fb9f3a\"],[0.8888888888888888,\"#fdca26\"],[1.0,\"#f0f921\"]],\"type\":\"heatmapgl\"}],\"heatmap\":[{\"colorbar\":{\"outlinewidth\":0,\"ticks\":\"\"},\"colorscale\":[[0.0,\"#0d0887\"],[0.1111111111111111,\"#46039f\"],[0.2222222222222222,\"#7201a8\"],[0.3333333333333333,\"#9c179e\"],[0.4444444444444444,\"#bd3786\"],[0.5555555555555556,\"#d8576b\"],[0.6666666666666666,\"#ed7953\"],[0.7777777777777778,\"#fb9f3a\"],[0.8888888888888888,\"#fdca26\"],[1.0,\"#f0f921\"]],\"type\":\"heatmap\"}],\"histogram2dcontour\":[{\"colorbar\":{\"outlinewidth\":0,\"ticks\":\"\"},\"colorscale\":[[0.0,\"#0d0887\"],[0.1111111111111111,\"#46039f\"],[0.2222222222222222,\"#7201a8\"],[0.3333333333333333,\"#9c179e\"],[0.4444444444444444,\"#bd3786\"],[0.5555555555555556,\"#d8576b\"],[0.6666666666666666,\"#ed7953\"],[0.7777777777777778,\"#fb9f3a\"],[0.8888888888888888,\"#fdca26\"],[1.0,\"#f0f921\"]],\"type\":\"histogram2dcontour\"}],\"histogram2d\":[{\"colorbar\":{\"outlinewidth\":0,\"ticks\":\"\"},\"colorscale\":[[0.0,\"#0d0887\"],[0.1111111111111111,\"#46039f\"],[0.2222222222222222,\"#7201a8\"],[0.3333333333333333,\"#9c179e\"],[0.4444444444444444,\"#bd3786\"],[0.5555555555555556,\"#d8576b\"],[0.6666666666666666,\"#ed7953\"],[0.7777777777777778,\"#fb9f3a\"],[0.8888888888888888,\"#fdca26\"],[1.0,\"#f0f921\"]],\"type\":\"histogram2d\"}],\"histogram\":[{\"marker\":{\"pattern\":{\"fillmode\":\"overlay\",\"size\":10,\"solidity\":0.2}},\"type\":\"histogram\"}],\"mesh3d\":[{\"colorbar\":{\"outlinewidth\":0,\"ticks\":\"\"},\"type\":\"mesh3d\"}],\"parcoords\":[{\"line\":{\"colorbar\":{\"outlinewidth\":0,\"ticks\":\"\"}},\"type\":\"parcoords\"}],\"pie\":[{\"automargin\":true,\"type\":\"pie\"}],\"scatter3d\":[{\"line\":{\"colorbar\":{\"outlinewidth\":0,\"ticks\":\"\"}},\"marker\":{\"colorbar\":{\"outlinewidth\":0,\"ticks\":\"\"}},\"type\":\"scatter3d\"}],\"scattercarpet\":[{\"marker\":{\"colorbar\":{\"outlinewidth\":0,\"ticks\":\"\"}},\"type\":\"scattercarpet\"}],\"scattergeo\":[{\"marker\":{\"colorbar\":{\"outlinewidth\":0,\"ticks\":\"\"}},\"type\":\"scattergeo\"}],\"scattergl\":[{\"marker\":{\"colorbar\":{\"outlinewidth\":0,\"ticks\":\"\"}},\"type\":\"scattergl\"}],\"scattermapbox\":[{\"marker\":{\"colorbar\":{\"outlinewidth\":0,\"ticks\":\"\"}},\"type\":\"scattermapbox\"}],\"scatterpolargl\":[{\"marker\":{\"colorbar\":{\"outlinewidth\":0,\"ticks\":\"\"}},\"type\":\"scatterpolargl\"}],\"scatterpolar\":[{\"marker\":{\"colorbar\":{\"outlinewidth\":0,\"ticks\":\"\"}},\"type\":\"scatterpolar\"}],\"scatter\":[{\"fillpattern\":{\"fillmode\":\"overlay\",\"size\":10,\"solidity\":0.2},\"type\":\"scatter\"}],\"scatterternary\":[{\"marker\":{\"colorbar\":{\"outlinewidth\":0,\"ticks\":\"\"}},\"type\":\"scatterternary\"}],\"surface\":[{\"colorbar\":{\"outlinewidth\":0,\"ticks\":\"\"},\"colorscale\":[[0.0,\"#0d0887\"],[0.1111111111111111,\"#46039f\"],[0.2222222222222222,\"#7201a8\"],[0.3333333333333333,\"#9c179e\"],[0.4444444444444444,\"#bd3786\"],[0.5555555555555556,\"#d8576b\"],[0.6666666666666666,\"#ed7953\"],[0.7777777777777778,\"#fb9f3a\"],[0.8888888888888888,\"#fdca26\"],[1.0,\"#f0f921\"]],\"type\":\"surface\"}],\"table\":[{\"cells\":{\"fill\":{\"color\":\"#EBF0F8\"},\"line\":{\"color\":\"white\"}},\"header\":{\"fill\":{\"color\":\"#C8D4E3\"},\"line\":{\"color\":\"white\"}},\"type\":\"table\"}]},\"layout\":{\"annotationdefaults\":{\"arrowcolor\":\"#2a3f5f\",\"arrowhead\":0,\"arrowwidth\":1},\"autotypenumbers\":\"strict\",\"coloraxis\":{\"colorbar\":{\"outlinewidth\":0,\"ticks\":\"\"}},\"colorscale\":{\"diverging\":[[0,\"#8e0152\"],[0.1,\"#c51b7d\"],[0.2,\"#de77ae\"],[0.3,\"#f1b6da\"],[0.4,\"#fde0ef\"],[0.5,\"#f7f7f7\"],[0.6,\"#e6f5d0\"],[0.7,\"#b8e186\"],[0.8,\"#7fbc41\"],[0.9,\"#4d9221\"],[1,\"#276419\"]],\"sequential\":[[0.0,\"#0d0887\"],[0.1111111111111111,\"#46039f\"],[0.2222222222222222,\"#7201a8\"],[0.3333333333333333,\"#9c179e\"],[0.4444444444444444,\"#bd3786\"],[0.5555555555555556,\"#d8576b\"],[0.6666666666666666,\"#ed7953\"],[0.7777777777777778,\"#fb9f3a\"],[0.8888888888888888,\"#fdca26\"],[1.0,\"#f0f921\"]],\"sequentialminus\":[[0.0,\"#0d0887\"],[0.1111111111111111,\"#46039f\"],[0.2222222222222222,\"#7201a8\"],[0.3333333333333333,\"#9c179e\"],[0.4444444444444444,\"#bd3786\"],[0.5555555555555556,\"#d8576b\"],[0.6666666666666666,\"#ed7953\"],[0.7777777777777778,\"#fb9f3a\"],[0.8888888888888888,\"#fdca26\"],[1.0,\"#f0f921\"]]},\"colorway\":[\"#636efa\",\"#EF553B\",\"#00cc96\",\"#ab63fa\",\"#FFA15A\",\"#19d3f3\",\"#FF6692\",\"#B6E880\",\"#FF97FF\",\"#FECB52\"],\"font\":{\"color\":\"#2a3f5f\"},\"geo\":{\"bgcolor\":\"white\",\"lakecolor\":\"white\",\"landcolor\":\"#E5ECF6\",\"showlakes\":true,\"showland\":true,\"subunitcolor\":\"white\"},\"hoverlabel\":{\"align\":\"left\"},\"hovermode\":\"closest\",\"mapbox\":{\"style\":\"light\"},\"paper_bgcolor\":\"white\",\"plot_bgcolor\":\"#E5ECF6\",\"polar\":{\"angularaxis\":{\"gridcolor\":\"white\",\"linecolor\":\"white\",\"ticks\":\"\"},\"bgcolor\":\"#E5ECF6\",\"radialaxis\":{\"gridcolor\":\"white\",\"linecolor\":\"white\",\"ticks\":\"\"}},\"scene\":{\"xaxis\":{\"backgroundcolor\":\"#E5ECF6\",\"gridcolor\":\"white\",\"gridwidth\":2,\"linecolor\":\"white\",\"showbackground\":true,\"ticks\":\"\",\"zerolinecolor\":\"white\"},\"yaxis\":{\"backgroundcolor\":\"#E5ECF6\",\"gridcolor\":\"white\",\"gridwidth\":2,\"linecolor\":\"white\",\"showbackground\":true,\"ticks\":\"\",\"zerolinecolor\":\"white\"},\"zaxis\":{\"backgroundcolor\":\"#E5ECF6\",\"gridcolor\":\"white\",\"gridwidth\":2,\"linecolor\":\"white\",\"showbackground\":true,\"ticks\":\"\",\"zerolinecolor\":\"white\"}},\"shapedefaults\":{\"line\":{\"color\":\"#2a3f5f\"}},\"ternary\":{\"aaxis\":{\"gridcolor\":\"white\",\"linecolor\":\"white\",\"ticks\":\"\"},\"baxis\":{\"gridcolor\":\"white\",\"linecolor\":\"white\",\"ticks\":\"\"},\"bgcolor\":\"#E5ECF6\",\"caxis\":{\"gridcolor\":\"white\",\"linecolor\":\"white\",\"ticks\":\"\"}},\"title\":{\"x\":0.05},\"xaxis\":{\"automargin\":true,\"gridcolor\":\"white\",\"linecolor\":\"white\",\"ticks\":\"\",\"title\":{\"standoff\":15},\"zerolinecolor\":\"white\",\"zerolinewidth\":2},\"yaxis\":{\"automargin\":true,\"gridcolor\":\"white\",\"linecolor\":\"white\",\"ticks\":\"\",\"title\":{\"standoff\":15},\"zerolinecolor\":\"white\",\"zerolinewidth\":2}}},\"title\":{\"text\":\"Countries with Silver Medals\"}},                        {\"responsive\": true}                    ).then(function(){\n",
       "                            \n",
       "var gd = document.getElementById('3a763073-2cc7-44b7-9562-57180b545f1b');\n",
       "var x = new MutationObserver(function (mutations, observer) {{\n",
       "        var display = window.getComputedStyle(gd).display;\n",
       "        if (!display || display === 'none') {{\n",
       "            console.log([gd, 'removed!']);\n",
       "            Plotly.purge(gd);\n",
       "            observer.disconnect();\n",
       "        }}\n",
       "}});\n",
       "\n",
       "// Listen for the removal of the full notebook cells\n",
       "var notebookContainer = gd.closest('#notebook-container');\n",
       "if (notebookContainer) {{\n",
       "    x.observe(notebookContainer, {childList: true});\n",
       "}}\n",
       "\n",
       "// Listen for the clearing of the current output cell\n",
       "var outputEl = gd.closest('.output');\n",
       "if (outputEl) {{\n",
       "    x.observe(outputEl, {childList: true});\n",
       "}}\n",
       "\n",
       "                        })                };                });            </script>        </div>"
      ]
     },
     "metadata": {},
     "output_type": "display_data"
    },
    {
     "data": {
      "application/vnd.plotly.v1+json": {
       "config": {
        "linkText": "Export to plot.ly",
        "plotlyServerURL": "https://plot.ly",
        "showLink": false
       },
       "data": [
        {
         "autocolorscale": false,
         "colorbar": {
          "tickprefix": "",
          "title": {
           "text": "Medals"
          }
         },
         "colorscale": [
          [
           0,
           "rgb(255,245,240)"
          ],
          [
           0.125,
           "rgb(254,224,210)"
          ],
          [
           0.25,
           "rgb(252,187,161)"
          ],
          [
           0.375,
           "rgb(252,146,114)"
          ],
          [
           0.5,
           "rgb(251,106,74)"
          ],
          [
           0.625,
           "rgb(239,59,44)"
          ],
          [
           0.75,
           "rgb(203,24,29)"
          ],
          [
           0.875,
           "rgb(165,15,21)"
          ],
          [
           1,
           "rgb(103,0,13)"
          ]
         ],
         "locationmode": "country names",
         "locations": [
          "a north american team",
          "afghanistan",
          "algeria",
          "ali-baba ii",
          "amstel amsterdam",
          "antwerpia v",
          "aphrodite",
          "argentina",
          "argonaut rowing club",
          "armenia",
          "australasia",
          "australia",
          "australia-",
          "australia/great britain",
          "austria",
          "austria-",
          "azerbaijan",
          "baby-",
          "bagatelle polo club paris",
          "bahamas",
          "bahrain",
          "ballerina iv",
          "barbados",
          "belarus",
          "belgium",
          "belgium-",
          "bem ii",
          "berliner ruderclub",
          "berliner ruderverein von -",
          "bermuda",
          "bingo",
          "bluebottle",
          "bohemia",
          "bohemia/great britain",
          "boston archers",
          "brazil",
          "brazil-",
          "bulgaria",
          "buraddoo",
          "cambridge university boat club-",
          "cameroon",
          "canada",
          "canada-",
          "caprice",
          "central turnverein chicago",
          "chile",
          "china",
          "china-",
          "chinese taipei",
          "chuckles",
          "clearwater",
          "colombia",
          "costa rica",
          "cote d'ivoire",
          "crabe ii-",
          "croatia",
          "cuba",
          "czech republic",
          "czech republic-",
          "czechoslovakia",
          "denmark",
          "denmark-",
          "digby",
          "djibouti",
          "dominican republic",
          "don schufro",
          "east germany",
          "east germany-",
          "egypt",
          "eritrea",
          "espadarte",
          "estonia",
          "ethiopia",
          "ethnikos gymnastikos syllogos",
          "favorite hammonia-",
          "finland",
          "formosa",
          "france",
          "france-",
          "frimousse",
          "gallia ii",
          "gem iv",
          "georgia",
          "germania ii",
          "germany",
          "germany-",
          "ghana",
          "gitana-",
          "great britain",
          "great britain-",
          "greece",
          "greece-",
          "gustel x",
          "guyana",
          "guyoni",
          "gwendoline-",
          "haiti",
          "heatherbell",
          "hojwa",
          "hong kong",
          "humbug v",
          "hungary",
          "hungary-",
          "iceland",
          "independent rowing club-",
          "india",
          "individual olympic athletes",
          "indonesia",
          "indonesia-",
          "iran",
          "iraq",
          "ireland",
          "israel",
          "italy",
          "italy-",
          "jamaica",
          "japan",
          "k division metropolitan police team-",
          "kazakhstan",
          "kenya",
          "kerstin-",
          "kristiania roklub-",
          "kuwait",
          "kyrgyzstan",
          "latvia",
          "latvia-",
          "laurea-",
          "lebanon",
          "libellule de paris",
          "liechtenstein",
          "lithuania",
          "lucky girl-",
          "ludwigshafener ruder verein-",
          "macedonia",
          "macky vi",
          "malaysia",
          "malaysia-",
          "margaret",
          "marinai della nave da guerra \"varese\"",
          "martha-",
          "mauritius",
          "may be",
          "mexico",
          "mignon-",
          "minerva amsterdam",
          "missouri athletic club-",
          "mohawk indians-",
          "moldova",
          "monaco",
          "mongolia",
          "morocco",
          "mozambique",
          "namoussa",
          "netherlands",
          "netherlands-",
          "new zealand",
          "niger",
          "nigeria",
          "nina claire-",
          "north korea",
          "north korea-",
          "norway",
          "ormsund roklub-",
          "pakistan",
          "panama",
          "phalainis ton thorichtou \"hydra\"-",
          "philippines",
          "pistoja/firenze",
          "poland",
          "polyteknisk roklub-",
          "portugal",
          "potsdam",
          "puerto rico",
          "pupilles de neptune de lille -",
          "pupilles de neptune de lille-",
          "qatar",
          "ralia",
          "romania",
          "romania-",
          "rowing club castillon-",
          "russia",
          "russia-",
          "sarcelle-",
          "saudi arabia",
          "scamasaxe-",
          "scotland-",
          "serbia",
          "serbia and montenegro",
          "shrew ii",
          "slovakia",
          "slovenia",
          "snap",
          "socit nautique de bayonne-",
          "socit nautique de la basse seine-",
          "sorais-",
          "south africa",
          "south korea",
          "south korea-",
          "soviet union",
          "soviet union-",
          "spain",
          "st. louis southwest turnverein -",
          "st. rose-",
          "starita",
          "stella-",
          "suriname",
          "sweden",
          "sweden-",
          "swedish star",
          "switzerland",
          "switzerland-",
          "sylvia",
          "syria",
          "tajikistan",
          "thailand",
          "thessalonki-",
          "togo",
          "toronto argonauts",
          "trinidad and tobago",
          "tunisia",
          "turkey",
          "turquoise-",
          "tutti v",
          "uganda",
          "ukraine",
          "ukraine-",
          "unified team",
          "unified team-",
          "united arab emirates",
          "united arab republic",
          "united states",
          "united states golf association-",
          "united states-",
          "united states/great britain",
          "univ. of brussels",
          "uruguay",
          "uzbekistan",
          "venezuela",
          "venilia",
          "wales-",
          "west germany",
          "west germany-",
          "west indies federation",
          "western rowing club-",
          "widgeon",
          "willem-six",
          "yugoslavia",
          "zambia",
          "zimbabwe"
         ],
         "marker": {
          "line": {
           "color": "rgb(0,0,0)",
           "width": 0.5
          }
         },
         "reversescale": true,
         "text": [
          "a north american team",
          "afghanistan",
          "algeria",
          "ali-baba ii",
          "amstel amsterdam",
          "antwerpia v",
          "aphrodite",
          "argentina",
          "argonaut rowing club",
          "armenia",
          "australasia",
          "australia",
          "australia-",
          "australia/great britain",
          "austria",
          "austria-",
          "azerbaijan",
          "baby-",
          "bagatelle polo club paris",
          "bahamas",
          "bahrain",
          "ballerina iv",
          "barbados",
          "belarus",
          "belgium",
          "belgium-",
          "bem ii",
          "berliner ruderclub",
          "berliner ruderverein von -",
          "bermuda",
          "bingo",
          "bluebottle",
          "bohemia",
          "bohemia/great britain",
          "boston archers",
          "brazil",
          "brazil-",
          "bulgaria",
          "buraddoo",
          "cambridge university boat club-",
          "cameroon",
          "canada",
          "canada-",
          "caprice",
          "central turnverein chicago",
          "chile",
          "china",
          "china-",
          "chinese taipei",
          "chuckles",
          "clearwater",
          "colombia",
          "costa rica",
          "cote d'ivoire",
          "crabe ii-",
          "croatia",
          "cuba",
          "czech republic",
          "czech republic-",
          "czechoslovakia",
          "denmark",
          "denmark-",
          "digby",
          "djibouti",
          "dominican republic",
          "don schufro",
          "east germany",
          "east germany-",
          "egypt",
          "eritrea",
          "espadarte",
          "estonia",
          "ethiopia",
          "ethnikos gymnastikos syllogos",
          "favorite hammonia-",
          "finland",
          "formosa",
          "france",
          "france-",
          "frimousse",
          "gallia ii",
          "gem iv",
          "georgia",
          "germania ii",
          "germany",
          "germany-",
          "ghana",
          "gitana-",
          "great britain",
          "great britain-",
          "greece",
          "greece-",
          "gustel x",
          "guyana",
          "guyoni",
          "gwendoline-",
          "haiti",
          "heatherbell",
          "hojwa",
          "hong kong",
          "humbug v",
          "hungary",
          "hungary-",
          "iceland",
          "independent rowing club-",
          "india",
          "individual olympic athletes",
          "indonesia",
          "indonesia-",
          "iran",
          "iraq",
          "ireland",
          "israel",
          "italy",
          "italy-",
          "jamaica",
          "japan",
          "k division metropolitan police team-",
          "kazakhstan",
          "kenya",
          "kerstin-",
          "kristiania roklub-",
          "kuwait",
          "kyrgyzstan",
          "latvia",
          "latvia-",
          "laurea-",
          "lebanon",
          "libellule de paris",
          "liechtenstein",
          "lithuania",
          "lucky girl-",
          "ludwigshafener ruder verein-",
          "macedonia",
          "macky vi",
          "malaysia",
          "malaysia-",
          "margaret",
          "marinai della nave da guerra \"varese\"",
          "martha-",
          "mauritius",
          "may be",
          "mexico",
          "mignon-",
          "minerva amsterdam",
          "missouri athletic club-",
          "mohawk indians-",
          "moldova",
          "monaco",
          "mongolia",
          "morocco",
          "mozambique",
          "namoussa",
          "netherlands",
          "netherlands-",
          "new zealand",
          "niger",
          "nigeria",
          "nina claire-",
          "north korea",
          "north korea-",
          "norway",
          "ormsund roklub-",
          "pakistan",
          "panama",
          "phalainis ton thorichtou \"hydra\"-",
          "philippines",
          "pistoja/firenze",
          "poland",
          "polyteknisk roklub-",
          "portugal",
          "potsdam",
          "puerto rico",
          "pupilles de neptune de lille -",
          "pupilles de neptune de lille-",
          "qatar",
          "ralia",
          "romania",
          "romania-",
          "rowing club castillon-",
          "russia",
          "russia-",
          "sarcelle-",
          "saudi arabia",
          "scamasaxe-",
          "scotland-",
          "serbia",
          "serbia and montenegro",
          "shrew ii",
          "slovakia",
          "slovenia",
          "snap",
          "socit nautique de bayonne-",
          "socit nautique de la basse seine-",
          "sorais-",
          "south africa",
          "south korea",
          "south korea-",
          "soviet union",
          "soviet union-",
          "spain",
          "st. louis southwest turnverein -",
          "st. rose-",
          "starita",
          "stella-",
          "suriname",
          "sweden",
          "sweden-",
          "swedish star",
          "switzerland",
          "switzerland-",
          "sylvia",
          "syria",
          "tajikistan",
          "thailand",
          "thessalonki-",
          "togo",
          "toronto argonauts",
          "trinidad and tobago",
          "tunisia",
          "turkey",
          "turquoise-",
          "tutti v",
          "uganda",
          "ukraine",
          "ukraine-",
          "unified team",
          "unified team-",
          "united arab emirates",
          "united arab republic",
          "united states",
          "united states golf association-",
          "united states-",
          "united states/great britain",
          "univ. of brussels",
          "uruguay",
          "uzbekistan",
          "venezuela",
          "venilia",
          "wales-",
          "west germany",
          "west germany-",
          "west indies federation",
          "western rowing club-",
          "widgeon",
          "willem-six",
          "yugoslavia",
          "zambia",
          "zimbabwe"
         ],
         "type": "choropleth",
         "z": [
          4,
          2,
          8,
          5,
          4,
          5,
          3,
          91,
          6,
          9,
          5,
          511,
          2,
          2,
          150,
          6,
          25,
          1,
          4,
          13,
          1,
          3,
          1,
          71,
          154,
          5,
          2,
          2,
          9,
          1,
          3,
          3,
          10,
          2,
          4,
          185,
          6,
          144,
          3,
          9,
          1,
          408,
          12,
          4,
          6,
          20,
          268,
          24,
          18,
          2,
          1,
          14,
          2,
          1,
          5,
          37,
          116,
          60,
          6,
          182,
          162,
          4,
          1,
          1,
          2,
          1,
          263,
          18,
          12,
          1,
          2,
          20,
          22,
          2,
          6,
          415,
          1,
          577,
          17,
          1,
          7,
          2,
          18,
          6,
          678,
          33,
          22,
          5,
          572,
          22,
          62,
          2,
          3,
          1,
          3,
          3,
          5,
          7,
          3,
          1,
          2,
          365,
          6,
          2,
          2,
          40,
          3,
          9,
          4,
          29,
          1,
          13,
          7,
          484,
          18,
          44,
          357,
          8,
          32,
          31,
          3,
          5,
          2,
          2,
          9,
          4,
          1,
          2,
          7,
          5,
          48,
          5,
          5,
          1,
          3,
          3,
          2,
          2,
          17,
          4,
          1,
          5,
          51,
          1,
          9,
          11,
          12,
          5,
          1,
          14,
          12,
          1,
          5,
          390,
          2,
          82,
          1,
          46,
          4,
          33,
          2,
          281,
          5,
          34,
          2,
          7,
          7,
          9,
          253,
          5,
          24,
          1,
          6,
          8,
          4,
          4,
          5,
          290,
          2,
          3,
          393,
          8,
          3,
          5,
          2,
          11,
          41,
          26,
          2,
          13,
          27,
          3,
          8,
          3,
          5,
          52,
          159,
          26,
          677,
          12,
          136,
          5,
          12,
          2,
          3,
          1,
          507,
          2,
          2,
          231,
          34,
          6,
          1,
          2,
          13,
          11,
          1,
          9,
          17,
          7,
          28,
          1,
          5,
          2,
          98,
          2,
          79,
          2,
          1,
          1,
          1233,
          10,
          54,
          2,
          11,
          30,
          17,
          10,
          3,
          11,
          219,
          14,
          5,
          6,
          2,
          3,
          93,
          1,
          1
         ]
        }
       ],
       "layout": {
        "geo": {
         "projection": {
          "type": "natural earth"
         },
         "showcoastlines": true,
         "showframe": true,
         "showlakes": false
        },
        "template": {
         "data": {
          "bar": [
           {
            "error_x": {
             "color": "#2a3f5f"
            },
            "error_y": {
             "color": "#2a3f5f"
            },
            "marker": {
             "line": {
              "color": "#E5ECF6",
              "width": 0.5
             },
             "pattern": {
              "fillmode": "overlay",
              "size": 10,
              "solidity": 0.2
             }
            },
            "type": "bar"
           }
          ],
          "barpolar": [
           {
            "marker": {
             "line": {
              "color": "#E5ECF6",
              "width": 0.5
             },
             "pattern": {
              "fillmode": "overlay",
              "size": 10,
              "solidity": 0.2
             }
            },
            "type": "barpolar"
           }
          ],
          "carpet": [
           {
            "aaxis": {
             "endlinecolor": "#2a3f5f",
             "gridcolor": "white",
             "linecolor": "white",
             "minorgridcolor": "white",
             "startlinecolor": "#2a3f5f"
            },
            "baxis": {
             "endlinecolor": "#2a3f5f",
             "gridcolor": "white",
             "linecolor": "white",
             "minorgridcolor": "white",
             "startlinecolor": "#2a3f5f"
            },
            "type": "carpet"
           }
          ],
          "choropleth": [
           {
            "colorbar": {
             "outlinewidth": 0,
             "ticks": ""
            },
            "type": "choropleth"
           }
          ],
          "contour": [
           {
            "colorbar": {
             "outlinewidth": 0,
             "ticks": ""
            },
            "colorscale": [
             [
              0,
              "#0d0887"
             ],
             [
              0.1111111111111111,
              "#46039f"
             ],
             [
              0.2222222222222222,
              "#7201a8"
             ],
             [
              0.3333333333333333,
              "#9c179e"
             ],
             [
              0.4444444444444444,
              "#bd3786"
             ],
             [
              0.5555555555555556,
              "#d8576b"
             ],
             [
              0.6666666666666666,
              "#ed7953"
             ],
             [
              0.7777777777777778,
              "#fb9f3a"
             ],
             [
              0.8888888888888888,
              "#fdca26"
             ],
             [
              1,
              "#f0f921"
             ]
            ],
            "type": "contour"
           }
          ],
          "contourcarpet": [
           {
            "colorbar": {
             "outlinewidth": 0,
             "ticks": ""
            },
            "type": "contourcarpet"
           }
          ],
          "heatmap": [
           {
            "colorbar": {
             "outlinewidth": 0,
             "ticks": ""
            },
            "colorscale": [
             [
              0,
              "#0d0887"
             ],
             [
              0.1111111111111111,
              "#46039f"
             ],
             [
              0.2222222222222222,
              "#7201a8"
             ],
             [
              0.3333333333333333,
              "#9c179e"
             ],
             [
              0.4444444444444444,
              "#bd3786"
             ],
             [
              0.5555555555555556,
              "#d8576b"
             ],
             [
              0.6666666666666666,
              "#ed7953"
             ],
             [
              0.7777777777777778,
              "#fb9f3a"
             ],
             [
              0.8888888888888888,
              "#fdca26"
             ],
             [
              1,
              "#f0f921"
             ]
            ],
            "type": "heatmap"
           }
          ],
          "heatmapgl": [
           {
            "colorbar": {
             "outlinewidth": 0,
             "ticks": ""
            },
            "colorscale": [
             [
              0,
              "#0d0887"
             ],
             [
              0.1111111111111111,
              "#46039f"
             ],
             [
              0.2222222222222222,
              "#7201a8"
             ],
             [
              0.3333333333333333,
              "#9c179e"
             ],
             [
              0.4444444444444444,
              "#bd3786"
             ],
             [
              0.5555555555555556,
              "#d8576b"
             ],
             [
              0.6666666666666666,
              "#ed7953"
             ],
             [
              0.7777777777777778,
              "#fb9f3a"
             ],
             [
              0.8888888888888888,
              "#fdca26"
             ],
             [
              1,
              "#f0f921"
             ]
            ],
            "type": "heatmapgl"
           }
          ],
          "histogram": [
           {
            "marker": {
             "pattern": {
              "fillmode": "overlay",
              "size": 10,
              "solidity": 0.2
             }
            },
            "type": "histogram"
           }
          ],
          "histogram2d": [
           {
            "colorbar": {
             "outlinewidth": 0,
             "ticks": ""
            },
            "colorscale": [
             [
              0,
              "#0d0887"
             ],
             [
              0.1111111111111111,
              "#46039f"
             ],
             [
              0.2222222222222222,
              "#7201a8"
             ],
             [
              0.3333333333333333,
              "#9c179e"
             ],
             [
              0.4444444444444444,
              "#bd3786"
             ],
             [
              0.5555555555555556,
              "#d8576b"
             ],
             [
              0.6666666666666666,
              "#ed7953"
             ],
             [
              0.7777777777777778,
              "#fb9f3a"
             ],
             [
              0.8888888888888888,
              "#fdca26"
             ],
             [
              1,
              "#f0f921"
             ]
            ],
            "type": "histogram2d"
           }
          ],
          "histogram2dcontour": [
           {
            "colorbar": {
             "outlinewidth": 0,
             "ticks": ""
            },
            "colorscale": [
             [
              0,
              "#0d0887"
             ],
             [
              0.1111111111111111,
              "#46039f"
             ],
             [
              0.2222222222222222,
              "#7201a8"
             ],
             [
              0.3333333333333333,
              "#9c179e"
             ],
             [
              0.4444444444444444,
              "#bd3786"
             ],
             [
              0.5555555555555556,
              "#d8576b"
             ],
             [
              0.6666666666666666,
              "#ed7953"
             ],
             [
              0.7777777777777778,
              "#fb9f3a"
             ],
             [
              0.8888888888888888,
              "#fdca26"
             ],
             [
              1,
              "#f0f921"
             ]
            ],
            "type": "histogram2dcontour"
           }
          ],
          "mesh3d": [
           {
            "colorbar": {
             "outlinewidth": 0,
             "ticks": ""
            },
            "type": "mesh3d"
           }
          ],
          "parcoords": [
           {
            "line": {
             "colorbar": {
              "outlinewidth": 0,
              "ticks": ""
             }
            },
            "type": "parcoords"
           }
          ],
          "pie": [
           {
            "automargin": true,
            "type": "pie"
           }
          ],
          "scatter": [
           {
            "fillpattern": {
             "fillmode": "overlay",
             "size": 10,
             "solidity": 0.2
            },
            "type": "scatter"
           }
          ],
          "scatter3d": [
           {
            "line": {
             "colorbar": {
              "outlinewidth": 0,
              "ticks": ""
             }
            },
            "marker": {
             "colorbar": {
              "outlinewidth": 0,
              "ticks": ""
             }
            },
            "type": "scatter3d"
           }
          ],
          "scattercarpet": [
           {
            "marker": {
             "colorbar": {
              "outlinewidth": 0,
              "ticks": ""
             }
            },
            "type": "scattercarpet"
           }
          ],
          "scattergeo": [
           {
            "marker": {
             "colorbar": {
              "outlinewidth": 0,
              "ticks": ""
             }
            },
            "type": "scattergeo"
           }
          ],
          "scattergl": [
           {
            "marker": {
             "colorbar": {
              "outlinewidth": 0,
              "ticks": ""
             }
            },
            "type": "scattergl"
           }
          ],
          "scattermapbox": [
           {
            "marker": {
             "colorbar": {
              "outlinewidth": 0,
              "ticks": ""
             }
            },
            "type": "scattermapbox"
           }
          ],
          "scatterpolar": [
           {
            "marker": {
             "colorbar": {
              "outlinewidth": 0,
              "ticks": ""
             }
            },
            "type": "scatterpolar"
           }
          ],
          "scatterpolargl": [
           {
            "marker": {
             "colorbar": {
              "outlinewidth": 0,
              "ticks": ""
             }
            },
            "type": "scatterpolargl"
           }
          ],
          "scatterternary": [
           {
            "marker": {
             "colorbar": {
              "outlinewidth": 0,
              "ticks": ""
             }
            },
            "type": "scatterternary"
           }
          ],
          "surface": [
           {
            "colorbar": {
             "outlinewidth": 0,
             "ticks": ""
            },
            "colorscale": [
             [
              0,
              "#0d0887"
             ],
             [
              0.1111111111111111,
              "#46039f"
             ],
             [
              0.2222222222222222,
              "#7201a8"
             ],
             [
              0.3333333333333333,
              "#9c179e"
             ],
             [
              0.4444444444444444,
              "#bd3786"
             ],
             [
              0.5555555555555556,
              "#d8576b"
             ],
             [
              0.6666666666666666,
              "#ed7953"
             ],
             [
              0.7777777777777778,
              "#fb9f3a"
             ],
             [
              0.8888888888888888,
              "#fdca26"
             ],
             [
              1,
              "#f0f921"
             ]
            ],
            "type": "surface"
           }
          ],
          "table": [
           {
            "cells": {
             "fill": {
              "color": "#EBF0F8"
             },
             "line": {
              "color": "white"
             }
            },
            "header": {
             "fill": {
              "color": "#C8D4E3"
             },
             "line": {
              "color": "white"
             }
            },
            "type": "table"
           }
          ]
         },
         "layout": {
          "annotationdefaults": {
           "arrowcolor": "#2a3f5f",
           "arrowhead": 0,
           "arrowwidth": 1
          },
          "autotypenumbers": "strict",
          "coloraxis": {
           "colorbar": {
            "outlinewidth": 0,
            "ticks": ""
           }
          },
          "colorscale": {
           "diverging": [
            [
             0,
             "#8e0152"
            ],
            [
             0.1,
             "#c51b7d"
            ],
            [
             0.2,
             "#de77ae"
            ],
            [
             0.3,
             "#f1b6da"
            ],
            [
             0.4,
             "#fde0ef"
            ],
            [
             0.5,
             "#f7f7f7"
            ],
            [
             0.6,
             "#e6f5d0"
            ],
            [
             0.7,
             "#b8e186"
            ],
            [
             0.8,
             "#7fbc41"
            ],
            [
             0.9,
             "#4d9221"
            ],
            [
             1,
             "#276419"
            ]
           ],
           "sequential": [
            [
             0,
             "#0d0887"
            ],
            [
             0.1111111111111111,
             "#46039f"
            ],
            [
             0.2222222222222222,
             "#7201a8"
            ],
            [
             0.3333333333333333,
             "#9c179e"
            ],
            [
             0.4444444444444444,
             "#bd3786"
            ],
            [
             0.5555555555555556,
             "#d8576b"
            ],
            [
             0.6666666666666666,
             "#ed7953"
            ],
            [
             0.7777777777777778,
             "#fb9f3a"
            ],
            [
             0.8888888888888888,
             "#fdca26"
            ],
            [
             1,
             "#f0f921"
            ]
           ],
           "sequentialminus": [
            [
             0,
             "#0d0887"
            ],
            [
             0.1111111111111111,
             "#46039f"
            ],
            [
             0.2222222222222222,
             "#7201a8"
            ],
            [
             0.3333333333333333,
             "#9c179e"
            ],
            [
             0.4444444444444444,
             "#bd3786"
            ],
            [
             0.5555555555555556,
             "#d8576b"
            ],
            [
             0.6666666666666666,
             "#ed7953"
            ],
            [
             0.7777777777777778,
             "#fb9f3a"
            ],
            [
             0.8888888888888888,
             "#fdca26"
            ],
            [
             1,
             "#f0f921"
            ]
           ]
          },
          "colorway": [
           "#636efa",
           "#EF553B",
           "#00cc96",
           "#ab63fa",
           "#FFA15A",
           "#19d3f3",
           "#FF6692",
           "#B6E880",
           "#FF97FF",
           "#FECB52"
          ],
          "font": {
           "color": "#2a3f5f"
          },
          "geo": {
           "bgcolor": "white",
           "lakecolor": "white",
           "landcolor": "#E5ECF6",
           "showlakes": true,
           "showland": true,
           "subunitcolor": "white"
          },
          "hoverlabel": {
           "align": "left"
          },
          "hovermode": "closest",
          "mapbox": {
           "style": "light"
          },
          "paper_bgcolor": "white",
          "plot_bgcolor": "#E5ECF6",
          "polar": {
           "angularaxis": {
            "gridcolor": "white",
            "linecolor": "white",
            "ticks": ""
           },
           "bgcolor": "#E5ECF6",
           "radialaxis": {
            "gridcolor": "white",
            "linecolor": "white",
            "ticks": ""
           }
          },
          "scene": {
           "xaxis": {
            "backgroundcolor": "#E5ECF6",
            "gridcolor": "white",
            "gridwidth": 2,
            "linecolor": "white",
            "showbackground": true,
            "ticks": "",
            "zerolinecolor": "white"
           },
           "yaxis": {
            "backgroundcolor": "#E5ECF6",
            "gridcolor": "white",
            "gridwidth": 2,
            "linecolor": "white",
            "showbackground": true,
            "ticks": "",
            "zerolinecolor": "white"
           },
           "zaxis": {
            "backgroundcolor": "#E5ECF6",
            "gridcolor": "white",
            "gridwidth": 2,
            "linecolor": "white",
            "showbackground": true,
            "ticks": "",
            "zerolinecolor": "white"
           }
          },
          "shapedefaults": {
           "line": {
            "color": "#2a3f5f"
           }
          },
          "ternary": {
           "aaxis": {
            "gridcolor": "white",
            "linecolor": "white",
            "ticks": ""
           },
           "baxis": {
            "gridcolor": "white",
            "linecolor": "white",
            "ticks": ""
           },
           "bgcolor": "#E5ECF6",
           "caxis": {
            "gridcolor": "white",
            "linecolor": "white",
            "ticks": ""
           }
          },
          "title": {
           "x": 0.05
          },
          "xaxis": {
           "automargin": true,
           "gridcolor": "white",
           "linecolor": "white",
           "ticks": "",
           "title": {
            "standoff": 15
           },
           "zerolinecolor": "white",
           "zerolinewidth": 2
          },
          "yaxis": {
           "automargin": true,
           "gridcolor": "white",
           "linecolor": "white",
           "ticks": "",
           "title": {
            "standoff": 15
           },
           "zerolinecolor": "white",
           "zerolinewidth": 2
          }
         }
        },
        "title": {
         "text": "Countries with Bronze Medals"
        }
       }
      },
      "text/html": [
       "<div>                            <div id=\"5d01435c-16fa-4c3f-a325-0378cd2830b8\" class=\"plotly-graph-div\" style=\"height:525px; width:100%;\"></div>            <script type=\"text/javascript\">                require([\"plotly\"], function(Plotly) {                    window.PLOTLYENV=window.PLOTLYENV || {};                                    if (document.getElementById(\"5d01435c-16fa-4c3f-a325-0378cd2830b8\")) {                    Plotly.newPlot(                        \"5d01435c-16fa-4c3f-a325-0378cd2830b8\",                        [{\"autocolorscale\":false,\"colorbar\":{\"tickprefix\":\"\",\"title\":{\"text\":\"Medals\"}},\"colorscale\":[[0.0,\"rgb(255,245,240)\"],[0.125,\"rgb(254,224,210)\"],[0.25,\"rgb(252,187,161)\"],[0.375,\"rgb(252,146,114)\"],[0.5,\"rgb(251,106,74)\"],[0.625,\"rgb(239,59,44)\"],[0.75,\"rgb(203,24,29)\"],[0.875,\"rgb(165,15,21)\"],[1.0,\"rgb(103,0,13)\"]],\"locationmode\":\"country names\",\"locations\":[\"a north american team\",\"afghanistan\",\"algeria\",\"ali-baba ii\",\"amstel amsterdam\",\"antwerpia v\",\"aphrodite\",\"argentina\",\"argonaut rowing club\",\"armenia\",\"australasia\",\"australia\",\"australia-\",\"australia/great britain\",\"austria\",\"austria-\",\"azerbaijan\",\"baby-\",\"bagatelle polo club paris\",\"bahamas\",\"bahrain\",\"ballerina iv\",\"barbados\",\"belarus\",\"belgium\",\"belgium-\",\"bem ii\",\"berliner ruderclub\",\"berliner ruderverein von -\",\"bermuda\",\"bingo\",\"bluebottle\",\"bohemia\",\"bohemia/great britain\",\"boston archers\",\"brazil\",\"brazil-\",\"bulgaria\",\"buraddoo\",\"cambridge university boat club-\",\"cameroon\",\"canada\",\"canada-\",\"caprice\",\"central turnverein chicago\",\"chile\",\"china\",\"china-\",\"chinese taipei\",\"chuckles\",\"clearwater\",\"colombia\",\"costa rica\",\"cote d'ivoire\",\"crabe ii-\",\"croatia\",\"cuba\",\"czech republic\",\"czech republic-\",\"czechoslovakia\",\"denmark\",\"denmark-\",\"digby\",\"djibouti\",\"dominican republic\",\"don schufro\",\"east germany\",\"east germany-\",\"egypt\",\"eritrea\",\"espadarte\",\"estonia\",\"ethiopia\",\"ethnikos gymnastikos syllogos\",\"favorite hammonia-\",\"finland\",\"formosa\",\"france\",\"france-\",\"frimousse\",\"gallia ii\",\"gem iv\",\"georgia\",\"germania ii\",\"germany\",\"germany-\",\"ghana\",\"gitana-\",\"great britain\",\"great britain-\",\"greece\",\"greece-\",\"gustel x\",\"guyana\",\"guyoni\",\"gwendoline-\",\"haiti\",\"heatherbell\",\"hojwa\",\"hong kong\",\"humbug v\",\"hungary\",\"hungary-\",\"iceland\",\"independent rowing club-\",\"india\",\"individual olympic athletes\",\"indonesia\",\"indonesia-\",\"iran\",\"iraq\",\"ireland\",\"israel\",\"italy\",\"italy-\",\"jamaica\",\"japan\",\"k division metropolitan police team-\",\"kazakhstan\",\"kenya\",\"kerstin-\",\"kristiania roklub-\",\"kuwait\",\"kyrgyzstan\",\"latvia\",\"latvia-\",\"laurea-\",\"lebanon\",\"libellule de paris\",\"liechtenstein\",\"lithuania\",\"lucky girl-\",\"ludwigshafener ruder verein-\",\"macedonia\",\"macky vi\",\"malaysia\",\"malaysia-\",\"margaret\",\"marinai della nave da guerra \\\"varese\\\"\",\"martha-\",\"mauritius\",\"may be\",\"mexico\",\"mignon-\",\"minerva amsterdam\",\"missouri athletic club-\",\"mohawk indians-\",\"moldova\",\"monaco\",\"mongolia\",\"morocco\",\"mozambique\",\"namoussa\",\"netherlands\",\"netherlands-\",\"new zealand\",\"niger\",\"nigeria\",\"nina claire-\",\"north korea\",\"north korea-\",\"norway\",\"ormsund roklub-\",\"pakistan\",\"panama\",\"phalainis ton thorichtou \\\"hydra\\\"-\",\"philippines\",\"pistoja/firenze\",\"poland\",\"polyteknisk roklub-\",\"portugal\",\"potsdam\",\"puerto rico\",\"pupilles de neptune de lille -\",\"pupilles de neptune de lille-\",\"qatar\",\"ralia\",\"romania\",\"romania-\",\"rowing club castillon-\",\"russia\",\"russia-\",\"sarcelle-\",\"saudi arabia\",\"scamasaxe-\",\"scotland-\",\"serbia\",\"serbia and montenegro\",\"shrew ii\",\"slovakia\",\"slovenia\",\"snap\",\"socit nautique de bayonne-\",\"socit nautique de la basse seine-\",\"sorais-\",\"south africa\",\"south korea\",\"south korea-\",\"soviet union\",\"soviet union-\",\"spain\",\"st. louis southwest turnverein -\",\"st. rose-\",\"starita\",\"stella-\",\"suriname\",\"sweden\",\"sweden-\",\"swedish star\",\"switzerland\",\"switzerland-\",\"sylvia\",\"syria\",\"tajikistan\",\"thailand\",\"thessalonki-\",\"togo\",\"toronto argonauts\",\"trinidad and tobago\",\"tunisia\",\"turkey\",\"turquoise-\",\"tutti v\",\"uganda\",\"ukraine\",\"ukraine-\",\"unified team\",\"unified team-\",\"united arab emirates\",\"united arab republic\",\"united states\",\"united states golf association-\",\"united states-\",\"united states/great britain\",\"univ. of brussels\",\"uruguay\",\"uzbekistan\",\"venezuela\",\"venilia\",\"wales-\",\"west germany\",\"west germany-\",\"west indies federation\",\"western rowing club-\",\"widgeon\",\"willem-six\",\"yugoslavia\",\"zambia\",\"zimbabwe\"],\"marker\":{\"line\":{\"color\":\"rgb(0,0,0)\",\"width\":0.5}},\"reversescale\":true,\"text\":[\"a north american team\",\"afghanistan\",\"algeria\",\"ali-baba ii\",\"amstel amsterdam\",\"antwerpia v\",\"aphrodite\",\"argentina\",\"argonaut rowing club\",\"armenia\",\"australasia\",\"australia\",\"australia-\",\"australia/great britain\",\"austria\",\"austria-\",\"azerbaijan\",\"baby-\",\"bagatelle polo club paris\",\"bahamas\",\"bahrain\",\"ballerina iv\",\"barbados\",\"belarus\",\"belgium\",\"belgium-\",\"bem ii\",\"berliner ruderclub\",\"berliner ruderverein von -\",\"bermuda\",\"bingo\",\"bluebottle\",\"bohemia\",\"bohemia/great britain\",\"boston archers\",\"brazil\",\"brazil-\",\"bulgaria\",\"buraddoo\",\"cambridge university boat club-\",\"cameroon\",\"canada\",\"canada-\",\"caprice\",\"central turnverein chicago\",\"chile\",\"china\",\"china-\",\"chinese taipei\",\"chuckles\",\"clearwater\",\"colombia\",\"costa rica\",\"cote d'ivoire\",\"crabe ii-\",\"croatia\",\"cuba\",\"czech republic\",\"czech republic-\",\"czechoslovakia\",\"denmark\",\"denmark-\",\"digby\",\"djibouti\",\"dominican republic\",\"don schufro\",\"east germany\",\"east germany-\",\"egypt\",\"eritrea\",\"espadarte\",\"estonia\",\"ethiopia\",\"ethnikos gymnastikos syllogos\",\"favorite hammonia-\",\"finland\",\"formosa\",\"france\",\"france-\",\"frimousse\",\"gallia ii\",\"gem iv\",\"georgia\",\"germania ii\",\"germany\",\"germany-\",\"ghana\",\"gitana-\",\"great britain\",\"great britain-\",\"greece\",\"greece-\",\"gustel x\",\"guyana\",\"guyoni\",\"gwendoline-\",\"haiti\",\"heatherbell\",\"hojwa\",\"hong kong\",\"humbug v\",\"hungary\",\"hungary-\",\"iceland\",\"independent rowing club-\",\"india\",\"individual olympic athletes\",\"indonesia\",\"indonesia-\",\"iran\",\"iraq\",\"ireland\",\"israel\",\"italy\",\"italy-\",\"jamaica\",\"japan\",\"k division metropolitan police team-\",\"kazakhstan\",\"kenya\",\"kerstin-\",\"kristiania roklub-\",\"kuwait\",\"kyrgyzstan\",\"latvia\",\"latvia-\",\"laurea-\",\"lebanon\",\"libellule de paris\",\"liechtenstein\",\"lithuania\",\"lucky girl-\",\"ludwigshafener ruder verein-\",\"macedonia\",\"macky vi\",\"malaysia\",\"malaysia-\",\"margaret\",\"marinai della nave da guerra \\\"varese\\\"\",\"martha-\",\"mauritius\",\"may be\",\"mexico\",\"mignon-\",\"minerva amsterdam\",\"missouri athletic club-\",\"mohawk indians-\",\"moldova\",\"monaco\",\"mongolia\",\"morocco\",\"mozambique\",\"namoussa\",\"netherlands\",\"netherlands-\",\"new zealand\",\"niger\",\"nigeria\",\"nina claire-\",\"north korea\",\"north korea-\",\"norway\",\"ormsund roklub-\",\"pakistan\",\"panama\",\"phalainis ton thorichtou \\\"hydra\\\"-\",\"philippines\",\"pistoja/firenze\",\"poland\",\"polyteknisk roklub-\",\"portugal\",\"potsdam\",\"puerto rico\",\"pupilles de neptune de lille -\",\"pupilles de neptune de lille-\",\"qatar\",\"ralia\",\"romania\",\"romania-\",\"rowing club castillon-\",\"russia\",\"russia-\",\"sarcelle-\",\"saudi arabia\",\"scamasaxe-\",\"scotland-\",\"serbia\",\"serbia and montenegro\",\"shrew ii\",\"slovakia\",\"slovenia\",\"snap\",\"socit nautique de bayonne-\",\"socit nautique de la basse seine-\",\"sorais-\",\"south africa\",\"south korea\",\"south korea-\",\"soviet union\",\"soviet union-\",\"spain\",\"st. louis southwest turnverein -\",\"st. rose-\",\"starita\",\"stella-\",\"suriname\",\"sweden\",\"sweden-\",\"swedish star\",\"switzerland\",\"switzerland-\",\"sylvia\",\"syria\",\"tajikistan\",\"thailand\",\"thessalonki-\",\"togo\",\"toronto argonauts\",\"trinidad and tobago\",\"tunisia\",\"turkey\",\"turquoise-\",\"tutti v\",\"uganda\",\"ukraine\",\"ukraine-\",\"unified team\",\"unified team-\",\"united arab emirates\",\"united arab republic\",\"united states\",\"united states golf association-\",\"united states-\",\"united states/great britain\",\"univ. of brussels\",\"uruguay\",\"uzbekistan\",\"venezuela\",\"venilia\",\"wales-\",\"west germany\",\"west germany-\",\"west indies federation\",\"western rowing club-\",\"widgeon\",\"willem-six\",\"yugoslavia\",\"zambia\",\"zimbabwe\"],\"z\":[4,2,8,5,4,5,3,91,6,9,5,511,2,2,150,6,25,1,4,13,1,3,1,71,154,5,2,2,9,1,3,3,10,2,4,185,6,144,3,9,1,408,12,4,6,20,268,24,18,2,1,14,2,1,5,37,116,60,6,182,162,4,1,1,2,1,263,18,12,1,2,20,22,2,6,415,1,577,17,1,7,2,18,6,678,33,22,5,572,22,62,2,3,1,3,3,5,7,3,1,2,365,6,2,2,40,3,9,4,29,1,13,7,484,18,44,357,8,32,31,3,5,2,2,9,4,1,2,7,5,48,5,5,1,3,3,2,2,17,4,1,5,51,1,9,11,12,5,1,14,12,1,5,390,2,82,1,46,4,33,2,281,5,34,2,7,7,9,253,5,24,1,6,8,4,4,5,290,2,3,393,8,3,5,2,11,41,26,2,13,27,3,8,3,5,52,159,26,677,12,136,5,12,2,3,1,507,2,2,231,34,6,1,2,13,11,1,9,17,7,28,1,5,2,98,2,79,2,1,1,1233,10,54,2,11,30,17,10,3,11,219,14,5,6,2,3,93,1,1],\"type\":\"choropleth\"}],                        {\"geo\":{\"projection\":{\"type\":\"natural earth\"},\"showcoastlines\":true,\"showframe\":true,\"showlakes\":false},\"template\":{\"data\":{\"barpolar\":[{\"marker\":{\"line\":{\"color\":\"#E5ECF6\",\"width\":0.5},\"pattern\":{\"fillmode\":\"overlay\",\"size\":10,\"solidity\":0.2}},\"type\":\"barpolar\"}],\"bar\":[{\"error_x\":{\"color\":\"#2a3f5f\"},\"error_y\":{\"color\":\"#2a3f5f\"},\"marker\":{\"line\":{\"color\":\"#E5ECF6\",\"width\":0.5},\"pattern\":{\"fillmode\":\"overlay\",\"size\":10,\"solidity\":0.2}},\"type\":\"bar\"}],\"carpet\":[{\"aaxis\":{\"endlinecolor\":\"#2a3f5f\",\"gridcolor\":\"white\",\"linecolor\":\"white\",\"minorgridcolor\":\"white\",\"startlinecolor\":\"#2a3f5f\"},\"baxis\":{\"endlinecolor\":\"#2a3f5f\",\"gridcolor\":\"white\",\"linecolor\":\"white\",\"minorgridcolor\":\"white\",\"startlinecolor\":\"#2a3f5f\"},\"type\":\"carpet\"}],\"choropleth\":[{\"colorbar\":{\"outlinewidth\":0,\"ticks\":\"\"},\"type\":\"choropleth\"}],\"contourcarpet\":[{\"colorbar\":{\"outlinewidth\":0,\"ticks\":\"\"},\"type\":\"contourcarpet\"}],\"contour\":[{\"colorbar\":{\"outlinewidth\":0,\"ticks\":\"\"},\"colorscale\":[[0.0,\"#0d0887\"],[0.1111111111111111,\"#46039f\"],[0.2222222222222222,\"#7201a8\"],[0.3333333333333333,\"#9c179e\"],[0.4444444444444444,\"#bd3786\"],[0.5555555555555556,\"#d8576b\"],[0.6666666666666666,\"#ed7953\"],[0.7777777777777778,\"#fb9f3a\"],[0.8888888888888888,\"#fdca26\"],[1.0,\"#f0f921\"]],\"type\":\"contour\"}],\"heatmapgl\":[{\"colorbar\":{\"outlinewidth\":0,\"ticks\":\"\"},\"colorscale\":[[0.0,\"#0d0887\"],[0.1111111111111111,\"#46039f\"],[0.2222222222222222,\"#7201a8\"],[0.3333333333333333,\"#9c179e\"],[0.4444444444444444,\"#bd3786\"],[0.5555555555555556,\"#d8576b\"],[0.6666666666666666,\"#ed7953\"],[0.7777777777777778,\"#fb9f3a\"],[0.8888888888888888,\"#fdca26\"],[1.0,\"#f0f921\"]],\"type\":\"heatmapgl\"}],\"heatmap\":[{\"colorbar\":{\"outlinewidth\":0,\"ticks\":\"\"},\"colorscale\":[[0.0,\"#0d0887\"],[0.1111111111111111,\"#46039f\"],[0.2222222222222222,\"#7201a8\"],[0.3333333333333333,\"#9c179e\"],[0.4444444444444444,\"#bd3786\"],[0.5555555555555556,\"#d8576b\"],[0.6666666666666666,\"#ed7953\"],[0.7777777777777778,\"#fb9f3a\"],[0.8888888888888888,\"#fdca26\"],[1.0,\"#f0f921\"]],\"type\":\"heatmap\"}],\"histogram2dcontour\":[{\"colorbar\":{\"outlinewidth\":0,\"ticks\":\"\"},\"colorscale\":[[0.0,\"#0d0887\"],[0.1111111111111111,\"#46039f\"],[0.2222222222222222,\"#7201a8\"],[0.3333333333333333,\"#9c179e\"],[0.4444444444444444,\"#bd3786\"],[0.5555555555555556,\"#d8576b\"],[0.6666666666666666,\"#ed7953\"],[0.7777777777777778,\"#fb9f3a\"],[0.8888888888888888,\"#fdca26\"],[1.0,\"#f0f921\"]],\"type\":\"histogram2dcontour\"}],\"histogram2d\":[{\"colorbar\":{\"outlinewidth\":0,\"ticks\":\"\"},\"colorscale\":[[0.0,\"#0d0887\"],[0.1111111111111111,\"#46039f\"],[0.2222222222222222,\"#7201a8\"],[0.3333333333333333,\"#9c179e\"],[0.4444444444444444,\"#bd3786\"],[0.5555555555555556,\"#d8576b\"],[0.6666666666666666,\"#ed7953\"],[0.7777777777777778,\"#fb9f3a\"],[0.8888888888888888,\"#fdca26\"],[1.0,\"#f0f921\"]],\"type\":\"histogram2d\"}],\"histogram\":[{\"marker\":{\"pattern\":{\"fillmode\":\"overlay\",\"size\":10,\"solidity\":0.2}},\"type\":\"histogram\"}],\"mesh3d\":[{\"colorbar\":{\"outlinewidth\":0,\"ticks\":\"\"},\"type\":\"mesh3d\"}],\"parcoords\":[{\"line\":{\"colorbar\":{\"outlinewidth\":0,\"ticks\":\"\"}},\"type\":\"parcoords\"}],\"pie\":[{\"automargin\":true,\"type\":\"pie\"}],\"scatter3d\":[{\"line\":{\"colorbar\":{\"outlinewidth\":0,\"ticks\":\"\"}},\"marker\":{\"colorbar\":{\"outlinewidth\":0,\"ticks\":\"\"}},\"type\":\"scatter3d\"}],\"scattercarpet\":[{\"marker\":{\"colorbar\":{\"outlinewidth\":0,\"ticks\":\"\"}},\"type\":\"scattercarpet\"}],\"scattergeo\":[{\"marker\":{\"colorbar\":{\"outlinewidth\":0,\"ticks\":\"\"}},\"type\":\"scattergeo\"}],\"scattergl\":[{\"marker\":{\"colorbar\":{\"outlinewidth\":0,\"ticks\":\"\"}},\"type\":\"scattergl\"}],\"scattermapbox\":[{\"marker\":{\"colorbar\":{\"outlinewidth\":0,\"ticks\":\"\"}},\"type\":\"scattermapbox\"}],\"scatterpolargl\":[{\"marker\":{\"colorbar\":{\"outlinewidth\":0,\"ticks\":\"\"}},\"type\":\"scatterpolargl\"}],\"scatterpolar\":[{\"marker\":{\"colorbar\":{\"outlinewidth\":0,\"ticks\":\"\"}},\"type\":\"scatterpolar\"}],\"scatter\":[{\"fillpattern\":{\"fillmode\":\"overlay\",\"size\":10,\"solidity\":0.2},\"type\":\"scatter\"}],\"scatterternary\":[{\"marker\":{\"colorbar\":{\"outlinewidth\":0,\"ticks\":\"\"}},\"type\":\"scatterternary\"}],\"surface\":[{\"colorbar\":{\"outlinewidth\":0,\"ticks\":\"\"},\"colorscale\":[[0.0,\"#0d0887\"],[0.1111111111111111,\"#46039f\"],[0.2222222222222222,\"#7201a8\"],[0.3333333333333333,\"#9c179e\"],[0.4444444444444444,\"#bd3786\"],[0.5555555555555556,\"#d8576b\"],[0.6666666666666666,\"#ed7953\"],[0.7777777777777778,\"#fb9f3a\"],[0.8888888888888888,\"#fdca26\"],[1.0,\"#f0f921\"]],\"type\":\"surface\"}],\"table\":[{\"cells\":{\"fill\":{\"color\":\"#EBF0F8\"},\"line\":{\"color\":\"white\"}},\"header\":{\"fill\":{\"color\":\"#C8D4E3\"},\"line\":{\"color\":\"white\"}},\"type\":\"table\"}]},\"layout\":{\"annotationdefaults\":{\"arrowcolor\":\"#2a3f5f\",\"arrowhead\":0,\"arrowwidth\":1},\"autotypenumbers\":\"strict\",\"coloraxis\":{\"colorbar\":{\"outlinewidth\":0,\"ticks\":\"\"}},\"colorscale\":{\"diverging\":[[0,\"#8e0152\"],[0.1,\"#c51b7d\"],[0.2,\"#de77ae\"],[0.3,\"#f1b6da\"],[0.4,\"#fde0ef\"],[0.5,\"#f7f7f7\"],[0.6,\"#e6f5d0\"],[0.7,\"#b8e186\"],[0.8,\"#7fbc41\"],[0.9,\"#4d9221\"],[1,\"#276419\"]],\"sequential\":[[0.0,\"#0d0887\"],[0.1111111111111111,\"#46039f\"],[0.2222222222222222,\"#7201a8\"],[0.3333333333333333,\"#9c179e\"],[0.4444444444444444,\"#bd3786\"],[0.5555555555555556,\"#d8576b\"],[0.6666666666666666,\"#ed7953\"],[0.7777777777777778,\"#fb9f3a\"],[0.8888888888888888,\"#fdca26\"],[1.0,\"#f0f921\"]],\"sequentialminus\":[[0.0,\"#0d0887\"],[0.1111111111111111,\"#46039f\"],[0.2222222222222222,\"#7201a8\"],[0.3333333333333333,\"#9c179e\"],[0.4444444444444444,\"#bd3786\"],[0.5555555555555556,\"#d8576b\"],[0.6666666666666666,\"#ed7953\"],[0.7777777777777778,\"#fb9f3a\"],[0.8888888888888888,\"#fdca26\"],[1.0,\"#f0f921\"]]},\"colorway\":[\"#636efa\",\"#EF553B\",\"#00cc96\",\"#ab63fa\",\"#FFA15A\",\"#19d3f3\",\"#FF6692\",\"#B6E880\",\"#FF97FF\",\"#FECB52\"],\"font\":{\"color\":\"#2a3f5f\"},\"geo\":{\"bgcolor\":\"white\",\"lakecolor\":\"white\",\"landcolor\":\"#E5ECF6\",\"showlakes\":true,\"showland\":true,\"subunitcolor\":\"white\"},\"hoverlabel\":{\"align\":\"left\"},\"hovermode\":\"closest\",\"mapbox\":{\"style\":\"light\"},\"paper_bgcolor\":\"white\",\"plot_bgcolor\":\"#E5ECF6\",\"polar\":{\"angularaxis\":{\"gridcolor\":\"white\",\"linecolor\":\"white\",\"ticks\":\"\"},\"bgcolor\":\"#E5ECF6\",\"radialaxis\":{\"gridcolor\":\"white\",\"linecolor\":\"white\",\"ticks\":\"\"}},\"scene\":{\"xaxis\":{\"backgroundcolor\":\"#E5ECF6\",\"gridcolor\":\"white\",\"gridwidth\":2,\"linecolor\":\"white\",\"showbackground\":true,\"ticks\":\"\",\"zerolinecolor\":\"white\"},\"yaxis\":{\"backgroundcolor\":\"#E5ECF6\",\"gridcolor\":\"white\",\"gridwidth\":2,\"linecolor\":\"white\",\"showbackground\":true,\"ticks\":\"\",\"zerolinecolor\":\"white\"},\"zaxis\":{\"backgroundcolor\":\"#E5ECF6\",\"gridcolor\":\"white\",\"gridwidth\":2,\"linecolor\":\"white\",\"showbackground\":true,\"ticks\":\"\",\"zerolinecolor\":\"white\"}},\"shapedefaults\":{\"line\":{\"color\":\"#2a3f5f\"}},\"ternary\":{\"aaxis\":{\"gridcolor\":\"white\",\"linecolor\":\"white\",\"ticks\":\"\"},\"baxis\":{\"gridcolor\":\"white\",\"linecolor\":\"white\",\"ticks\":\"\"},\"bgcolor\":\"#E5ECF6\",\"caxis\":{\"gridcolor\":\"white\",\"linecolor\":\"white\",\"ticks\":\"\"}},\"title\":{\"x\":0.05},\"xaxis\":{\"automargin\":true,\"gridcolor\":\"white\",\"linecolor\":\"white\",\"ticks\":\"\",\"title\":{\"standoff\":15},\"zerolinecolor\":\"white\",\"zerolinewidth\":2},\"yaxis\":{\"automargin\":true,\"gridcolor\":\"white\",\"linecolor\":\"white\",\"ticks\":\"\",\"title\":{\"standoff\":15},\"zerolinecolor\":\"white\",\"zerolinewidth\":2}}},\"title\":{\"text\":\"Countries with Bronze Medals\"}},                        {\"responsive\": true}                    ).then(function(){\n",
       "                            \n",
       "var gd = document.getElementById('5d01435c-16fa-4c3f-a325-0378cd2830b8');\n",
       "var x = new MutationObserver(function (mutations, observer) {{\n",
       "        var display = window.getComputedStyle(gd).display;\n",
       "        if (!display || display === 'none') {{\n",
       "            console.log([gd, 'removed!']);\n",
       "            Plotly.purge(gd);\n",
       "            observer.disconnect();\n",
       "        }}\n",
       "}});\n",
       "\n",
       "// Listen for the removal of the full notebook cells\n",
       "var notebookContainer = gd.closest('#notebook-container');\n",
       "if (notebookContainer) {{\n",
       "    x.observe(notebookContainer, {childList: true});\n",
       "}}\n",
       "\n",
       "// Listen for the clearing of the current output cell\n",
       "var outputEl = gd.closest('.output');\n",
       "if (outputEl) {{\n",
       "    x.observe(outputEl, {childList: true});\n",
       "}}\n",
       "\n",
       "                        })                };                });            </script>        </div>"
      ]
     },
     "metadata": {},
     "output_type": "display_data"
    }
   ],
   "source": [
    "\n",
    "\n",
    "draw_map(dfG, \"Countries with Gold Medals\",'Greens')\n",
    "draw_map(dfS, \"Countries with Silver Medals\",'Greys')\n",
    "draw_map(dfB, \"Countries with Bronze Medals\",'Reds')"
   ]
  },
  {
   "cell_type": "markdown",
   "id": "010c1866",
   "metadata": {},
   "source": [
    "**1. What effect does the host country have in the medals won at the Olympics?**\n",
    "\n",
    "**2. Is the performance of countries in Olympic games affected by the economic factors of the country?**\n",
    "\n",
    "**3. Is the age of winning Olympics changing?**"
   ]
  },
  {
   "cell_type": "markdown",
   "id": "13181c0e",
   "metadata": {},
   "source": [
    "# Number of  olympic games host by country"
   ]
  },
  {
   "cell_type": "code",
   "execution_count": 349,
   "id": "324e20e4",
   "metadata": {},
   "outputs": [
    {
     "data": {
      "text/html": [
       "<div>\n",
       "<style scoped>\n",
       "    .dataframe tbody tr th:only-of-type {\n",
       "        vertical-align: middle;\n",
       "    }\n",
       "\n",
       "    .dataframe tbody tr th {\n",
       "        vertical-align: top;\n",
       "    }\n",
       "\n",
       "    .dataframe thead th {\n",
       "        text-align: right;\n",
       "    }\n",
       "</style>\n",
       "<table border=\"1\" class=\"dataframe\">\n",
       "  <thead>\n",
       "    <tr style=\"text-align: right;\">\n",
       "      <th></th>\n",
       "      <th>City</th>\n",
       "      <th>Season</th>\n",
       "      <th>Medal</th>\n",
       "      <th>Country</th>\n",
       "    </tr>\n",
       "  </thead>\n",
       "  <tbody>\n",
       "    <tr>\n",
       "      <th>1</th>\n",
       "      <td>paris</td>\n",
       "      <td>Summer</td>\n",
       "      <td>7169.0</td>\n",
       "      <td>france</td>\n",
       "    </tr>\n",
       "    <tr>\n",
       "      <th>2</th>\n",
       "      <td>st. louis</td>\n",
       "      <td>Summer</td>\n",
       "      <td>1301.0</td>\n",
       "      <td>united states</td>\n",
       "    </tr>\n",
       "    <tr>\n",
       "      <th>3</th>\n",
       "      <td>london</td>\n",
       "      <td>Summer</td>\n",
       "      <td>22389.0</td>\n",
       "      <td>united kingdom</td>\n",
       "    </tr>\n",
       "    <tr>\n",
       "      <th>4</th>\n",
       "      <td>stockholm</td>\n",
       "      <td>Summer</td>\n",
       "      <td>4338.0</td>\n",
       "      <td>sweden</td>\n",
       "    </tr>\n",
       "    <tr>\n",
       "      <th>5</th>\n",
       "      <td>antwerpen</td>\n",
       "      <td>Summer</td>\n",
       "      <td>4292.0</td>\n",
       "      <td>belgium</td>\n",
       "    </tr>\n",
       "  </tbody>\n",
       "</table>\n",
       "</div>"
      ],
      "text/plain": [
       "        City  Season    Medal         Country\n",
       "1      paris  Summer   7169.0          france\n",
       "2  st. louis  Summer   1301.0   united states\n",
       "3     london  Summer  22389.0  united kingdom\n",
       "4  stockholm  Summer   4338.0          sweden\n",
       "5  antwerpen  Summer   4292.0         belgium"
      ]
     },
     "execution_count": 349,
     "metadata": {},
     "output_type": "execute_result"
    }
   ],
   "source": [
    "tmp = df.groupby(['City'])['Season'].value_counts()\n",
    "df4 = pd.DataFrame(data={'Medal': tmp.values}, index=tmp.index).reset_index()\n",
    "\n",
    "newdf = df4.merge(country, how='right').dropna()\n",
    "newdf.head()"
   ]
  },
  {
   "cell_type": "code",
   "execution_count": 350,
   "id": "d6263258",
   "metadata": {},
   "outputs": [
    {
     "data": {
      "image/png": "[encoded data removed]",
      "text/plain": [
       "<Figure size 360x720 with 1 Axes>"
      ]
     },
     "metadata": {
      "needs_background": "light"
     },
     "output_type": "display_data"
    }
   ],
   "source": [
    "plt.figure(figsize=(5,10))\n",
    "sns.countplot(data=newdf, y='Country', palette='Set1', order = newdf['Country'].value_counts().index)\n",
    "plt.yticks( \n",
    "    horizontalalignment='right',\n",
    "    fontsize='large'  \n",
    ")\n",
    "plt.show()"
   ]
  },
  {
   "cell_type": "markdown",
   "id": "99cf8580",
   "metadata": {},
   "source": [
    "## Top 12 world countries that have wind more medail "
   ]
  },
  {
   "cell_type": "code",
   "execution_count": 351,
   "id": "dbd38265",
   "metadata": {},
   "outputs": [
    {
     "data": {
      "text/plain": [
       "<Figure size 360x720 with 0 Axes>"
      ]
     },
     "metadata": {},
     "output_type": "display_data"
    },
    {
     "data": {
      "image/png": "[encoded data removed]",
      "text/plain": [
       "<Figure size 360x360 with 1 Axes>"
      ]
     },
     "metadata": {
      "needs_background": "light"
     },
     "output_type": "display_data"
    }
   ],
   "source": [
    "tmp = df.groupby(['Team'])['Medal'].agg('count').dropna()\n",
    "df5 = pd.DataFrame(tmp).reset_index()\n",
    "l =df5.sort_values(by=['Medal'],ascending=False)\n",
    "l = l.head(12)\n",
    "plt.figure(figsize=(5,10))\n",
    "sns.catplot(data=l, x=\"Medal\", y=\"Team\", kind=\"bar\", palette='Set1')\n",
    "plt.yticks( \n",
    "    horizontalalignment='right',\n",
    "    fontsize='large'  \n",
    ")\n",
    "plt.show()"
   ]
  },
  {
   "cell_type": "markdown",
   "id": "766cc1b8",
   "metadata": {},
   "source": [
    "## Top African countries that have wind more medail "
   ]
  },
  {
   "cell_type": "code",
   "execution_count": 352,
   "id": "38089517",
   "metadata": {},
   "outputs": [
    {
     "data": {
      "text/plain": [
       "<Figure size 360x720 with 0 Axes>"
      ]
     },
     "metadata": {},
     "output_type": "display_data"
    },
    {
     "data": {
      "image/png": "[encoded data removed]",
      "text/plain": [
       "<Figure size 360x360 with 1 Axes>"
      ]
     },
     "metadata": {
      "needs_background": "light"
     },
     "output_type": "display_data"
    }
   ],
   "source": [
    "tmp = df.groupby(['Team'])['Medal'].agg('count').dropna()\n",
    "df5 = pd.DataFrame(tmp).reset_index()\n",
    "l =df5.sort_values(by=['Medal'],ascending=True)\n",
    "l = l[(l['Team'] =='cameroon' )| (l['Team'] =='nigeria')| (l['Team'] =='algeria')|(l['Team'] =='south africa')| (l['Team'] =='kenya')|(l['Team'] =='ethiopia')|(l['Team'] =='ghana' )]\n",
    "#l = l.head(12)\n",
    "l = l.sort_values(by=['Medal'],ascending=False)\n",
    "plt.figure(figsize=(5,10))\n",
    "sns.catplot(data=l, x=\"Medal\", y=\"Team\", kind=\"bar\")\n",
    "plt.yticks( \n",
    "    horizontalalignment='right',\n",
    "    fontsize='large'  \n",
    ")\n",
    "plt.show()"
   ]
  },
  {
   "cell_type": "markdown",
   "id": "28a88e10",
   "metadata": {},
   "source": [
    "**If the Olympic performance of the riches countries is affected by the place where the games were organised. Therefore what about the country that can not organise the Olympic games?**"
   ]
  },
  {
   "cell_type": "markdown",
   "id": "b1b32562",
   "metadata": {},
   "source": [
    "# Trend of the nomber of medal for the 10 top countries that have gain more medal"
   ]
  },
  {
   "cell_type": "code",
   "execution_count": 353,
   "id": "60b9ccc2",
   "metadata": {},
   "outputs": [],
   "source": [
    "tmp = df.groupby(['Year', 'Team', 'City'])['Medal'].agg('count').dropna()\n",
    "df6 = pd.DataFrame(tmp).reset_index()\n",
    "l =df6.sort_values(by=['Medal'],ascending=False)\n",
    "newdfl = l.merge(country, how='right').dropna()\n",
    "df8= newdf.copy()"
   ]
  },
  {
   "cell_type": "code",
   "execution_count": 354,
   "id": "ec683b35",
   "metadata": {},
   "outputs": [
    {
     "data": {
      "text/html": [
       "<div>\n",
       "<style scoped>\n",
       "    .dataframe tbody tr th:only-of-type {\n",
       "        vertical-align: middle;\n",
       "    }\n",
       "\n",
       "    .dataframe tbody tr th {\n",
       "        vertical-align: top;\n",
       "    }\n",
       "\n",
       "    .dataframe thead th {\n",
       "        text-align: right;\n",
       "    }\n",
       "</style>\n",
       "<table border=\"1\" class=\"dataframe\">\n",
       "  <thead>\n",
       "    <tr style=\"text-align: right;\">\n",
       "      <th></th>\n",
       "      <th>Year</th>\n",
       "      <th>Team</th>\n",
       "      <th>City</th>\n",
       "      <th>Medal</th>\n",
       "      <th>Country</th>\n",
       "    </tr>\n",
       "  </thead>\n",
       "  <tbody>\n",
       "    <tr>\n",
       "      <th>1</th>\n",
       "      <td>1900.0</td>\n",
       "      <td>france</td>\n",
       "      <td>paris</td>\n",
       "      <td>679.0</td>\n",
       "      <td>france</td>\n",
       "    </tr>\n",
       "    <tr>\n",
       "      <th>2</th>\n",
       "      <td>1924.0</td>\n",
       "      <td>france</td>\n",
       "      <td>paris</td>\n",
       "      <td>620.0</td>\n",
       "      <td>france</td>\n",
       "    </tr>\n",
       "    <tr>\n",
       "      <th>3</th>\n",
       "      <td>1924.0</td>\n",
       "      <td>united states</td>\n",
       "      <td>paris</td>\n",
       "      <td>447.0</td>\n",
       "      <td>france</td>\n",
       "    </tr>\n",
       "    <tr>\n",
       "      <th>4</th>\n",
       "      <td>1924.0</td>\n",
       "      <td>great britain</td>\n",
       "      <td>paris</td>\n",
       "      <td>411.0</td>\n",
       "      <td>france</td>\n",
       "    </tr>\n",
       "    <tr>\n",
       "      <th>5</th>\n",
       "      <td>1924.0</td>\n",
       "      <td>italy</td>\n",
       "      <td>paris</td>\n",
       "      <td>330.0</td>\n",
       "      <td>france</td>\n",
       "    </tr>\n",
       "    <tr>\n",
       "      <th>...</th>\n",
       "      <td>...</td>\n",
       "      <td>...</td>\n",
       "      <td>...</td>\n",
       "      <td>...</td>\n",
       "      <td>...</td>\n",
       "    </tr>\n",
       "    <tr>\n",
       "      <th>6799</th>\n",
       "      <td>1948.0</td>\n",
       "      <td>hungary-</td>\n",
       "      <td>sankt moritz</td>\n",
       "      <td>4.0</td>\n",
       "      <td>switzerland</td>\n",
       "    </tr>\n",
       "    <tr>\n",
       "      <th>6800</th>\n",
       "      <td>1948.0</td>\n",
       "      <td>lebanon</td>\n",
       "      <td>sankt moritz</td>\n",
       "      <td>3.0</td>\n",
       "      <td>switzerland</td>\n",
       "    </tr>\n",
       "    <tr>\n",
       "      <th>6801</th>\n",
       "      <td>1928.0</td>\n",
       "      <td>latvia</td>\n",
       "      <td>sankt moritz</td>\n",
       "      <td>3.0</td>\n",
       "      <td>switzerland</td>\n",
       "    </tr>\n",
       "    <tr>\n",
       "      <th>6802</th>\n",
       "      <td>1948.0</td>\n",
       "      <td>greece</td>\n",
       "      <td>sankt moritz</td>\n",
       "      <td>2.0</td>\n",
       "      <td>switzerland</td>\n",
       "    </tr>\n",
       "    <tr>\n",
       "      <th>6803</th>\n",
       "      <td>1948.0</td>\n",
       "      <td>denmark</td>\n",
       "      <td>sankt moritz</td>\n",
       "      <td>2.0</td>\n",
       "      <td>switzerland</td>\n",
       "    </tr>\n",
       "  </tbody>\n",
       "</table>\n",
       "<p>6793 rows × 5 columns</p>\n",
       "</div>"
      ],
      "text/plain": [
       "        Year           Team          City  Medal      Country\n",
       "1     1900.0         france         paris  679.0       france\n",
       "2     1924.0         france         paris  620.0       france\n",
       "3     1924.0  united states         paris  447.0       france\n",
       "4     1924.0  great britain         paris  411.0       france\n",
       "5     1924.0          italy         paris  330.0       france\n",
       "...      ...            ...           ...    ...          ...\n",
       "6799  1948.0       hungary-  sankt moritz    4.0  switzerland\n",
       "6800  1948.0        lebanon  sankt moritz    3.0  switzerland\n",
       "6801  1928.0         latvia  sankt moritz    3.0  switzerland\n",
       "6802  1948.0         greece  sankt moritz    2.0  switzerland\n",
       "6803  1948.0        denmark  sankt moritz    2.0  switzerland\n",
       "\n",
       "[6793 rows x 5 columns]"
      ]
     },
     "execution_count": 354,
     "metadata": {},
     "output_type": "execute_result"
    }
   ],
   "source": [
    "newdfl"
   ]
  },
  {
   "cell_type": "code",
   "execution_count": 355,
   "id": "563c9719",
   "metadata": {},
   "outputs": [],
   "source": [
    "newdfl[newdfl['Country']==newdfl['Team'] ]['City']='Home'\n",
    "newdfl[newdfl['Country']!=newdfl['Team'] ]['City']='Away'\n",
    "# newdfl[newdfl['Country']==['United States']]= 'Home'\n",
    "#newdfl[newdfl['Country']!='United States']= 'Away'"
   ]
  },
  {
   "cell_type": "code",
   "execution_count": 366,
   "id": "2a70bd35",
   "metadata": {},
   "outputs": [
    {
     "data": {
      "text/html": [
       "<div>\n",
       "<style scoped>\n",
       "    .dataframe tbody tr th:only-of-type {\n",
       "        vertical-align: middle;\n",
       "    }\n",
       "\n",
       "    .dataframe tbody tr th {\n",
       "        vertical-align: top;\n",
       "    }\n",
       "\n",
       "    .dataframe thead th {\n",
       "        text-align: right;\n",
       "    }\n",
       "</style>\n",
       "<table border=\"1\" class=\"dataframe\">\n",
       "  <thead>\n",
       "    <tr style=\"text-align: right;\">\n",
       "      <th></th>\n",
       "      <th>Year</th>\n",
       "      <th>Team</th>\n",
       "      <th>City</th>\n",
       "      <th>Medal</th>\n",
       "      <th>Country</th>\n",
       "    </tr>\n",
       "  </thead>\n",
       "  <tbody>\n",
       "    <tr>\n",
       "      <th>1</th>\n",
       "      <td>1900.0</td>\n",
       "      <td>france</td>\n",
       "      <td>paris</td>\n",
       "      <td>679.0</td>\n",
       "      <td>france</td>\n",
       "    </tr>\n",
       "    <tr>\n",
       "      <th>2</th>\n",
       "      <td>1924.0</td>\n",
       "      <td>france</td>\n",
       "      <td>paris</td>\n",
       "      <td>620.0</td>\n",
       "      <td>france</td>\n",
       "    </tr>\n",
       "    <tr>\n",
       "      <th>278</th>\n",
       "      <td>1904.0</td>\n",
       "      <td>france</td>\n",
       "      <td>st. louis</td>\n",
       "      <td>1.0</td>\n",
       "      <td>united states</td>\n",
       "    </tr>\n",
       "    <tr>\n",
       "      <th>288</th>\n",
       "      <td>2012.0</td>\n",
       "      <td>france</td>\n",
       "      <td>london</td>\n",
       "      <td>422.0</td>\n",
       "      <td>united kingdom</td>\n",
       "    </tr>\n",
       "    <tr>\n",
       "      <th>289</th>\n",
       "      <td>1948.0</td>\n",
       "      <td>france</td>\n",
       "      <td>london</td>\n",
       "      <td>421.0</td>\n",
       "      <td>united kingdom</td>\n",
       "    </tr>\n",
       "    <tr>\n",
       "      <th>...</th>\n",
       "      <td>...</td>\n",
       "      <td>...</td>\n",
       "      <td>...</td>\n",
       "      <td>...</td>\n",
       "      <td>...</td>\n",
       "    </tr>\n",
       "    <tr>\n",
       "      <th>6388</th>\n",
       "      <td>1980.0</td>\n",
       "      <td>france</td>\n",
       "      <td>moskva</td>\n",
       "      <td>200.0</td>\n",
       "      <td>russia</td>\n",
       "    </tr>\n",
       "    <tr>\n",
       "      <th>6466</th>\n",
       "      <td>2006.0</td>\n",
       "      <td>france</td>\n",
       "      <td>torino</td>\n",
       "      <td>155.0</td>\n",
       "      <td>italy</td>\n",
       "    </tr>\n",
       "    <tr>\n",
       "      <th>6556</th>\n",
       "      <td>1960.0</td>\n",
       "      <td>france</td>\n",
       "      <td>roma</td>\n",
       "      <td>353.0</td>\n",
       "      <td>italy</td>\n",
       "    </tr>\n",
       "    <tr>\n",
       "      <th>6743</th>\n",
       "      <td>1948.0</td>\n",
       "      <td>france</td>\n",
       "      <td>sankt moritz</td>\n",
       "      <td>48.0</td>\n",
       "      <td>switzerland</td>\n",
       "    </tr>\n",
       "    <tr>\n",
       "      <th>6749</th>\n",
       "      <td>1928.0</td>\n",
       "      <td>france</td>\n",
       "      <td>sankt moritz</td>\n",
       "      <td>37.0</td>\n",
       "      <td>switzerland</td>\n",
       "    </tr>\n",
       "  </tbody>\n",
       "</table>\n",
       "<p>71 rows × 5 columns</p>\n",
       "</div>"
      ],
      "text/plain": [
       "        Year    Team          City  Medal         Country\n",
       "1     1900.0  france         paris  679.0          france\n",
       "2     1924.0  france         paris  620.0          france\n",
       "278   1904.0  france     st. louis    1.0   united states\n",
       "288   2012.0  france        london  422.0  united kingdom\n",
       "289   1948.0  france        london  421.0  united kingdom\n",
       "...      ...     ...           ...    ...             ...\n",
       "6388  1980.0  france        moskva  200.0          russia\n",
       "6466  2006.0  france        torino  155.0           italy\n",
       "6556  1960.0  france          roma  353.0           italy\n",
       "6743  1948.0  france  sankt moritz   48.0     switzerland\n",
       "6749  1928.0  france  sankt moritz   37.0     switzerland\n",
       "\n",
       "[71 rows x 5 columns]"
      ]
     },
     "execution_count": 366,
     "metadata": {},
     "output_type": "execute_result"
    }
   ],
   "source": [
    "newdfl[newdfl['Team']=='france']"
   ]
  },
  {
   "cell_type": "code",
   "execution_count": null,
   "id": "26384c35",
   "metadata": {},
   "outputs": [],
   "source": []
  },
  {
   "cell_type": "code",
   "execution_count": null,
   "id": "80719560",
   "metadata": {},
   "outputs": [],
   "source": []
  },
  {
   "cell_type": "code",
   "execution_count": null,
   "id": "d0fd6eac",
   "metadata": {},
   "outputs": [],
   "source": []
  },
  {
   "cell_type": "code",
   "execution_count": null,
   "id": "e58588ad",
   "metadata": {},
   "outputs": [],
   "source": []
  },
  {
   "cell_type": "code",
   "execution_count": null,
   "id": "1887d042",
   "metadata": {},
   "outputs": [],
   "source": []
  },
  {
   "cell_type": "code",
   "execution_count": null,
   "id": "fed0b24b",
   "metadata": {},
   "outputs": [],
   "source": []
  },
  {
   "cell_type": "code",
   "execution_count": null,
   "id": "fa672183",
   "metadata": {},
   "outputs": [],
   "source": []
  },
  {
   "cell_type": "code",
   "execution_count": null,
   "id": "d2395338",
   "metadata": {},
   "outputs": [],
   "source": []
  },
  {
   "cell_type": "code",
   "execution_count": null,
   "id": "8ac74ba3",
   "metadata": {},
   "outputs": [],
   "source": []
  },
  {
   "cell_type": "code",
   "execution_count": null,
   "id": "8fd64975",
   "metadata": {},
   "outputs": [],
   "source": []
  },
  {
   "cell_type": "code",
   "execution_count": null,
   "id": "cde36795",
   "metadata": {},
   "outputs": [],
   "source": []
  },
  {
   "cell_type": "code",
   "execution_count": null,
   "id": "acefbde8",
   "metadata": {},
   "outputs": [],
   "source": []
  },
  {
   "cell_type": "code",
   "execution_count": null,
   "id": "29d5249a",
   "metadata": {},
   "outputs": [],
   "source": []
  },
  {
   "cell_type": "code",
   "execution_count": null,
   "id": "0104aee7",
   "metadata": {},
   "outputs": [],
   "source": []
  }
 ],
 "metadata": {
  "kernelspec": {
   "display_name": "Python 3",
   "language": "python",
   "name": "python3"
  },
  "language_info": {
   "codemirror_mode": {
    "name": "ipython",
    "version": 3
   },
   "file_extension": ".py",
   "mimetype": "text/x-python",
   "name": "python",
   "nbconvert_exporter": "python",
   "pygments_lexer": "ipython3",
   "version": "3.9.13"
  }
 },
 "nbformat": 4,
 "nbformat_minor": 5
}
