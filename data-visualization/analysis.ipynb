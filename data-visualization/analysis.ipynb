{
 "cells": [
  {
   "cell_type": "code",
   "execution_count": 546,
   "id": "e99d6da4",
   "metadata": {},
   "outputs": [],
   "source": [
    "import pandas as pd\n",
    "import seaborn as sns\n",
    "import numpy as np\n",
    "import matplotlib.pyplot as plt\n",
    "import os\n",
    "\n",
    "if not os.path.exists(\"images\"):\n",
    "    os.mkdir(\"images\")"
   ]
  },
  {
   "cell_type": "markdown",
   "id": "141ebd01",
   "metadata": {},
   "source": [
    "# Import and merge datasets"
   ]
  },
  {
   "cell_type": "code",
   "execution_count": 547,
   "id": "89d7901e",
   "metadata": {},
   "outputs": [],
   "source": [
    "df = pd.read_csv('data/athleteEvents.csv')\n",
    "country = pd.read_excel('data/olympic_city_country.xlsx')\n",
    "place = pd.read_csv('data/nocRegions.csv')\n",
    "\n",
    "place = place.drop(['region', 'notes'],axis=1)\n",
    "newdf1 = df.merge(place, how='right')\n",
    "\n",
    "gpd = pd.read_excel('data/Gapminder GDP data.xlsx',sheet_name='countries_and_territories')"
   ]
  },
  {
   "cell_type": "markdown",
   "id": "3ffe1649",
   "metadata": {},
   "source": [
    "# data pre-processing "
   ]
  },
  {
   "cell_type": "code",
   "execution_count": 548,
   "id": "c06bd539",
   "metadata": {},
   "outputs": [
    {
     "name": "stderr",
     "output_type": "stream",
     "text": [
      "<ipython-input-548-fca826fa2fa8>:2: SettingWithCopyWarning: \n",
      "A value is trying to be set on a copy of a slice from a DataFrame.\n",
      "Try using .loc[row_indexer,col_indexer] = value instead\n",
      "\n",
      "See the caveats in the documentation: https://pandas.pydata.org/pandas-docs/stable/user_guide/indexing.html#returning-a-view-versus-a-copy\n",
      "<ipython-input-548-fca826fa2fa8>:3: SettingWithCopyWarning: \n",
      "A value is trying to be set on a copy of a slice from a DataFrame.\n",
      "Try using .loc[row_indexer,col_indexer] = value instead\n",
      "\n",
      "See the caveats in the documentation: https://pandas.pydata.org/pandas-docs/stable/user_guide/indexing.html#returning-a-view-versus-a-copy\n",
      "<ipython-input-548-fca826fa2fa8>:4: SettingWithCopyWarning: \n",
      "A value is trying to be set on a copy of a slice from a DataFrame.\n",
      "Try using .loc[row_indexer,col_indexer] = value instead\n",
      "\n",
      "See the caveats in the documentation: https://pandas.pydata.org/pandas-docs/stable/user_guide/indexing.html#returning-a-view-versus-a-copy\n",
      "<ipython-input-548-fca826fa2fa8>:5: SettingWithCopyWarning: \n",
      "A value is trying to be set on a copy of a slice from a DataFrame.\n",
      "Try using .loc[row_indexer,col_indexer] = value instead\n",
      "\n",
      "See the caveats in the documentation: https://pandas.pydata.org/pandas-docs/stable/user_guide/indexing.html#returning-a-view-versus-a-copy\n"
     ]
    }
   ],
   "source": [
    "df = newdf1.dropna(subset=['Year','Games'])\n",
    "df['Team']= df['Team'].str.replace('[#,@,&,0-9]', '',regex=True)\n",
    "df['City']= df['City'].str.replace('[#,@,&,0-9]', '',regex=True)\n",
    "df['Team'] = df['Team'].str.lower()\n",
    "df['City'] = df['City'].str.lower()\n",
    "\n",
    "country['City'] = country['City'].str.replace(r'[#,@,&,0-9]', '', regex=True)\n",
    "country['City'] = country['City'].str.lower()\n",
    "\n",
    "country['Country'] = country['Country'].str.replace(r'[#,@,&,0-9]', '', regex=True)\n",
    "country['Country'] = country['Country'].str.lower()\n",
    "\n",
    "gpd['Country Name'] = gpd['Country Name'].str.replace(r'[#,@,&,0-9]', '', regex=True)\n",
    "gpd['Country Name'] = gpd['Country Name'].str.lower()"
   ]
  },
  {
   "cell_type": "code",
   "execution_count": 549,
   "id": "443ab486",
   "metadata": {},
   "outputs": [
    {
     "name": "stderr",
     "output_type": "stream",
     "text": [
      "<ipython-input-549-4e7fe9a19bd4>:2: SettingWithCopyWarning: \n",
      "A value is trying to be set on a copy of a slice from a DataFrame\n",
      "\n",
      "See the caveats in the documentation: https://pandas.pydata.org/pandas-docs/stable/user_guide/indexing.html#returning-a-view-versus-a-copy\n",
      "<ipython-input-549-4e7fe9a19bd4>:2: SettingWithCopyWarning: \n",
      "A value is trying to be set on a copy of a slice from a DataFrame\n",
      "\n",
      "See the caveats in the documentation: https://pandas.pydata.org/pandas-docs/stable/user_guide/indexing.html#returning-a-view-versus-a-copy\n"
     ]
    }
   ],
   "source": [
    "# change great britain to united kingdom\n",
    "df['Team'][df['Team']=='great britain']='united kingdom'"
   ]
  },
  {
   "cell_type": "code",
   "execution_count": 550,
   "id": "1104d98a",
   "metadata": {},
   "outputs": [
    {
     "data": {
      "text/plain": [
       "ID             0\n",
       "Name           0\n",
       "Sex            0\n",
       "Age         9462\n",
       "Height     60083\n",
       "Weight     62785\n",
       "Team           0\n",
       "NOC            0\n",
       "Games          0\n",
       "Year           0\n",
       "Season         0\n",
       "City           0\n",
       "Sport          0\n",
       "Event          0\n",
       "Medal     230993\n",
       "dtype: int64"
      ]
     },
     "execution_count": 550,
     "metadata": {},
     "output_type": "execute_result"
    }
   ],
   "source": [
    "df.isnull().sum()"
   ]
  },
  {
   "cell_type": "code",
   "execution_count": 551,
   "id": "27a50c38",
   "metadata": {},
   "outputs": [],
   "source": [
    "df=df.fillna(0)"
   ]
  },
  {
   "cell_type": "markdown",
   "id": "4a2d650c",
   "metadata": {},
   "source": [
    "## medal "
   ]
  },
  {
   "cell_type": "code",
   "execution_count": 552,
   "id": "193a61b0",
   "metadata": {},
   "outputs": [
    {
     "data": {
      "text/plain": [
       "array([0, 'Bronze', 'Silver', 'Gold'], dtype=object)"
      ]
     },
     "execution_count": 552,
     "metadata": {},
     "output_type": "execute_result"
    }
   ],
   "source": [
    "pd.unique(df['Medal'].values)"
   ]
  },
  {
   "cell_type": "code",
   "execution_count": 553,
   "id": "d5b426d2",
   "metadata": {},
   "outputs": [
    {
     "data": {
      "text/plain": [
       "229"
      ]
     },
     "execution_count": 553,
     "metadata": {},
     "output_type": "execute_result"
    }
   ],
   "source": [
    "len(pd.unique(df['NOC'].values))"
   ]
  },
  {
   "cell_type": "markdown",
   "id": "bb894419",
   "metadata": {},
   "source": [
    "## years"
   ]
  },
  {
   "cell_type": "code",
   "execution_count": 554,
   "id": "ce971592",
   "metadata": {},
   "outputs": [
    {
     "name": "stdout",
     "output_type": "stream",
     "text": [
      "[1956. 1936. 1948. 1980. 1964. 1972. 1968. 2004. 2008. 2012. 2016. 1988.\n",
      " 1960. 1996. 1984. 1952. 1992. 2000. 1976. 2014. 2006. 2010. 2002. 1994.\n",
      " 1998. 1908. 1912. 1924. 1928. 1932. 1900. 1920. 1906. 1896. 1904.]\n",
      "lenght is  35\n"
     ]
    }
   ],
   "source": [
    "print(pd.unique(df['Year']))\n",
    "print( \"lenght is \" , len(pd.unique(df['Year'])))"
   ]
  },
  {
   "cell_type": "code",
   "execution_count": 555,
   "id": "320701d7",
   "metadata": {},
   "outputs": [],
   "source": [
    "df92=df[df['Year']==1900]\n",
    "df20=df[df['Year']==2012]"
   ]
  },
  {
   "cell_type": "code",
   "execution_count": 556,
   "id": "3f48d2f8",
   "metadata": {},
   "outputs": [
    {
     "name": "stdout",
     "output_type": "stream",
     "text": [
      "Pourcentage of man 0.9829545454545454  pourcentage of femel 0.017045454545454544\n"
     ]
    }
   ],
   "source": [
    "pM = len(df92[df92[\"Sex\"]=='M'])/(len(df92[df92[\"Sex\"]=='M'])+len(df92[df92[\"Sex\"]=='F']))\n",
    "PF= len(df92[df92[\"Sex\"]=='F'])/(len(df92[df92[\"Sex\"]=='M'])+len(df92[df92[\"Sex\"]=='F']))\n",
    "print('Pourcentage of man', pM , \" pourcentage of femel\", PF)"
   ]
  },
  {
   "cell_type": "code",
   "execution_count": 557,
   "id": "65da9317",
   "metadata": {},
   "outputs": [
    {
     "data": {
      "text/html": [
       "<div>\n",
       "<style scoped>\n",
       "    .dataframe tbody tr th:only-of-type {\n",
       "        vertical-align: middle;\n",
       "    }\n",
       "\n",
       "    .dataframe tbody tr th {\n",
       "        vertical-align: top;\n",
       "    }\n",
       "\n",
       "    .dataframe thead th {\n",
       "        text-align: right;\n",
       "    }\n",
       "</style>\n",
       "<table border=\"1\" class=\"dataframe\">\n",
       "  <thead>\n",
       "    <tr style=\"text-align: right;\">\n",
       "      <th></th>\n",
       "      <th>Sex</th>\n",
       "      <th>participation pourcentage</th>\n",
       "      <th>Year</th>\n",
       "    </tr>\n",
       "  </thead>\n",
       "  <tbody>\n",
       "    <tr>\n",
       "      <th>0</th>\n",
       "      <td>M</td>\n",
       "      <td>0.982955</td>\n",
       "      <td>1900</td>\n",
       "    </tr>\n",
       "    <tr>\n",
       "      <th>1</th>\n",
       "      <td>F</td>\n",
       "      <td>0.017045</td>\n",
       "      <td>1900</td>\n",
       "    </tr>\n",
       "  </tbody>\n",
       "</table>\n",
       "</div>"
      ],
      "text/plain": [
       "  Sex  participation pourcentage  Year\n",
       "0   M                   0.982955  1900\n",
       "1   F                   0.017045  1900"
      ]
     },
     "execution_count": 557,
     "metadata": {},
     "output_type": "execute_result"
    }
   ],
   "source": [
    "dt= {\"Sex\":[\"M\",\"F\"],'participation pourcentage':[pM,PF],\"Year\":[1900,1900]}\n",
    "dt=pd.DataFrame(dt)\n",
    "dt"
   ]
  },
  {
   "cell_type": "code",
   "execution_count": 558,
   "id": "24bfb196",
   "metadata": {},
   "outputs": [
    {
     "name": "stdout",
     "output_type": "stream",
     "text": [
      "Pourcentage of man 0.9829545454545454  pourcentage of femel 0.017045454545454544\n"
     ]
    }
   ],
   "source": [
    "PM = len(df20[df20[\"Sex\"]=='M'])/(len(df20[df20[\"Sex\"]=='M'])+len(df20[df20[\"Sex\"]=='F']))\n",
    "pF= len(df20[df20[\"Sex\"]=='F'])/(len(df20[df20[\"Sex\"]=='M'])+len(df20[df20[\"Sex\"]=='F']))\n",
    "print('Pourcentage of man', pM , \" pourcentage of femel\", PF)"
   ]
  },
  {
   "cell_type": "code",
   "execution_count": 559,
   "id": "b32e8bf7",
   "metadata": {},
   "outputs": [
    {
     "data": {
      "text/html": [
       "<div>\n",
       "<style scoped>\n",
       "    .dataframe tbody tr th:only-of-type {\n",
       "        vertical-align: middle;\n",
       "    }\n",
       "\n",
       "    .dataframe tbody tr th {\n",
       "        vertical-align: top;\n",
       "    }\n",
       "\n",
       "    .dataframe thead th {\n",
       "        text-align: right;\n",
       "    }\n",
       "</style>\n",
       "<table border=\"1\" class=\"dataframe\">\n",
       "  <thead>\n",
       "    <tr style=\"text-align: right;\">\n",
       "      <th></th>\n",
       "      <th>Sex</th>\n",
       "      <th>participation pourcentage</th>\n",
       "      <th>Year</th>\n",
       "    </tr>\n",
       "  </thead>\n",
       "  <tbody>\n",
       "    <tr>\n",
       "      <th>0</th>\n",
       "      <td>M</td>\n",
       "      <td>0.550528</td>\n",
       "      <td>2012</td>\n",
       "    </tr>\n",
       "    <tr>\n",
       "      <th>1</th>\n",
       "      <td>F</td>\n",
       "      <td>0.449472</td>\n",
       "      <td>2012</td>\n",
       "    </tr>\n",
       "  </tbody>\n",
       "</table>\n",
       "</div>"
      ],
      "text/plain": [
       "  Sex  participation pourcentage  Year\n",
       "0   M                   0.550528  2012\n",
       "1   F                   0.449472  2012"
      ]
     },
     "execution_count": 559,
     "metadata": {},
     "output_type": "execute_result"
    }
   ],
   "source": [
    "dt2= {\"Sex\":[\"M\",\"F\"],'participation pourcentage':[PM,pF],\"Year\":[2012,2012]}\n",
    "dt2=pd.DataFrame(dt2)\n",
    "dt2"
   ]
  },
  {
   "cell_type": "markdown",
   "id": "45a78552",
   "metadata": {},
   "source": [
    "# Slopgraph"
   ]
  },
  {
   "cell_type": "code",
   "execution_count": 560,
   "id": "06f45641",
   "metadata": {},
   "outputs": [],
   "source": [
    "\n",
    "frames = [dt2, dt]\n",
    "result = pd.concat(frames,axis=0)\n",
    "result\n",
    "fm= result[result['Sex']=='M']\n",
    "ff= result[result['Sex']=='F']"
   ]
  },
  {
   "cell_type": "code",
   "execution_count": 561,
   "id": "0d704865",
   "metadata": {},
   "outputs": [
    {
     "data": {
      "image/png": "[encoded data removed]",
      "text/plain": [
       "<Figure size 432x288 with 1 Axes>"
      ]
     },
     "metadata": {
      "needs_background": "light"
     },
     "output_type": "display_data"
    }
   ],
   "source": [
    "plt.plot(fm['Year'], fm['participation pourcentage'])\n",
    "plt.plot(ff['Year'], ff['participation pourcentage'])\n",
    "plt.xticks([1900, 2012])\n",
    "plt.text(fm['Year'].values[0]+0.02, fm['participation pourcentage'].values[0], '{:,.2f}'.format(fm['participation pourcentage'].values[0]), va='center', ha='right')\n",
    "plt.text(ff['Year'].values[0]+0.02, ff['participation pourcentage'].values[0], 'Femel')\n",
    "plt.xticks([1900, 2012])\n",
    "plt.text(fm['Year'].values[-1]-5, fm['participation pourcentage'].values[-1], 'Male')\n",
    "plt.text(ff['Year'].values[-1]-5, ff['participation pourcentage'].values[-1], 'Femel')\n",
    "\n",
    "plt.show()"
   ]
  },
  {
   "cell_type": "markdown",
   "id": "b5b7110b",
   "metadata": {},
   "source": [
    "https://news.ubc.ca/2014/09/30/gender-equality-olympics/"
   ]
  },
  {
   "cell_type": "markdown",
   "id": "c4a1110a",
   "metadata": {},
   "source": [
    "## Pourcentage of medal wont by each gender"
   ]
  },
  {
   "cell_type": "code",
   "execution_count": 562,
   "id": "f8704557",
   "metadata": {},
   "outputs": [
    {
     "data": {
      "text/html": [
       "<div>\n",
       "<style scoped>\n",
       "    .dataframe tbody tr th:only-of-type {\n",
       "        vertical-align: middle;\n",
       "    }\n",
       "\n",
       "    .dataframe tbody tr th {\n",
       "        vertical-align: top;\n",
       "    }\n",
       "\n",
       "    .dataframe thead th {\n",
       "        text-align: right;\n",
       "    }\n",
       "</style>\n",
       "<table border=\"1\" class=\"dataframe\">\n",
       "  <thead>\n",
       "    <tr style=\"text-align: right;\">\n",
       "      <th></th>\n",
       "      <th>Sex</th>\n",
       "      <th>Year</th>\n",
       "      <th>count</th>\n",
       "      <th>Medal</th>\n",
       "    </tr>\n",
       "  </thead>\n",
       "  <tbody>\n",
       "    <tr>\n",
       "      <th>0</th>\n",
       "      <td>F</td>\n",
       "      <td>1900.0</td>\n",
       "      <td>20</td>\n",
       "      <td>0</td>\n",
       "    </tr>\n",
       "    <tr>\n",
       "      <th>1</th>\n",
       "      <td>F</td>\n",
       "      <td>1900.0</td>\n",
       "      <td>5</td>\n",
       "      <td>Bronze</td>\n",
       "    </tr>\n",
       "    <tr>\n",
       "      <th>2</th>\n",
       "      <td>F</td>\n",
       "      <td>1900.0</td>\n",
       "      <td>4</td>\n",
       "      <td>Gold</td>\n",
       "    </tr>\n",
       "    <tr>\n",
       "      <th>3</th>\n",
       "      <td>F</td>\n",
       "      <td>1900.0</td>\n",
       "      <td>4</td>\n",
       "      <td>Silver</td>\n",
       "    </tr>\n",
       "    <tr>\n",
       "      <th>4</th>\n",
       "      <td>F</td>\n",
       "      <td>1904.0</td>\n",
       "      <td>6</td>\n",
       "      <td>0</td>\n",
       "    </tr>\n",
       "  </tbody>\n",
       "</table>\n",
       "</div>"
      ],
      "text/plain": [
       "  Sex    Year  count   Medal\n",
       "0   F  1900.0     20       0\n",
       "1   F  1900.0      5  Bronze\n",
       "2   F  1900.0      4    Gold\n",
       "3   F  1900.0      4  Silver\n",
       "4   F  1904.0      6       0"
      ]
     },
     "execution_count": 562,
     "metadata": {},
     "output_type": "execute_result"
    }
   ],
   "source": [
    "l =df.groupby(['Sex', 'Year','Medal']).agg('count').reset_index()\n",
    "l['count'] = l['ID']\n",
    "l=l[['Sex','Year','count','Medal']]\n",
    "l.head()"
   ]
  },
  {
   "cell_type": "code",
   "execution_count": 563,
   "id": "432da233",
   "metadata": {},
   "outputs": [
    {
     "data": {
      "text/plain": [
       "Sex\n",
       "F      33\n",
       "M    1903\n",
       "Name: count, dtype: int64"
      ]
     },
     "execution_count": 563,
     "metadata": {},
     "output_type": "execute_result"
    }
   ],
   "source": [
    "dfm= l[l['Year']==1900]\n",
    "dfm.groupby(['Sex'])['count'].sum()"
   ]
  },
  {
   "cell_type": "code",
   "execution_count": 564,
   "id": "beb65cff",
   "metadata": {},
   "outputs": [
    {
     "data": {
      "text/plain": [
       "Sex\n",
       "F     13\n",
       "M    591\n",
       "Name: count, dtype: int64"
      ]
     },
     "execution_count": 564,
     "metadata": {},
     "output_type": "execute_result"
    }
   ],
   "source": [
    "dfm=dfm[dfm['Medal']!=0]\n",
    "dfm.groupby(['Sex'])['count'].agg('sum')\n"
   ]
  },
  {
   "cell_type": "code",
   "execution_count": 565,
   "id": "2321d2d5",
   "metadata": {},
   "outputs": [
    {
     "data": {
      "text/plain": [
       "Sex\n",
       "F    5791\n",
       "M    7093\n",
       "Name: count, dtype: int64"
      ]
     },
     "execution_count": 565,
     "metadata": {},
     "output_type": "execute_result"
    }
   ],
   "source": [
    "dfm2= l[l['Year']==2012]\n",
    "dfm2.groupby(['Sex'])['count'].sum()"
   ]
  },
  {
   "cell_type": "code",
   "execution_count": 566,
   "id": "aa0a797c",
   "metadata": {},
   "outputs": [
    {
     "name": "stdout",
     "output_type": "stream",
     "text": [
      "Sex\n",
      "F     914\n",
      "M    1023\n",
      "Name: count, dtype: int64\n"
     ]
    }
   ],
   "source": [
    "dfm2=dfm2[dfm2['Medal']!=0]\n",
    "print(dfm2.groupby(['Sex'])['count'].agg('sum'))"
   ]
  },
  {
   "cell_type": "code",
   "execution_count": 567,
   "id": "35399f82",
   "metadata": {},
   "outputs": [
    {
     "name": "stdout",
     "output_type": "stream",
     "text": [
      "Sex\n",
      "F    5791\n",
      "M    7093\n",
      "Name: count, dtype: int64\n",
      "Sex\n",
      "F     914\n",
      "M    1023\n",
      "Name: count, dtype: int64\n"
     ]
    }
   ],
   "source": [
    "dfm2= l[l['Year']==2012]\n",
    "print(dfm2.groupby(['Sex'])['count'].sum())\n",
    "dfm2=dfm2[dfm2['Medal']!=0]\n",
    "print(dfm2.groupby(['Sex'])['count'].sum())"
   ]
  },
  {
   "cell_type": "markdown",
   "id": "a5e02adc",
   "metadata": {},
   "source": [
    "explore the slopgraphe and the percentage to compare the percentage of femel and male participation during the time.\n",
    "the pourcentage of medal from past to know. I will then explore the same direction for the country with most number of medail and also the country with less number of medail.  \n",
    "If possible, show the distribution of medal get by both gender in the word map.  To get which country could affect the gender performance in the olympic game.  "
   ]
  },
  {
   "cell_type": "code",
   "execution_count": 568,
   "id": "a2417b79",
   "metadata": {},
   "outputs": [
    {
     "data": {
      "text/plain": [
       "<AxesSubplot:xlabel='Sex', ylabel='count'>"
      ]
     },
     "execution_count": 568,
     "metadata": {},
     "output_type": "execute_result"
    },
    {
     "data": {
      "image/png": "[encoded data removed]",
      "text/plain": [
       "<Figure size 432x288 with 1 Axes>"
      ]
     },
     "metadata": {
      "needs_background": "light"
     },
     "output_type": "display_data"
    }
   ],
   "source": [
    "sns.countplot(data=df20, x='Sex')"
   ]
  },
  {
   "cell_type": "code",
   "execution_count": 569,
   "id": "83e55158",
   "metadata": {},
   "outputs": [
    {
     "data": {
      "text/plain": [
       "<AxesSubplot:xlabel='Sex', ylabel='count'>"
      ]
     },
     "execution_count": 569,
     "metadata": {},
     "output_type": "execute_result"
    },
    {
     "data": {
      "image/png": "[encoded data removed]",
      "text/plain": [
       "<Figure size 432x288 with 1 Axes>"
      ]
     },
     "metadata": {
      "needs_background": "light"
     },
     "output_type": "display_data"
    }
   ],
   "source": [
    "sns.countplot(data=df92, x='Sex')\n"
   ]
  },
  {
   "cell_type": "markdown",
   "id": "28d453e8",
   "metadata": {},
   "source": [
    "**count the total number of men and winen who participate to the onlympic and show the number of medal got per gender.**"
   ]
  },
  {
   "cell_type": "code",
   "execution_count": 570,
   "id": "2089e435",
   "metadata": {},
   "outputs": [],
   "source": [
    "l =df.groupby(['Sex', 'Year']).agg('count').reset_index()\n",
    "l['count'] = l['ID']\n",
    "l=l[['Sex','Year','count']]"
   ]
  },
  {
   "cell_type": "code",
   "execution_count": 571,
   "id": "e84f842a",
   "metadata": {},
   "outputs": [
    {
     "name": "stdout",
     "output_type": "stream",
     "text": [
      "<class 'pandas.core.frame.DataFrame'>\n",
      "RangeIndex: 69 entries, 0 to 68\n",
      "Data columns (total 3 columns):\n",
      " #   Column  Non-Null Count  Dtype \n",
      "---  ------  --------------  ----- \n",
      " 0   Sex     69 non-null     object\n",
      " 1   Year    69 non-null     int64 \n",
      " 2   count   69 non-null     int64 \n",
      "dtypes: int64(2), object(1)\n",
      "memory usage: 1.7+ KB\n"
     ]
    }
   ],
   "source": [
    "l['Year'] = l['Year'].astype(int)\n",
    "l.info()"
   ]
  },
  {
   "cell_type": "code",
   "execution_count": 572,
   "id": "d29f8747",
   "metadata": {},
   "outputs": [
    {
     "data": {
      "text/plain": [
       "<AxesSubplot:xlabel='Year', ylabel='count'>"
      ]
     },
     "execution_count": 572,
     "metadata": {},
     "output_type": "execute_result"
    },
    {
     "data": {
      "image/png": "[encoded data removed]",
      "text/plain": [
       "<Figure size 432x288 with 1 Axes>"
      ]
     },
     "metadata": {
      "needs_background": "light"
     },
     "output_type": "display_data"
    }
   ],
   "source": [
    "sns.lineplot(data=l, x='Year',y='count',hue='Sex')"
   ]
  },
  {
   "cell_type": "code",
   "execution_count": 573,
   "id": "e0a20c47",
   "metadata": {},
   "outputs": [
    {
     "data": {
      "text/html": [
       "<div>\n",
       "<style scoped>\n",
       "    .dataframe tbody tr th:only-of-type {\n",
       "        vertical-align: middle;\n",
       "    }\n",
       "\n",
       "    .dataframe tbody tr th {\n",
       "        vertical-align: top;\n",
       "    }\n",
       "\n",
       "    .dataframe thead th {\n",
       "        text-align: right;\n",
       "    }\n",
       "</style>\n",
       "<table border=\"1\" class=\"dataframe\">\n",
       "  <thead>\n",
       "    <tr style=\"text-align: right;\">\n",
       "      <th></th>\n",
       "      <th>Sex</th>\n",
       "      <th>Year</th>\n",
       "      <th>count</th>\n",
       "      <th>Medal</th>\n",
       "    </tr>\n",
       "  </thead>\n",
       "  <tbody>\n",
       "    <tr>\n",
       "      <th>0</th>\n",
       "      <td>F</td>\n",
       "      <td>1900.0</td>\n",
       "      <td>20</td>\n",
       "      <td>0</td>\n",
       "    </tr>\n",
       "    <tr>\n",
       "      <th>1</th>\n",
       "      <td>F</td>\n",
       "      <td>1900.0</td>\n",
       "      <td>5</td>\n",
       "      <td>Bronze</td>\n",
       "    </tr>\n",
       "    <tr>\n",
       "      <th>2</th>\n",
       "      <td>F</td>\n",
       "      <td>1900.0</td>\n",
       "      <td>4</td>\n",
       "      <td>Gold</td>\n",
       "    </tr>\n",
       "    <tr>\n",
       "      <th>3</th>\n",
       "      <td>F</td>\n",
       "      <td>1900.0</td>\n",
       "      <td>4</td>\n",
       "      <td>Silver</td>\n",
       "    </tr>\n",
       "    <tr>\n",
       "      <th>4</th>\n",
       "      <td>F</td>\n",
       "      <td>1904.0</td>\n",
       "      <td>6</td>\n",
       "      <td>0</td>\n",
       "    </tr>\n",
       "    <tr>\n",
       "      <th>...</th>\n",
       "      <td>...</td>\n",
       "      <td>...</td>\n",
       "      <td>...</td>\n",
       "      <td>...</td>\n",
       "    </tr>\n",
       "    <tr>\n",
       "      <th>271</th>\n",
       "      <td>M</td>\n",
       "      <td>2014.0</td>\n",
       "      <td>110</td>\n",
       "      <td>Silver</td>\n",
       "    </tr>\n",
       "    <tr>\n",
       "      <th>272</th>\n",
       "      <td>M</td>\n",
       "      <td>2016.0</td>\n",
       "      <td>6400</td>\n",
       "      <td>0</td>\n",
       "    </tr>\n",
       "    <tr>\n",
       "      <th>273</th>\n",
       "      <td>M</td>\n",
       "      <td>2016.0</td>\n",
       "      <td>372</td>\n",
       "      <td>Bronze</td>\n",
       "    </tr>\n",
       "    <tr>\n",
       "      <th>274</th>\n",
       "      <td>M</td>\n",
       "      <td>2016.0</td>\n",
       "      <td>346</td>\n",
       "      <td>Gold</td>\n",
       "    </tr>\n",
       "    <tr>\n",
       "      <th>275</th>\n",
       "      <td>M</td>\n",
       "      <td>2016.0</td>\n",
       "      <td>335</td>\n",
       "      <td>Silver</td>\n",
       "    </tr>\n",
       "  </tbody>\n",
       "</table>\n",
       "<p>276 rows × 4 columns</p>\n",
       "</div>"
      ],
      "text/plain": [
       "    Sex    Year  count   Medal\n",
       "0     F  1900.0     20       0\n",
       "1     F  1900.0      5  Bronze\n",
       "2     F  1900.0      4    Gold\n",
       "3     F  1900.0      4  Silver\n",
       "4     F  1904.0      6       0\n",
       "..   ..     ...    ...     ...\n",
       "271   M  2014.0    110  Silver\n",
       "272   M  2016.0   6400       0\n",
       "273   M  2016.0    372  Bronze\n",
       "274   M  2016.0    346    Gold\n",
       "275   M  2016.0    335  Silver\n",
       "\n",
       "[276 rows x 4 columns]"
      ]
     },
     "execution_count": 573,
     "metadata": {},
     "output_type": "execute_result"
    }
   ],
   "source": [
    "l =df.groupby(['Sex', 'Year','Medal']).agg('count').reset_index()\n",
    "l['count'] = l['ID']\n",
    "l=l[['Sex','Year','count','Medal']]\n",
    "l"
   ]
  },
  {
   "cell_type": "code",
   "execution_count": 574,
   "id": "95178aaa",
   "metadata": {},
   "outputs": [
    {
     "data": {
      "text/plain": [
       "<AxesSubplot:xlabel='Year', ylabel='count'>"
      ]
     },
     "execution_count": 574,
     "metadata": {},
     "output_type": "execute_result"
    },
    {
     "data": {
      "image/png": "[encoded data removed]",
      "text/plain": [
       "<Figure size 432x288 with 1 Axes>"
      ]
     },
     "metadata": {
      "needs_background": "light"
     },
     "output_type": "display_data"
    }
   ],
   "source": [
    "sns.lineplot(data=l, x='Year',y='count',hue='Medal',style='Sex')"
   ]
  },
  {
   "cell_type": "code",
   "execution_count": 575,
   "id": "c965d094",
   "metadata": {},
   "outputs": [],
   "source": [
    "l=l[l['Year']>=1990]"
   ]
  },
  {
   "cell_type": "code",
   "execution_count": 576,
   "id": "a7a54d3d",
   "metadata": {},
   "outputs": [
    {
     "data": {
      "text/plain": [
       "<AxesSubplot:xlabel='Year', ylabel='count'>"
      ]
     },
     "execution_count": 576,
     "metadata": {},
     "output_type": "execute_result"
    },
    {
     "data": {
      "image/png": "[encoded data removed]",
      "text/plain": [
       "<Figure size 432x288 with 1 Axes>"
      ]
     },
     "metadata": {
      "needs_background": "light"
     },
     "output_type": "display_data"
    }
   ],
   "source": [
    "sns.lineplot(data=l, x='Year',y='count',hue='Medal',style='Sex',markers=True)"
   ]
  },
  {
   "cell_type": "markdown",
   "id": "f9c0a5f2",
   "metadata": {},
   "source": [
    "# How does age and gender affect olympic sports performance?"
   ]
  },
  {
   "cell_type": "markdown",
   "id": "02c09646",
   "metadata": {},
   "source": [
    "# Does location really affect an athlete performance?"
   ]
  },
  {
   "cell_type": "markdown",
   "id": "9e8e28bc",
   "metadata": {},
   "source": [
    "# How sport Location Affects athlete Performance?"
   ]
  },
  {
   "cell_type": "markdown",
   "id": "bbb9fe31",
   "metadata": {},
   "source": [
    "# How does the athlete with more medal evolve in year?"
   ]
  },
  {
   "cell_type": "markdown",
   "id": "010c1866",
   "metadata": {},
   "source": [
    "**1. What effect does the host country have in the medals won at the Olympics?**\n",
    "\n",
    "**2. Is the performance of countries in Olympic games affected by the economic factors of the country?**\n",
    "\n",
    "**3. Is the age of winning Olympics changing?**"
   ]
  },
  {
   "cell_type": "markdown",
   "id": "13181c0e",
   "metadata": {},
   "source": [
    "# Number of  olympic games host by country"
   ]
  },
  {
   "cell_type": "code",
   "execution_count": 577,
   "id": "324e20e4",
   "metadata": {},
   "outputs": [
    {
     "data": {
      "image/png": "[encoded data removed]",
      "text/plain": [
       "<Figure size 360x720 with 1 Axes>"
      ]
     },
     "metadata": {
      "needs_background": "light"
     },
     "output_type": "display_data"
    }
   ],
   "source": [
    "tmp = df.groupby(['City'])['Season'].value_counts()\n",
    "df4 = pd.DataFrame(data={'Medal': tmp.values}, index=tmp.index).reset_index()\n",
    "\n",
    "newdf = df4.merge(country, how='right').dropna()\n",
    "plt.figure(figsize=(5,10))\n",
    "sns.countplot(data=newdf, y='Country', palette='Set1', order = newdf['Country'].value_counts().index)\n",
    "plt.yticks( \n",
    "    horizontalalignment='right',\n",
    "    fontsize='large'  \n",
    ")\n",
    "plt.show()"
   ]
  },
  {
   "cell_type": "code",
   "execution_count": 578,
   "id": "9638e37b",
   "metadata": {},
   "outputs": [],
   "source": [
    "cont = newdf.groupby('Country')['Country'].value_counts()\n",
    "l = pd.unique(newdf['Country'].sort_values())\n",
    "pfd = pd.DataFrame({'Team':l, 'count':cont.values})\n",
    "\n"
   ]
  },
  {
   "cell_type": "markdown",
   "id": "f7322715",
   "metadata": {},
   "source": [
    "\n",
    "#  Does hosting the Olympic games and the country's economy affect its performance?\n"
   ]
  },
  {
   "cell_type": "markdown",
   "id": "99cf8580",
   "metadata": {},
   "source": [
    "## Top 12 world countries that have won more medial and organized at least one Olympic game."
   ]
  },
  {
   "cell_type": "code",
   "execution_count": 579,
   "id": "3e958143",
   "metadata": {},
   "outputs": [],
   "source": [
    "import plotly.express as px\n",
    "import plotly.io as pio"
   ]
  },
  {
   "cell_type": "code",
   "execution_count": null,
   "id": "6be3c4c1",
   "metadata": {},
   "outputs": [],
   "source": []
  },
  {
   "cell_type": "code",
   "execution_count": 590,
   "id": "dbd38265",
   "metadata": {
    "scrolled": false
   },
   "outputs": [
    {
     "data": {
      "application/vnd.plotly.v1+json": {
       "config": {
        "plotlyServerURL": "https://plot.ly"
       },
       "data": [
        {
         "alignmentgroup": "True",
         "base": [
          2
         ],
         "hovertemplate": "Number of Olympic games organized=8<br>Oder=%{base}<br>Medal=%{text}<br>Team=%{y}<extra></extra>",
         "legendgroup": "8",
         "marker": {
          "color": "#636efa",
          "pattern": {
           "shape": ""
          }
         },
         "name": "8",
         "offsetgroup": "8",
         "orientation": "h",
         "showlegend": true,
         "text": [
          17847
         ],
         "textposition": "auto",
         "type": "bar",
         "x": [
          17847
         ],
         "xaxis": "x",
         "y": [
          "united states"
         ],
         "yaxis": "y"
        },
        {
         "alignmentgroup": "True",
         "base": [
          11
         ],
         "hovertemplate": "Number of Olympic games organized=5<br>Oder=%{base}<br>Medal=%{text}<br>Team=%{y}<extra></extra>",
         "legendgroup": "5",
         "marker": {
          "color": "#EF553B",
          "pattern": {
           "shape": ""
          }
         },
         "name": "5",
         "offsetgroup": "5",
         "orientation": "h",
         "showlegend": true,
         "text": [
          11988
         ],
         "textposition": "auto",
         "type": "bar",
         "x": [
          11988
         ],
         "xaxis": "x",
         "y": [
          "france"
         ],
         "yaxis": "y"
        },
        {
         "alignmentgroup": "True",
         "base": [
          9,
          12,
          6,
          7,
          10
         ],
         "hovertemplate": "Number of Olympic games organized=3<br>Oder=%{base}<br>Medal=%{text}<br>Team=%{y}<extra></extra>",
         "legendgroup": "3",
         "marker": {
          "color": "#00cc96",
          "pattern": {
           "shape": ""
          }
         },
         "name": "3",
         "offsetgroup": "3",
         "orientation": "h",
         "showlegend": true,
         "text": [
          11404,
          10260,
          9326,
          9279,
          8289
         ],
         "textposition": "auto",
         "type": "bar",
         "x": [
          11404,
          10260,
          9326,
          9279,
          8289
         ],
         "xaxis": "x",
         "y": [
          "united kingdom",
          "italy",
          "germany",
          "canada",
          "japan"
         ],
         "yaxis": "y"
        },
        {
         "alignmentgroup": "True",
         "base": [
          4,
          5
         ],
         "hovertemplate": "Number of Olympic games organized=2<br>Oder=%{base}<br>Medal=%{text}<br>Team=%{y}<extra></extra>",
         "legendgroup": "2",
         "marker": {
          "color": "#ab63fa",
          "pattern": {
           "shape": ""
          }
         },
         "name": "2",
         "offsetgroup": "2",
         "orientation": "h",
         "showlegend": true,
         "text": [
          8052,
          7513
         ],
         "textposition": "auto",
         "type": "bar",
         "x": [
          8052,
          7513
         ],
         "xaxis": "x",
         "y": [
          "sweden",
          "australia"
         ],
         "yaxis": "y"
        },
        {
         "alignmentgroup": "True",
         "base": [
          1,
          3,
          8
         ],
         "hovertemplate": "Number of Olympic games organized=1<br>Oder=%{base}<br>Medal=%{text}<br>Team=%{y}<extra></extra>",
         "legendgroup": "1",
         "marker": {
          "color": "#FFA15A",
          "pattern": {
           "shape": ""
          }
         },
         "name": "1",
         "offsetgroup": "1",
         "orientation": "h",
         "showlegend": true,
         "text": [
          5844,
          5718,
          5379
         ],
         "textposition": "auto",
         "type": "bar",
         "x": [
          5844,
          5718,
          5379
         ],
         "xaxis": "x",
         "y": [
          "switzerland",
          "netherlands",
          "finland"
         ],
         "yaxis": "y"
        }
       ],
       "layout": {
        "barmode": "relative",
        "font": {
         "color": "black"
        },
        "legend": {
         "orientation": "h",
         "title": {
          "font": {
           "color": "black"
          },
          "text": "Number of Olympic games organized"
         },
         "tracegroupgap": 0,
         "x": 0.9,
         "xanchor": "right",
         "y": 1.02,
         "yanchor": "bottom"
        },
        "paper_bgcolor": "rgba(0, 0, 0, 0)",
        "plot_bgcolor": "rgba(0, 0, 0, 0)",
        "template": {
         "data": {
          "bar": [
           {
            "error_x": {
             "color": "#2a3f5f"
            },
            "error_y": {
             "color": "#2a3f5f"
            },
            "marker": {
             "line": {
              "color": "#E5ECF6",
              "width": 0.5
             },
             "pattern": {
              "fillmode": "overlay",
              "size": 10,
              "solidity": 0.2
             }
            },
            "type": "bar"
           }
          ],
          "barpolar": [
           {
            "marker": {
             "line": {
              "color": "#E5ECF6",
              "width": 0.5
             },
             "pattern": {
              "fillmode": "overlay",
              "size": 10,
              "solidity": 0.2
             }
            },
            "type": "barpolar"
           }
          ],
          "carpet": [
           {
            "aaxis": {
             "endlinecolor": "#2a3f5f",
             "gridcolor": "white",
             "linecolor": "white",
             "minorgridcolor": "white",
             "startlinecolor": "#2a3f5f"
            },
            "baxis": {
             "endlinecolor": "#2a3f5f",
             "gridcolor": "white",
             "linecolor": "white",
             "minorgridcolor": "white",
             "startlinecolor": "#2a3f5f"
            },
            "type": "carpet"
           }
          ],
          "choropleth": [
           {
            "colorbar": {
             "outlinewidth": 0,
             "ticks": ""
            },
            "type": "choropleth"
           }
          ],
          "contour": [
           {
            "colorbar": {
             "outlinewidth": 0,
             "ticks": ""
            },
            "colorscale": [
             [
              0,
              "#0d0887"
             ],
             [
              0.1111111111111111,
              "#46039f"
             ],
             [
              0.2222222222222222,
              "#7201a8"
             ],
             [
              0.3333333333333333,
              "#9c179e"
             ],
             [
              0.4444444444444444,
              "#bd3786"
             ],
             [
              0.5555555555555556,
              "#d8576b"
             ],
             [
              0.6666666666666666,
              "#ed7953"
             ],
             [
              0.7777777777777778,
              "#fb9f3a"
             ],
             [
              0.8888888888888888,
              "#fdca26"
             ],
             [
              1,
              "#f0f921"
             ]
            ],
            "type": "contour"
           }
          ],
          "contourcarpet": [
           {
            "colorbar": {
             "outlinewidth": 0,
             "ticks": ""
            },
            "type": "contourcarpet"
           }
          ],
          "heatmap": [
           {
            "colorbar": {
             "outlinewidth": 0,
             "ticks": ""
            },
            "colorscale": [
             [
              0,
              "#0d0887"
             ],
             [
              0.1111111111111111,
              "#46039f"
             ],
             [
              0.2222222222222222,
              "#7201a8"
             ],
             [
              0.3333333333333333,
              "#9c179e"
             ],
             [
              0.4444444444444444,
              "#bd3786"
             ],
             [
              0.5555555555555556,
              "#d8576b"
             ],
             [
              0.6666666666666666,
              "#ed7953"
             ],
             [
              0.7777777777777778,
              "#fb9f3a"
             ],
             [
              0.8888888888888888,
              "#fdca26"
             ],
             [
              1,
              "#f0f921"
             ]
            ],
            "type": "heatmap"
           }
          ],
          "heatmapgl": [
           {
            "colorbar": {
             "outlinewidth": 0,
             "ticks": ""
            },
            "colorscale": [
             [
              0,
              "#0d0887"
             ],
             [
              0.1111111111111111,
              "#46039f"
             ],
             [
              0.2222222222222222,
              "#7201a8"
             ],
             [
              0.3333333333333333,
              "#9c179e"
             ],
             [
              0.4444444444444444,
              "#bd3786"
             ],
             [
              0.5555555555555556,
              "#d8576b"
             ],
             [
              0.6666666666666666,
              "#ed7953"
             ],
             [
              0.7777777777777778,
              "#fb9f3a"
             ],
             [
              0.8888888888888888,
              "#fdca26"
             ],
             [
              1,
              "#f0f921"
             ]
            ],
            "type": "heatmapgl"
           }
          ],
          "histogram": [
           {
            "marker": {
             "pattern": {
              "fillmode": "overlay",
              "size": 10,
              "solidity": 0.2
             }
            },
            "type": "histogram"
           }
          ],
          "histogram2d": [
           {
            "colorbar": {
             "outlinewidth": 0,
             "ticks": ""
            },
            "colorscale": [
             [
              0,
              "#0d0887"
             ],
             [
              0.1111111111111111,
              "#46039f"
             ],
             [
              0.2222222222222222,
              "#7201a8"
             ],
             [
              0.3333333333333333,
              "#9c179e"
             ],
             [
              0.4444444444444444,
              "#bd3786"
             ],
             [
              0.5555555555555556,
              "#d8576b"
             ],
             [
              0.6666666666666666,
              "#ed7953"
             ],
             [
              0.7777777777777778,
              "#fb9f3a"
             ],
             [
              0.8888888888888888,
              "#fdca26"
             ],
             [
              1,
              "#f0f921"
             ]
            ],
            "type": "histogram2d"
           }
          ],
          "histogram2dcontour": [
           {
            "colorbar": {
             "outlinewidth": 0,
             "ticks": ""
            },
            "colorscale": [
             [
              0,
              "#0d0887"
             ],
             [
              0.1111111111111111,
              "#46039f"
             ],
             [
              0.2222222222222222,
              "#7201a8"
             ],
             [
              0.3333333333333333,
              "#9c179e"
             ],
             [
              0.4444444444444444,
              "#bd3786"
             ],
             [
              0.5555555555555556,
              "#d8576b"
             ],
             [
              0.6666666666666666,
              "#ed7953"
             ],
             [
              0.7777777777777778,
              "#fb9f3a"
             ],
             [
              0.8888888888888888,
              "#fdca26"
             ],
             [
              1,
              "#f0f921"
             ]
            ],
            "type": "histogram2dcontour"
           }
          ],
          "mesh3d": [
           {
            "colorbar": {
             "outlinewidth": 0,
             "ticks": ""
            },
            "type": "mesh3d"
           }
          ],
          "parcoords": [
           {
            "line": {
             "colorbar": {
              "outlinewidth": 0,
              "ticks": ""
             }
            },
            "type": "parcoords"
           }
          ],
          "pie": [
           {
            "automargin": true,
            "type": "pie"
           }
          ],
          "scatter": [
           {
            "fillpattern": {
             "fillmode": "overlay",
             "size": 10,
             "solidity": 0.2
            },
            "type": "scatter"
           }
          ],
          "scatter3d": [
           {
            "line": {
             "colorbar": {
              "outlinewidth": 0,
              "ticks": ""
             }
            },
            "marker": {
             "colorbar": {
              "outlinewidth": 0,
              "ticks": ""
             }
            },
            "type": "scatter3d"
           }
          ],
          "scattercarpet": [
           {
            "marker": {
             "colorbar": {
              "outlinewidth": 0,
              "ticks": ""
             }
            },
            "type": "scattercarpet"
           }
          ],
          "scattergeo": [
           {
            "marker": {
             "colorbar": {
              "outlinewidth": 0,
              "ticks": ""
             }
            },
            "type": "scattergeo"
           }
          ],
          "scattergl": [
           {
            "marker": {
             "colorbar": {
              "outlinewidth": 0,
              "ticks": ""
             }
            },
            "type": "scattergl"
           }
          ],
          "scattermapbox": [
           {
            "marker": {
             "colorbar": {
              "outlinewidth": 0,
              "ticks": ""
             }
            },
            "type": "scattermapbox"
           }
          ],
          "scatterpolar": [
           {
            "marker": {
             "colorbar": {
              "outlinewidth": 0,
              "ticks": ""
             }
            },
            "type": "scatterpolar"
           }
          ],
          "scatterpolargl": [
           {
            "marker": {
             "colorbar": {
              "outlinewidth": 0,
              "ticks": ""
             }
            },
            "type": "scatterpolargl"
           }
          ],
          "scatterternary": [
           {
            "marker": {
             "colorbar": {
              "outlinewidth": 0,
              "ticks": ""
             }
            },
            "type": "scatterternary"
           }
          ],
          "surface": [
           {
            "colorbar": {
             "outlinewidth": 0,
             "ticks": ""
            },
            "colorscale": [
             [
              0,
              "#0d0887"
             ],
             [
              0.1111111111111111,
              "#46039f"
             ],
             [
              0.2222222222222222,
              "#7201a8"
             ],
             [
              0.3333333333333333,
              "#9c179e"
             ],
             [
              0.4444444444444444,
              "#bd3786"
             ],
             [
              0.5555555555555556,
              "#d8576b"
             ],
             [
              0.6666666666666666,
              "#ed7953"
             ],
             [
              0.7777777777777778,
              "#fb9f3a"
             ],
             [
              0.8888888888888888,
              "#fdca26"
             ],
             [
              1,
              "#f0f921"
             ]
            ],
            "type": "surface"
           }
          ],
          "table": [
           {
            "cells": {
             "fill": {
              "color": "#EBF0F8"
             },
             "line": {
              "color": "white"
             }
            },
            "header": {
             "fill": {
              "color": "#C8D4E3"
             },
             "line": {
              "color": "white"
             }
            },
            "type": "table"
           }
          ]
         },
         "layout": {
          "annotationdefaults": {
           "arrowcolor": "#2a3f5f",
           "arrowhead": 0,
           "arrowwidth": 1
          },
          "autotypenumbers": "strict",
          "coloraxis": {
           "colorbar": {
            "outlinewidth": 0,
            "ticks": ""
           }
          },
          "colorscale": {
           "diverging": [
            [
             0,
             "#8e0152"
            ],
            [
             0.1,
             "#c51b7d"
            ],
            [
             0.2,
             "#de77ae"
            ],
            [
             0.3,
             "#f1b6da"
            ],
            [
             0.4,
             "#fde0ef"
            ],
            [
             0.5,
             "#f7f7f7"
            ],
            [
             0.6,
             "#e6f5d0"
            ],
            [
             0.7,
             "#b8e186"
            ],
            [
             0.8,
             "#7fbc41"
            ],
            [
             0.9,
             "#4d9221"
            ],
            [
             1,
             "#276419"
            ]
           ],
           "sequential": [
            [
             0,
             "#0d0887"
            ],
            [
             0.1111111111111111,
             "#46039f"
            ],
            [
             0.2222222222222222,
             "#7201a8"
            ],
            [
             0.3333333333333333,
             "#9c179e"
            ],
            [
             0.4444444444444444,
             "#bd3786"
            ],
            [
             0.5555555555555556,
             "#d8576b"
            ],
            [
             0.6666666666666666,
             "#ed7953"
            ],
            [
             0.7777777777777778,
             "#fb9f3a"
            ],
            [
             0.8888888888888888,
             "#fdca26"
            ],
            [
             1,
             "#f0f921"
            ]
           ],
           "sequentialminus": [
            [
             0,
             "#0d0887"
            ],
            [
             0.1111111111111111,
             "#46039f"
            ],
            [
             0.2222222222222222,
             "#7201a8"
            ],
            [
             0.3333333333333333,
             "#9c179e"
            ],
            [
             0.4444444444444444,
             "#bd3786"
            ],
            [
             0.5555555555555556,
             "#d8576b"
            ],
            [
             0.6666666666666666,
             "#ed7953"
            ],
            [
             0.7777777777777778,
             "#fb9f3a"
            ],
            [
             0.8888888888888888,
             "#fdca26"
            ],
            [
             1,
             "#f0f921"
            ]
           ]
          },
          "colorway": [
           "#636efa",
           "#EF553B",
           "#00cc96",
           "#ab63fa",
           "#FFA15A",
           "#19d3f3",
           "#FF6692",
           "#B6E880",
           "#FF97FF",
           "#FECB52"
          ],
          "font": {
           "color": "#2a3f5f"
          },
          "geo": {
           "bgcolor": "white",
           "lakecolor": "white",
           "landcolor": "#E5ECF6",
           "showlakes": true,
           "showland": true,
           "subunitcolor": "white"
          },
          "hoverlabel": {
           "align": "left"
          },
          "hovermode": "closest",
          "mapbox": {
           "style": "light"
          },
          "paper_bgcolor": "white",
          "plot_bgcolor": "#E5ECF6",
          "polar": {
           "angularaxis": {
            "gridcolor": "white",
            "linecolor": "white",
            "ticks": ""
           },
           "bgcolor": "#E5ECF6",
           "radialaxis": {
            "gridcolor": "white",
            "linecolor": "white",
            "ticks": ""
           }
          },
          "scene": {
           "xaxis": {
            "backgroundcolor": "#E5ECF6",
            "gridcolor": "white",
            "gridwidth": 2,
            "linecolor": "white",
            "showbackground": true,
            "ticks": "",
            "zerolinecolor": "white"
           },
           "yaxis": {
            "backgroundcolor": "#E5ECF6",
            "gridcolor": "white",
            "gridwidth": 2,
            "linecolor": "white",
            "showbackground": true,
            "ticks": "",
            "zerolinecolor": "white"
           },
           "zaxis": {
            "backgroundcolor": "#E5ECF6",
            "gridcolor": "white",
            "gridwidth": 2,
            "linecolor": "white",
            "showbackground": true,
            "ticks": "",
            "zerolinecolor": "white"
           }
          },
          "shapedefaults": {
           "line": {
            "color": "#2a3f5f"
           }
          },
          "ternary": {
           "aaxis": {
            "gridcolor": "white",
            "linecolor": "white",
            "ticks": ""
           },
           "baxis": {
            "gridcolor": "white",
            "linecolor": "white",
            "ticks": ""
           },
           "bgcolor": "#E5ECF6",
           "caxis": {
            "gridcolor": "white",
            "linecolor": "white",
            "ticks": ""
           }
          },
          "title": {
           "x": 0.05
          },
          "xaxis": {
           "automargin": true,
           "gridcolor": "white",
           "linecolor": "white",
           "ticks": "",
           "title": {
            "standoff": 15
           },
           "zerolinecolor": "white",
           "zerolinewidth": 2
          },
          "yaxis": {
           "automargin": true,
           "gridcolor": "white",
           "linecolor": "white",
           "ticks": "",
           "title": {
            "standoff": 15
           },
           "zerolinecolor": "white",
           "zerolinewidth": 2
          }
         }
        },
        "title": {
         "font": {
          "color": "black"
         },
         "text": "Top 12 world countries that have won more medal and organized at \nleast one Olympic game."
        },
        "xaxis": {
         "anchor": "y",
         "domain": [
          0,
          1
         ],
         "title": {
          "text": "Medal"
         }
        },
        "yaxis": {
         "anchor": "x",
         "autorange": "reversed",
         "domain": [
          0,
          1
         ],
         "title": {
          "text": ""
         }
        }
       }
      },
      "text/html": [
       "<div>                            <div id=\"5a653f2c-68ba-433c-aa32-a8cb6ec5b36f\" class=\"plotly-graph-div\" style=\"height:525px; width:100%;\"></div>            <script type=\"text/javascript\">                require([\"plotly\"], function(Plotly) {                    window.PLOTLYENV=window.PLOTLYENV || {};                                    if (document.getElementById(\"5a653f2c-68ba-433c-aa32-a8cb6ec5b36f\")) {                    Plotly.newPlot(                        \"5a653f2c-68ba-433c-aa32-a8cb6ec5b36f\",                        [{\"alignmentgroup\":\"True\",\"base\":[2],\"hovertemplate\":\"Number of Olympic games organized=8<br>Oder=%{base}<br>Medal=%{text}<br>Team=%{y}<extra></extra>\",\"legendgroup\":\"8\",\"marker\":{\"color\":\"#636efa\",\"pattern\":{\"shape\":\"\"}},\"name\":\"8\",\"offsetgroup\":\"8\",\"orientation\":\"h\",\"showlegend\":true,\"text\":[17847.0],\"textposition\":\"auto\",\"x\":[17847],\"xaxis\":\"x\",\"y\":[\"united states\"],\"yaxis\":\"y\",\"type\":\"bar\"},{\"alignmentgroup\":\"True\",\"base\":[11],\"hovertemplate\":\"Number of Olympic games organized=5<br>Oder=%{base}<br>Medal=%{text}<br>Team=%{y}<extra></extra>\",\"legendgroup\":\"5\",\"marker\":{\"color\":\"#EF553B\",\"pattern\":{\"shape\":\"\"}},\"name\":\"5\",\"offsetgroup\":\"5\",\"orientation\":\"h\",\"showlegend\":true,\"text\":[11988.0],\"textposition\":\"auto\",\"x\":[11988],\"xaxis\":\"x\",\"y\":[\"france\"],\"yaxis\":\"y\",\"type\":\"bar\"},{\"alignmentgroup\":\"True\",\"base\":[9,12,6,7,10],\"hovertemplate\":\"Number of Olympic games organized=3<br>Oder=%{base}<br>Medal=%{text}<br>Team=%{y}<extra></extra>\",\"legendgroup\":\"3\",\"marker\":{\"color\":\"#00cc96\",\"pattern\":{\"shape\":\"\"}},\"name\":\"3\",\"offsetgroup\":\"3\",\"orientation\":\"h\",\"showlegend\":true,\"text\":[11404.0,10260.0,9326.0,9279.0,8289.0],\"textposition\":\"auto\",\"x\":[11404,10260,9326,9279,8289],\"xaxis\":\"x\",\"y\":[\"united kingdom\",\"italy\",\"germany\",\"canada\",\"japan\"],\"yaxis\":\"y\",\"type\":\"bar\"},{\"alignmentgroup\":\"True\",\"base\":[4,5],\"hovertemplate\":\"Number of Olympic games organized=2<br>Oder=%{base}<br>Medal=%{text}<br>Team=%{y}<extra></extra>\",\"legendgroup\":\"2\",\"marker\":{\"color\":\"#ab63fa\",\"pattern\":{\"shape\":\"\"}},\"name\":\"2\",\"offsetgroup\":\"2\",\"orientation\":\"h\",\"showlegend\":true,\"text\":[8052.0,7513.0],\"textposition\":\"auto\",\"x\":[8052,7513],\"xaxis\":\"x\",\"y\":[\"sweden\",\"australia\"],\"yaxis\":\"y\",\"type\":\"bar\"},{\"alignmentgroup\":\"True\",\"base\":[1,3,8],\"hovertemplate\":\"Number of Olympic games organized=1<br>Oder=%{base}<br>Medal=%{text}<br>Team=%{y}<extra></extra>\",\"legendgroup\":\"1\",\"marker\":{\"color\":\"#FFA15A\",\"pattern\":{\"shape\":\"\"}},\"name\":\"1\",\"offsetgroup\":\"1\",\"orientation\":\"h\",\"showlegend\":true,\"text\":[5844.0,5718.0,5379.0],\"textposition\":\"auto\",\"x\":[5844,5718,5379],\"xaxis\":\"x\",\"y\":[\"switzerland\",\"netherlands\",\"finland\"],\"yaxis\":\"y\",\"type\":\"bar\"}],                        {\"template\":{\"data\":{\"histogram2dcontour\":[{\"type\":\"histogram2dcontour\",\"colorbar\":{\"outlinewidth\":0,\"ticks\":\"\"},\"colorscale\":[[0.0,\"#0d0887\"],[0.1111111111111111,\"#46039f\"],[0.2222222222222222,\"#7201a8\"],[0.3333333333333333,\"#9c179e\"],[0.4444444444444444,\"#bd3786\"],[0.5555555555555556,\"#d8576b\"],[0.6666666666666666,\"#ed7953\"],[0.7777777777777778,\"#fb9f3a\"],[0.8888888888888888,\"#fdca26\"],[1.0,\"#f0f921\"]]}],\"choropleth\":[{\"type\":\"choropleth\",\"colorbar\":{\"outlinewidth\":0,\"ticks\":\"\"}}],\"histogram2d\":[{\"type\":\"histogram2d\",\"colorbar\":{\"outlinewidth\":0,\"ticks\":\"\"},\"colorscale\":[[0.0,\"#0d0887\"],[0.1111111111111111,\"#46039f\"],[0.2222222222222222,\"#7201a8\"],[0.3333333333333333,\"#9c179e\"],[0.4444444444444444,\"#bd3786\"],[0.5555555555555556,\"#d8576b\"],[0.6666666666666666,\"#ed7953\"],[0.7777777777777778,\"#fb9f3a\"],[0.8888888888888888,\"#fdca26\"],[1.0,\"#f0f921\"]]}],\"heatmap\":[{\"type\":\"heatmap\",\"colorbar\":{\"outlinewidth\":0,\"ticks\":\"\"},\"colorscale\":[[0.0,\"#0d0887\"],[0.1111111111111111,\"#46039f\"],[0.2222222222222222,\"#7201a8\"],[0.3333333333333333,\"#9c179e\"],[0.4444444444444444,\"#bd3786\"],[0.5555555555555556,\"#d8576b\"],[0.6666666666666666,\"#ed7953\"],[0.7777777777777778,\"#fb9f3a\"],[0.8888888888888888,\"#fdca26\"],[1.0,\"#f0f921\"]]}],\"heatmapgl\":[{\"type\":\"heatmapgl\",\"colorbar\":{\"outlinewidth\":0,\"ticks\":\"\"},\"colorscale\":[[0.0,\"#0d0887\"],[0.1111111111111111,\"#46039f\"],[0.2222222222222222,\"#7201a8\"],[0.3333333333333333,\"#9c179e\"],[0.4444444444444444,\"#bd3786\"],[0.5555555555555556,\"#d8576b\"],[0.6666666666666666,\"#ed7953\"],[0.7777777777777778,\"#fb9f3a\"],[0.8888888888888888,\"#fdca26\"],[1.0,\"#f0f921\"]]}],\"contourcarpet\":[{\"type\":\"contourcarpet\",\"colorbar\":{\"outlinewidth\":0,\"ticks\":\"\"}}],\"contour\":[{\"type\":\"contour\",\"colorbar\":{\"outlinewidth\":0,\"ticks\":\"\"},\"colorscale\":[[0.0,\"#0d0887\"],[0.1111111111111111,\"#46039f\"],[0.2222222222222222,\"#7201a8\"],[0.3333333333333333,\"#9c179e\"],[0.4444444444444444,\"#bd3786\"],[0.5555555555555556,\"#d8576b\"],[0.6666666666666666,\"#ed7953\"],[0.7777777777777778,\"#fb9f3a\"],[0.8888888888888888,\"#fdca26\"],[1.0,\"#f0f921\"]]}],\"surface\":[{\"type\":\"surface\",\"colorbar\":{\"outlinewidth\":0,\"ticks\":\"\"},\"colorscale\":[[0.0,\"#0d0887\"],[0.1111111111111111,\"#46039f\"],[0.2222222222222222,\"#7201a8\"],[0.3333333333333333,\"#9c179e\"],[0.4444444444444444,\"#bd3786\"],[0.5555555555555556,\"#d8576b\"],[0.6666666666666666,\"#ed7953\"],[0.7777777777777778,\"#fb9f3a\"],[0.8888888888888888,\"#fdca26\"],[1.0,\"#f0f921\"]]}],\"mesh3d\":[{\"type\":\"mesh3d\",\"colorbar\":{\"outlinewidth\":0,\"ticks\":\"\"}}],\"scatter\":[{\"fillpattern\":{\"fillmode\":\"overlay\",\"size\":10,\"solidity\":0.2},\"type\":\"scatter\"}],\"parcoords\":[{\"type\":\"parcoords\",\"line\":{\"colorbar\":{\"outlinewidth\":0,\"ticks\":\"\"}}}],\"scatterpolargl\":[{\"type\":\"scatterpolargl\",\"marker\":{\"colorbar\":{\"outlinewidth\":0,\"ticks\":\"\"}}}],\"bar\":[{\"error_x\":{\"color\":\"#2a3f5f\"},\"error_y\":{\"color\":\"#2a3f5f\"},\"marker\":{\"line\":{\"color\":\"#E5ECF6\",\"width\":0.5},\"pattern\":{\"fillmode\":\"overlay\",\"size\":10,\"solidity\":0.2}},\"type\":\"bar\"}],\"scattergeo\":[{\"type\":\"scattergeo\",\"marker\":{\"colorbar\":{\"outlinewidth\":0,\"ticks\":\"\"}}}],\"scatterpolar\":[{\"type\":\"scatterpolar\",\"marker\":{\"colorbar\":{\"outlinewidth\":0,\"ticks\":\"\"}}}],\"histogram\":[{\"marker\":{\"pattern\":{\"fillmode\":\"overlay\",\"size\":10,\"solidity\":0.2}},\"type\":\"histogram\"}],\"scattergl\":[{\"type\":\"scattergl\",\"marker\":{\"colorbar\":{\"outlinewidth\":0,\"ticks\":\"\"}}}],\"scatter3d\":[{\"type\":\"scatter3d\",\"line\":{\"colorbar\":{\"outlinewidth\":0,\"ticks\":\"\"}},\"marker\":{\"colorbar\":{\"outlinewidth\":0,\"ticks\":\"\"}}}],\"scattermapbox\":[{\"type\":\"scattermapbox\",\"marker\":{\"colorbar\":{\"outlinewidth\":0,\"ticks\":\"\"}}}],\"scatterternary\":[{\"type\":\"scatterternary\",\"marker\":{\"colorbar\":{\"outlinewidth\":0,\"ticks\":\"\"}}}],\"scattercarpet\":[{\"type\":\"scattercarpet\",\"marker\":{\"colorbar\":{\"outlinewidth\":0,\"ticks\":\"\"}}}],\"carpet\":[{\"aaxis\":{\"endlinecolor\":\"#2a3f5f\",\"gridcolor\":\"white\",\"linecolor\":\"white\",\"minorgridcolor\":\"white\",\"startlinecolor\":\"#2a3f5f\"},\"baxis\":{\"endlinecolor\":\"#2a3f5f\",\"gridcolor\":\"white\",\"linecolor\":\"white\",\"minorgridcolor\":\"white\",\"startlinecolor\":\"#2a3f5f\"},\"type\":\"carpet\"}],\"table\":[{\"cells\":{\"fill\":{\"color\":\"#EBF0F8\"},\"line\":{\"color\":\"white\"}},\"header\":{\"fill\":{\"color\":\"#C8D4E3\"},\"line\":{\"color\":\"white\"}},\"type\":\"table\"}],\"barpolar\":[{\"marker\":{\"line\":{\"color\":\"#E5ECF6\",\"width\":0.5},\"pattern\":{\"fillmode\":\"overlay\",\"size\":10,\"solidity\":0.2}},\"type\":\"barpolar\"}],\"pie\":[{\"automargin\":true,\"type\":\"pie\"}]},\"layout\":{\"autotypenumbers\":\"strict\",\"colorway\":[\"#636efa\",\"#EF553B\",\"#00cc96\",\"#ab63fa\",\"#FFA15A\",\"#19d3f3\",\"#FF6692\",\"#B6E880\",\"#FF97FF\",\"#FECB52\"],\"font\":{\"color\":\"#2a3f5f\"},\"hovermode\":\"closest\",\"hoverlabel\":{\"align\":\"left\"},\"paper_bgcolor\":\"white\",\"plot_bgcolor\":\"#E5ECF6\",\"polar\":{\"bgcolor\":\"#E5ECF6\",\"angularaxis\":{\"gridcolor\":\"white\",\"linecolor\":\"white\",\"ticks\":\"\"},\"radialaxis\":{\"gridcolor\":\"white\",\"linecolor\":\"white\",\"ticks\":\"\"}},\"ternary\":{\"bgcolor\":\"#E5ECF6\",\"aaxis\":{\"gridcolor\":\"white\",\"linecolor\":\"white\",\"ticks\":\"\"},\"baxis\":{\"gridcolor\":\"white\",\"linecolor\":\"white\",\"ticks\":\"\"},\"caxis\":{\"gridcolor\":\"white\",\"linecolor\":\"white\",\"ticks\":\"\"}},\"coloraxis\":{\"colorbar\":{\"outlinewidth\":0,\"ticks\":\"\"}},\"colorscale\":{\"sequential\":[[0.0,\"#0d0887\"],[0.1111111111111111,\"#46039f\"],[0.2222222222222222,\"#7201a8\"],[0.3333333333333333,\"#9c179e\"],[0.4444444444444444,\"#bd3786\"],[0.5555555555555556,\"#d8576b\"],[0.6666666666666666,\"#ed7953\"],[0.7777777777777778,\"#fb9f3a\"],[0.8888888888888888,\"#fdca26\"],[1.0,\"#f0f921\"]],\"sequentialminus\":[[0.0,\"#0d0887\"],[0.1111111111111111,\"#46039f\"],[0.2222222222222222,\"#7201a8\"],[0.3333333333333333,\"#9c179e\"],[0.4444444444444444,\"#bd3786\"],[0.5555555555555556,\"#d8576b\"],[0.6666666666666666,\"#ed7953\"],[0.7777777777777778,\"#fb9f3a\"],[0.8888888888888888,\"#fdca26\"],[1.0,\"#f0f921\"]],\"diverging\":[[0,\"#8e0152\"],[0.1,\"#c51b7d\"],[0.2,\"#de77ae\"],[0.3,\"#f1b6da\"],[0.4,\"#fde0ef\"],[0.5,\"#f7f7f7\"],[0.6,\"#e6f5d0\"],[0.7,\"#b8e186\"],[0.8,\"#7fbc41\"],[0.9,\"#4d9221\"],[1,\"#276419\"]]},\"xaxis\":{\"gridcolor\":\"white\",\"linecolor\":\"white\",\"ticks\":\"\",\"title\":{\"standoff\":15},\"zerolinecolor\":\"white\",\"automargin\":true,\"zerolinewidth\":2},\"yaxis\":{\"gridcolor\":\"white\",\"linecolor\":\"white\",\"ticks\":\"\",\"title\":{\"standoff\":15},\"zerolinecolor\":\"white\",\"automargin\":true,\"zerolinewidth\":2},\"scene\":{\"xaxis\":{\"backgroundcolor\":\"#E5ECF6\",\"gridcolor\":\"white\",\"linecolor\":\"white\",\"showbackground\":true,\"ticks\":\"\",\"zerolinecolor\":\"white\",\"gridwidth\":2},\"yaxis\":{\"backgroundcolor\":\"#E5ECF6\",\"gridcolor\":\"white\",\"linecolor\":\"white\",\"showbackground\":true,\"ticks\":\"\",\"zerolinecolor\":\"white\",\"gridwidth\":2},\"zaxis\":{\"backgroundcolor\":\"#E5ECF6\",\"gridcolor\":\"white\",\"linecolor\":\"white\",\"showbackground\":true,\"ticks\":\"\",\"zerolinecolor\":\"white\",\"gridwidth\":2}},\"shapedefaults\":{\"line\":{\"color\":\"#2a3f5f\"}},\"annotationdefaults\":{\"arrowcolor\":\"#2a3f5f\",\"arrowhead\":0,\"arrowwidth\":1},\"geo\":{\"bgcolor\":\"white\",\"landcolor\":\"#E5ECF6\",\"subunitcolor\":\"white\",\"showland\":true,\"showlakes\":true,\"lakecolor\":\"white\"},\"title\":{\"x\":0.05},\"mapbox\":{\"style\":\"light\"}}},\"xaxis\":{\"anchor\":\"y\",\"domain\":[0.0,1.0],\"title\":{\"text\":\"Medal\"}},\"yaxis\":{\"anchor\":\"x\",\"domain\":[0.0,1.0],\"title\":{\"text\":\"\"},\"autorange\":\"reversed\"},\"legend\":{\"title\":{\"text\":\"Number of Olympic games organized\",\"font\":{\"color\":\"black\"}},\"tracegroupgap\":0,\"orientation\":\"h\",\"yanchor\":\"bottom\",\"y\":1.02,\"xanchor\":\"right\",\"x\":0.9},\"title\":{\"text\":\"Top 12 world countries that have won more medal and organized at \\nleast one Olympic game.\",\"font\":{\"color\":\"black\"}},\"barmode\":\"relative\",\"plot_bgcolor\":\"rgba(0, 0, 0, 0)\",\"paper_bgcolor\":\"rgba(0, 0, 0, 0)\",\"font\":{\"color\":\"black\"}},                        {\"responsive\": true}                    ).then(function(){\n",
       "                            \n",
       "var gd = document.getElementById('5a653f2c-68ba-433c-aa32-a8cb6ec5b36f');\n",
       "var x = new MutationObserver(function (mutations, observer) {{\n",
       "        var display = window.getComputedStyle(gd).display;\n",
       "        if (!display || display === 'none') {{\n",
       "            console.log([gd, 'removed!']);\n",
       "            Plotly.purge(gd);\n",
       "            observer.disconnect();\n",
       "        }}\n",
       "}});\n",
       "\n",
       "// Listen for the removal of the full notebook cells\n",
       "var notebookContainer = gd.closest('#notebook-container');\n",
       "if (notebookContainer) {{\n",
       "    x.observe(notebookContainer, {childList: true});\n",
       "}}\n",
       "\n",
       "// Listen for the clearing of the current output cell\n",
       "var outputEl = gd.closest('.output');\n",
       "if (outputEl) {{\n",
       "    x.observe(outputEl, {childList: true});\n",
       "}}\n",
       "\n",
       "                        })                };                });            </script>        </div>"
      ]
     },
     "metadata": {},
     "output_type": "display_data"
    }
   ],
   "source": [
    "cont = newdf.groupby('Country')['Country'].value_counts()\n",
    "l = pd.unique(newdf['Country'].sort_values())\n",
    "pfd = pd.DataFrame({'Team':l, 'count':cont.values})\n",
    "tmp = df.groupby(['Team'])['Medal'].agg('count').dropna()\n",
    "df5 = pd.DataFrame(tmp).reset_index()\n",
    "\n",
    "l = df5.merge(pfd, how='right').dropna()\n",
    "l =l.sort_values(by=['Medal'],ascending=False)\n",
    "l[\"count\"] = l[\"count\"].astype(\"category\")\n",
    "l = l.head(12)\n",
    "pg =gpd[gpd['Country Name'].isin(list(l['Team']))]\n",
    "pg = pg.sort_values(by=[2016,2015],ascending=False)\n",
    "pfd = pd.DataFrame({'Team':list(pg['Country Name'].head(12)), 'Oder':[i for i in range(1,13)]})\n",
    "ll = l.merge(pfd, how='right').dropna()\n",
    "ll =ll.sort_values(by=['Medal'],ascending=False)\n",
    "\n",
    "fig = px.bar(ll, x=\"Medal\", y=\"Team\", color=\"count\",text='Medal',base='Oder',color_continuous_scale='Oder',\n",
    "             title=\"Top 12 world countries that have won more medal and organized at \\nleast one Olympic game.\",\n",
    "labels={ # replaces default labels by column name\n",
    "                \"count\": \"Number of Olympic games organized\"\n",
    "            })\n",
    "fig.update_layout({\n",
    "'plot_bgcolor': 'rgba(0, 0, 0, 0)',\n",
    "'paper_bgcolor': 'rgba(0, 0, 0, 0)',\n",
    "})\n",
    "fig.update_layout(yaxis=dict(autorange=\"reversed\"), legend_title_font_color=\"black\",\n",
    "                  font_color=\"black\",\n",
    "    title_font_color=\"black\",)\n",
    "fig.update_yaxes(title_text='')\n",
    "fig.update_layout(legend=dict(\n",
    "    orientation=\"h\",\n",
    "    yanchor='bottom',\n",
    "    y=1.02,\n",
    "    xanchor=\"right\",\n",
    "    x=0.9\n",
    "))\n",
    "fig.show()\n",
    "pio.write_image(fig, \"top12.png\")\n"
   ]
  },
  {
   "attachments": {
    "image.png": {
     "image/png": "[encoded data removed]"
    }
   },
   "cell_type": "markdown",
   "id": "d0c57e87",
   "metadata": {},
   "source": [
    "![image.png](attachment:image.png)"
   ]
  },
  {
   "cell_type": "code",
   "execution_count": 581,
   "id": "a1403691",
   "metadata": {},
   "outputs": [
    {
     "data": {
      "text/html": [
       "<div>\n",
       "<style scoped>\n",
       "    .dataframe tbody tr th:only-of-type {\n",
       "        vertical-align: middle;\n",
       "    }\n",
       "\n",
       "    .dataframe tbody tr th {\n",
       "        vertical-align: top;\n",
       "    }\n",
       "\n",
       "    .dataframe thead th {\n",
       "        text-align: right;\n",
       "    }\n",
       "</style>\n",
       "<table border=\"1\" class=\"dataframe\">\n",
       "  <thead>\n",
       "    <tr style=\"text-align: right;\">\n",
       "      <th></th>\n",
       "      <th>Country Name</th>\n",
       "      <th>1896</th>\n",
       "      <th>1897</th>\n",
       "      <th>1898</th>\n",
       "      <th>1899</th>\n",
       "      <th>1900</th>\n",
       "      <th>1901</th>\n",
       "      <th>1902</th>\n",
       "      <th>1903</th>\n",
       "      <th>1904</th>\n",
       "      <th>...</th>\n",
       "      <th>2007</th>\n",
       "      <th>2008</th>\n",
       "      <th>2009</th>\n",
       "      <th>2010</th>\n",
       "      <th>2011</th>\n",
       "      <th>2012</th>\n",
       "      <th>2013</th>\n",
       "      <th>2014</th>\n",
       "      <th>2015</th>\n",
       "      <th>2016</th>\n",
       "    </tr>\n",
       "  </thead>\n",
       "  <tbody>\n",
       "    <tr>\n",
       "      <th>0</th>\n",
       "      <td>afghanistan</td>\n",
       "      <td>782</td>\n",
       "      <td>785</td>\n",
       "      <td>788</td>\n",
       "      <td>790</td>\n",
       "      <td>793</td>\n",
       "      <td>796</td>\n",
       "      <td>798</td>\n",
       "      <td>801</td>\n",
       "      <td>804</td>\n",
       "      <td>...</td>\n",
       "      <td>1285</td>\n",
       "      <td>1298</td>\n",
       "      <td>1531</td>\n",
       "      <td>1614</td>\n",
       "      <td>1661</td>\n",
       "      <td>1839</td>\n",
       "      <td>1814</td>\n",
       "      <td>1780</td>\n",
       "      <td>1748</td>\n",
       "      <td>1740</td>\n",
       "    </tr>\n",
       "    <tr>\n",
       "      <th>1</th>\n",
       "      <td>albania</td>\n",
       "      <td>1094</td>\n",
       "      <td>1109</td>\n",
       "      <td>1125</td>\n",
       "      <td>1140</td>\n",
       "      <td>1156</td>\n",
       "      <td>1172</td>\n",
       "      <td>1187</td>\n",
       "      <td>1203</td>\n",
       "      <td>1219</td>\n",
       "      <td>...</td>\n",
       "      <td>8448</td>\n",
       "      <td>9154</td>\n",
       "      <td>9525</td>\n",
       "      <td>9927</td>\n",
       "      <td>10208</td>\n",
       "      <td>10370</td>\n",
       "      <td>10504</td>\n",
       "      <td>10715</td>\n",
       "      <td>11025</td>\n",
       "      <td>11425</td>\n",
       "    </tr>\n",
       "    <tr>\n",
       "      <th>2</th>\n",
       "      <td>algeria</td>\n",
       "      <td>1675</td>\n",
       "      <td>1693</td>\n",
       "      <td>1711</td>\n",
       "      <td>1730</td>\n",
       "      <td>1749</td>\n",
       "      <td>1768</td>\n",
       "      <td>1787</td>\n",
       "      <td>1807</td>\n",
       "      <td>1826</td>\n",
       "      <td>...</td>\n",
       "      <td>12570</td>\n",
       "      <td>12660</td>\n",
       "      <td>12647</td>\n",
       "      <td>12870</td>\n",
       "      <td>12990</td>\n",
       "      <td>13162</td>\n",
       "      <td>13253</td>\n",
       "      <td>13483</td>\n",
       "      <td>13724</td>\n",
       "      <td>13975</td>\n",
       "    </tr>\n",
       "    <tr>\n",
       "      <th>3</th>\n",
       "      <td>andorra</td>\n",
       "      <td>3048</td>\n",
       "      <td>3084</td>\n",
       "      <td>3121</td>\n",
       "      <td>3158</td>\n",
       "      <td>3195</td>\n",
       "      <td>3233</td>\n",
       "      <td>3272</td>\n",
       "      <td>3310</td>\n",
       "      <td>3350</td>\n",
       "      <td>...</td>\n",
       "      <td>43442</td>\n",
       "      <td>41426</td>\n",
       "      <td>41735</td>\n",
       "      <td>38982</td>\n",
       "      <td>41958</td>\n",
       "      <td>41926</td>\n",
       "      <td>43735</td>\n",
       "      <td>44930</td>\n",
       "      <td>46578</td>\n",
       "      <td>48186</td>\n",
       "    </tr>\n",
       "    <tr>\n",
       "      <th>4</th>\n",
       "      <td>angola</td>\n",
       "      <td>941</td>\n",
       "      <td>946</td>\n",
       "      <td>950</td>\n",
       "      <td>954</td>\n",
       "      <td>958</td>\n",
       "      <td>962</td>\n",
       "      <td>967</td>\n",
       "      <td>971</td>\n",
       "      <td>975</td>\n",
       "      <td>...</td>\n",
       "      <td>5443</td>\n",
       "      <td>5978</td>\n",
       "      <td>5908</td>\n",
       "      <td>5895</td>\n",
       "      <td>5911</td>\n",
       "      <td>5999</td>\n",
       "      <td>6185</td>\n",
       "      <td>6260</td>\n",
       "      <td>6231</td>\n",
       "      <td>6025</td>\n",
       "    </tr>\n",
       "    <tr>\n",
       "      <th>...</th>\n",
       "      <td>...</td>\n",
       "      <td>...</td>\n",
       "      <td>...</td>\n",
       "      <td>...</td>\n",
       "      <td>...</td>\n",
       "      <td>...</td>\n",
       "      <td>...</td>\n",
       "      <td>...</td>\n",
       "      <td>...</td>\n",
       "      <td>...</td>\n",
       "      <td>...</td>\n",
       "      <td>...</td>\n",
       "      <td>...</td>\n",
       "      <td>...</td>\n",
       "      <td>...</td>\n",
       "      <td>...</td>\n",
       "      <td>...</td>\n",
       "      <td>...</td>\n",
       "      <td>...</td>\n",
       "      <td>...</td>\n",
       "      <td>...</td>\n",
       "    </tr>\n",
       "    <tr>\n",
       "      <th>197</th>\n",
       "      <td>vietnam</td>\n",
       "      <td>1043</td>\n",
       "      <td>1052</td>\n",
       "      <td>1061</td>\n",
       "      <td>1070</td>\n",
       "      <td>1079</td>\n",
       "      <td>1089</td>\n",
       "      <td>1098</td>\n",
       "      <td>1108</td>\n",
       "      <td>1117</td>\n",
       "      <td>...</td>\n",
       "      <td>3907</td>\n",
       "      <td>4085</td>\n",
       "      <td>4260</td>\n",
       "      <td>4486</td>\n",
       "      <td>4716</td>\n",
       "      <td>4910</td>\n",
       "      <td>5122</td>\n",
       "      <td>5370</td>\n",
       "      <td>5667</td>\n",
       "      <td>5955</td>\n",
       "    </tr>\n",
       "    <tr>\n",
       "      <th>198</th>\n",
       "      <td>yemen</td>\n",
       "      <td>1151</td>\n",
       "      <td>1154</td>\n",
       "      <td>1157</td>\n",
       "      <td>1160</td>\n",
       "      <td>1164</td>\n",
       "      <td>1167</td>\n",
       "      <td>1170</td>\n",
       "      <td>1174</td>\n",
       "      <td>1177</td>\n",
       "      <td>...</td>\n",
       "      <td>4192</td>\n",
       "      <td>4228</td>\n",
       "      <td>4273</td>\n",
       "      <td>4479</td>\n",
       "      <td>3805</td>\n",
       "      <td>3793</td>\n",
       "      <td>3873</td>\n",
       "      <td>3767</td>\n",
       "      <td>2641</td>\n",
       "      <td>2325</td>\n",
       "    </tr>\n",
       "    <tr>\n",
       "      <th>199</th>\n",
       "      <td>zambia</td>\n",
       "      <td>836</td>\n",
       "      <td>838</td>\n",
       "      <td>841</td>\n",
       "      <td>843</td>\n",
       "      <td>845</td>\n",
       "      <td>847</td>\n",
       "      <td>849</td>\n",
       "      <td>851</td>\n",
       "      <td>853</td>\n",
       "      <td>...</td>\n",
       "      <td>2749</td>\n",
       "      <td>2882</td>\n",
       "      <td>3060</td>\n",
       "      <td>3279</td>\n",
       "      <td>3361</td>\n",
       "      <td>3509</td>\n",
       "      <td>3577</td>\n",
       "      <td>3633</td>\n",
       "      <td>3627</td>\n",
       "      <td>3636</td>\n",
       "    </tr>\n",
       "    <tr>\n",
       "      <th>200</th>\n",
       "      <td>zimbabwe</td>\n",
       "      <td>975</td>\n",
       "      <td>977</td>\n",
       "      <td>978</td>\n",
       "      <td>979</td>\n",
       "      <td>980</td>\n",
       "      <td>981</td>\n",
       "      <td>983</td>\n",
       "      <td>984</td>\n",
       "      <td>985</td>\n",
       "      <td>...</td>\n",
       "      <td>1494</td>\n",
       "      <td>1209</td>\n",
       "      <td>1290</td>\n",
       "      <td>1460</td>\n",
       "      <td>1663</td>\n",
       "      <td>1848</td>\n",
       "      <td>1901</td>\n",
       "      <td>1908</td>\n",
       "      <td>1891</td>\n",
       "      <td>1860</td>\n",
       "    </tr>\n",
       "    <tr>\n",
       "      <th>201</th>\n",
       "      <td>south sudan</td>\n",
       "      <td>734</td>\n",
       "      <td>738</td>\n",
       "      <td>741</td>\n",
       "      <td>745</td>\n",
       "      <td>748</td>\n",
       "      <td>752</td>\n",
       "      <td>756</td>\n",
       "      <td>759</td>\n",
       "      <td>763</td>\n",
       "      <td>...</td>\n",
       "      <td>3697</td>\n",
       "      <td>3717</td>\n",
       "      <td>3740</td>\n",
       "      <td>3790</td>\n",
       "      <td>3482</td>\n",
       "      <td>1813</td>\n",
       "      <td>1985</td>\n",
       "      <td>1990</td>\n",
       "      <td>1808</td>\n",
       "      <td>1862</td>\n",
       "    </tr>\n",
       "  </tbody>\n",
       "</table>\n",
       "<p>202 rows × 122 columns</p>\n",
       "</div>"
      ],
      "text/plain": [
       "    Country Name  1896  1897  1898  1899  1900  1901  1902  1903  1904  ...  \\\n",
       "0    afghanistan   782   785   788   790   793   796   798   801   804  ...   \n",
       "1        albania  1094  1109  1125  1140  1156  1172  1187  1203  1219  ...   \n",
       "2        algeria  1675  1693  1711  1730  1749  1768  1787  1807  1826  ...   \n",
       "3        andorra  3048  3084  3121  3158  3195  3233  3272  3310  3350  ...   \n",
       "4         angola   941   946   950   954   958   962   967   971   975  ...   \n",
       "..           ...   ...   ...   ...   ...   ...   ...   ...   ...   ...  ...   \n",
       "197      vietnam  1043  1052  1061  1070  1079  1089  1098  1108  1117  ...   \n",
       "198        yemen  1151  1154  1157  1160  1164  1167  1170  1174  1177  ...   \n",
       "199       zambia   836   838   841   843   845   847   849   851   853  ...   \n",
       "200     zimbabwe   975   977   978   979   980   981   983   984   985  ...   \n",
       "201  south sudan   734   738   741   745   748   752   756   759   763  ...   \n",
       "\n",
       "      2007   2008   2009   2010   2011   2012   2013   2014   2015   2016  \n",
       "0     1285   1298   1531   1614   1661   1839   1814   1780   1748   1740  \n",
       "1     8448   9154   9525   9927  10208  10370  10504  10715  11025  11425  \n",
       "2    12570  12660  12647  12870  12990  13162  13253  13483  13724  13975  \n",
       "3    43442  41426  41735  38982  41958  41926  43735  44930  46578  48186  \n",
       "4     5443   5978   5908   5895   5911   5999   6185   6260   6231   6025  \n",
       "..     ...    ...    ...    ...    ...    ...    ...    ...    ...    ...  \n",
       "197   3907   4085   4260   4486   4716   4910   5122   5370   5667   5955  \n",
       "198   4192   4228   4273   4479   3805   3793   3873   3767   2641   2325  \n",
       "199   2749   2882   3060   3279   3361   3509   3577   3633   3627   3636  \n",
       "200   1494   1209   1290   1460   1663   1848   1901   1908   1891   1860  \n",
       "201   3697   3717   3740   3790   3482   1813   1985   1990   1808   1862  \n",
       "\n",
       "[202 rows x 122 columns]"
      ]
     },
     "execution_count": 581,
     "metadata": {},
     "output_type": "execute_result"
    }
   ],
   "source": [
    "gpd"
   ]
  },
  {
   "cell_type": "code",
   "execution_count": 582,
   "id": "94f5992e",
   "metadata": {},
   "outputs": [],
   "source": [
    "pg =gpd[gpd['Country Name'].isin(list(l['Team']))]\n",
    "pg = pg.sort_values(by=[2016,2015],ascending=False)\n",
    "pfd = pd.DataFrame({'Team':list(pg['Country Name'].head(12)), 'Oder':[i for i in range(1,13)]})\n",
    "ll = l.merge(pfd, how='right').dropna()"
   ]
  },
  {
   "cell_type": "code",
   "execution_count": 583,
   "id": "8bd79db8",
   "metadata": {},
   "outputs": [],
   "source": [
    "\n",
    "ll = l.merge(pfd, how='right').dropna()"
   ]
  },
  {
   "cell_type": "code",
   "execution_count": 584,
   "id": "3058993e",
   "metadata": {},
   "outputs": [
    {
     "data": {
      "text/html": [
       "<div>\n",
       "<style scoped>\n",
       "    .dataframe tbody tr th:only-of-type {\n",
       "        vertical-align: middle;\n",
       "    }\n",
       "\n",
       "    .dataframe tbody tr th {\n",
       "        vertical-align: top;\n",
       "    }\n",
       "\n",
       "    .dataframe thead th {\n",
       "        text-align: right;\n",
       "    }\n",
       "</style>\n",
       "<table border=\"1\" class=\"dataframe\">\n",
       "  <thead>\n",
       "    <tr style=\"text-align: right;\">\n",
       "      <th></th>\n",
       "      <th>Country Name</th>\n",
       "      <th>1896</th>\n",
       "      <th>1897</th>\n",
       "      <th>1898</th>\n",
       "      <th>1899</th>\n",
       "      <th>1900</th>\n",
       "      <th>1901</th>\n",
       "      <th>1902</th>\n",
       "      <th>1903</th>\n",
       "      <th>1904</th>\n",
       "      <th>...</th>\n",
       "      <th>2007</th>\n",
       "      <th>2008</th>\n",
       "      <th>2009</th>\n",
       "      <th>2010</th>\n",
       "      <th>2011</th>\n",
       "      <th>2012</th>\n",
       "      <th>2013</th>\n",
       "      <th>2014</th>\n",
       "      <th>2015</th>\n",
       "      <th>2016</th>\n",
       "    </tr>\n",
       "  </thead>\n",
       "  <tbody>\n",
       "    <tr>\n",
       "      <th>172</th>\n",
       "      <td>switzerland</td>\n",
       "      <td>8883</td>\n",
       "      <td>9233</td>\n",
       "      <td>9290</td>\n",
       "      <td>9637</td>\n",
       "      <td>9634</td>\n",
       "      <td>9414</td>\n",
       "      <td>9511</td>\n",
       "      <td>9209</td>\n",
       "      <td>9578</td>\n",
       "      <td>...</td>\n",
       "      <td>55849</td>\n",
       "      <td>56399</td>\n",
       "      <td>54513</td>\n",
       "      <td>55542</td>\n",
       "      <td>55919</td>\n",
       "      <td>55908</td>\n",
       "      <td>56253</td>\n",
       "      <td>56680</td>\n",
       "      <td>56511</td>\n",
       "      <td>56625</td>\n",
       "    </tr>\n",
       "    <tr>\n",
       "      <th>191</th>\n",
       "      <td>united states</td>\n",
       "      <td>5834</td>\n",
       "      <td>6276</td>\n",
       "      <td>6296</td>\n",
       "      <td>6748</td>\n",
       "      <td>6816</td>\n",
       "      <td>7438</td>\n",
       "      <td>7368</td>\n",
       "      <td>7585</td>\n",
       "      <td>7352</td>\n",
       "      <td>...</td>\n",
       "      <td>51011</td>\n",
       "      <td>50384</td>\n",
       "      <td>48558</td>\n",
       "      <td>49373</td>\n",
       "      <td>49791</td>\n",
       "      <td>50520</td>\n",
       "      <td>51008</td>\n",
       "      <td>51831</td>\n",
       "      <td>52790</td>\n",
       "      <td>53273</td>\n",
       "    </tr>\n",
       "    <tr>\n",
       "      <th>128</th>\n",
       "      <td>netherlands</td>\n",
       "      <td>6161</td>\n",
       "      <td>6222</td>\n",
       "      <td>6224</td>\n",
       "      <td>6220</td>\n",
       "      <td>6060</td>\n",
       "      <td>6256</td>\n",
       "      <td>6416</td>\n",
       "      <td>6305</td>\n",
       "      <td>6292</td>\n",
       "      <td>...</td>\n",
       "      <td>46528</td>\n",
       "      <td>47134</td>\n",
       "      <td>45126</td>\n",
       "      <td>45525</td>\n",
       "      <td>46067</td>\n",
       "      <td>45411</td>\n",
       "      <td>45191</td>\n",
       "      <td>45668</td>\n",
       "      <td>46354</td>\n",
       "      <td>47128</td>\n",
       "    </tr>\n",
       "    <tr>\n",
       "      <th>171</th>\n",
       "      <td>sweden</td>\n",
       "      <td>3153</td>\n",
       "      <td>3277</td>\n",
       "      <td>3389</td>\n",
       "      <td>3473</td>\n",
       "      <td>3487</td>\n",
       "      <td>3578</td>\n",
       "      <td>3532</td>\n",
       "      <td>3718</td>\n",
       "      <td>3782</td>\n",
       "      <td>...</td>\n",
       "      <td>44051</td>\n",
       "      <td>43466</td>\n",
       "      <td>40863</td>\n",
       "      <td>42943</td>\n",
       "      <td>43755</td>\n",
       "      <td>43308</td>\n",
       "      <td>43476</td>\n",
       "      <td>44168</td>\n",
       "      <td>45488</td>\n",
       "      <td>46441</td>\n",
       "    </tr>\n",
       "    <tr>\n",
       "      <th>9</th>\n",
       "      <td>australia</td>\n",
       "      <td>6134</td>\n",
       "      <td>5694</td>\n",
       "      <td>6479</td>\n",
       "      <td>6394</td>\n",
       "      <td>6685</td>\n",
       "      <td>6395</td>\n",
       "      <td>6369</td>\n",
       "      <td>6792</td>\n",
       "      <td>7157</td>\n",
       "      <td>...</td>\n",
       "      <td>40650</td>\n",
       "      <td>41317</td>\n",
       "      <td>41207</td>\n",
       "      <td>41385</td>\n",
       "      <td>41782</td>\n",
       "      <td>42561</td>\n",
       "      <td>42920</td>\n",
       "      <td>43396</td>\n",
       "      <td>43832</td>\n",
       "      <td>44414</td>\n",
       "    </tr>\n",
       "    <tr>\n",
       "      <th>66</th>\n",
       "      <td>germany</td>\n",
       "      <td>4214</td>\n",
       "      <td>4268</td>\n",
       "      <td>4382</td>\n",
       "      <td>4470</td>\n",
       "      <td>4594</td>\n",
       "      <td>4420</td>\n",
       "      <td>4454</td>\n",
       "      <td>4632</td>\n",
       "      <td>4748</td>\n",
       "      <td>...</td>\n",
       "      <td>40474</td>\n",
       "      <td>40989</td>\n",
       "      <td>38784</td>\n",
       "      <td>40429</td>\n",
       "      <td>42693</td>\n",
       "      <td>42822</td>\n",
       "      <td>42914</td>\n",
       "      <td>43418</td>\n",
       "      <td>43784</td>\n",
       "      <td>44072</td>\n",
       "    </tr>\n",
       "    <tr>\n",
       "      <th>32</th>\n",
       "      <td>canada</td>\n",
       "      <td>3814</td>\n",
       "      <td>4187</td>\n",
       "      <td>4307</td>\n",
       "      <td>4662</td>\n",
       "      <td>4855</td>\n",
       "      <td>5165</td>\n",
       "      <td>5557</td>\n",
       "      <td>5562</td>\n",
       "      <td>5473</td>\n",
       "      <td>...</td>\n",
       "      <td>41647</td>\n",
       "      <td>41611</td>\n",
       "      <td>39924</td>\n",
       "      <td>40699</td>\n",
       "      <td>41565</td>\n",
       "      <td>41795</td>\n",
       "      <td>42336</td>\n",
       "      <td>42946</td>\n",
       "      <td>42983</td>\n",
       "      <td>43088</td>\n",
       "    </tr>\n",
       "    <tr>\n",
       "      <th>61</th>\n",
       "      <td>finland</td>\n",
       "      <td>2622</td>\n",
       "      <td>2713</td>\n",
       "      <td>2787</td>\n",
       "      <td>2685</td>\n",
       "      <td>2788</td>\n",
       "      <td>2734</td>\n",
       "      <td>2660</td>\n",
       "      <td>2818</td>\n",
       "      <td>2894</td>\n",
       "      <td>...</td>\n",
       "      <td>42467</td>\n",
       "      <td>42575</td>\n",
       "      <td>38868</td>\n",
       "      <td>39848</td>\n",
       "      <td>40684</td>\n",
       "      <td>39913</td>\n",
       "      <td>39428</td>\n",
       "      <td>39018</td>\n",
       "      <td>38994</td>\n",
       "      <td>39423</td>\n",
       "    </tr>\n",
       "    <tr>\n",
       "      <th>190</th>\n",
       "      <td>united kingdom</td>\n",
       "      <td>7625</td>\n",
       "      <td>7638</td>\n",
       "      <td>7904</td>\n",
       "      <td>8108</td>\n",
       "      <td>8008</td>\n",
       "      <td>8103</td>\n",
       "      <td>8156</td>\n",
       "      <td>8014</td>\n",
       "      <td>8038</td>\n",
       "      <td>...</td>\n",
       "      <td>38236</td>\n",
       "      <td>37698</td>\n",
       "      <td>35795</td>\n",
       "      <td>36196</td>\n",
       "      <td>36456</td>\n",
       "      <td>36679</td>\n",
       "      <td>37130</td>\n",
       "      <td>37983</td>\n",
       "      <td>38509</td>\n",
       "      <td>38901</td>\n",
       "    </tr>\n",
       "    <tr>\n",
       "      <th>88</th>\n",
       "      <td>japan</td>\n",
       "      <td>1650</td>\n",
       "      <td>1664</td>\n",
       "      <td>1954</td>\n",
       "      <td>1785</td>\n",
       "      <td>1839</td>\n",
       "      <td>1878</td>\n",
       "      <td>1754</td>\n",
       "      <td>1849</td>\n",
       "      <td>1839</td>\n",
       "      <td>...</td>\n",
       "      <td>36697</td>\n",
       "      <td>36278</td>\n",
       "      <td>34318</td>\n",
       "      <td>35750</td>\n",
       "      <td>35775</td>\n",
       "      <td>36368</td>\n",
       "      <td>37149</td>\n",
       "      <td>37323</td>\n",
       "      <td>37818</td>\n",
       "      <td>38240</td>\n",
       "    </tr>\n",
       "    <tr>\n",
       "      <th>62</th>\n",
       "      <td>france</td>\n",
       "      <td>4003</td>\n",
       "      <td>3886</td>\n",
       "      <td>4114</td>\n",
       "      <td>4259</td>\n",
       "      <td>4312</td>\n",
       "      <td>4098</td>\n",
       "      <td>4046</td>\n",
       "      <td>4179</td>\n",
       "      <td>4259</td>\n",
       "      <td>...</td>\n",
       "      <td>37772</td>\n",
       "      <td>37635</td>\n",
       "      <td>36341</td>\n",
       "      <td>36872</td>\n",
       "      <td>37457</td>\n",
       "      <td>37345</td>\n",
       "      <td>37367</td>\n",
       "      <td>37531</td>\n",
       "      <td>37766</td>\n",
       "      <td>38059</td>\n",
       "    </tr>\n",
       "    <tr>\n",
       "      <th>86</th>\n",
       "      <td>italy</td>\n",
       "      <td>3366</td>\n",
       "      <td>3388</td>\n",
       "      <td>3403</td>\n",
       "      <td>3446</td>\n",
       "      <td>3526</td>\n",
       "      <td>3592</td>\n",
       "      <td>3671</td>\n",
       "      <td>3766</td>\n",
       "      <td>3882</td>\n",
       "      <td>...</td>\n",
       "      <td>38612</td>\n",
       "      <td>37954</td>\n",
       "      <td>35710</td>\n",
       "      <td>36201</td>\n",
       "      <td>36347</td>\n",
       "      <td>35228</td>\n",
       "      <td>34220</td>\n",
       "      <td>33946</td>\n",
       "      <td>34245</td>\n",
       "      <td>34620</td>\n",
       "    </tr>\n",
       "  </tbody>\n",
       "</table>\n",
       "<p>12 rows × 122 columns</p>\n",
       "</div>"
      ],
      "text/plain": [
       "       Country Name  1896  1897  1898  1899  1900  1901  1902  1903  1904  \\\n",
       "172     switzerland  8883  9233  9290  9637  9634  9414  9511  9209  9578   \n",
       "191   united states  5834  6276  6296  6748  6816  7438  7368  7585  7352   \n",
       "128     netherlands  6161  6222  6224  6220  6060  6256  6416  6305  6292   \n",
       "171          sweden  3153  3277  3389  3473  3487  3578  3532  3718  3782   \n",
       "9         australia  6134  5694  6479  6394  6685  6395  6369  6792  7157   \n",
       "66          germany  4214  4268  4382  4470  4594  4420  4454  4632  4748   \n",
       "32           canada  3814  4187  4307  4662  4855  5165  5557  5562  5473   \n",
       "61          finland  2622  2713  2787  2685  2788  2734  2660  2818  2894   \n",
       "190  united kingdom  7625  7638  7904  8108  8008  8103  8156  8014  8038   \n",
       "88            japan  1650  1664  1954  1785  1839  1878  1754  1849  1839   \n",
       "62           france  4003  3886  4114  4259  4312  4098  4046  4179  4259   \n",
       "86            italy  3366  3388  3403  3446  3526  3592  3671  3766  3882   \n",
       "\n",
       "     ...   2007   2008   2009   2010   2011   2012   2013   2014   2015   2016  \n",
       "172  ...  55849  56399  54513  55542  55919  55908  56253  56680  56511  56625  \n",
       "191  ...  51011  50384  48558  49373  49791  50520  51008  51831  52790  53273  \n",
       "128  ...  46528  47134  45126  45525  46067  45411  45191  45668  46354  47128  \n",
       "171  ...  44051  43466  40863  42943  43755  43308  43476  44168  45488  46441  \n",
       "9    ...  40650  41317  41207  41385  41782  42561  42920  43396  43832  44414  \n",
       "66   ...  40474  40989  38784  40429  42693  42822  42914  43418  43784  44072  \n",
       "32   ...  41647  41611  39924  40699  41565  41795  42336  42946  42983  43088  \n",
       "61   ...  42467  42575  38868  39848  40684  39913  39428  39018  38994  39423  \n",
       "190  ...  38236  37698  35795  36196  36456  36679  37130  37983  38509  38901  \n",
       "88   ...  36697  36278  34318  35750  35775  36368  37149  37323  37818  38240  \n",
       "62   ...  37772  37635  36341  36872  37457  37345  37367  37531  37766  38059  \n",
       "86   ...  38612  37954  35710  36201  36347  35228  34220  33946  34245  34620  \n",
       "\n",
       "[12 rows x 122 columns]"
      ]
     },
     "execution_count": 584,
     "metadata": {},
     "output_type": "execute_result"
    }
   ],
   "source": [
    "pg"
   ]
  },
  {
   "cell_type": "code",
   "execution_count": 585,
   "id": "b3524629",
   "metadata": {},
   "outputs": [
    {
     "data": {
      "text/html": [
       "<div>\n",
       "<style scoped>\n",
       "    .dataframe tbody tr th:only-of-type {\n",
       "        vertical-align: middle;\n",
       "    }\n",
       "\n",
       "    .dataframe tbody tr th {\n",
       "        vertical-align: top;\n",
       "    }\n",
       "\n",
       "    .dataframe thead th {\n",
       "        text-align: right;\n",
       "    }\n",
       "</style>\n",
       "<table border=\"1\" class=\"dataframe\">\n",
       "  <thead>\n",
       "    <tr style=\"text-align: right;\">\n",
       "      <th></th>\n",
       "      <th>Team</th>\n",
       "      <th>Oder</th>\n",
       "    </tr>\n",
       "  </thead>\n",
       "  <tbody>\n",
       "    <tr>\n",
       "      <th>0</th>\n",
       "      <td>switzerland</td>\n",
       "      <td>1</td>\n",
       "    </tr>\n",
       "    <tr>\n",
       "      <th>1</th>\n",
       "      <td>united states</td>\n",
       "      <td>2</td>\n",
       "    </tr>\n",
       "    <tr>\n",
       "      <th>2</th>\n",
       "      <td>netherlands</td>\n",
       "      <td>3</td>\n",
       "    </tr>\n",
       "    <tr>\n",
       "      <th>3</th>\n",
       "      <td>sweden</td>\n",
       "      <td>4</td>\n",
       "    </tr>\n",
       "    <tr>\n",
       "      <th>4</th>\n",
       "      <td>australia</td>\n",
       "      <td>5</td>\n",
       "    </tr>\n",
       "    <tr>\n",
       "      <th>5</th>\n",
       "      <td>germany</td>\n",
       "      <td>6</td>\n",
       "    </tr>\n",
       "    <tr>\n",
       "      <th>6</th>\n",
       "      <td>canada</td>\n",
       "      <td>7</td>\n",
       "    </tr>\n",
       "    <tr>\n",
       "      <th>7</th>\n",
       "      <td>finland</td>\n",
       "      <td>8</td>\n",
       "    </tr>\n",
       "    <tr>\n",
       "      <th>8</th>\n",
       "      <td>united kingdom</td>\n",
       "      <td>9</td>\n",
       "    </tr>\n",
       "    <tr>\n",
       "      <th>9</th>\n",
       "      <td>japan</td>\n",
       "      <td>10</td>\n",
       "    </tr>\n",
       "    <tr>\n",
       "      <th>10</th>\n",
       "      <td>france</td>\n",
       "      <td>11</td>\n",
       "    </tr>\n",
       "    <tr>\n",
       "      <th>11</th>\n",
       "      <td>italy</td>\n",
       "      <td>12</td>\n",
       "    </tr>\n",
       "  </tbody>\n",
       "</table>\n",
       "</div>"
      ],
      "text/plain": [
       "              Team  Oder\n",
       "0      switzerland     1\n",
       "1    united states     2\n",
       "2      netherlands     3\n",
       "3           sweden     4\n",
       "4        australia     5\n",
       "5          germany     6\n",
       "6           canada     7\n",
       "7          finland     8\n",
       "8   united kingdom     9\n",
       "9            japan    10\n",
       "10          france    11\n",
       "11           italy    12"
      ]
     },
     "execution_count": 585,
     "metadata": {},
     "output_type": "execute_result"
    }
   ],
   "source": [
    "pfd"
   ]
  },
  {
   "cell_type": "markdown",
   "id": "05e84885",
   "metadata": {},
   "source": [
    "## Top African countries that have won more medail "
   ]
  },
  {
   "cell_type": "code",
   "execution_count": null,
   "id": "8eae7717",
   "metadata": {},
   "outputs": [],
   "source": []
  },
  {
   "cell_type": "code",
   "execution_count": 586,
   "id": "38089517",
   "metadata": {},
   "outputs": [
    {
     "data": {
      "text/plain": [
       "<Figure size 360x720 with 0 Axes>"
      ]
     },
     "metadata": {},
     "output_type": "display_data"
    },
    {
     "data": {
      "image/png": "[encoded data removed]",
      "text/plain": [
       "<Figure size 360x360 with 1 Axes>"
      ]
     },
     "metadata": {
      "needs_background": "light"
     },
     "output_type": "display_data"
    }
   ],
   "source": [
    "tmp = df.groupby(['Team'])['Medal'].agg('count').dropna()\n",
    "df5 = pd.DataFrame(tmp).reset_index()\n",
    "l =df5.sort_values(by=['Medal'],ascending=True)\n",
    "l = l[(l['Team'] =='cameroon' )| (l['Team'] =='nigeria')| (l['Team'] =='algeria')|(l['Team'] =='south africa')| (l['Team'] =='kenya')|(l['Team'] =='ethiopia')|(l['Team'] =='ghana' )]\n",
    "#l = l.head(12)\n",
    "o = l.sort_values(by=['Medal'],ascending=False)\n",
    "plt.figure(figsize=(5,10))\n",
    "sns.catplot(data=o, x=\"Medal\", y=\"Team\", kind=\"bar\")\n",
    "plt.yticks( \n",
    "    horizontalalignment='right',\n",
    "    fontsize='large'  \n",
    ")\n",
    "plt.show()"
   ]
  },
  {
   "cell_type": "code",
   "execution_count": 587,
   "id": "41e7bcd2",
   "metadata": {},
   "outputs": [],
   "source": [
    "#need to check, something is wrong"
   ]
  },
  {
   "cell_type": "markdown",
   "id": "fb7f1826",
   "metadata": {},
   "source": [
    "**If the Olympic performance of the riches countries is affected by the place where the games were organised. Therefore what about the country that can not organise the Olympic games?**"
   ]
  },
  {
   "cell_type": "markdown",
   "id": "9aef02c2",
   "metadata": {},
   "source": [
    "# Trend of the nomber of medal for the 10 top countries that have gain more medal"
   ]
  },
  {
   "cell_type": "code",
   "execution_count": 479,
   "id": "60b9ccc2",
   "metadata": {},
   "outputs": [],
   "source": [
    "tmp = df.groupby(['Year', 'Team', 'City'])['Medal'].agg('count').dropna()\n",
    "df6 = pd.DataFrame(tmp).reset_index()\n",
    "l =df6.sort_values(by=['Medal'],ascending=False)\n",
    "newdfl = l.merge(country, how='right').dropna()\n",
    "newdfl = newdfl.sort_values(by=['Year'])\n",
    "df8= newdfl.copy()"
   ]
  },
  {
   "cell_type": "code",
   "execution_count": 480,
   "id": "3107e3ce",
   "metadata": {},
   "outputs": [],
   "source": [
    "\n",
    "#newdfl= newdfl[newdfl['Year']>2000]\n",
    "\n",
    "for i in pd.unique(newdfl['Country']):\n",
    "    place =np.array([])\n",
    "    for j in range(len(newdfl['Country'])):\n",
    "        if(newdfl['Country'].iloc[j]==i):\n",
    "            place = np.append(place,str('home'))\n",
    "        else:\n",
    "            place = np.append(place,str('away'))\n",
    "    df8[i]=list(place)\n",
    "            \n"
   ]
  },
  {
   "cell_type": "code",
   "execution_count": 481,
   "id": "2a70bd35",
   "metadata": {},
   "outputs": [
    {
     "data": {
      "text/html": [
       "<div>\n",
       "<style scoped>\n",
       "    .dataframe tbody tr th:only-of-type {\n",
       "        vertical-align: middle;\n",
       "    }\n",
       "\n",
       "    .dataframe tbody tr th {\n",
       "        vertical-align: top;\n",
       "    }\n",
       "\n",
       "    .dataframe thead th {\n",
       "        text-align: right;\n",
       "    }\n",
       "</style>\n",
       "<table border=\"1\" class=\"dataframe\">\n",
       "  <thead>\n",
       "    <tr style=\"text-align: right;\">\n",
       "      <th></th>\n",
       "      <th>Year</th>\n",
       "      <th>Team</th>\n",
       "      <th>City</th>\n",
       "      <th>Medal</th>\n",
       "      <th>Country</th>\n",
       "      <th>greece</th>\n",
       "      <th>france</th>\n",
       "      <th>united states</th>\n",
       "      <th>united kingdom</th>\n",
       "      <th>sweden</th>\n",
       "      <th>...</th>\n",
       "      <th>japan</th>\n",
       "      <th>austria</th>\n",
       "      <th>mexico</th>\n",
       "      <th>canada</th>\n",
       "      <th>russia</th>\n",
       "      <th>yugoslavia</th>\n",
       "      <th>south korea</th>\n",
       "      <th>spain</th>\n",
       "      <th>china</th>\n",
       "      <th>brazil</th>\n",
       "    </tr>\n",
       "  </thead>\n",
       "  <tbody>\n",
       "    <tr>\n",
       "      <th>6267</th>\n",
       "      <td>1896.0</td>\n",
       "      <td>austria</td>\n",
       "      <td>athina</td>\n",
       "      <td>8.0</td>\n",
       "      <td>greece</td>\n",
       "      <td>home</td>\n",
       "      <td>away</td>\n",
       "      <td>away</td>\n",
       "      <td>away</td>\n",
       "      <td>away</td>\n",
       "      <td>...</td>\n",
       "      <td>away</td>\n",
       "      <td>away</td>\n",
       "      <td>away</td>\n",
       "      <td>away</td>\n",
       "      <td>away</td>\n",
       "      <td>away</td>\n",
       "      <td>away</td>\n",
       "      <td>away</td>\n",
       "      <td>away</td>\n",
       "      <td>away</td>\n",
       "    </tr>\n",
       "    <tr>\n",
       "      <th>6266</th>\n",
       "      <td>1896.0</td>\n",
       "      <td>switzerland</td>\n",
       "      <td>athina</td>\n",
       "      <td>8.0</td>\n",
       "      <td>greece</td>\n",
       "      <td>home</td>\n",
       "      <td>away</td>\n",
       "      <td>away</td>\n",
       "      <td>away</td>\n",
       "      <td>away</td>\n",
       "      <td>...</td>\n",
       "      <td>away</td>\n",
       "      <td>away</td>\n",
       "      <td>away</td>\n",
       "      <td>away</td>\n",
       "      <td>away</td>\n",
       "      <td>away</td>\n",
       "      <td>away</td>\n",
       "      <td>away</td>\n",
       "      <td>away</td>\n",
       "      <td>away</td>\n",
       "    </tr>\n",
       "    <tr>\n",
       "      <th>6185</th>\n",
       "      <td>1896.0</td>\n",
       "      <td>united kingdom</td>\n",
       "      <td>athina</td>\n",
       "      <td>23.0</td>\n",
       "      <td>greece</td>\n",
       "      <td>home</td>\n",
       "      <td>away</td>\n",
       "      <td>away</td>\n",
       "      <td>away</td>\n",
       "      <td>away</td>\n",
       "      <td>...</td>\n",
       "      <td>away</td>\n",
       "      <td>away</td>\n",
       "      <td>away</td>\n",
       "      <td>away</td>\n",
       "      <td>away</td>\n",
       "      <td>away</td>\n",
       "      <td>away</td>\n",
       "      <td>away</td>\n",
       "      <td>away</td>\n",
       "      <td>away</td>\n",
       "    </tr>\n",
       "    <tr>\n",
       "      <th>6278</th>\n",
       "      <td>1896.0</td>\n",
       "      <td>greece-</td>\n",
       "      <td>athina</td>\n",
       "      <td>6.0</td>\n",
       "      <td>greece</td>\n",
       "      <td>home</td>\n",
       "      <td>away</td>\n",
       "      <td>away</td>\n",
       "      <td>away</td>\n",
       "      <td>away</td>\n",
       "      <td>...</td>\n",
       "      <td>away</td>\n",
       "      <td>away</td>\n",
       "      <td>away</td>\n",
       "      <td>away</td>\n",
       "      <td>away</td>\n",
       "      <td>away</td>\n",
       "      <td>away</td>\n",
       "      <td>away</td>\n",
       "      <td>away</td>\n",
       "      <td>away</td>\n",
       "    </tr>\n",
       "    <tr>\n",
       "      <th>6294</th>\n",
       "      <td>1896.0</td>\n",
       "      <td>sweden</td>\n",
       "      <td>athina</td>\n",
       "      <td>5.0</td>\n",
       "      <td>greece</td>\n",
       "      <td>home</td>\n",
       "      <td>away</td>\n",
       "      <td>away</td>\n",
       "      <td>away</td>\n",
       "      <td>away</td>\n",
       "      <td>...</td>\n",
       "      <td>away</td>\n",
       "      <td>away</td>\n",
       "      <td>away</td>\n",
       "      <td>away</td>\n",
       "      <td>away</td>\n",
       "      <td>away</td>\n",
       "      <td>away</td>\n",
       "      <td>away</td>\n",
       "      <td>away</td>\n",
       "      <td>away</td>\n",
       "    </tr>\n",
       "    <tr>\n",
       "      <th>...</th>\n",
       "      <td>...</td>\n",
       "      <td>...</td>\n",
       "      <td>...</td>\n",
       "      <td>...</td>\n",
       "      <td>...</td>\n",
       "      <td>...</td>\n",
       "      <td>...</td>\n",
       "      <td>...</td>\n",
       "      <td>...</td>\n",
       "      <td>...</td>\n",
       "      <td>...</td>\n",
       "      <td>...</td>\n",
       "      <td>...</td>\n",
       "      <td>...</td>\n",
       "      <td>...</td>\n",
       "      <td>...</td>\n",
       "      <td>...</td>\n",
       "      <td>...</td>\n",
       "      <td>...</td>\n",
       "      <td>...</td>\n",
       "      <td>...</td>\n",
       "    </tr>\n",
       "    <tr>\n",
       "      <th>5820</th>\n",
       "      <td>2016.0</td>\n",
       "      <td>vietnam</td>\n",
       "      <td>rio de janeiro</td>\n",
       "      <td>28.0</td>\n",
       "      <td>brazil</td>\n",
       "      <td>away</td>\n",
       "      <td>away</td>\n",
       "      <td>away</td>\n",
       "      <td>away</td>\n",
       "      <td>away</td>\n",
       "      <td>...</td>\n",
       "      <td>away</td>\n",
       "      <td>away</td>\n",
       "      <td>away</td>\n",
       "      <td>away</td>\n",
       "      <td>away</td>\n",
       "      <td>away</td>\n",
       "      <td>away</td>\n",
       "      <td>away</td>\n",
       "      <td>away</td>\n",
       "      <td>home</td>\n",
       "    </tr>\n",
       "    <tr>\n",
       "      <th>5821</th>\n",
       "      <td>2016.0</td>\n",
       "      <td>indonesia</td>\n",
       "      <td>rio de janeiro</td>\n",
       "      <td>27.0</td>\n",
       "      <td>brazil</td>\n",
       "      <td>away</td>\n",
       "      <td>away</td>\n",
       "      <td>away</td>\n",
       "      <td>away</td>\n",
       "      <td>away</td>\n",
       "      <td>...</td>\n",
       "      <td>away</td>\n",
       "      <td>away</td>\n",
       "      <td>away</td>\n",
       "      <td>away</td>\n",
       "      <td>away</td>\n",
       "      <td>away</td>\n",
       "      <td>away</td>\n",
       "      <td>away</td>\n",
       "      <td>away</td>\n",
       "      <td>home</td>\n",
       "    </tr>\n",
       "    <tr>\n",
       "      <th>5822</th>\n",
       "      <td>2016.0</td>\n",
       "      <td>angola</td>\n",
       "      <td>rio de janeiro</td>\n",
       "      <td>26.0</td>\n",
       "      <td>brazil</td>\n",
       "      <td>away</td>\n",
       "      <td>away</td>\n",
       "      <td>away</td>\n",
       "      <td>away</td>\n",
       "      <td>away</td>\n",
       "      <td>...</td>\n",
       "      <td>away</td>\n",
       "      <td>away</td>\n",
       "      <td>away</td>\n",
       "      <td>away</td>\n",
       "      <td>away</td>\n",
       "      <td>away</td>\n",
       "      <td>away</td>\n",
       "      <td>away</td>\n",
       "      <td>away</td>\n",
       "      <td>home</td>\n",
       "    </tr>\n",
       "    <tr>\n",
       "      <th>5824</th>\n",
       "      <td>2016.0</td>\n",
       "      <td>uganda</td>\n",
       "      <td>rio de janeiro</td>\n",
       "      <td>23.0</td>\n",
       "      <td>brazil</td>\n",
       "      <td>away</td>\n",
       "      <td>away</td>\n",
       "      <td>away</td>\n",
       "      <td>away</td>\n",
       "      <td>away</td>\n",
       "      <td>...</td>\n",
       "      <td>away</td>\n",
       "      <td>away</td>\n",
       "      <td>away</td>\n",
       "      <td>away</td>\n",
       "      <td>away</td>\n",
       "      <td>away</td>\n",
       "      <td>away</td>\n",
       "      <td>away</td>\n",
       "      <td>away</td>\n",
       "      <td>home</td>\n",
       "    </tr>\n",
       "    <tr>\n",
       "      <th>5814</th>\n",
       "      <td>2016.0</td>\n",
       "      <td>armenia</td>\n",
       "      <td>rio de janeiro</td>\n",
       "      <td>34.0</td>\n",
       "      <td>brazil</td>\n",
       "      <td>away</td>\n",
       "      <td>away</td>\n",
       "      <td>away</td>\n",
       "      <td>away</td>\n",
       "      <td>away</td>\n",
       "      <td>...</td>\n",
       "      <td>away</td>\n",
       "      <td>away</td>\n",
       "      <td>away</td>\n",
       "      <td>away</td>\n",
       "      <td>away</td>\n",
       "      <td>away</td>\n",
       "      <td>away</td>\n",
       "      <td>away</td>\n",
       "      <td>away</td>\n",
       "      <td>home</td>\n",
       "    </tr>\n",
       "  </tbody>\n",
       "</table>\n",
       "<p>6793 rows × 28 columns</p>\n",
       "</div>"
      ],
      "text/plain": [
       "        Year            Team            City  Medal Country greece france  \\\n",
       "6267  1896.0         austria          athina    8.0  greece   home   away   \n",
       "6266  1896.0     switzerland          athina    8.0  greece   home   away   \n",
       "6185  1896.0  united kingdom          athina   23.0  greece   home   away   \n",
       "6278  1896.0         greece-          athina    6.0  greece   home   away   \n",
       "6294  1896.0          sweden          athina    5.0  greece   home   away   \n",
       "...      ...             ...             ...    ...     ...    ...    ...   \n",
       "5820  2016.0         vietnam  rio de janeiro   28.0  brazil   away   away   \n",
       "5821  2016.0       indonesia  rio de janeiro   27.0  brazil   away   away   \n",
       "5822  2016.0          angola  rio de janeiro   26.0  brazil   away   away   \n",
       "5824  2016.0          uganda  rio de janeiro   23.0  brazil   away   away   \n",
       "5814  2016.0         armenia  rio de janeiro   34.0  brazil   away   away   \n",
       "\n",
       "     united states united kingdom sweden  ... japan austria mexico canada  \\\n",
       "6267          away           away   away  ...  away    away   away   away   \n",
       "6266          away           away   away  ...  away    away   away   away   \n",
       "6185          away           away   away  ...  away    away   away   away   \n",
       "6278          away           away   away  ...  away    away   away   away   \n",
       "6294          away           away   away  ...  away    away   away   away   \n",
       "...            ...            ...    ...  ...   ...     ...    ...    ...   \n",
       "5820          away           away   away  ...  away    away   away   away   \n",
       "5821          away           away   away  ...  away    away   away   away   \n",
       "5822          away           away   away  ...  away    away   away   away   \n",
       "5824          away           away   away  ...  away    away   away   away   \n",
       "5814          away           away   away  ...  away    away   away   away   \n",
       "\n",
       "     russia yugoslavia south korea spain china brazil  \n",
       "6267   away       away        away  away  away   away  \n",
       "6266   away       away        away  away  away   away  \n",
       "6185   away       away        away  away  away   away  \n",
       "6278   away       away        away  away  away   away  \n",
       "6294   away       away        away  away  away   away  \n",
       "...     ...        ...         ...   ...   ...    ...  \n",
       "5820   away       away        away  away  away   home  \n",
       "5821   away       away        away  away  away   home  \n",
       "5822   away       away        away  away  away   home  \n",
       "5824   away       away        away  away  away   home  \n",
       "5814   away       away        away  away  away   home  \n",
       "\n",
       "[6793 rows x 28 columns]"
      ]
     },
     "execution_count": 481,
     "metadata": {},
     "output_type": "execute_result"
    }
   ],
   "source": [
    "df8"
   ]
  },
  {
   "cell_type": "markdown",
   "id": "c5fba904",
   "metadata": {},
   "source": [
    "# parallel plot"
   ]
  },
  {
   "cell_type": "code",
   "execution_count": null,
   "id": "f6481001",
   "metadata": {},
   "outputs": [],
   "source": [
    "\n",
    "newdfl= newdfl[newdfl['Year']>2000]\n",
    "\n",
    "for i in pd.unique(newdfl['Country']):\n",
    "    place =np.array([])\n",
    "    for j in range(len(newdfl['Country'])):\n",
    "        if(newdfl['Country'].iloc[j]==i):\n",
    "            place = np.append(place,str('home'))\n",
    "        else:\n",
    "            place = np.append(place,str('away'))\n",
    "    break\n",
    "            \n"
   ]
  },
  {
   "cell_type": "code",
   "execution_count": null,
   "id": "9a9667ac",
   "metadata": {},
   "outputs": [],
   "source": [
    "len(place)"
   ]
  },
  {
   "cell_type": "code",
   "execution_count": 127,
   "id": "8636580d",
   "metadata": {},
   "outputs": [
    {
     "data": {
      "text/html": [
       "<div>\n",
       "<style scoped>\n",
       "    .dataframe tbody tr th:only-of-type {\n",
       "        vertical-align: middle;\n",
       "    }\n",
       "\n",
       "    .dataframe tbody tr th {\n",
       "        vertical-align: top;\n",
       "    }\n",
       "\n",
       "    .dataframe thead th {\n",
       "        text-align: right;\n",
       "    }\n",
       "</style>\n",
       "<table border=\"1\" class=\"dataframe\">\n",
       "  <thead>\n",
       "    <tr style=\"text-align: right;\">\n",
       "      <th></th>\n",
       "      <th>Year</th>\n",
       "      <th>Team</th>\n",
       "      <th>City</th>\n",
       "      <th>Medal</th>\n",
       "      <th>Country</th>\n",
       "    </tr>\n",
       "  </thead>\n",
       "  <tbody>\n",
       "    <tr>\n",
       "      <th>4598</th>\n",
       "      <td>2002.0</td>\n",
       "      <td>united states</td>\n",
       "      <td>salt lake city</td>\n",
       "      <td>285.0</td>\n",
       "      <td>united states</td>\n",
       "    </tr>\n",
       "    <tr>\n",
       "      <th>6084</th>\n",
       "      <td>2004.0</td>\n",
       "      <td>united states</td>\n",
       "      <td>athina</td>\n",
       "      <td>706.0</td>\n",
       "      <td>greece</td>\n",
       "    </tr>\n",
       "    <tr>\n",
       "      <th>6456</th>\n",
       "      <td>2006.0</td>\n",
       "      <td>united states</td>\n",
       "      <td>torino</td>\n",
       "      <td>295.0</td>\n",
       "      <td>italy</td>\n",
       "    </tr>\n",
       "    <tr>\n",
       "      <th>4694</th>\n",
       "      <td>2008.0</td>\n",
       "      <td>united states</td>\n",
       "      <td>beijing</td>\n",
       "      <td>744.0</td>\n",
       "      <td>china</td>\n",
       "    </tr>\n",
       "    <tr>\n",
       "      <th>4957</th>\n",
       "      <td>2010.0</td>\n",
       "      <td>united states</td>\n",
       "      <td>vancouver</td>\n",
       "      <td>303.0</td>\n",
       "      <td>canada</td>\n",
       "    </tr>\n",
       "    <tr>\n",
       "      <th>1580</th>\n",
       "      <td>2012.0</td>\n",
       "      <td>united states</td>\n",
       "      <td>london</td>\n",
       "      <td>669.0</td>\n",
       "      <td>united kingdom</td>\n",
       "    </tr>\n",
       "    <tr>\n",
       "      <th>5555</th>\n",
       "      <td>2014.0</td>\n",
       "      <td>united states</td>\n",
       "      <td>sochi</td>\n",
       "      <td>333.0</td>\n",
       "      <td>russia</td>\n",
       "    </tr>\n",
       "    <tr>\n",
       "      <th>5740</th>\n",
       "      <td>2016.0</td>\n",
       "      <td>united states</td>\n",
       "      <td>rio de janeiro</td>\n",
       "      <td>699.0</td>\n",
       "      <td>brazil</td>\n",
       "    </tr>\n",
       "  </tbody>\n",
       "</table>\n",
       "</div>"
      ],
      "text/plain": [
       "        Year           Team            City  Medal         Country\n",
       "4598  2002.0  united states  salt lake city  285.0   united states\n",
       "6084  2004.0  united states          athina  706.0          greece\n",
       "6456  2006.0  united states          torino  295.0           italy\n",
       "4694  2008.0  united states         beijing  744.0           china\n",
       "4957  2010.0  united states       vancouver  303.0          canada\n",
       "1580  2012.0  united states          london  669.0  united kingdom\n",
       "5555  2014.0  united states           sochi  333.0          russia\n",
       "5740  2016.0  united states  rio de janeiro  699.0          brazil"
      ]
     },
     "execution_count": 127,
     "metadata": {},
     "output_type": "execute_result"
    }
   ],
   "source": [
    "\n",
    "temp = newdfl[newdfl['Team']==i]\n",
    "temp= temp.drop_duplicates()\n",
    "temp"
   ]
  },
  {
   "cell_type": "code",
   "execution_count": 128,
   "id": "26384c35",
   "metadata": {},
   "outputs": [],
   "source": [
    "from pandas.plotting import parallel_coordinates"
   ]
  },
  {
   "cell_type": "code",
   "execution_count": 129,
   "id": "80719560",
   "metadata": {},
   "outputs": [],
   "source": [
    "tem = temp[['Medal']]"
   ]
  },
  {
   "cell_type": "code",
   "execution_count": 130,
   "id": "d0fd6eac",
   "metadata": {},
   "outputs": [],
   "source": [
    "l =tem.T\n",
    "l.columns = temp['Year']\n",
    "l['label'] = ['Medal']"
   ]
  },
  {
   "cell_type": "code",
   "execution_count": 131,
   "id": "1887d042",
   "metadata": {},
   "outputs": [
    {
     "data": {
      "text/plain": [
       "<AxesSubplot:>"
      ]
     },
     "execution_count": 131,
     "metadata": {},
     "output_type": "execute_result"
    },
    {
     "data": {
      "image/png": "[encoded data removed]",
      "text/plain": [
       "<Figure size 432x288 with 1 Axes>"
      ]
     },
     "metadata": {
      "needs_background": "light"
     },
     "output_type": "display_data"
    }
   ],
   "source": [
    "parallel_coordinates(l, \"label\")"
   ]
  },
  {
   "cell_type": "code",
   "execution_count": 132,
   "id": "fed0b24b",
   "metadata": {},
   "outputs": [],
   "source": [
    "from plotnine import*"
   ]
  },
  {
   "cell_type": "code",
   "execution_count": 133,
   "id": "fa672183",
   "metadata": {},
   "outputs": [
    {
     "data": {
      "image/png": "[encoded data removed]",
      "text/plain": [
       "<Figure size 640x480 with 1 Axes>"
      ]
     },
     "metadata": {},
     "output_type": "display_data"
    },
    {
     "data": {
      "text/plain": [
       "<ggplot: (8739887306635)>"
      ]
     },
     "execution_count": 133,
     "metadata": {},
     "output_type": "execute_result"
    }
   ],
   "source": [
    "\n",
    "ggplot(temp)+aes(x='Year', y= 'Medal') + geom_point()+geom_line()"
   ]
  },
  {
   "cell_type": "markdown",
   "id": "a2b68ab3",
   "metadata": {},
   "source": [
    "1. Host Country Effect- What is the probability that a participant of the host country can win a medal? Are there any type of sports that the host country has more chance of winning?\n",
    "\n",
    "2. Economic Effect- Are there any sports that are won mostly by countries with low GDP? Does the rise/fall in economy affect the Olympic winnings of a country, and if so, in how many years is the effect seen?\n",
    "\n",
    "3. Age Effect- Does the Relative Age Effect influence Olympic winnings? At what age is optimum age for each sport? How does the performance of each athlete improve/degrade over time?\n",
    "\n",
    "Moreover, looking at the medals count in Olympics official site[4] and comparing with the Olympics history dataset used in this report, there are discrepancies, hence the dataset needs to be revised."
   ]
  },
  {
   "cell_type": "code",
   "execution_count": null,
   "id": "47b6bbc1",
   "metadata": {},
   "outputs": [],
   "source": []
  },
  {
   "cell_type": "code",
   "execution_count": null,
   "id": "031a57a0",
   "metadata": {},
   "outputs": [],
   "source": []
  },
  {
   "cell_type": "code",
   "execution_count": null,
   "id": "4fc82a5b",
   "metadata": {},
   "outputs": [],
   "source": []
  },
  {
   "cell_type": "code",
   "execution_count": null,
   "id": "4cfaaff8",
   "metadata": {},
   "outputs": [],
   "source": []
  },
  {
   "cell_type": "code",
   "execution_count": null,
   "id": "b57c2ad4",
   "metadata": {},
   "outputs": [],
   "source": []
  },
  {
   "cell_type": "code",
   "execution_count": null,
   "id": "05ce6c3c",
   "metadata": {},
   "outputs": [],
   "source": []
  },
  {
   "cell_type": "code",
   "execution_count": null,
   "id": "4cc8d5f1",
   "metadata": {},
   "outputs": [],
   "source": []
  },
  {
   "cell_type": "code",
   "execution_count": null,
   "id": "a647fba2",
   "metadata": {},
   "outputs": [],
   "source": []
  }
 ],
 "metadata": {
  "kernelspec": {
   "display_name": "Python 3",
   "language": "python",
   "name": "python3"
  },
  "language_info": {
   "codemirror_mode": {
    "name": "ipython",
    "version": 3
   },
   "file_extension": ".py",
   "mimetype": "text/x-python",
   "name": "python",
   "nbconvert_exporter": "python",
   "pygments_lexer": "ipython3",
   "version": "3.9.13"
  }
 },
 "nbformat": 4,
 "nbformat_minor": 5
}
