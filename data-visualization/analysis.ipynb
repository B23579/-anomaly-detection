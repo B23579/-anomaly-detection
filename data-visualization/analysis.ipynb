{
 "cells": [
  {
   "cell_type": "code",
   "execution_count": 1,
   "id": "e99d6da4",
   "metadata": {},
   "outputs": [],
   "source": [
    "import pandas as pd\n",
    "import seaborn as sns\n",
    "import numpy as np\n",
    "import matplotlib.pyplot as plt\n",
    "import os\n",
    "\n",
    "if not os.path.exists(\"images\"):\n",
    "    os.mkdir(\"images\")"
   ]
  },
  {
   "cell_type": "markdown",
   "id": "141ebd01",
   "metadata": {},
   "source": [
    "# Import and merge datasets"
   ]
  },
  {
   "cell_type": "code",
   "execution_count": 2,
   "id": "89d7901e",
   "metadata": {},
   "outputs": [],
   "source": [
    "df = pd.read_csv('data/athleteEvents.csv')\n",
    "country = pd.read_excel('data/olympic_city_country.xlsx')\n",
    "place = pd.read_csv('data/nocRegions.csv')\n",
    "place.head()\n",
    "place = place.drop(['region', 'notes'],axis=1)\n",
    "newdf1 = df.merge(place, how='right')\n"
   ]
  },
  {
   "cell_type": "markdown",
   "id": "3ffe1649",
   "metadata": {},
   "source": [
    "# data pre-processing "
   ]
  },
  {
   "cell_type": "code",
   "execution_count": 3,
   "id": "c06bd539",
   "metadata": {},
   "outputs": [
    {
     "name": "stderr",
     "output_type": "stream",
     "text": [
      "<ipython-input-3-e5d85ade9b95>:2: SettingWithCopyWarning: \n",
      "A value is trying to be set on a copy of a slice from a DataFrame.\n",
      "Try using .loc[row_indexer,col_indexer] = value instead\n",
      "\n",
      "See the caveats in the documentation: https://pandas.pydata.org/pandas-docs/stable/user_guide/indexing.html#returning-a-view-versus-a-copy\n",
      "  df['Team']= df['Team'].str.replace('[#,@,&,0-9]', '',regex=True)\n",
      "<ipython-input-3-e5d85ade9b95>:3: SettingWithCopyWarning: \n",
      "A value is trying to be set on a copy of a slice from a DataFrame.\n",
      "Try using .loc[row_indexer,col_indexer] = value instead\n",
      "\n",
      "See the caveats in the documentation: https://pandas.pydata.org/pandas-docs/stable/user_guide/indexing.html#returning-a-view-versus-a-copy\n",
      "  df['City']= df['City'].str.replace('[#,@,&,0-9]', '',regex=True)\n",
      "<ipython-input-3-e5d85ade9b95>:4: SettingWithCopyWarning: \n",
      "A value is trying to be set on a copy of a slice from a DataFrame.\n",
      "Try using .loc[row_indexer,col_indexer] = value instead\n",
      "\n",
      "See the caveats in the documentation: https://pandas.pydata.org/pandas-docs/stable/user_guide/indexing.html#returning-a-view-versus-a-copy\n",
      "  df['Team'] = df['Team'].str.lower()\n",
      "<ipython-input-3-e5d85ade9b95>:5: SettingWithCopyWarning: \n",
      "A value is trying to be set on a copy of a slice from a DataFrame.\n",
      "Try using .loc[row_indexer,col_indexer] = value instead\n",
      "\n",
      "See the caveats in the documentation: https://pandas.pydata.org/pandas-docs/stable/user_guide/indexing.html#returning-a-view-versus-a-copy\n",
      "  df['City'] = df['City'].str.lower()\n"
     ]
    }
   ],
   "source": [
    "df = newdf1.dropna(subset=['Year','Games'])\n",
    "df['Team']= df['Team'].str.replace('[#,@,&,0-9]', '',regex=True)\n",
    "df['City']= df['City'].str.replace('[#,@,&,0-9]', '',regex=True)\n",
    "df['Team'] = df['Team'].str.lower()\n",
    "df['City'] = df['City'].str.lower()\n",
    "\n",
    "country['City'] = country['City'].str.replace(r'[#,@,&,0-9]', '', regex=True)\n",
    "country['City'] = country['City'].str.lower()\n",
    "\n",
    "country['Country'] = country['Country'].str.replace(r'[#,@,&,0-9]', '', regex=True)\n",
    "country['Country'] = country['Country'].str.lower()"
   ]
  },
  {
   "cell_type": "code",
   "execution_count": 4,
   "id": "443ab486",
   "metadata": {},
   "outputs": [
    {
     "name": "stderr",
     "output_type": "stream",
     "text": [
      "<ipython-input-4-4e7fe9a19bd4>:2: SettingWithCopyWarning: \n",
      "A value is trying to be set on a copy of a slice from a DataFrame\n",
      "\n",
      "See the caveats in the documentation: https://pandas.pydata.org/pandas-docs/stable/user_guide/indexing.html#returning-a-view-versus-a-copy\n",
      "  df['Team'][df['Team']=='great britain']='united kingdom'\n",
      "<ipython-input-4-4e7fe9a19bd4>:2: SettingWithCopyWarning: \n",
      "A value is trying to be set on a copy of a slice from a DataFrame\n",
      "\n",
      "See the caveats in the documentation: https://pandas.pydata.org/pandas-docs/stable/user_guide/indexing.html#returning-a-view-versus-a-copy\n",
      "  df['Team'][df['Team']=='great britain']='united kingdom'\n"
     ]
    }
   ],
   "source": [
    "# change great britain to united kingdom\n",
    "df['Team'][df['Team']=='great britain']='united kingdom'"
   ]
  },
  {
   "cell_type": "code",
   "execution_count": 5,
   "id": "1104d98a",
   "metadata": {},
   "outputs": [
    {
     "data": {
      "text/plain": [
       "ID             0\n",
       "Name           0\n",
       "Sex            0\n",
       "Age         9462\n",
       "Height     60083\n",
       "Weight     62785\n",
       "Team           0\n",
       "NOC            0\n",
       "Games          0\n",
       "Year           0\n",
       "Season         0\n",
       "City           0\n",
       "Sport          0\n",
       "Event          0\n",
       "Medal     230993\n",
       "dtype: int64"
      ]
     },
     "execution_count": 5,
     "metadata": {},
     "output_type": "execute_result"
    }
   ],
   "source": [
    "df.isnull().sum()"
   ]
  },
  {
   "cell_type": "code",
   "execution_count": 6,
   "id": "27a50c38",
   "metadata": {},
   "outputs": [],
   "source": [
    "df=df.fillna(0)"
   ]
  },
  {
   "cell_type": "markdown",
   "id": "4a2d650c",
   "metadata": {},
   "source": [
    "## medal "
   ]
  },
  {
   "cell_type": "code",
   "execution_count": 7,
   "id": "193a61b0",
   "metadata": {},
   "outputs": [
    {
     "data": {
      "text/plain": [
       "array([0, 'Bronze', 'Silver', 'Gold'], dtype=object)"
      ]
     },
     "execution_count": 7,
     "metadata": {},
     "output_type": "execute_result"
    }
   ],
   "source": [
    "pd.unique(df['Medal'].values)"
   ]
  },
  {
   "cell_type": "code",
   "execution_count": 8,
   "id": "d5b426d2",
   "metadata": {},
   "outputs": [
    {
     "data": {
      "text/plain": [
       "229"
      ]
     },
     "execution_count": 8,
     "metadata": {},
     "output_type": "execute_result"
    }
   ],
   "source": [
    "len(pd.unique(df['NOC'].values))"
   ]
  },
  {
   "cell_type": "markdown",
   "id": "bb894419",
   "metadata": {},
   "source": [
    "## years"
   ]
  },
  {
   "cell_type": "code",
   "execution_count": 9,
   "id": "ce971592",
   "metadata": {},
   "outputs": [
    {
     "name": "stdout",
     "output_type": "stream",
     "text": [
      "[1956. 1936. 1948. 1980. 1964. 1972. 1968. 2004. 2008. 2012. 2016. 1988.\n",
      " 1960. 1996. 1984. 1952. 1992. 2000. 1976. 2014. 2006. 2010. 2002. 1994.\n",
      " 1998. 1908. 1912. 1924. 1928. 1932. 1900. 1920. 1906. 1896. 1904.]\n",
      "lenght is  35\n"
     ]
    }
   ],
   "source": [
    "print(pd.unique(df['Year']))\n",
    "print( \"lenght is \" , len(pd.unique(df['Year'])))"
   ]
  },
  {
   "cell_type": "code",
   "execution_count": 10,
   "id": "320701d7",
   "metadata": {},
   "outputs": [],
   "source": [
    "df92=df[df['Year']==1900]\n",
    "df20=df[df['Year']==2012]"
   ]
  },
  {
   "cell_type": "code",
   "execution_count": 11,
   "id": "3f48d2f8",
   "metadata": {},
   "outputs": [
    {
     "name": "stdout",
     "output_type": "stream",
     "text": [
      "Pourcentage of man 0.9829545454545454  pourcentage of femel 0.017045454545454544\n"
     ]
    }
   ],
   "source": [
    "pM = len(df92[df92[\"Sex\"]=='M'])/(len(df92[df92[\"Sex\"]=='M'])+len(df92[df92[\"Sex\"]=='F']))\n",
    "PF= len(df92[df92[\"Sex\"]=='F'])/(len(df92[df92[\"Sex\"]=='M'])+len(df92[df92[\"Sex\"]=='F']))\n",
    "print('Pourcentage of man', pM , \" pourcentage of femel\", PF)"
   ]
  },
  {
   "cell_type": "code",
   "execution_count": 12,
   "id": "65da9317",
   "metadata": {},
   "outputs": [
    {
     "data": {
      "text/html": [
       "<div>\n",
       "<style scoped>\n",
       "    .dataframe tbody tr th:only-of-type {\n",
       "        vertical-align: middle;\n",
       "    }\n",
       "\n",
       "    .dataframe tbody tr th {\n",
       "        vertical-align: top;\n",
       "    }\n",
       "\n",
       "    .dataframe thead th {\n",
       "        text-align: right;\n",
       "    }\n",
       "</style>\n",
       "<table border=\"1\" class=\"dataframe\">\n",
       "  <thead>\n",
       "    <tr style=\"text-align: right;\">\n",
       "      <th></th>\n",
       "      <th>Sex</th>\n",
       "      <th>participation pourcentage</th>\n",
       "      <th>Year</th>\n",
       "    </tr>\n",
       "  </thead>\n",
       "  <tbody>\n",
       "    <tr>\n",
       "      <th>0</th>\n",
       "      <td>M</td>\n",
       "      <td>0.982955</td>\n",
       "      <td>1900</td>\n",
       "    </tr>\n",
       "    <tr>\n",
       "      <th>1</th>\n",
       "      <td>F</td>\n",
       "      <td>0.017045</td>\n",
       "      <td>1900</td>\n",
       "    </tr>\n",
       "  </tbody>\n",
       "</table>\n",
       "</div>"
      ],
      "text/plain": [
       "  Sex  participation pourcentage  Year\n",
       "0   M                   0.982955  1900\n",
       "1   F                   0.017045  1900"
      ]
     },
     "execution_count": 12,
     "metadata": {},
     "output_type": "execute_result"
    }
   ],
   "source": [
    "dt= {\"Sex\":[\"M\",\"F\"],'participation pourcentage':[pM,PF],\"Year\":[1900,1900]}\n",
    "dt=pd.DataFrame(dt)\n",
    "dt"
   ]
  },
  {
   "cell_type": "code",
   "execution_count": 13,
   "id": "24bfb196",
   "metadata": {},
   "outputs": [
    {
     "name": "stdout",
     "output_type": "stream",
     "text": [
      "Pourcentage of man 0.9829545454545454  pourcentage of femel 0.017045454545454544\n"
     ]
    }
   ],
   "source": [
    "PM = len(df20[df20[\"Sex\"]=='M'])/(len(df20[df20[\"Sex\"]=='M'])+len(df20[df20[\"Sex\"]=='F']))\n",
    "pF= len(df20[df20[\"Sex\"]=='F'])/(len(df20[df20[\"Sex\"]=='M'])+len(df20[df20[\"Sex\"]=='F']))\n",
    "print('Pourcentage of man', pM , \" pourcentage of femel\", PF)"
   ]
  },
  {
   "cell_type": "code",
   "execution_count": 14,
   "id": "b32e8bf7",
   "metadata": {},
   "outputs": [
    {
     "data": {
      "text/html": [
       "<div>\n",
       "<style scoped>\n",
       "    .dataframe tbody tr th:only-of-type {\n",
       "        vertical-align: middle;\n",
       "    }\n",
       "\n",
       "    .dataframe tbody tr th {\n",
       "        vertical-align: top;\n",
       "    }\n",
       "\n",
       "    .dataframe thead th {\n",
       "        text-align: right;\n",
       "    }\n",
       "</style>\n",
       "<table border=\"1\" class=\"dataframe\">\n",
       "  <thead>\n",
       "    <tr style=\"text-align: right;\">\n",
       "      <th></th>\n",
       "      <th>Sex</th>\n",
       "      <th>participation pourcentage</th>\n",
       "      <th>Year</th>\n",
       "    </tr>\n",
       "  </thead>\n",
       "  <tbody>\n",
       "    <tr>\n",
       "      <th>0</th>\n",
       "      <td>M</td>\n",
       "      <td>0.550528</td>\n",
       "      <td>2012</td>\n",
       "    </tr>\n",
       "    <tr>\n",
       "      <th>1</th>\n",
       "      <td>F</td>\n",
       "      <td>0.449472</td>\n",
       "      <td>2012</td>\n",
       "    </tr>\n",
       "  </tbody>\n",
       "</table>\n",
       "</div>"
      ],
      "text/plain": [
       "  Sex  participation pourcentage  Year\n",
       "0   M                   0.550528  2012\n",
       "1   F                   0.449472  2012"
      ]
     },
     "execution_count": 14,
     "metadata": {},
     "output_type": "execute_result"
    }
   ],
   "source": [
    "dt2= {\"Sex\":[\"M\",\"F\"],'participation pourcentage':[PM,pF],\"Year\":[2012,2012]}\n",
    "dt2=pd.DataFrame(dt2)\n",
    "dt2"
   ]
  },
  {
   "cell_type": "markdown",
   "id": "45a78552",
   "metadata": {},
   "source": [
    "# Slopgraph"
   ]
  },
  {
   "cell_type": "code",
   "execution_count": 15,
   "id": "06f45641",
   "metadata": {},
   "outputs": [],
   "source": [
    "\n",
    "frames = [dt2, dt]\n",
    "result = pd.concat(frames,axis=0)\n",
    "result\n",
    "fm= result[result['Sex']=='M']\n",
    "ff= result[result['Sex']=='F']"
   ]
  },
  {
   "cell_type": "code",
   "execution_count": 16,
   "id": "0d704865",
   "metadata": {},
   "outputs": [
    {
     "data": {
      "image/png": "[encoded data removed]",
      "text/plain": [
       "<Figure size 432x288 with 1 Axes>"
      ]
     },
     "metadata": {
      "needs_background": "light"
     },
     "output_type": "display_data"
    }
   ],
   "source": [
    "plt.plot(fm['Year'], fm['participation pourcentage'])\n",
    "plt.plot(ff['Year'], ff['participation pourcentage'])\n",
    "plt.xticks([1900, 2012])\n",
    "plt.text(fm['Year'].values[0]+0.02, fm['participation pourcentage'].values[0], '{:,.2f}'.format(fm['participation pourcentage'].values[0]), va='center', ha='right')\n",
    "plt.text(ff['Year'].values[0]+0.02, ff['participation pourcentage'].values[0], 'Femel')\n",
    "plt.xticks([1900, 2012])\n",
    "plt.text(fm['Year'].values[-1]-5, fm['participation pourcentage'].values[-1], 'Male')\n",
    "plt.text(ff['Year'].values[-1]-5, ff['participation pourcentage'].values[-1], 'Femel')\n",
    "\n",
    "plt.show()"
   ]
  },
  {
   "cell_type": "markdown",
   "id": "b5b7110b",
   "metadata": {},
   "source": [
    "https://news.ubc.ca/2014/09/30/gender-equality-olympics/"
   ]
  },
  {
   "cell_type": "markdown",
   "id": "c4a1110a",
   "metadata": {},
   "source": [
    "## Pourcentage of medal wont by each gender"
   ]
  },
  {
   "cell_type": "code",
   "execution_count": 17,
   "id": "f8704557",
   "metadata": {},
   "outputs": [
    {
     "data": {
      "text/html": [
       "<div>\n",
       "<style scoped>\n",
       "    .dataframe tbody tr th:only-of-type {\n",
       "        vertical-align: middle;\n",
       "    }\n",
       "\n",
       "    .dataframe tbody tr th {\n",
       "        vertical-align: top;\n",
       "    }\n",
       "\n",
       "    .dataframe thead th {\n",
       "        text-align: right;\n",
       "    }\n",
       "</style>\n",
       "<table border=\"1\" class=\"dataframe\">\n",
       "  <thead>\n",
       "    <tr style=\"text-align: right;\">\n",
       "      <th></th>\n",
       "      <th>Sex</th>\n",
       "      <th>Year</th>\n",
       "      <th>count</th>\n",
       "      <th>Medal</th>\n",
       "    </tr>\n",
       "  </thead>\n",
       "  <tbody>\n",
       "    <tr>\n",
       "      <th>0</th>\n",
       "      <td>F</td>\n",
       "      <td>1900.0</td>\n",
       "      <td>20</td>\n",
       "      <td>0</td>\n",
       "    </tr>\n",
       "    <tr>\n",
       "      <th>1</th>\n",
       "      <td>F</td>\n",
       "      <td>1900.0</td>\n",
       "      <td>5</td>\n",
       "      <td>Bronze</td>\n",
       "    </tr>\n",
       "    <tr>\n",
       "      <th>2</th>\n",
       "      <td>F</td>\n",
       "      <td>1900.0</td>\n",
       "      <td>4</td>\n",
       "      <td>Gold</td>\n",
       "    </tr>\n",
       "    <tr>\n",
       "      <th>3</th>\n",
       "      <td>F</td>\n",
       "      <td>1900.0</td>\n",
       "      <td>4</td>\n",
       "      <td>Silver</td>\n",
       "    </tr>\n",
       "    <tr>\n",
       "      <th>4</th>\n",
       "      <td>F</td>\n",
       "      <td>1904.0</td>\n",
       "      <td>6</td>\n",
       "      <td>0</td>\n",
       "    </tr>\n",
       "  </tbody>\n",
       "</table>\n",
       "</div>"
      ],
      "text/plain": [
       "  Sex    Year  count   Medal\n",
       "0   F  1900.0     20       0\n",
       "1   F  1900.0      5  Bronze\n",
       "2   F  1900.0      4    Gold\n",
       "3   F  1900.0      4  Silver\n",
       "4   F  1904.0      6       0"
      ]
     },
     "execution_count": 17,
     "metadata": {},
     "output_type": "execute_result"
    }
   ],
   "source": [
    "l =df.groupby(['Sex', 'Year','Medal']).agg('count').reset_index()\n",
    "l['count'] = l['ID']\n",
    "l=l[['Sex','Year','count','Medal']]\n",
    "l.head()"
   ]
  },
  {
   "cell_type": "code",
   "execution_count": 18,
   "id": "432da233",
   "metadata": {},
   "outputs": [
    {
     "data": {
      "text/plain": [
       "Sex\n",
       "F      33\n",
       "M    1903\n",
       "Name: count, dtype: int64"
      ]
     },
     "execution_count": 18,
     "metadata": {},
     "output_type": "execute_result"
    }
   ],
   "source": [
    "dfm= l[l['Year']==1900]\n",
    "dfm.groupby(['Sex'])['count'].sum()"
   ]
  },
  {
   "cell_type": "code",
   "execution_count": 19,
   "id": "beb65cff",
   "metadata": {},
   "outputs": [
    {
     "data": {
      "text/plain": [
       "Sex\n",
       "F     13\n",
       "M    591\n",
       "Name: count, dtype: int64"
      ]
     },
     "execution_count": 19,
     "metadata": {},
     "output_type": "execute_result"
    }
   ],
   "source": [
    "dfm=dfm[dfm['Medal']!=0]\n",
    "dfm.groupby(['Sex'])['count'].agg('sum')\n"
   ]
  },
  {
   "cell_type": "code",
   "execution_count": 20,
   "id": "2321d2d5",
   "metadata": {},
   "outputs": [
    {
     "data": {
      "text/plain": [
       "Sex\n",
       "F    5791\n",
       "M    7093\n",
       "Name: count, dtype: int64"
      ]
     },
     "execution_count": 20,
     "metadata": {},
     "output_type": "execute_result"
    }
   ],
   "source": [
    "dfm2= l[l['Year']==2012]\n",
    "dfm2.groupby(['Sex'])['count'].sum()"
   ]
  },
  {
   "cell_type": "code",
   "execution_count": 21,
   "id": "aa0a797c",
   "metadata": {},
   "outputs": [
    {
     "name": "stdout",
     "output_type": "stream",
     "text": [
      "Sex\n",
      "F     914\n",
      "M    1023\n",
      "Name: count, dtype: int64\n"
     ]
    }
   ],
   "source": [
    "dfm2=dfm2[dfm2['Medal']!=0]\n",
    "print(dfm2.groupby(['Sex'])['count'].agg('sum'))"
   ]
  },
  {
   "cell_type": "code",
   "execution_count": 22,
   "id": "35399f82",
   "metadata": {},
   "outputs": [
    {
     "name": "stdout",
     "output_type": "stream",
     "text": [
      "Sex\n",
      "F    5791\n",
      "M    7093\n",
      "Name: count, dtype: int64\n",
      "Sex\n",
      "F     914\n",
      "M    1023\n",
      "Name: count, dtype: int64\n"
     ]
    }
   ],
   "source": [
    "dfm2= l[l['Year']==2012]\n",
    "print(dfm2.groupby(['Sex'])['count'].sum())\n",
    "dfm2=dfm2[dfm2['Medal']!=0]\n",
    "print(dfm2.groupby(['Sex'])['count'].sum())"
   ]
  },
  {
   "cell_type": "markdown",
   "id": "a5e02adc",
   "metadata": {},
   "source": [
    "explore the slopgraphe and the percentage to compare the percentage of femel and male participation during the time.\n",
    "the pourcentage of medal from past to know. I will then explore the same direction for the country with most number of medail and also the country with less number of medail.  \n",
    "If possible, show the distribution of medal get by both gender in the word map.  To get which country could affect the gender performance in the olympic game.  "
   ]
  },
  {
   "cell_type": "code",
   "execution_count": 23,
   "id": "a2417b79",
   "metadata": {},
   "outputs": [
    {
     "data": {
      "text/plain": [
       "<AxesSubplot:xlabel='Sex', ylabel='count'>"
      ]
     },
     "execution_count": 23,
     "metadata": {},
     "output_type": "execute_result"
    },
    {
     "data": {
      "image/png": "[encoded data removed]",
      "text/plain": [
       "<Figure size 432x288 with 1 Axes>"
      ]
     },
     "metadata": {
      "needs_background": "light"
     },
     "output_type": "display_data"
    }
   ],
   "source": [
    "sns.countplot(data=df20, x='Sex')"
   ]
  },
  {
   "cell_type": "code",
   "execution_count": 24,
   "id": "83e55158",
   "metadata": {},
   "outputs": [
    {
     "data": {
      "text/plain": [
       "<AxesSubplot:xlabel='Sex', ylabel='count'>"
      ]
     },
     "execution_count": 24,
     "metadata": {},
     "output_type": "execute_result"
    },
    {
     "data": {
      "image/png": "[encoded data removed]",
      "text/plain": [
       "<Figure size 432x288 with 1 Axes>"
      ]
     },
     "metadata": {
      "needs_background": "light"
     },
     "output_type": "display_data"
    }
   ],
   "source": [
    "sns.countplot(data=df92, x='Sex')\n"
   ]
  },
  {
   "cell_type": "markdown",
   "id": "28d453e8",
   "metadata": {},
   "source": [
    "**count the total number of men and winen who participate to the onlympic and show the number of medal got per gender.**"
   ]
  },
  {
   "cell_type": "code",
   "execution_count": 25,
   "id": "2089e435",
   "metadata": {},
   "outputs": [],
   "source": [
    "l =df.groupby(['Sex', 'Year']).agg('count').reset_index()\n",
    "l['count'] = l['ID']\n",
    "l=l[['Sex','Year','count']]"
   ]
  },
  {
   "cell_type": "code",
   "execution_count": 26,
   "id": "e84f842a",
   "metadata": {},
   "outputs": [
    {
     "name": "stdout",
     "output_type": "stream",
     "text": [
      "<class 'pandas.core.frame.DataFrame'>\n",
      "RangeIndex: 69 entries, 0 to 68\n",
      "Data columns (total 3 columns):\n",
      " #   Column  Non-Null Count  Dtype \n",
      "---  ------  --------------  ----- \n",
      " 0   Sex     69 non-null     object\n",
      " 1   Year    69 non-null     int64 \n",
      " 2   count   69 non-null     int64 \n",
      "dtypes: int64(2), object(1)\n",
      "memory usage: 1.7+ KB\n"
     ]
    }
   ],
   "source": [
    "l['Year'] = l['Year'].astype(int)\n",
    "l.info()"
   ]
  },
  {
   "cell_type": "code",
   "execution_count": 27,
   "id": "d29f8747",
   "metadata": {},
   "outputs": [
    {
     "data": {
      "text/plain": [
       "<AxesSubplot:xlabel='Year', ylabel='count'>"
      ]
     },
     "execution_count": 27,
     "metadata": {},
     "output_type": "execute_result"
    },
    {
     "data": {
      "image/png": "[encoded data removed]",
      "text/plain": [
       "<Figure size 432x288 with 1 Axes>"
      ]
     },
     "metadata": {
      "needs_background": "light"
     },
     "output_type": "display_data"
    }
   ],
   "source": [
    "sns.lineplot(data=l, x='Year',y='count',hue='Sex')"
   ]
  },
  {
   "cell_type": "code",
   "execution_count": 28,
   "id": "e0a20c47",
   "metadata": {},
   "outputs": [
    {
     "data": {
      "text/html": [
       "<div>\n",
       "<style scoped>\n",
       "    .dataframe tbody tr th:only-of-type {\n",
       "        vertical-align: middle;\n",
       "    }\n",
       "\n",
       "    .dataframe tbody tr th {\n",
       "        vertical-align: top;\n",
       "    }\n",
       "\n",
       "    .dataframe thead th {\n",
       "        text-align: right;\n",
       "    }\n",
       "</style>\n",
       "<table border=\"1\" class=\"dataframe\">\n",
       "  <thead>\n",
       "    <tr style=\"text-align: right;\">\n",
       "      <th></th>\n",
       "      <th>Sex</th>\n",
       "      <th>Year</th>\n",
       "      <th>count</th>\n",
       "      <th>Medal</th>\n",
       "    </tr>\n",
       "  </thead>\n",
       "  <tbody>\n",
       "    <tr>\n",
       "      <th>0</th>\n",
       "      <td>F</td>\n",
       "      <td>1900.0</td>\n",
       "      <td>20</td>\n",
       "      <td>0</td>\n",
       "    </tr>\n",
       "    <tr>\n",
       "      <th>1</th>\n",
       "      <td>F</td>\n",
       "      <td>1900.0</td>\n",
       "      <td>5</td>\n",
       "      <td>Bronze</td>\n",
       "    </tr>\n",
       "    <tr>\n",
       "      <th>2</th>\n",
       "      <td>F</td>\n",
       "      <td>1900.0</td>\n",
       "      <td>4</td>\n",
       "      <td>Gold</td>\n",
       "    </tr>\n",
       "    <tr>\n",
       "      <th>3</th>\n",
       "      <td>F</td>\n",
       "      <td>1900.0</td>\n",
       "      <td>4</td>\n",
       "      <td>Silver</td>\n",
       "    </tr>\n",
       "    <tr>\n",
       "      <th>4</th>\n",
       "      <td>F</td>\n",
       "      <td>1904.0</td>\n",
       "      <td>6</td>\n",
       "      <td>0</td>\n",
       "    </tr>\n",
       "    <tr>\n",
       "      <th>...</th>\n",
       "      <td>...</td>\n",
       "      <td>...</td>\n",
       "      <td>...</td>\n",
       "      <td>...</td>\n",
       "    </tr>\n",
       "    <tr>\n",
       "      <th>271</th>\n",
       "      <td>M</td>\n",
       "      <td>2014.0</td>\n",
       "      <td>110</td>\n",
       "      <td>Silver</td>\n",
       "    </tr>\n",
       "    <tr>\n",
       "      <th>272</th>\n",
       "      <td>M</td>\n",
       "      <td>2016.0</td>\n",
       "      <td>6400</td>\n",
       "      <td>0</td>\n",
       "    </tr>\n",
       "    <tr>\n",
       "      <th>273</th>\n",
       "      <td>M</td>\n",
       "      <td>2016.0</td>\n",
       "      <td>372</td>\n",
       "      <td>Bronze</td>\n",
       "    </tr>\n",
       "    <tr>\n",
       "      <th>274</th>\n",
       "      <td>M</td>\n",
       "      <td>2016.0</td>\n",
       "      <td>346</td>\n",
       "      <td>Gold</td>\n",
       "    </tr>\n",
       "    <tr>\n",
       "      <th>275</th>\n",
       "      <td>M</td>\n",
       "      <td>2016.0</td>\n",
       "      <td>335</td>\n",
       "      <td>Silver</td>\n",
       "    </tr>\n",
       "  </tbody>\n",
       "</table>\n",
       "<p>276 rows × 4 columns</p>\n",
       "</div>"
      ],
      "text/plain": [
       "    Sex    Year  count   Medal\n",
       "0     F  1900.0     20       0\n",
       "1     F  1900.0      5  Bronze\n",
       "2     F  1900.0      4    Gold\n",
       "3     F  1900.0      4  Silver\n",
       "4     F  1904.0      6       0\n",
       "..   ..     ...    ...     ...\n",
       "271   M  2014.0    110  Silver\n",
       "272   M  2016.0   6400       0\n",
       "273   M  2016.0    372  Bronze\n",
       "274   M  2016.0    346    Gold\n",
       "275   M  2016.0    335  Silver\n",
       "\n",
       "[276 rows x 4 columns]"
      ]
     },
     "execution_count": 28,
     "metadata": {},
     "output_type": "execute_result"
    }
   ],
   "source": [
    "l =df.groupby(['Sex', 'Year','Medal']).agg('count').reset_index()\n",
    "l['count'] = l['ID']\n",
    "l=l[['Sex','Year','count','Medal']]\n",
    "l"
   ]
  },
  {
   "cell_type": "code",
   "execution_count": 29,
   "id": "95178aaa",
   "metadata": {},
   "outputs": [
    {
     "data": {
      "text/plain": [
       "<AxesSubplot:xlabel='Year', ylabel='count'>"
      ]
     },
     "execution_count": 29,
     "metadata": {},
     "output_type": "execute_result"
    },
    {
     "data": {
      "image/png": "[encoded data removed]",
      "text/plain": [
       "<Figure size 432x288 with 1 Axes>"
      ]
     },
     "metadata": {
      "needs_background": "light"
     },
     "output_type": "display_data"
    }
   ],
   "source": [
    "sns.lineplot(data=l, x='Year',y='count',hue='Medal',style='Sex')"
   ]
  },
  {
   "cell_type": "code",
   "execution_count": 30,
   "id": "c965d094",
   "metadata": {},
   "outputs": [],
   "source": [
    "l=l[l['Year']>=1990]"
   ]
  },
  {
   "cell_type": "code",
   "execution_count": null,
   "id": "a7a54d3d",
   "metadata": {},
   "outputs": [],
   "source": [
    "sns.lineplot(data=l, x='Year',y='count',hue='Medal',style='Sex',markers=True)"
   ]
  },
  {
   "cell_type": "code",
   "execution_count": null,
   "id": "8bd14e2c",
   "metadata": {},
   "outputs": [],
   "source": [
    "sns.relplot(\n",
    "    data=l, x=\"Year\", y=\"count\",\n",
    "    col=\"Medal\", hue=\"Sex\",\n",
    "    kind=\"line\"\n",
    ")"
   ]
  },
  {
   "cell_type": "markdown",
   "id": "f9c0a5f2",
   "metadata": {},
   "source": [
    "# How does age and gender affect olympic sports performance?"
   ]
  },
  {
   "cell_type": "markdown",
   "id": "02c09646",
   "metadata": {},
   "source": [
    "# Does location really affect an athlete performance?"
   ]
  },
  {
   "cell_type": "markdown",
   "id": "9e8e28bc",
   "metadata": {},
   "source": [
    "# How sport Location Affects athlete Performance?"
   ]
  },
  {
   "cell_type": "markdown",
   "id": "bbb9fe31",
   "metadata": {},
   "source": [
    "# How does the athlete with more medal evolve in year?"
   ]
  },
  {
   "cell_type": "markdown",
   "id": "010c1866",
   "metadata": {},
   "source": [
    "**1. What effect does the host country have in the medals won at the Olympics?**\n",
    "\n",
    "**2. Is the performance of countries in Olympic games affected by the economic factors of the country?**\n",
    "\n",
    "**3. Is the age of winning Olympics changing?**"
   ]
  },
  {
   "cell_type": "markdown",
   "id": "13181c0e",
   "metadata": {},
   "source": [
    "# Number of  olympic games host by country"
   ]
  },
  {
   "cell_type": "code",
   "execution_count": null,
   "id": "324e20e4",
   "metadata": {},
   "outputs": [],
   "source": [
    "tmp = df.groupby(['City'])['Season'].value_counts()\n",
    "df4 = pd.DataFrame(data={'Medal': tmp.values}, index=tmp.index).reset_index()\n",
    "\n",
    "newdf = df4.merge(country, how='right').dropna()\n",
    "plt.figure(figsize=(5,10))\n",
    "sns.countplot(data=newdf, y='Country', palette='Set1', order = newdf['Country'].value_counts().index)\n",
    "plt.yticks( \n",
    "    horizontalalignment='right',\n",
    "    fontsize='large'  \n",
    ")\n",
    "plt.show()"
   ]
  },
  {
   "cell_type": "code",
   "execution_count": null,
   "id": "4f247515",
   "metadata": {},
   "outputs": [],
   "source": [
    "cont = newdf.groupby('Country')['Country'].value_counts()\n",
    "l = pd.unique(newdf['Country'].sort_values())\n",
    "pfd = pd.DataFrame({'Team':l, 'count':cont.values})\n",
    "\n"
   ]
  },
  {
   "cell_type": "markdown",
   "id": "578cc43e",
   "metadata": {},
   "source": [
    "\n",
    "#  Host Country Effect and Economic Effect on the olympic game.\n"
   ]
  },
  {
   "cell_type": "markdown",
   "id": "99cf8580",
   "metadata": {},
   "source": [
    "## Top 12 world countries that have won more medial and organized at least one Olympic game."
   ]
  },
  {
   "cell_type": "code",
   "execution_count": null,
   "id": "2fc4fee7",
   "metadata": {},
   "outputs": [],
   "source": [
    "import plotly.express as px\n",
    "import plotly.io as pio"
   ]
  },
  {
   "cell_type": "code",
   "execution_count": null,
   "id": "dbd38265",
   "metadata": {},
   "outputs": [],
   "source": [
    "tmp = df.groupby(['Team'])['Medal'].agg('count').dropna()\n",
    "df5 = pd.DataFrame(tmp).reset_index()\n",
    "l = df5.merge(pfd, how='right').dropna()\n",
    "l =l.sort_values(by=['Medal'],ascending=False)\n",
    "l[\"count\"] = l[\"count\"].astype(\"category\")\n",
    "l = l.head(12)\n",
    "\n",
    "fig = px.bar(l, x=\"Medal\", y=\"Team\", color=\"count\",text='Medal', title=\"Top 12 world countries that have won more medial and organized at least one Olympic game.\")\n",
    "fig.update_layout({\n",
    "'plot_bgcolor': 'rgba(0, 0, 0, 0)',\n",
    "'paper_bgcolor': 'rgba(0, 0, 0, 0)',\n",
    "})\n",
    "fig.update_layout(yaxis=dict(autorange=\"reversed\"))\n",
    "\n",
    "fig.show()\n",
    "pio.write_image(fig, \"op.png\")"
   ]
  },
  {
   "cell_type": "markdown",
   "id": "05e84885",
   "metadata": {},
   "source": [
    "## Top African countries that have won more medail "
   ]
  },
  {
   "cell_type": "code",
   "execution_count": null,
   "id": "204582d0",
   "metadata": {},
   "outputs": [],
   "source": [
    "!pip install psutil"
   ]
  },
  {
   "cell_type": "code",
   "execution_count": null,
   "id": "38089517",
   "metadata": {},
   "outputs": [],
   "source": [
    "tmp = df.groupby(['Team'])['Medal'].agg('count').dropna()\n",
    "df5 = pd.DataFrame(tmp).reset_index()\n",
    "l =df5.sort_values(by=['Medal'],ascending=True)\n",
    "l = l[(l['Team'] =='cameroon' )| (l['Team'] =='nigeria')| (l['Team'] =='algeria')|(l['Team'] =='south africa')| (l['Team'] =='kenya')|(l['Team'] =='ethiopia')|(l['Team'] =='ghana' )]\n",
    "#l = l.head(12)\n",
    "o = l.sort_values(by=['Medal'],ascending=False)\n",
    "plt.figure(figsize=(5,10))\n",
    "sns.catplot(data=o, x=\"Medal\", y=\"Team\", kind=\"bar\")\n",
    "plt.yticks( \n",
    "    horizontalalignment='right',\n",
    "    fontsize='large'  \n",
    ")\n",
    "plt.show()"
   ]
  },
  {
   "cell_type": "code",
   "execution_count": null,
   "id": "41e7bcd2",
   "metadata": {},
   "outputs": [],
   "source": [
    "#need to check, something is wrong"
   ]
  },
  {
   "cell_type": "markdown",
   "id": "fb7f1826",
   "metadata": {},
   "source": [
    "**If the Olympic performance of the riches countries is affected by the place where the games were organised. Therefore what about the country that can not organise the Olympic games?**"
   ]
  },
  {
   "cell_type": "markdown",
   "id": "9aef02c2",
   "metadata": {},
   "source": [
    "# Trend of the nomber of medal for the 10 top countries that have gain more medal"
   ]
  },
  {
   "cell_type": "code",
   "execution_count": null,
   "id": "60b9ccc2",
   "metadata": {},
   "outputs": [],
   "source": [
    "tmp = df.groupby(['Year', 'Team', 'City'])['Medal'].agg('count').dropna()\n",
    "df6 = pd.DataFrame(tmp).reset_index()\n",
    "l =df6.sort_values(by=['Medal'],ascending=False)\n",
    "newdfl = l.merge(country, how='right').dropna()\n",
    "newdfl = newdfl.sort_values(by=['Year'])\n",
    "df8= newdfl.copy()"
   ]
  },
  {
   "cell_type": "code",
   "execution_count": null,
   "id": "3107e3ce",
   "metadata": {},
   "outputs": [],
   "source": [
    "\n",
    "#newdfl= newdfl[newdfl['Year']>2000]\n",
    "\n",
    "for i in pd.unique(newdfl['Country']):\n",
    "    place =np.array([])\n",
    "    for j in range(len(newdfl['Country'])):\n",
    "        if(newdfl['Country'].iloc[j]==i):\n",
    "            place = np.append(place,str('home'))\n",
    "        else:\n",
    "            place = np.append(place,str('away'))\n",
    "    df8[i]=list(place)\n",
    "            \n"
   ]
  },
  {
   "cell_type": "code",
   "execution_count": null,
   "id": "2a70bd35",
   "metadata": {},
   "outputs": [],
   "source": [
    "df8"
   ]
  },
  {
   "cell_type": "markdown",
   "id": "c5fba904",
   "metadata": {},
   "source": [
    "# parallel plot"
   ]
  },
  {
   "cell_type": "code",
   "execution_count": null,
   "id": "f6481001",
   "metadata": {},
   "outputs": [],
   "source": [
    "\n",
    "newdfl= newdfl[newdfl['Year']>2000]\n",
    "\n",
    "for i in pd.unique(newdfl['Country']):\n",
    "    place =np.array([])\n",
    "    for j in range(len(newdfl['Country'])):\n",
    "        if(newdfl['Country'].iloc[j]==i):\n",
    "            place = np.append(place,str('home'))\n",
    "        else:\n",
    "            place = np.append(place,str('away'))\n",
    "    break\n",
    "            \n"
   ]
  },
  {
   "cell_type": "code",
   "execution_count": null,
   "id": "9a9667ac",
   "metadata": {},
   "outputs": [],
   "source": [
    "len(place)"
   ]
  },
  {
   "cell_type": "code",
   "execution_count": null,
   "id": "8636580d",
   "metadata": {},
   "outputs": [],
   "source": [
    "\n",
    "temp = newdfl[newdfl['Team']==i]\n",
    "temp= temp.drop_duplicates()\n",
    "temp"
   ]
  },
  {
   "cell_type": "code",
   "execution_count": null,
   "id": "26384c35",
   "metadata": {},
   "outputs": [],
   "source": [
    "from pandas.plotting import parallel_coordinates"
   ]
  },
  {
   "cell_type": "code",
   "execution_count": null,
   "id": "80719560",
   "metadata": {},
   "outputs": [],
   "source": [
    "tem = temp[['Medal']]"
   ]
  },
  {
   "cell_type": "code",
   "execution_count": 438,
   "id": "d0fd6eac",
   "metadata": {},
   "outputs": [],
   "source": [
    "l =tem.T\n",
    "l.columns = temp['Year']\n",
    "l['label'] = ['Medal']"
   ]
  },
  {
   "cell_type": "code",
   "execution_count": 439,
   "id": "1887d042",
   "metadata": {},
   "outputs": [
    {
     "data": {
      "text/plain": [
       "<AxesSubplot:>"
      ]
     },
     "execution_count": 439,
     "metadata": {},
     "output_type": "execute_result"
    },
    {
     "data": {
      "image/png": "[encoded data removed]",
      "text/plain": [
       "<Figure size 432x288 with 1 Axes>"
      ]
     },
     "metadata": {
      "needs_background": "light"
     },
     "output_type": "display_data"
    }
   ],
   "source": [
    "parallel_coordinates(l, \"label\")"
   ]
  },
  {
   "cell_type": "code",
   "execution_count": 165,
   "id": "fed0b24b",
   "metadata": {},
   "outputs": [],
   "source": [
    "from plotnine import*"
   ]
  },
  {
   "cell_type": "code",
   "execution_count": 456,
   "id": "fa672183",
   "metadata": {},
   "outputs": [
    {
     "data": {
      "image/png": "[encoded data removed]",
      "text/plain": [
       "<Figure size 640x480 with 1 Axes>"
      ]
     },
     "metadata": {},
     "output_type": "display_data"
    },
    {
     "data": {
      "text/plain": [
       "<ggplot: (8732474381927)>"
      ]
     },
     "execution_count": 456,
     "metadata": {},
     "output_type": "execute_result"
    }
   ],
   "source": [
    "\n",
    "ggplot(temp)+aes(x='Year', y= 'Medal') + geom_point()+geom_line()"
   ]
  },
  {
   "cell_type": "markdown",
   "id": "a2b68ab3",
   "metadata": {},
   "source": [
    "1. Host Country Effect- What is the probability that a participant of the host country can win a medal? Are there any type of sports that the host country has more chance of winning?\n",
    "\n",
    "2. Economic Effect- Are there any sports that are won mostly by countries with low GDP? Does the rise/fall in economy affect the Olympic winnings of a country, and if so, in how many years is the effect seen?\n",
    "\n",
    "3. Age Effect- Does the Relative Age Effect influence Olympic winnings? At what age is optimum age for each sport? How does the performance of each athlete improve/degrade over time?\n",
    "\n",
    "Moreover, looking at the medals count in Olympics official site[4] and comparing with the Olympics history dataset used in this report, there are discrepancies, hence the dataset needs to be revised."
   ]
  },
  {
   "cell_type": "code",
   "execution_count": null,
   "id": "47b6bbc1",
   "metadata": {},
   "outputs": [],
   "source": []
  },
  {
   "cell_type": "code",
   "execution_count": null,
   "id": "031a57a0",
   "metadata": {},
   "outputs": [],
   "source": []
  },
  {
   "cell_type": "code",
   "execution_count": null,
   "id": "4fc82a5b",
   "metadata": {},
   "outputs": [],
   "source": []
  },
  {
   "cell_type": "code",
   "execution_count": null,
   "id": "4cfaaff8",
   "metadata": {},
   "outputs": [],
   "source": []
  },
  {
   "cell_type": "code",
   "execution_count": null,
   "id": "b57c2ad4",
   "metadata": {},
   "outputs": [],
   "source": []
  }
 ],
 "metadata": {
  "kernelspec": {
   "display_name": "Python 3",
   "language": "python",
   "name": "python3"
  },
  "language_info": {
   "codemirror_mode": {
    "name": "ipython",
    "version": 3
   },
   "file_extension": ".py",
   "mimetype": "text/x-python",
   "name": "python",
   "nbconvert_exporter": "python",
   "pygments_lexer": "ipython3",
   "version": "3.9.13"
  }
 },
 "nbformat": 4,
 "nbformat_minor": 5
}
