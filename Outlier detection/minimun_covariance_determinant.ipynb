{
 "cells": [
  {
   "cell_type": "code",
   "execution_count": 103,
   "id": "2ea70bfc",
   "metadata": {},
   "outputs": [],
   "source": [
    "from sklearn.covariance import EllipticEnvelope\n",
    "import pandas as pd\n",
    "import numpy as np\n",
    "import seaborn as sns\n",
    "import matplotlib.pyplot as plt\n",
    "import scipy.io \n",
    "import os\n",
    "from sklearn.model_selection import train_test_split\n",
    "from sklearn.metrics import accuracy_score, classification_report, confusion_matrix"
   ]
  },
  {
   "cell_type": "markdown",
   "id": "af30f878",
   "metadata": {},
   "source": [
    "**Description: X = Multi-dimensional point data, y = labels (1 = outliers, 0 = inliers)**"
   ]
  },
  {
   "cell_type": "code",
   "execution_count": 67,
   "id": "8d8620ea",
   "metadata": {},
   "outputs": [],
   "source": [
    "mat = scipy.io.loadmat(os.path.join('wine','cover.mat'))\n",
    "x_train = mat['X']\n",
    "y_train = mat['y']\n",
    "X_train, X_test, y_train, y_test = train_test_split(x_train, y_train, test_size=0.15, random_state=1)"
   ]
  },
  {
   "cell_type": "code",
   "execution_count": 68,
   "id": "b7f2f169",
   "metadata": {},
   "outputs": [],
   "source": [
    "outmodel = EllipticEnvelope(random_state=1245).fit(X_train)"
   ]
  },
  {
   "cell_type": "code",
   "execution_count": 69,
   "id": "4ff7c8a6",
   "metadata": {},
   "outputs": [],
   "source": [
    "y_pred = outmodel.predict(X_test)"
   ]
  },
  {
   "cell_type": "code",
   "execution_count": 70,
   "id": "4a842831",
   "metadata": {},
   "outputs": [],
   "source": [
    "y_pred[y_pred==1]=0\n",
    "y_pred[y_pred==-1]=1"
   ]
  },
  {
   "cell_type": "code",
   "execution_count": 71,
   "id": "00236151",
   "metadata": {},
   "outputs": [
    {
     "name": "stdout",
     "output_type": "stream",
     "text": [
      "Classification Report:\n",
      "              precision    recall  f1-score   support\n",
      "\n",
      "           0     0.9906    0.9036    0.9451     42483\n",
      "           1     0.0142    0.1388    0.0258       425\n",
      "\n",
      "    accuracy                         0.8960     42908\n",
      "   macro avg     0.5024    0.5212    0.4854     42908\n",
      "weighted avg     0.9809    0.8960    0.9360     42908\n",
      "\n"
     ]
    },
    {
     "data": {
      "text/plain": [
       "Text(33.0, 0.5, 'True Labels')"
      ]
     },
     "execution_count": 71,
     "metadata": {},
     "output_type": "execute_result"
    },
    {
     "data": {
      "image/png": "[encoded data removed]",
      "text/plain": [
       "<Figure size 432x288 with 2 Axes>"
      ]
     },
     "metadata": {
      "needs_background": "light"
     },
     "output_type": "display_data"
    }
   ],
   "source": [
    "print('Classification Report:')\n",
    "\n",
    "print(classification_report(y_test, y_pred, digits=4))       \n",
    "cm_det = confusion_matrix(y_test, y_pred)\n",
    "ax= plt.subplot()\n",
    "sns.heatmap(cm_det, annot=True, ax = ax, cmap='Blues', fmt=\"d\")\n",
    "ax.set_title('Confusion Matrix')\n",
    "ax.set_xlabel('Predicted Labels')\n",
    "ax.set_ylabel('True Labels')\n",
    "\n"
   ]
  },
  {
   "cell_type": "markdown",
   "id": "2fc8cdc5",
   "metadata": {},
   "source": [
    "The sample is umbalanced, let's performe the downsample technique"
   ]
  },
  {
   "cell_type": "code",
   "execution_count": 81,
   "id": "c0299961",
   "metadata": {},
   "outputs": [],
   "source": [
    "f= pd.DataFrame(mat['X'])\n",
    "f['y'] = mat['y']"
   ]
  },
  {
   "cell_type": "code",
   "execution_count": 88,
   "id": "866c9d6b",
   "metadata": {},
   "outputs": [],
   "source": [
    "norm = f[f['y']==0]\n",
    "ano = f[f['y']==1]"
   ]
  },
  {
   "cell_type": "code",
   "execution_count": 93,
   "id": "711ac689",
   "metadata": {},
   "outputs": [],
   "source": [
    "from sklearn.utils import resample\n",
    "norm_down = resample(norm,\n",
    "             replace=True,\n",
    "             n_samples=len(ano),\n",
    "             random_state=42)"
   ]
  },
  {
   "cell_type": "code",
   "execution_count": 94,
   "id": "70ea0e2c",
   "metadata": {},
   "outputs": [
    {
     "data": {
      "text/html": [
       "<div>\n",
       "<style scoped>\n",
       "    .dataframe tbody tr th:only-of-type {\n",
       "        vertical-align: middle;\n",
       "    }\n",
       "\n",
       "    .dataframe tbody tr th {\n",
       "        vertical-align: top;\n",
       "    }\n",
       "\n",
       "    .dataframe thead th {\n",
       "        text-align: right;\n",
       "    }\n",
       "</style>\n",
       "<table border=\"1\" class=\"dataframe\">\n",
       "  <thead>\n",
       "    <tr style=\"text-align: right;\">\n",
       "      <th></th>\n",
       "      <th>0</th>\n",
       "      <th>1</th>\n",
       "      <th>2</th>\n",
       "      <th>3</th>\n",
       "      <th>4</th>\n",
       "      <th>5</th>\n",
       "      <th>6</th>\n",
       "      <th>7</th>\n",
       "      <th>8</th>\n",
       "      <th>9</th>\n",
       "      <th>y</th>\n",
       "    </tr>\n",
       "  </thead>\n",
       "  <tbody>\n",
       "    <tr>\n",
       "      <th>124118</th>\n",
       "      <td>3213</td>\n",
       "      <td>182</td>\n",
       "      <td>9</td>\n",
       "      <td>511</td>\n",
       "      <td>93</td>\n",
       "      <td>6016</td>\n",
       "      <td>223</td>\n",
       "      <td>246</td>\n",
       "      <td>156</td>\n",
       "      <td>3181</td>\n",
       "      <td>0</td>\n",
       "    </tr>\n",
       "    <tr>\n",
       "      <th>149027</th>\n",
       "      <td>2625</td>\n",
       "      <td>16</td>\n",
       "      <td>23</td>\n",
       "      <td>153</td>\n",
       "      <td>57</td>\n",
       "      <td>1052</td>\n",
       "      <td>193</td>\n",
       "      <td>185</td>\n",
       "      <td>120</td>\n",
       "      <td>949</td>\n",
       "      <td>0</td>\n",
       "    </tr>\n",
       "    <tr>\n",
       "      <th>134092</th>\n",
       "      <td>2907</td>\n",
       "      <td>90</td>\n",
       "      <td>29</td>\n",
       "      <td>190</td>\n",
       "      <td>-32</td>\n",
       "      <td>513</td>\n",
       "      <td>249</td>\n",
       "      <td>181</td>\n",
       "      <td>41</td>\n",
       "      <td>1940</td>\n",
       "      <td>0</td>\n",
       "    </tr>\n",
       "    <tr>\n",
       "      <th>261925</th>\n",
       "      <td>3204</td>\n",
       "      <td>7</td>\n",
       "      <td>18</td>\n",
       "      <td>150</td>\n",
       "      <td>37</td>\n",
       "      <td>1860</td>\n",
       "      <td>195</td>\n",
       "      <td>202</td>\n",
       "      <td>141</td>\n",
       "      <td>2093</td>\n",
       "      <td>0</td>\n",
       "    </tr>\n",
       "    <tr>\n",
       "      <th>122039</th>\n",
       "      <td>3144</td>\n",
       "      <td>35</td>\n",
       "      <td>11</td>\n",
       "      <td>450</td>\n",
       "      <td>75</td>\n",
       "      <td>4301</td>\n",
       "      <td>219</td>\n",
       "      <td>215</td>\n",
       "      <td>130</td>\n",
       "      <td>2056</td>\n",
       "      <td>0</td>\n",
       "    </tr>\n",
       "    <tr>\n",
       "      <th>...</th>\n",
       "      <td>...</td>\n",
       "      <td>...</td>\n",
       "      <td>...</td>\n",
       "      <td>...</td>\n",
       "      <td>...</td>\n",
       "      <td>...</td>\n",
       "      <td>...</td>\n",
       "      <td>...</td>\n",
       "      <td>...</td>\n",
       "      <td>...</td>\n",
       "      <td>...</td>\n",
       "    </tr>\n",
       "    <tr>\n",
       "      <th>78181</th>\n",
       "      <td>2973</td>\n",
       "      <td>349</td>\n",
       "      <td>10</td>\n",
       "      <td>577</td>\n",
       "      <td>241</td>\n",
       "      <td>3313</td>\n",
       "      <td>202</td>\n",
       "      <td>224</td>\n",
       "      <td>160</td>\n",
       "      <td>1374</td>\n",
       "      <td>0</td>\n",
       "    </tr>\n",
       "    <tr>\n",
       "      <th>161587</th>\n",
       "      <td>2758</td>\n",
       "      <td>277</td>\n",
       "      <td>23</td>\n",
       "      <td>180</td>\n",
       "      <td>85</td>\n",
       "      <td>2055</td>\n",
       "      <td>152</td>\n",
       "      <td>237</td>\n",
       "      <td>221</td>\n",
       "      <td>216</td>\n",
       "      <td>0</td>\n",
       "    </tr>\n",
       "    <tr>\n",
       "      <th>46949</th>\n",
       "      <td>2513</td>\n",
       "      <td>295</td>\n",
       "      <td>4</td>\n",
       "      <td>60</td>\n",
       "      <td>3</td>\n",
       "      <td>360</td>\n",
       "      <td>209</td>\n",
       "      <td>238</td>\n",
       "      <td>169</td>\n",
       "      <td>379</td>\n",
       "      <td>0</td>\n",
       "    </tr>\n",
       "    <tr>\n",
       "      <th>28246</th>\n",
       "      <td>2886</td>\n",
       "      <td>88</td>\n",
       "      <td>18</td>\n",
       "      <td>67</td>\n",
       "      <td>0</td>\n",
       "      <td>6079</td>\n",
       "      <td>244</td>\n",
       "      <td>208</td>\n",
       "      <td>88</td>\n",
       "      <td>4517</td>\n",
       "      <td>0</td>\n",
       "    </tr>\n",
       "    <tr>\n",
       "      <th>281750</th>\n",
       "      <td>2621</td>\n",
       "      <td>69</td>\n",
       "      <td>13</td>\n",
       "      <td>242</td>\n",
       "      <td>53</td>\n",
       "      <td>1126</td>\n",
       "      <td>233</td>\n",
       "      <td>214</td>\n",
       "      <td>110</td>\n",
       "      <td>1359</td>\n",
       "      <td>0</td>\n",
       "    </tr>\n",
       "  </tbody>\n",
       "</table>\n",
       "<p>2747 rows × 11 columns</p>\n",
       "</div>"
      ],
      "text/plain": [
       "           0    1   2    3    4     5    6    7    8     9  y\n",
       "124118  3213  182   9  511   93  6016  223  246  156  3181  0\n",
       "149027  2625   16  23  153   57  1052  193  185  120   949  0\n",
       "134092  2907   90  29  190  -32   513  249  181   41  1940  0\n",
       "261925  3204    7  18  150   37  1860  195  202  141  2093  0\n",
       "122039  3144   35  11  450   75  4301  219  215  130  2056  0\n",
       "...      ...  ...  ..  ...  ...   ...  ...  ...  ...   ... ..\n",
       "78181   2973  349  10  577  241  3313  202  224  160  1374  0\n",
       "161587  2758  277  23  180   85  2055  152  237  221   216  0\n",
       "46949   2513  295   4   60    3   360  209  238  169   379  0\n",
       "28246   2886   88  18   67    0  6079  244  208   88  4517  0\n",
       "281750  2621   69  13  242   53  1126  233  214  110  1359  0\n",
       "\n",
       "[2747 rows x 11 columns]"
      ]
     },
     "execution_count": 94,
     "metadata": {},
     "output_type": "execute_result"
    }
   ],
   "source": [
    "norm_down"
   ]
  },
  {
   "cell_type": "code",
   "execution_count": 95,
   "id": "e6cdb69b",
   "metadata": {},
   "outputs": [],
   "source": [
    "data_downsampled = pd.concat([norm_down, ano])"
   ]
  },
  {
   "cell_type": "code",
   "execution_count": 99,
   "id": "f671301c",
   "metadata": {},
   "outputs": [],
   "source": [
    "y= data_downsampled['y']\n",
    "x=data_downsampled.drop(columns=['y'])"
   ]
  },
  {
   "cell_type": "code",
   "execution_count": 119,
   "id": "8f219379",
   "metadata": {},
   "outputs": [],
   "source": [
    "X_train, X_test, y_train, y_test = train_test_split(x, y, test_size=0.15, random_state=1)\n",
    "X_train = np.array(X_train)\n",
    "X_tes = np.array(X_test)\n",
    "y_train = np.array(y_train)\n",
    "y_tes = np.array(y_test)\n"
   ]
  },
  {
   "cell_type": "code",
   "execution_count": 122,
   "id": "f5b0a14a",
   "metadata": {},
   "outputs": [],
   "source": [
    "outmodel1 = EllipticEnvelope(random_state=1245).fit(X_train)"
   ]
  },
  {
   "cell_type": "code",
   "execution_count": 125,
   "id": "0153be5b",
   "metadata": {},
   "outputs": [
    {
     "name": "stdout",
     "output_type": "stream",
     "text": [
      "Classification Report:\n",
      "              precision    recall  f1-score   support\n",
      "\n",
      "           0     0.4940    0.9027    0.6386       411\n",
      "           1     0.4595    0.0821    0.1393       414\n",
      "\n",
      "    accuracy                         0.4909       825\n",
      "   macro avg     0.4767    0.4924    0.3889       825\n",
      "weighted avg     0.4767    0.4909    0.3880       825\n",
      "\n"
     ]
    },
    {
     "data": {
      "text/plain": [
       "Text(33.0, 0.5, 'True Labels')"
      ]
     },
     "execution_count": 125,
     "metadata": {},
     "output_type": "execute_result"
    },
    {
     "data": {
      "image/png": "[encoded data removed]",
      "text/plain": [
       "<Figure size 432x288 with 2 Axes>"
      ]
     },
     "metadata": {
      "needs_background": "light"
     },
     "output_type": "display_data"
    }
   ],
   "source": [
    "y_pre = outmodel1.predict(X_tes)\n",
    "\n",
    "y_pre[y_pre==1]=0\n",
    "y_pre[y_pre==-1]=1\n",
    "\n",
    "print('Classification Report:')\n",
    "\n",
    "print(classification_report(y_tes, y_pre, digits=4))       \n",
    "cm_det = confusion_matrix(y_tes, y_pre)\n",
    "\n",
    "ax= plt.subplot()\n",
    "sns.heatmap(cm_det, annot=True, ax = ax, cmap='Blues', fmt=\"d\")\n",
    "ax.set_title('Confusion Matrix')\n",
    "ax.set_xlabel('Predicted Labels')\n",
    "ax.set_ylabel('True Labels')\n",
    "\n"
   ]
  },
  {
   "cell_type": "code",
   "execution_count": 130,
   "id": "697897c8",
   "metadata": {},
   "outputs": [
    {
     "data": {
      "text/plain": [
       "74"
      ]
     },
     "execution_count": 130,
     "metadata": {},
     "output_type": "execute_result"
    }
   ],
   "source": [
    "sum(y_pred1==1)"
   ]
  },
  {
   "cell_type": "code",
   "execution_count": 118,
   "id": "0909e8ef",
   "metadata": {},
   "outputs": [
    {
     "data": {
      "text/plain": [
       "4669"
      ]
     },
     "execution_count": 118,
     "metadata": {},
     "output_type": "execute_result"
    }
   ],
   "source": [
    "len(y_tes)"
   ]
  },
  {
   "cell_type": "code",
   "execution_count": null,
   "id": "ce56645c",
   "metadata": {},
   "outputs": [],
   "source": []
  }
 ],
 "metadata": {
  "kernelspec": {
   "display_name": "Python 3",
   "language": "python",
   "name": "python3"
  },
  "language_info": {
   "codemirror_mode": {
    "name": "ipython",
    "version": 3
   },
   "file_extension": ".py",
   "mimetype": "text/x-python",
   "name": "python",
   "nbconvert_exporter": "python",
   "pygments_lexer": "ipython3",
   "version": "3.9.13"
  }
 },
 "nbformat": 4,
 "nbformat_minor": 5
}
